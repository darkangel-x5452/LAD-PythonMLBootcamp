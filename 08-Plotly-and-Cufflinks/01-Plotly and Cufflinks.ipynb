{
 "cells": [
  {
   "cell_type": "markdown",
   "metadata": {},
   "source": [
    "___\n",
    "\n",
    "<a href='http://www.pieriandata.com'> <img src='../Pierian_Data_Logo.png' /></a>\n",
    "___\n",
    "# Plotly and Cufflinks"
   ]
  },
  {
   "cell_type": "markdown",
   "metadata": {},
   "source": [
    "Plotly is a library that allows you to create interactive plots that you can use in dashboards or websites (you can save them as html files or static images).\n",
    "\n",
    "## Installation\n",
    "\n",
    "In order for this all to work, you'll need to install plotly and cufflinks to call plots directly off of a pandas dataframe. These libraries are not currently available through **conda** but are available through **pip**. Install the libraries at your command line/terminal using:\n",
    "\n",
    "    pip install plotly\n",
    "    pip install cufflinks\n",
    "\n",
    "** NOTE: Make sure you only have one installation of Python on your computer when you do this, otherwise the installation may not work. **\n",
    "\n",
    "## Imports and Set-up"
   ]
  },
  {
   "cell_type": "code",
   "execution_count": 1,
   "metadata": {},
   "outputs": [],
   "source": [
    "import pandas as pd\n",
    "import numpy as np\n",
    "%matplotlib inline"
   ]
  },
  {
   "cell_type": "code",
   "execution_count": 2,
   "metadata": {},
   "outputs": [
    {
     "name": "stdout",
     "output_type": "stream",
     "text": [
      "4.9.0\n"
     ]
    }
   ],
   "source": [
    "from plotly import __version__\n",
    "from plotly.offline import download_plotlyjs, init_notebook_mode, plot, iplot\n",
    "\n",
    "print(__version__) # requires version >= 1.9.0"
   ]
  },
  {
   "cell_type": "code",
   "execution_count": 3,
   "metadata": {},
   "outputs": [],
   "source": [
    "import cufflinks as cf"
   ]
  },
  {
   "cell_type": "code",
   "execution_count": 4,
   "metadata": {},
   "outputs": [
    {
     "data": {
      "text/html": [
       "        <script type=\"text/javascript\">\n",
       "        window.PlotlyConfig = {MathJaxConfig: 'local'};\n",
       "        if (window.MathJax) {MathJax.Hub.Config({SVG: {font: \"STIX-Web\"}});}\n",
       "        if (typeof require !== 'undefined') {\n",
       "        require.undef(\"plotly\");\n",
       "        requirejs.config({\n",
       "            paths: {\n",
       "                'plotly': ['https://cdn.plot.ly/plotly-latest.min']\n",
       "            }\n",
       "        });\n",
       "        require(['plotly'], function(Plotly) {\n",
       "            window._Plotly = Plotly;\n",
       "        });\n",
       "        }\n",
       "        </script>\n",
       "        "
      ]
     },
     "metadata": {},
     "output_type": "display_data"
    }
   ],
   "source": [
    "# For Notebooks\n",
    "init_notebook_mode(connected=True)"
   ]
  },
  {
   "cell_type": "code",
   "execution_count": 5,
   "metadata": {},
   "outputs": [
    {
     "data": {
      "text/html": [
       "        <script type=\"text/javascript\">\n",
       "        window.PlotlyConfig = {MathJaxConfig: 'local'};\n",
       "        if (window.MathJax) {MathJax.Hub.Config({SVG: {font: \"STIX-Web\"}});}\n",
       "        if (typeof require !== 'undefined') {\n",
       "        require.undef(\"plotly\");\n",
       "        requirejs.config({\n",
       "            paths: {\n",
       "                'plotly': ['https://cdn.plot.ly/plotly-latest.min']\n",
       "            }\n",
       "        });\n",
       "        require(['plotly'], function(Plotly) {\n",
       "            window._Plotly = Plotly;\n",
       "        });\n",
       "        }\n",
       "        </script>\n",
       "        "
      ]
     },
     "metadata": {},
     "output_type": "display_data"
    }
   ],
   "source": [
    "# For offline use\n",
    "cf.go_offline()"
   ]
  },
  {
   "cell_type": "markdown",
   "metadata": {},
   "source": [
    "### Fake Data"
   ]
  },
  {
   "cell_type": "code",
   "execution_count": 6,
   "metadata": {},
   "outputs": [],
   "source": [
    "df = pd.DataFrame(np.random.randn(100,4),columns='A B C D'.split())"
   ]
  },
  {
   "cell_type": "code",
   "execution_count": 7,
   "metadata": {},
   "outputs": [
    {
     "data": {
      "text/html": [
       "<div>\n",
       "<style scoped>\n",
       "    .dataframe tbody tr th:only-of-type {\n",
       "        vertical-align: middle;\n",
       "    }\n",
       "\n",
       "    .dataframe tbody tr th {\n",
       "        vertical-align: top;\n",
       "    }\n",
       "\n",
       "    .dataframe thead th {\n",
       "        text-align: right;\n",
       "    }\n",
       "</style>\n",
       "<table border=\"1\" class=\"dataframe\">\n",
       "  <thead>\n",
       "    <tr style=\"text-align: right;\">\n",
       "      <th></th>\n",
       "      <th>A</th>\n",
       "      <th>B</th>\n",
       "      <th>C</th>\n",
       "      <th>D</th>\n",
       "    </tr>\n",
       "  </thead>\n",
       "  <tbody>\n",
       "    <tr>\n",
       "      <th>0</th>\n",
       "      <td>0.213337</td>\n",
       "      <td>-0.586466</td>\n",
       "      <td>-0.154094</td>\n",
       "      <td>0.517006</td>\n",
       "    </tr>\n",
       "    <tr>\n",
       "      <th>1</th>\n",
       "      <td>0.256650</td>\n",
       "      <td>-0.180996</td>\n",
       "      <td>0.873186</td>\n",
       "      <td>-0.586400</td>\n",
       "    </tr>\n",
       "    <tr>\n",
       "      <th>2</th>\n",
       "      <td>1.927541</td>\n",
       "      <td>-0.453314</td>\n",
       "      <td>0.789223</td>\n",
       "      <td>0.082450</td>\n",
       "    </tr>\n",
       "    <tr>\n",
       "      <th>3</th>\n",
       "      <td>-0.163009</td>\n",
       "      <td>0.497106</td>\n",
       "      <td>0.810464</td>\n",
       "      <td>-0.424989</td>\n",
       "    </tr>\n",
       "    <tr>\n",
       "      <th>4</th>\n",
       "      <td>-0.709650</td>\n",
       "      <td>1.277580</td>\n",
       "      <td>0.373920</td>\n",
       "      <td>-0.716031</td>\n",
       "    </tr>\n",
       "  </tbody>\n",
       "</table>\n",
       "</div>"
      ],
      "text/plain": [
       "          A         B         C         D\n",
       "0  0.213337 -0.586466 -0.154094  0.517006\n",
       "1  0.256650 -0.180996  0.873186 -0.586400\n",
       "2  1.927541 -0.453314  0.789223  0.082450\n",
       "3 -0.163009  0.497106  0.810464 -0.424989\n",
       "4 -0.709650  1.277580  0.373920 -0.716031"
      ]
     },
     "execution_count": 7,
     "metadata": {},
     "output_type": "execute_result"
    }
   ],
   "source": [
    "df.head()"
   ]
  },
  {
   "cell_type": "code",
   "execution_count": 8,
   "metadata": {},
   "outputs": [],
   "source": [
    "df2 = pd.DataFrame({'Category':['A','B','C'],'Values':[32,43,50]})"
   ]
  },
  {
   "cell_type": "code",
   "execution_count": 9,
   "metadata": {},
   "outputs": [
    {
     "data": {
      "text/html": [
       "<div>\n",
       "<style scoped>\n",
       "    .dataframe tbody tr th:only-of-type {\n",
       "        vertical-align: middle;\n",
       "    }\n",
       "\n",
       "    .dataframe tbody tr th {\n",
       "        vertical-align: top;\n",
       "    }\n",
       "\n",
       "    .dataframe thead th {\n",
       "        text-align: right;\n",
       "    }\n",
       "</style>\n",
       "<table border=\"1\" class=\"dataframe\">\n",
       "  <thead>\n",
       "    <tr style=\"text-align: right;\">\n",
       "      <th></th>\n",
       "      <th>Category</th>\n",
       "      <th>Values</th>\n",
       "    </tr>\n",
       "  </thead>\n",
       "  <tbody>\n",
       "    <tr>\n",
       "      <th>0</th>\n",
       "      <td>A</td>\n",
       "      <td>32</td>\n",
       "    </tr>\n",
       "    <tr>\n",
       "      <th>1</th>\n",
       "      <td>B</td>\n",
       "      <td>43</td>\n",
       "    </tr>\n",
       "    <tr>\n",
       "      <th>2</th>\n",
       "      <td>C</td>\n",
       "      <td>50</td>\n",
       "    </tr>\n",
       "  </tbody>\n",
       "</table>\n",
       "</div>"
      ],
      "text/plain": [
       "  Category  Values\n",
       "0        A      32\n",
       "1        B      43\n",
       "2        C      50"
      ]
     },
     "execution_count": 9,
     "metadata": {},
     "output_type": "execute_result"
    }
   ],
   "source": [
    "df2.head()"
   ]
  },
  {
   "cell_type": "markdown",
   "metadata": {},
   "source": [
    "## Using Cufflinks and iplot()\n",
    "\n",
    "* scatter\n",
    "* bar\n",
    "* box\n",
    "* spread\n",
    "* ratio\n",
    "* heatmap\n",
    "* surface\n",
    "* histogram\n",
    "* bubble"
   ]
  },
  {
   "cell_type": "markdown",
   "metadata": {},
   "source": [
    "## Scatter"
   ]
  },
  {
   "cell_type": "code",
   "execution_count": 13,
   "metadata": {},
   "outputs": [
    {
     "data": {
      "application/vnd.plotly.v1+json": {
       "config": {
        "linkText": "Export to plot.ly",
        "plotlyServerURL": "https://plot.ly",
        "showLink": true
       },
       "data": [
        {
         "line": {
          "color": "rgba(255, 153, 51, 1.0)",
          "dash": "solid",
          "shape": "linear",
          "width": 1.3
         },
         "marker": {
          "size": 10,
          "symbol": "circle"
         },
         "mode": "markers",
         "name": "B",
         "text": "",
         "type": "scatter",
         "x": [
          0.21333712036216956,
          0.25665047651329204,
          1.9275407354802638,
          -0.1630088122780753,
          -0.7096503484216469,
          1.1427364761321277,
          2.084635310234222,
          -0.026399085983079537,
          -1.988420853788765,
          0.671292439856992,
          0.13993436471277995,
          0.7670216335899259,
          -0.7402054775005389,
          -1.4399459740799503,
          -1.2005486697745715,
          -1.165410327584835,
          0.6644248169283439,
          -0.028756506557073572,
          0.2516096398380415,
          -0.8146789513812929,
          -0.7224259322456218,
          -0.781910319181829,
          1.7911704476562211,
          -0.39073082039979745,
          -1.4352271322521146,
          0.3248760858998426,
          1.3214965589574204,
          0.1523080436319771,
          0.2141843572991045,
          -1.2217631454104891,
          -0.42887146674778853,
          -1.0642408721713603,
          -1.4620971662626352,
          1.123140947567761,
          0.07443428772796729,
          1.216309038820772,
          -0.020010207442218403,
          -1.0939099461120412,
          -0.5902945316229972,
          -1.6464425979687698,
          -1.1335630422281875,
          0.3685681559789853,
          0.9319954006380338,
          -0.38370523637238346,
          0.9729279519725634,
          0.6060350277351296,
          -1.5064314701773505,
          -0.11686442762806791,
          -0.04540867924604806,
          -1.4647848980138103,
          1.1033504484307806,
          -0.7637901184582542,
          0.7717287733084981,
          -0.2250405260743319,
          -0.3105523373298624,
          1.6250414877666595,
          -0.7154154635129228,
          -1.0137527586625759,
          -0.18160091030832878,
          0.7278260419848971,
          -1.4462848221517628,
          -0.2149209788992766,
          -0.02736333868677174,
          -0.4083772190277294,
          -1.3903448037480677,
          -0.1421538438592139,
          -0.7899119363245749,
          0.03614779270578574,
          1.114018405015867,
          0.8338294539917678,
          -0.5623298737996674,
          1.0775148567887205,
          -0.1301928773075661,
          -0.2511044988443641,
          0.5230267449493876,
          1.3212937313584114,
          1.483707056566117,
          1.9612035531763654,
          0.883359642676606,
          2.432854412098014,
          -0.4365300341492609,
          -1.6526007572122574,
          -0.1837514310451801,
          0.36087956949198857,
          -0.7012283537323358,
          -0.5790769597484454,
          -0.24819410221512403,
          -1.4940388601122643,
          0.16135932479736645,
          -1.069825539040541,
          1.5464357268018578,
          -0.12075629883590314,
          -1.6583980247893007,
          0.33209734423001075,
          -2.707552450449217,
          0.2128183167584507,
          0.6232552740258526,
          2.333363703121639,
          1.5198415518587358,
          -0.05955186507850644
         ],
         "y": [
          -0.5864659752162915,
          -0.18099576406782086,
          -0.4533136022046553,
          0.49710557372620195,
          1.2775797802850062,
          0.4161083640971835,
          -0.15143106943229268,
          -0.365663929736837,
          -0.6184603732884246,
          0.21796399418182116,
          1.1186914535310386,
          0.44537632979139624,
          1.6364822973037336,
          -0.04862658005502512,
          0.6612865209790793,
          0.2817057722811247,
          0.3749416067021927,
          0.2583039295660702,
          -0.978626727229024,
          -0.6199393733967932,
          0.9606188506658868,
          1.356744718143514,
          -0.8602632844776701,
          -0.3555113270769093,
          0.9375159333038156,
          0.6048321925488336,
          0.8842081564062255,
          0.5511891110238712,
          -0.47857044081560157,
          -0.1337811402976441,
          -1.2853280872014985,
          -0.5766656318966009,
          -0.8207314218982654,
          0.5116859817080143,
          -1.0790996442387681,
          -0.6997609008747314,
          -0.28766636064296963,
          -0.6727663805637905,
          -0.3233231353415504,
          0.17623541797795725,
          0.8240659051722579,
          -0.8540606300446177,
          0.6122579383495008,
          -0.590967987543979,
          -0.41376092638310336,
          0.32887420159115527,
          0.8729354550960499,
          -0.33657901953658087,
          -1.194326742500851,
          -0.676615903454892,
          -0.5550205241717774,
          -2.026510738495248,
          -0.3457842826648694,
          -0.38678372767291264,
          -0.32893633561693986,
          0.004363227537524876,
          -1.0872490370707908,
          0.34096840542132634,
          -0.15103704217598235,
          0.5381608357022754,
          0.3927957547213143,
          -1.6835150692954717,
          -0.92583153055911,
          0.6790997638530409,
          -0.05065503749551706,
          0.7471561771513062,
          0.7267996918348049,
          0.7558737826149488,
          0.8669354661789175,
          -0.5883125097555686,
          -0.4616782593650259,
          -0.06828761261811965,
          0.1274240043599269,
          -0.8611087938563126,
          0.7295403774089118,
          0.6095456146491329,
          0.2457565485052304,
          -0.4527141682680746,
          -0.9894044423657463,
          -0.8461865919076168,
          1.6160276476471338,
          -0.44295786995666325,
          0.4052525078450415,
          -0.7725925348432313,
          -0.9700414649280531,
          0.2967877823951404,
          -0.26132861501848587,
          2.7995461162133872,
          0.2647627153131342,
          1.249817597253992,
          -0.2987960397363294,
          -0.5895330281226503,
          0.08840494189034458,
          -0.6442263753616765,
          0.23477998923235666,
          0.07912771285260012,
          -0.12988226344729503,
          -1.594079390394641,
          -0.14645967846660468,
          0.9901201163869056
         ]
        }
       ],
       "layout": {
        "legend": {
         "bgcolor": "#F5F6F9",
         "font": {
          "color": "#4D5663"
         }
        },
        "paper_bgcolor": "#F5F6F9",
        "plot_bgcolor": "#F5F6F9",
        "template": {
         "data": {
          "bar": [
           {
            "error_x": {
             "color": "#2a3f5f"
            },
            "error_y": {
             "color": "#2a3f5f"
            },
            "marker": {
             "line": {
              "color": "#E5ECF6",
              "width": 0.5
             }
            },
            "type": "bar"
           }
          ],
          "barpolar": [
           {
            "marker": {
             "line": {
              "color": "#E5ECF6",
              "width": 0.5
             }
            },
            "type": "barpolar"
           }
          ],
          "carpet": [
           {
            "aaxis": {
             "endlinecolor": "#2a3f5f",
             "gridcolor": "white",
             "linecolor": "white",
             "minorgridcolor": "white",
             "startlinecolor": "#2a3f5f"
            },
            "baxis": {
             "endlinecolor": "#2a3f5f",
             "gridcolor": "white",
             "linecolor": "white",
             "minorgridcolor": "white",
             "startlinecolor": "#2a3f5f"
            },
            "type": "carpet"
           }
          ],
          "choropleth": [
           {
            "colorbar": {
             "outlinewidth": 0,
             "ticks": ""
            },
            "type": "choropleth"
           }
          ],
          "contour": [
           {
            "colorbar": {
             "outlinewidth": 0,
             "ticks": ""
            },
            "colorscale": [
             [
              0,
              "#0d0887"
             ],
             [
              0.1111111111111111,
              "#46039f"
             ],
             [
              0.2222222222222222,
              "#7201a8"
             ],
             [
              0.3333333333333333,
              "#9c179e"
             ],
             [
              0.4444444444444444,
              "#bd3786"
             ],
             [
              0.5555555555555556,
              "#d8576b"
             ],
             [
              0.6666666666666666,
              "#ed7953"
             ],
             [
              0.7777777777777778,
              "#fb9f3a"
             ],
             [
              0.8888888888888888,
              "#fdca26"
             ],
             [
              1,
              "#f0f921"
             ]
            ],
            "type": "contour"
           }
          ],
          "contourcarpet": [
           {
            "colorbar": {
             "outlinewidth": 0,
             "ticks": ""
            },
            "type": "contourcarpet"
           }
          ],
          "heatmap": [
           {
            "colorbar": {
             "outlinewidth": 0,
             "ticks": ""
            },
            "colorscale": [
             [
              0,
              "#0d0887"
             ],
             [
              0.1111111111111111,
              "#46039f"
             ],
             [
              0.2222222222222222,
              "#7201a8"
             ],
             [
              0.3333333333333333,
              "#9c179e"
             ],
             [
              0.4444444444444444,
              "#bd3786"
             ],
             [
              0.5555555555555556,
              "#d8576b"
             ],
             [
              0.6666666666666666,
              "#ed7953"
             ],
             [
              0.7777777777777778,
              "#fb9f3a"
             ],
             [
              0.8888888888888888,
              "#fdca26"
             ],
             [
              1,
              "#f0f921"
             ]
            ],
            "type": "heatmap"
           }
          ],
          "heatmapgl": [
           {
            "colorbar": {
             "outlinewidth": 0,
             "ticks": ""
            },
            "colorscale": [
             [
              0,
              "#0d0887"
             ],
             [
              0.1111111111111111,
              "#46039f"
             ],
             [
              0.2222222222222222,
              "#7201a8"
             ],
             [
              0.3333333333333333,
              "#9c179e"
             ],
             [
              0.4444444444444444,
              "#bd3786"
             ],
             [
              0.5555555555555556,
              "#d8576b"
             ],
             [
              0.6666666666666666,
              "#ed7953"
             ],
             [
              0.7777777777777778,
              "#fb9f3a"
             ],
             [
              0.8888888888888888,
              "#fdca26"
             ],
             [
              1,
              "#f0f921"
             ]
            ],
            "type": "heatmapgl"
           }
          ],
          "histogram": [
           {
            "marker": {
             "colorbar": {
              "outlinewidth": 0,
              "ticks": ""
             }
            },
            "type": "histogram"
           }
          ],
          "histogram2d": [
           {
            "colorbar": {
             "outlinewidth": 0,
             "ticks": ""
            },
            "colorscale": [
             [
              0,
              "#0d0887"
             ],
             [
              0.1111111111111111,
              "#46039f"
             ],
             [
              0.2222222222222222,
              "#7201a8"
             ],
             [
              0.3333333333333333,
              "#9c179e"
             ],
             [
              0.4444444444444444,
              "#bd3786"
             ],
             [
              0.5555555555555556,
              "#d8576b"
             ],
             [
              0.6666666666666666,
              "#ed7953"
             ],
             [
              0.7777777777777778,
              "#fb9f3a"
             ],
             [
              0.8888888888888888,
              "#fdca26"
             ],
             [
              1,
              "#f0f921"
             ]
            ],
            "type": "histogram2d"
           }
          ],
          "histogram2dcontour": [
           {
            "colorbar": {
             "outlinewidth": 0,
             "ticks": ""
            },
            "colorscale": [
             [
              0,
              "#0d0887"
             ],
             [
              0.1111111111111111,
              "#46039f"
             ],
             [
              0.2222222222222222,
              "#7201a8"
             ],
             [
              0.3333333333333333,
              "#9c179e"
             ],
             [
              0.4444444444444444,
              "#bd3786"
             ],
             [
              0.5555555555555556,
              "#d8576b"
             ],
             [
              0.6666666666666666,
              "#ed7953"
             ],
             [
              0.7777777777777778,
              "#fb9f3a"
             ],
             [
              0.8888888888888888,
              "#fdca26"
             ],
             [
              1,
              "#f0f921"
             ]
            ],
            "type": "histogram2dcontour"
           }
          ],
          "mesh3d": [
           {
            "colorbar": {
             "outlinewidth": 0,
             "ticks": ""
            },
            "type": "mesh3d"
           }
          ],
          "parcoords": [
           {
            "line": {
             "colorbar": {
              "outlinewidth": 0,
              "ticks": ""
             }
            },
            "type": "parcoords"
           }
          ],
          "pie": [
           {
            "automargin": true,
            "type": "pie"
           }
          ],
          "scatter": [
           {
            "marker": {
             "colorbar": {
              "outlinewidth": 0,
              "ticks": ""
             }
            },
            "type": "scatter"
           }
          ],
          "scatter3d": [
           {
            "line": {
             "colorbar": {
              "outlinewidth": 0,
              "ticks": ""
             }
            },
            "marker": {
             "colorbar": {
              "outlinewidth": 0,
              "ticks": ""
             }
            },
            "type": "scatter3d"
           }
          ],
          "scattercarpet": [
           {
            "marker": {
             "colorbar": {
              "outlinewidth": 0,
              "ticks": ""
             }
            },
            "type": "scattercarpet"
           }
          ],
          "scattergeo": [
           {
            "marker": {
             "colorbar": {
              "outlinewidth": 0,
              "ticks": ""
             }
            },
            "type": "scattergeo"
           }
          ],
          "scattergl": [
           {
            "marker": {
             "colorbar": {
              "outlinewidth": 0,
              "ticks": ""
             }
            },
            "type": "scattergl"
           }
          ],
          "scattermapbox": [
           {
            "marker": {
             "colorbar": {
              "outlinewidth": 0,
              "ticks": ""
             }
            },
            "type": "scattermapbox"
           }
          ],
          "scatterpolar": [
           {
            "marker": {
             "colorbar": {
              "outlinewidth": 0,
              "ticks": ""
             }
            },
            "type": "scatterpolar"
           }
          ],
          "scatterpolargl": [
           {
            "marker": {
             "colorbar": {
              "outlinewidth": 0,
              "ticks": ""
             }
            },
            "type": "scatterpolargl"
           }
          ],
          "scatterternary": [
           {
            "marker": {
             "colorbar": {
              "outlinewidth": 0,
              "ticks": ""
             }
            },
            "type": "scatterternary"
           }
          ],
          "surface": [
           {
            "colorbar": {
             "outlinewidth": 0,
             "ticks": ""
            },
            "colorscale": [
             [
              0,
              "#0d0887"
             ],
             [
              0.1111111111111111,
              "#46039f"
             ],
             [
              0.2222222222222222,
              "#7201a8"
             ],
             [
              0.3333333333333333,
              "#9c179e"
             ],
             [
              0.4444444444444444,
              "#bd3786"
             ],
             [
              0.5555555555555556,
              "#d8576b"
             ],
             [
              0.6666666666666666,
              "#ed7953"
             ],
             [
              0.7777777777777778,
              "#fb9f3a"
             ],
             [
              0.8888888888888888,
              "#fdca26"
             ],
             [
              1,
              "#f0f921"
             ]
            ],
            "type": "surface"
           }
          ],
          "table": [
           {
            "cells": {
             "fill": {
              "color": "#EBF0F8"
             },
             "line": {
              "color": "white"
             }
            },
            "header": {
             "fill": {
              "color": "#C8D4E3"
             },
             "line": {
              "color": "white"
             }
            },
            "type": "table"
           }
          ]
         },
         "layout": {
          "annotationdefaults": {
           "arrowcolor": "#2a3f5f",
           "arrowhead": 0,
           "arrowwidth": 1
          },
          "coloraxis": {
           "colorbar": {
            "outlinewidth": 0,
            "ticks": ""
           }
          },
          "colorscale": {
           "diverging": [
            [
             0,
             "#8e0152"
            ],
            [
             0.1,
             "#c51b7d"
            ],
            [
             0.2,
             "#de77ae"
            ],
            [
             0.3,
             "#f1b6da"
            ],
            [
             0.4,
             "#fde0ef"
            ],
            [
             0.5,
             "#f7f7f7"
            ],
            [
             0.6,
             "#e6f5d0"
            ],
            [
             0.7,
             "#b8e186"
            ],
            [
             0.8,
             "#7fbc41"
            ],
            [
             0.9,
             "#4d9221"
            ],
            [
             1,
             "#276419"
            ]
           ],
           "sequential": [
            [
             0,
             "#0d0887"
            ],
            [
             0.1111111111111111,
             "#46039f"
            ],
            [
             0.2222222222222222,
             "#7201a8"
            ],
            [
             0.3333333333333333,
             "#9c179e"
            ],
            [
             0.4444444444444444,
             "#bd3786"
            ],
            [
             0.5555555555555556,
             "#d8576b"
            ],
            [
             0.6666666666666666,
             "#ed7953"
            ],
            [
             0.7777777777777778,
             "#fb9f3a"
            ],
            [
             0.8888888888888888,
             "#fdca26"
            ],
            [
             1,
             "#f0f921"
            ]
           ],
           "sequentialminus": [
            [
             0,
             "#0d0887"
            ],
            [
             0.1111111111111111,
             "#46039f"
            ],
            [
             0.2222222222222222,
             "#7201a8"
            ],
            [
             0.3333333333333333,
             "#9c179e"
            ],
            [
             0.4444444444444444,
             "#bd3786"
            ],
            [
             0.5555555555555556,
             "#d8576b"
            ],
            [
             0.6666666666666666,
             "#ed7953"
            ],
            [
             0.7777777777777778,
             "#fb9f3a"
            ],
            [
             0.8888888888888888,
             "#fdca26"
            ],
            [
             1,
             "#f0f921"
            ]
           ]
          },
          "colorway": [
           "#636efa",
           "#EF553B",
           "#00cc96",
           "#ab63fa",
           "#FFA15A",
           "#19d3f3",
           "#FF6692",
           "#B6E880",
           "#FF97FF",
           "#FECB52"
          ],
          "font": {
           "color": "#2a3f5f"
          },
          "geo": {
           "bgcolor": "white",
           "lakecolor": "white",
           "landcolor": "#E5ECF6",
           "showlakes": true,
           "showland": true,
           "subunitcolor": "white"
          },
          "hoverlabel": {
           "align": "left"
          },
          "hovermode": "closest",
          "mapbox": {
           "style": "light"
          },
          "paper_bgcolor": "white",
          "plot_bgcolor": "#E5ECF6",
          "polar": {
           "angularaxis": {
            "gridcolor": "white",
            "linecolor": "white",
            "ticks": ""
           },
           "bgcolor": "#E5ECF6",
           "radialaxis": {
            "gridcolor": "white",
            "linecolor": "white",
            "ticks": ""
           }
          },
          "scene": {
           "xaxis": {
            "backgroundcolor": "#E5ECF6",
            "gridcolor": "white",
            "gridwidth": 2,
            "linecolor": "white",
            "showbackground": true,
            "ticks": "",
            "zerolinecolor": "white"
           },
           "yaxis": {
            "backgroundcolor": "#E5ECF6",
            "gridcolor": "white",
            "gridwidth": 2,
            "linecolor": "white",
            "showbackground": true,
            "ticks": "",
            "zerolinecolor": "white"
           },
           "zaxis": {
            "backgroundcolor": "#E5ECF6",
            "gridcolor": "white",
            "gridwidth": 2,
            "linecolor": "white",
            "showbackground": true,
            "ticks": "",
            "zerolinecolor": "white"
           }
          },
          "shapedefaults": {
           "line": {
            "color": "#2a3f5f"
           }
          },
          "ternary": {
           "aaxis": {
            "gridcolor": "white",
            "linecolor": "white",
            "ticks": ""
           },
           "baxis": {
            "gridcolor": "white",
            "linecolor": "white",
            "ticks": ""
           },
           "bgcolor": "#E5ECF6",
           "caxis": {
            "gridcolor": "white",
            "linecolor": "white",
            "ticks": ""
           }
          },
          "title": {
           "x": 0.05
          },
          "xaxis": {
           "automargin": true,
           "gridcolor": "white",
           "linecolor": "white",
           "ticks": "",
           "title": {
            "standoff": 15
           },
           "zerolinecolor": "white",
           "zerolinewidth": 2
          },
          "yaxis": {
           "automargin": true,
           "gridcolor": "white",
           "linecolor": "white",
           "ticks": "",
           "title": {
            "standoff": 15
           },
           "zerolinecolor": "white",
           "zerolinewidth": 2
          }
         }
        },
        "title": {
         "font": {
          "color": "#4D5663"
         }
        },
        "xaxis": {
         "gridcolor": "#E1E5ED",
         "showgrid": true,
         "tickfont": {
          "color": "#4D5663"
         },
         "title": {
          "font": {
           "color": "#4D5663"
          },
          "text": ""
         },
         "zerolinecolor": "#E1E5ED"
        },
        "yaxis": {
         "gridcolor": "#E1E5ED",
         "showgrid": true,
         "tickfont": {
          "color": "#4D5663"
         },
         "title": {
          "font": {
           "color": "#4D5663"
          },
          "text": ""
         },
         "zerolinecolor": "#E1E5ED"
        }
       }
      },
      "text/html": [
       "<div>\n",
       "        \n",
       "        \n",
       "            <div id=\"8b737efa-60ac-41fd-88cf-415b95375e8d\" class=\"plotly-graph-div\" style=\"height:525px; width:100%;\"></div>\n",
       "            <script type=\"text/javascript\">\n",
       "                require([\"plotly\"], function(Plotly) {\n",
       "                    window.PLOTLYENV=window.PLOTLYENV || {};\n",
       "                    window.PLOTLYENV.BASE_URL='https://plot.ly';\n",
       "                    \n",
       "                if (document.getElementById(\"8b737efa-60ac-41fd-88cf-415b95375e8d\")) {\n",
       "                    Plotly.newPlot(\n",
       "                        '8b737efa-60ac-41fd-88cf-415b95375e8d',\n",
       "                        [{\"line\": {\"color\": \"rgba(255, 153, 51, 1.0)\", \"dash\": \"solid\", \"shape\": \"linear\", \"width\": 1.3}, \"marker\": {\"size\": 10, \"symbol\": \"circle\"}, \"mode\": \"markers\", \"name\": \"B\", \"text\": \"\", \"type\": \"scatter\", \"x\": [0.21333712036216956, 0.25665047651329204, 1.9275407354802638, -0.1630088122780753, -0.7096503484216469, 1.1427364761321277, 2.084635310234222, -0.026399085983079537, -1.988420853788765, 0.671292439856992, 0.13993436471277995, 0.7670216335899259, -0.7402054775005389, -1.4399459740799503, -1.2005486697745715, -1.165410327584835, 0.6644248169283439, -0.028756506557073572, 0.2516096398380415, -0.8146789513812929, -0.7224259322456218, -0.781910319181829, 1.7911704476562211, -0.39073082039979745, -1.4352271322521146, 0.3248760858998426, 1.3214965589574204, 0.1523080436319771, 0.2141843572991045, -1.2217631454104891, -0.42887146674778853, -1.0642408721713603, -1.4620971662626352, 1.123140947567761, 0.07443428772796729, 1.216309038820772, -0.020010207442218403, -1.0939099461120412, -0.5902945316229972, -1.6464425979687698, -1.1335630422281875, 0.3685681559789853, 0.9319954006380338, -0.38370523637238346, 0.9729279519725634, 0.6060350277351296, -1.5064314701773505, -0.11686442762806791, -0.04540867924604806, -1.4647848980138103, 1.1033504484307806, -0.7637901184582542, 0.7717287733084981, -0.2250405260743319, -0.3105523373298624, 1.6250414877666595, -0.7154154635129228, -1.0137527586625759, -0.18160091030832878, 0.7278260419848971, -1.4462848221517628, -0.2149209788992766, -0.02736333868677174, -0.4083772190277294, -1.3903448037480677, -0.1421538438592139, -0.7899119363245749, 0.03614779270578574, 1.114018405015867, 0.8338294539917678, -0.5623298737996674, 1.0775148567887205, -0.1301928773075661, -0.2511044988443641, 0.5230267449493876, 1.3212937313584114, 1.483707056566117, 1.9612035531763654, 0.883359642676606, 2.432854412098014, -0.4365300341492609, -1.6526007572122574, -0.1837514310451801, 0.36087956949198857, -0.7012283537323358, -0.5790769597484454, -0.24819410221512403, -1.4940388601122643, 0.16135932479736645, -1.069825539040541, 1.5464357268018578, -0.12075629883590314, -1.6583980247893007, 0.33209734423001075, -2.707552450449217, 0.2128183167584507, 0.6232552740258526, 2.333363703121639, 1.5198415518587358, -0.05955186507850644], \"y\": [-0.5864659752162915, -0.18099576406782086, -0.4533136022046553, 0.49710557372620195, 1.2775797802850062, 0.4161083640971835, -0.15143106943229268, -0.365663929736837, -0.6184603732884246, 0.21796399418182116, 1.1186914535310386, 0.44537632979139624, 1.6364822973037336, -0.04862658005502512, 0.6612865209790793, 0.2817057722811247, 0.3749416067021927, 0.2583039295660702, -0.978626727229024, -0.6199393733967932, 0.9606188506658868, 1.356744718143514, -0.8602632844776701, -0.3555113270769093, 0.9375159333038156, 0.6048321925488336, 0.8842081564062255, 0.5511891110238712, -0.47857044081560157, -0.1337811402976441, -1.2853280872014985, -0.5766656318966009, -0.8207314218982654, 0.5116859817080143, -1.0790996442387681, -0.6997609008747314, -0.28766636064296963, -0.6727663805637905, -0.3233231353415504, 0.17623541797795725, 0.8240659051722579, -0.8540606300446177, 0.6122579383495008, -0.590967987543979, -0.41376092638310336, 0.32887420159115527, 0.8729354550960499, -0.33657901953658087, -1.194326742500851, -0.676615903454892, -0.5550205241717774, -2.026510738495248, -0.3457842826648694, -0.38678372767291264, -0.32893633561693986, 0.004363227537524876, -1.0872490370707908, 0.34096840542132634, -0.15103704217598235, 0.5381608357022754, 0.3927957547213143, -1.6835150692954717, -0.92583153055911, 0.6790997638530409, -0.05065503749551706, 0.7471561771513062, 0.7267996918348049, 0.7558737826149488, 0.8669354661789175, -0.5883125097555686, -0.4616782593650259, -0.06828761261811965, 0.1274240043599269, -0.8611087938563126, 0.7295403774089118, 0.6095456146491329, 0.2457565485052304, -0.4527141682680746, -0.9894044423657463, -0.8461865919076168, 1.6160276476471338, -0.44295786995666325, 0.4052525078450415, -0.7725925348432313, -0.9700414649280531, 0.2967877823951404, -0.26132861501848587, 2.7995461162133872, 0.2647627153131342, 1.249817597253992, -0.2987960397363294, -0.5895330281226503, 0.08840494189034458, -0.6442263753616765, 0.23477998923235666, 0.07912771285260012, -0.12988226344729503, -1.594079390394641, -0.14645967846660468, 0.9901201163869056]}],\n",
       "                        {\"legend\": {\"bgcolor\": \"#F5F6F9\", \"font\": {\"color\": \"#4D5663\"}}, \"paper_bgcolor\": \"#F5F6F9\", \"plot_bgcolor\": \"#F5F6F9\", \"template\": {\"data\": {\"bar\": [{\"error_x\": {\"color\": \"#2a3f5f\"}, \"error_y\": {\"color\": \"#2a3f5f\"}, \"marker\": {\"line\": {\"color\": \"#E5ECF6\", \"width\": 0.5}}, \"type\": \"bar\"}], \"barpolar\": [{\"marker\": {\"line\": {\"color\": \"#E5ECF6\", \"width\": 0.5}}, \"type\": \"barpolar\"}], \"carpet\": [{\"aaxis\": {\"endlinecolor\": \"#2a3f5f\", \"gridcolor\": \"white\", \"linecolor\": \"white\", \"minorgridcolor\": \"white\", \"startlinecolor\": \"#2a3f5f\"}, \"baxis\": {\"endlinecolor\": \"#2a3f5f\", \"gridcolor\": \"white\", \"linecolor\": \"white\", \"minorgridcolor\": \"white\", \"startlinecolor\": \"#2a3f5f\"}, \"type\": \"carpet\"}], \"choropleth\": [{\"colorbar\": {\"outlinewidth\": 0, \"ticks\": \"\"}, \"type\": \"choropleth\"}], \"contour\": [{\"colorbar\": {\"outlinewidth\": 0, \"ticks\": \"\"}, \"colorscale\": [[0.0, \"#0d0887\"], [0.1111111111111111, \"#46039f\"], [0.2222222222222222, \"#7201a8\"], [0.3333333333333333, \"#9c179e\"], [0.4444444444444444, \"#bd3786\"], [0.5555555555555556, \"#d8576b\"], [0.6666666666666666, \"#ed7953\"], [0.7777777777777778, \"#fb9f3a\"], [0.8888888888888888, \"#fdca26\"], [1.0, \"#f0f921\"]], \"type\": \"contour\"}], \"contourcarpet\": [{\"colorbar\": {\"outlinewidth\": 0, \"ticks\": \"\"}, \"type\": \"contourcarpet\"}], \"heatmap\": [{\"colorbar\": {\"outlinewidth\": 0, \"ticks\": \"\"}, \"colorscale\": [[0.0, \"#0d0887\"], [0.1111111111111111, \"#46039f\"], [0.2222222222222222, \"#7201a8\"], [0.3333333333333333, \"#9c179e\"], [0.4444444444444444, \"#bd3786\"], [0.5555555555555556, \"#d8576b\"], [0.6666666666666666, \"#ed7953\"], [0.7777777777777778, \"#fb9f3a\"], [0.8888888888888888, \"#fdca26\"], [1.0, \"#f0f921\"]], \"type\": \"heatmap\"}], \"heatmapgl\": [{\"colorbar\": {\"outlinewidth\": 0, \"ticks\": \"\"}, \"colorscale\": [[0.0, \"#0d0887\"], [0.1111111111111111, \"#46039f\"], [0.2222222222222222, \"#7201a8\"], [0.3333333333333333, \"#9c179e\"], [0.4444444444444444, \"#bd3786\"], [0.5555555555555556, \"#d8576b\"], [0.6666666666666666, \"#ed7953\"], [0.7777777777777778, \"#fb9f3a\"], [0.8888888888888888, \"#fdca26\"], [1.0, \"#f0f921\"]], \"type\": \"heatmapgl\"}], \"histogram\": [{\"marker\": {\"colorbar\": {\"outlinewidth\": 0, \"ticks\": \"\"}}, \"type\": \"histogram\"}], \"histogram2d\": [{\"colorbar\": {\"outlinewidth\": 0, \"ticks\": \"\"}, \"colorscale\": [[0.0, \"#0d0887\"], [0.1111111111111111, \"#46039f\"], [0.2222222222222222, \"#7201a8\"], [0.3333333333333333, \"#9c179e\"], [0.4444444444444444, \"#bd3786\"], [0.5555555555555556, \"#d8576b\"], [0.6666666666666666, \"#ed7953\"], [0.7777777777777778, \"#fb9f3a\"], [0.8888888888888888, \"#fdca26\"], [1.0, \"#f0f921\"]], \"type\": \"histogram2d\"}], \"histogram2dcontour\": [{\"colorbar\": {\"outlinewidth\": 0, \"ticks\": \"\"}, \"colorscale\": [[0.0, \"#0d0887\"], [0.1111111111111111, \"#46039f\"], [0.2222222222222222, \"#7201a8\"], [0.3333333333333333, \"#9c179e\"], [0.4444444444444444, \"#bd3786\"], [0.5555555555555556, \"#d8576b\"], [0.6666666666666666, \"#ed7953\"], [0.7777777777777778, \"#fb9f3a\"], [0.8888888888888888, \"#fdca26\"], [1.0, \"#f0f921\"]], \"type\": \"histogram2dcontour\"}], \"mesh3d\": [{\"colorbar\": {\"outlinewidth\": 0, \"ticks\": \"\"}, \"type\": \"mesh3d\"}], \"parcoords\": [{\"line\": {\"colorbar\": {\"outlinewidth\": 0, \"ticks\": \"\"}}, \"type\": \"parcoords\"}], \"pie\": [{\"automargin\": true, \"type\": \"pie\"}], \"scatter\": [{\"marker\": {\"colorbar\": {\"outlinewidth\": 0, \"ticks\": \"\"}}, \"type\": \"scatter\"}], \"scatter3d\": [{\"line\": {\"colorbar\": {\"outlinewidth\": 0, \"ticks\": \"\"}}, \"marker\": {\"colorbar\": {\"outlinewidth\": 0, \"ticks\": \"\"}}, \"type\": \"scatter3d\"}], \"scattercarpet\": [{\"marker\": {\"colorbar\": {\"outlinewidth\": 0, \"ticks\": \"\"}}, \"type\": \"scattercarpet\"}], \"scattergeo\": [{\"marker\": {\"colorbar\": {\"outlinewidth\": 0, \"ticks\": \"\"}}, \"type\": \"scattergeo\"}], \"scattergl\": [{\"marker\": {\"colorbar\": {\"outlinewidth\": 0, \"ticks\": \"\"}}, \"type\": \"scattergl\"}], \"scattermapbox\": [{\"marker\": {\"colorbar\": {\"outlinewidth\": 0, \"ticks\": \"\"}}, \"type\": \"scattermapbox\"}], \"scatterpolar\": [{\"marker\": {\"colorbar\": {\"outlinewidth\": 0, \"ticks\": \"\"}}, \"type\": \"scatterpolar\"}], \"scatterpolargl\": [{\"marker\": {\"colorbar\": {\"outlinewidth\": 0, \"ticks\": \"\"}}, \"type\": \"scatterpolargl\"}], \"scatterternary\": [{\"marker\": {\"colorbar\": {\"outlinewidth\": 0, \"ticks\": \"\"}}, \"type\": \"scatterternary\"}], \"surface\": [{\"colorbar\": {\"outlinewidth\": 0, \"ticks\": \"\"}, \"colorscale\": [[0.0, \"#0d0887\"], [0.1111111111111111, \"#46039f\"], [0.2222222222222222, \"#7201a8\"], [0.3333333333333333, \"#9c179e\"], [0.4444444444444444, \"#bd3786\"], [0.5555555555555556, \"#d8576b\"], [0.6666666666666666, \"#ed7953\"], [0.7777777777777778, \"#fb9f3a\"], [0.8888888888888888, \"#fdca26\"], [1.0, \"#f0f921\"]], \"type\": \"surface\"}], \"table\": [{\"cells\": {\"fill\": {\"color\": \"#EBF0F8\"}, \"line\": {\"color\": \"white\"}}, \"header\": {\"fill\": {\"color\": \"#C8D4E3\"}, \"line\": {\"color\": \"white\"}}, \"type\": \"table\"}]}, \"layout\": {\"annotationdefaults\": {\"arrowcolor\": \"#2a3f5f\", \"arrowhead\": 0, \"arrowwidth\": 1}, \"coloraxis\": {\"colorbar\": {\"outlinewidth\": 0, \"ticks\": \"\"}}, \"colorscale\": {\"diverging\": [[0, \"#8e0152\"], [0.1, \"#c51b7d\"], [0.2, \"#de77ae\"], [0.3, \"#f1b6da\"], [0.4, \"#fde0ef\"], [0.5, \"#f7f7f7\"], [0.6, \"#e6f5d0\"], [0.7, \"#b8e186\"], [0.8, \"#7fbc41\"], [0.9, \"#4d9221\"], [1, \"#276419\"]], \"sequential\": [[0.0, \"#0d0887\"], [0.1111111111111111, \"#46039f\"], [0.2222222222222222, \"#7201a8\"], [0.3333333333333333, \"#9c179e\"], [0.4444444444444444, \"#bd3786\"], [0.5555555555555556, \"#d8576b\"], [0.6666666666666666, \"#ed7953\"], [0.7777777777777778, \"#fb9f3a\"], [0.8888888888888888, \"#fdca26\"], [1.0, \"#f0f921\"]], \"sequentialminus\": [[0.0, \"#0d0887\"], [0.1111111111111111, \"#46039f\"], [0.2222222222222222, \"#7201a8\"], [0.3333333333333333, \"#9c179e\"], [0.4444444444444444, \"#bd3786\"], [0.5555555555555556, \"#d8576b\"], [0.6666666666666666, \"#ed7953\"], [0.7777777777777778, \"#fb9f3a\"], [0.8888888888888888, \"#fdca26\"], [1.0, \"#f0f921\"]]}, \"colorway\": [\"#636efa\", \"#EF553B\", \"#00cc96\", \"#ab63fa\", \"#FFA15A\", \"#19d3f3\", \"#FF6692\", \"#B6E880\", \"#FF97FF\", \"#FECB52\"], \"font\": {\"color\": \"#2a3f5f\"}, \"geo\": {\"bgcolor\": \"white\", \"lakecolor\": \"white\", \"landcolor\": \"#E5ECF6\", \"showlakes\": true, \"showland\": true, \"subunitcolor\": \"white\"}, \"hoverlabel\": {\"align\": \"left\"}, \"hovermode\": \"closest\", \"mapbox\": {\"style\": \"light\"}, \"paper_bgcolor\": \"white\", \"plot_bgcolor\": \"#E5ECF6\", \"polar\": {\"angularaxis\": {\"gridcolor\": \"white\", \"linecolor\": \"white\", \"ticks\": \"\"}, \"bgcolor\": \"#E5ECF6\", \"radialaxis\": {\"gridcolor\": \"white\", \"linecolor\": \"white\", \"ticks\": \"\"}}, \"scene\": {\"xaxis\": {\"backgroundcolor\": \"#E5ECF6\", \"gridcolor\": \"white\", \"gridwidth\": 2, \"linecolor\": \"white\", \"showbackground\": true, \"ticks\": \"\", \"zerolinecolor\": \"white\"}, \"yaxis\": {\"backgroundcolor\": \"#E5ECF6\", \"gridcolor\": \"white\", \"gridwidth\": 2, \"linecolor\": \"white\", \"showbackground\": true, \"ticks\": \"\", \"zerolinecolor\": \"white\"}, \"zaxis\": {\"backgroundcolor\": \"#E5ECF6\", \"gridcolor\": \"white\", \"gridwidth\": 2, \"linecolor\": \"white\", \"showbackground\": true, \"ticks\": \"\", \"zerolinecolor\": \"white\"}}, \"shapedefaults\": {\"line\": {\"color\": \"#2a3f5f\"}}, \"ternary\": {\"aaxis\": {\"gridcolor\": \"white\", \"linecolor\": \"white\", \"ticks\": \"\"}, \"baxis\": {\"gridcolor\": \"white\", \"linecolor\": \"white\", \"ticks\": \"\"}, \"bgcolor\": \"#E5ECF6\", \"caxis\": {\"gridcolor\": \"white\", \"linecolor\": \"white\", \"ticks\": \"\"}}, \"title\": {\"x\": 0.05}, \"xaxis\": {\"automargin\": true, \"gridcolor\": \"white\", \"linecolor\": \"white\", \"ticks\": \"\", \"title\": {\"standoff\": 15}, \"zerolinecolor\": \"white\", \"zerolinewidth\": 2}, \"yaxis\": {\"automargin\": true, \"gridcolor\": \"white\", \"linecolor\": \"white\", \"ticks\": \"\", \"title\": {\"standoff\": 15}, \"zerolinecolor\": \"white\", \"zerolinewidth\": 2}}}, \"title\": {\"font\": {\"color\": \"#4D5663\"}}, \"xaxis\": {\"gridcolor\": \"#E1E5ED\", \"showgrid\": true, \"tickfont\": {\"color\": \"#4D5663\"}, \"title\": {\"font\": {\"color\": \"#4D5663\"}, \"text\": \"\"}, \"zerolinecolor\": \"#E1E5ED\"}, \"yaxis\": {\"gridcolor\": \"#E1E5ED\", \"showgrid\": true, \"tickfont\": {\"color\": \"#4D5663\"}, \"title\": {\"font\": {\"color\": \"#4D5663\"}, \"text\": \"\"}, \"zerolinecolor\": \"#E1E5ED\"}},\n",
       "                        {\"showLink\": true, \"linkText\": \"Export to plot.ly\", \"plotlyServerURL\": \"https://plot.ly\", \"responsive\": true}\n",
       "                    ).then(function(){\n",
       "                            \n",
       "var gd = document.getElementById('8b737efa-60ac-41fd-88cf-415b95375e8d');\n",
       "var x = new MutationObserver(function (mutations, observer) {{\n",
       "        var display = window.getComputedStyle(gd).display;\n",
       "        if (!display || display === 'none') {{\n",
       "            console.log([gd, 'removed!']);\n",
       "            Plotly.purge(gd);\n",
       "            observer.disconnect();\n",
       "        }}\n",
       "}});\n",
       "\n",
       "// Listen for the removal of the full notebook cells\n",
       "var notebookContainer = gd.closest('#notebook-container');\n",
       "if (notebookContainer) {{\n",
       "    x.observe(notebookContainer, {childList: true});\n",
       "}}\n",
       "\n",
       "// Listen for the clearing of the current output cell\n",
       "var outputEl = gd.closest('.output');\n",
       "if (outputEl) {{\n",
       "    x.observe(outputEl, {childList: true});\n",
       "}}\n",
       "\n",
       "                        })\n",
       "                };\n",
       "                });\n",
       "            </script>\n",
       "        </div>"
      ]
     },
     "metadata": {},
     "output_type": "display_data"
    }
   ],
   "source": [
    "df.iplot(kind='scatter',x='A',y='B',mode='markers',size=10)"
   ]
  },
  {
   "cell_type": "markdown",
   "metadata": {},
   "source": [
    "## Bar Plots"
   ]
  },
  {
   "cell_type": "code",
   "execution_count": 11,
   "metadata": {},
   "outputs": [
    {
     "data": {
      "application/vnd.plotly.v1+json": {
       "config": {
        "linkText": "Export to plot.ly",
        "plotlyServerURL": "https://plot.ly",
        "showLink": true
       },
       "data": [
        {
         "marker": {
          "color": "rgba(255, 153, 51, 0.6)",
          "line": {
           "color": "rgba(255, 153, 51, 1.0)",
           "width": 1
          }
         },
         "name": "Values",
         "orientation": "v",
         "text": "",
         "type": "bar",
         "x": [
          "A",
          "B",
          "C"
         ],
         "y": [
          32,
          43,
          50
         ]
        }
       ],
       "layout": {
        "legend": {
         "bgcolor": "#F5F6F9",
         "font": {
          "color": "#4D5663"
         }
        },
        "paper_bgcolor": "#F5F6F9",
        "plot_bgcolor": "#F5F6F9",
        "template": {
         "data": {
          "bar": [
           {
            "error_x": {
             "color": "#2a3f5f"
            },
            "error_y": {
             "color": "#2a3f5f"
            },
            "marker": {
             "line": {
              "color": "#E5ECF6",
              "width": 0.5
             }
            },
            "type": "bar"
           }
          ],
          "barpolar": [
           {
            "marker": {
             "line": {
              "color": "#E5ECF6",
              "width": 0.5
             }
            },
            "type": "barpolar"
           }
          ],
          "carpet": [
           {
            "aaxis": {
             "endlinecolor": "#2a3f5f",
             "gridcolor": "white",
             "linecolor": "white",
             "minorgridcolor": "white",
             "startlinecolor": "#2a3f5f"
            },
            "baxis": {
             "endlinecolor": "#2a3f5f",
             "gridcolor": "white",
             "linecolor": "white",
             "minorgridcolor": "white",
             "startlinecolor": "#2a3f5f"
            },
            "type": "carpet"
           }
          ],
          "choropleth": [
           {
            "colorbar": {
             "outlinewidth": 0,
             "ticks": ""
            },
            "type": "choropleth"
           }
          ],
          "contour": [
           {
            "colorbar": {
             "outlinewidth": 0,
             "ticks": ""
            },
            "colorscale": [
             [
              0,
              "#0d0887"
             ],
             [
              0.1111111111111111,
              "#46039f"
             ],
             [
              0.2222222222222222,
              "#7201a8"
             ],
             [
              0.3333333333333333,
              "#9c179e"
             ],
             [
              0.4444444444444444,
              "#bd3786"
             ],
             [
              0.5555555555555556,
              "#d8576b"
             ],
             [
              0.6666666666666666,
              "#ed7953"
             ],
             [
              0.7777777777777778,
              "#fb9f3a"
             ],
             [
              0.8888888888888888,
              "#fdca26"
             ],
             [
              1,
              "#f0f921"
             ]
            ],
            "type": "contour"
           }
          ],
          "contourcarpet": [
           {
            "colorbar": {
             "outlinewidth": 0,
             "ticks": ""
            },
            "type": "contourcarpet"
           }
          ],
          "heatmap": [
           {
            "colorbar": {
             "outlinewidth": 0,
             "ticks": ""
            },
            "colorscale": [
             [
              0,
              "#0d0887"
             ],
             [
              0.1111111111111111,
              "#46039f"
             ],
             [
              0.2222222222222222,
              "#7201a8"
             ],
             [
              0.3333333333333333,
              "#9c179e"
             ],
             [
              0.4444444444444444,
              "#bd3786"
             ],
             [
              0.5555555555555556,
              "#d8576b"
             ],
             [
              0.6666666666666666,
              "#ed7953"
             ],
             [
              0.7777777777777778,
              "#fb9f3a"
             ],
             [
              0.8888888888888888,
              "#fdca26"
             ],
             [
              1,
              "#f0f921"
             ]
            ],
            "type": "heatmap"
           }
          ],
          "heatmapgl": [
           {
            "colorbar": {
             "outlinewidth": 0,
             "ticks": ""
            },
            "colorscale": [
             [
              0,
              "#0d0887"
             ],
             [
              0.1111111111111111,
              "#46039f"
             ],
             [
              0.2222222222222222,
              "#7201a8"
             ],
             [
              0.3333333333333333,
              "#9c179e"
             ],
             [
              0.4444444444444444,
              "#bd3786"
             ],
             [
              0.5555555555555556,
              "#d8576b"
             ],
             [
              0.6666666666666666,
              "#ed7953"
             ],
             [
              0.7777777777777778,
              "#fb9f3a"
             ],
             [
              0.8888888888888888,
              "#fdca26"
             ],
             [
              1,
              "#f0f921"
             ]
            ],
            "type": "heatmapgl"
           }
          ],
          "histogram": [
           {
            "marker": {
             "colorbar": {
              "outlinewidth": 0,
              "ticks": ""
             }
            },
            "type": "histogram"
           }
          ],
          "histogram2d": [
           {
            "colorbar": {
             "outlinewidth": 0,
             "ticks": ""
            },
            "colorscale": [
             [
              0,
              "#0d0887"
             ],
             [
              0.1111111111111111,
              "#46039f"
             ],
             [
              0.2222222222222222,
              "#7201a8"
             ],
             [
              0.3333333333333333,
              "#9c179e"
             ],
             [
              0.4444444444444444,
              "#bd3786"
             ],
             [
              0.5555555555555556,
              "#d8576b"
             ],
             [
              0.6666666666666666,
              "#ed7953"
             ],
             [
              0.7777777777777778,
              "#fb9f3a"
             ],
             [
              0.8888888888888888,
              "#fdca26"
             ],
             [
              1,
              "#f0f921"
             ]
            ],
            "type": "histogram2d"
           }
          ],
          "histogram2dcontour": [
           {
            "colorbar": {
             "outlinewidth": 0,
             "ticks": ""
            },
            "colorscale": [
             [
              0,
              "#0d0887"
             ],
             [
              0.1111111111111111,
              "#46039f"
             ],
             [
              0.2222222222222222,
              "#7201a8"
             ],
             [
              0.3333333333333333,
              "#9c179e"
             ],
             [
              0.4444444444444444,
              "#bd3786"
             ],
             [
              0.5555555555555556,
              "#d8576b"
             ],
             [
              0.6666666666666666,
              "#ed7953"
             ],
             [
              0.7777777777777778,
              "#fb9f3a"
             ],
             [
              0.8888888888888888,
              "#fdca26"
             ],
             [
              1,
              "#f0f921"
             ]
            ],
            "type": "histogram2dcontour"
           }
          ],
          "mesh3d": [
           {
            "colorbar": {
             "outlinewidth": 0,
             "ticks": ""
            },
            "type": "mesh3d"
           }
          ],
          "parcoords": [
           {
            "line": {
             "colorbar": {
              "outlinewidth": 0,
              "ticks": ""
             }
            },
            "type": "parcoords"
           }
          ],
          "pie": [
           {
            "automargin": true,
            "type": "pie"
           }
          ],
          "scatter": [
           {
            "marker": {
             "colorbar": {
              "outlinewidth": 0,
              "ticks": ""
             }
            },
            "type": "scatter"
           }
          ],
          "scatter3d": [
           {
            "line": {
             "colorbar": {
              "outlinewidth": 0,
              "ticks": ""
             }
            },
            "marker": {
             "colorbar": {
              "outlinewidth": 0,
              "ticks": ""
             }
            },
            "type": "scatter3d"
           }
          ],
          "scattercarpet": [
           {
            "marker": {
             "colorbar": {
              "outlinewidth": 0,
              "ticks": ""
             }
            },
            "type": "scattercarpet"
           }
          ],
          "scattergeo": [
           {
            "marker": {
             "colorbar": {
              "outlinewidth": 0,
              "ticks": ""
             }
            },
            "type": "scattergeo"
           }
          ],
          "scattergl": [
           {
            "marker": {
             "colorbar": {
              "outlinewidth": 0,
              "ticks": ""
             }
            },
            "type": "scattergl"
           }
          ],
          "scattermapbox": [
           {
            "marker": {
             "colorbar": {
              "outlinewidth": 0,
              "ticks": ""
             }
            },
            "type": "scattermapbox"
           }
          ],
          "scatterpolar": [
           {
            "marker": {
             "colorbar": {
              "outlinewidth": 0,
              "ticks": ""
             }
            },
            "type": "scatterpolar"
           }
          ],
          "scatterpolargl": [
           {
            "marker": {
             "colorbar": {
              "outlinewidth": 0,
              "ticks": ""
             }
            },
            "type": "scatterpolargl"
           }
          ],
          "scatterternary": [
           {
            "marker": {
             "colorbar": {
              "outlinewidth": 0,
              "ticks": ""
             }
            },
            "type": "scatterternary"
           }
          ],
          "surface": [
           {
            "colorbar": {
             "outlinewidth": 0,
             "ticks": ""
            },
            "colorscale": [
             [
              0,
              "#0d0887"
             ],
             [
              0.1111111111111111,
              "#46039f"
             ],
             [
              0.2222222222222222,
              "#7201a8"
             ],
             [
              0.3333333333333333,
              "#9c179e"
             ],
             [
              0.4444444444444444,
              "#bd3786"
             ],
             [
              0.5555555555555556,
              "#d8576b"
             ],
             [
              0.6666666666666666,
              "#ed7953"
             ],
             [
              0.7777777777777778,
              "#fb9f3a"
             ],
             [
              0.8888888888888888,
              "#fdca26"
             ],
             [
              1,
              "#f0f921"
             ]
            ],
            "type": "surface"
           }
          ],
          "table": [
           {
            "cells": {
             "fill": {
              "color": "#EBF0F8"
             },
             "line": {
              "color": "white"
             }
            },
            "header": {
             "fill": {
              "color": "#C8D4E3"
             },
             "line": {
              "color": "white"
             }
            },
            "type": "table"
           }
          ]
         },
         "layout": {
          "annotationdefaults": {
           "arrowcolor": "#2a3f5f",
           "arrowhead": 0,
           "arrowwidth": 1
          },
          "coloraxis": {
           "colorbar": {
            "outlinewidth": 0,
            "ticks": ""
           }
          },
          "colorscale": {
           "diverging": [
            [
             0,
             "#8e0152"
            ],
            [
             0.1,
             "#c51b7d"
            ],
            [
             0.2,
             "#de77ae"
            ],
            [
             0.3,
             "#f1b6da"
            ],
            [
             0.4,
             "#fde0ef"
            ],
            [
             0.5,
             "#f7f7f7"
            ],
            [
             0.6,
             "#e6f5d0"
            ],
            [
             0.7,
             "#b8e186"
            ],
            [
             0.8,
             "#7fbc41"
            ],
            [
             0.9,
             "#4d9221"
            ],
            [
             1,
             "#276419"
            ]
           ],
           "sequential": [
            [
             0,
             "#0d0887"
            ],
            [
             0.1111111111111111,
             "#46039f"
            ],
            [
             0.2222222222222222,
             "#7201a8"
            ],
            [
             0.3333333333333333,
             "#9c179e"
            ],
            [
             0.4444444444444444,
             "#bd3786"
            ],
            [
             0.5555555555555556,
             "#d8576b"
            ],
            [
             0.6666666666666666,
             "#ed7953"
            ],
            [
             0.7777777777777778,
             "#fb9f3a"
            ],
            [
             0.8888888888888888,
             "#fdca26"
            ],
            [
             1,
             "#f0f921"
            ]
           ],
           "sequentialminus": [
            [
             0,
             "#0d0887"
            ],
            [
             0.1111111111111111,
             "#46039f"
            ],
            [
             0.2222222222222222,
             "#7201a8"
            ],
            [
             0.3333333333333333,
             "#9c179e"
            ],
            [
             0.4444444444444444,
             "#bd3786"
            ],
            [
             0.5555555555555556,
             "#d8576b"
            ],
            [
             0.6666666666666666,
             "#ed7953"
            ],
            [
             0.7777777777777778,
             "#fb9f3a"
            ],
            [
             0.8888888888888888,
             "#fdca26"
            ],
            [
             1,
             "#f0f921"
            ]
           ]
          },
          "colorway": [
           "#636efa",
           "#EF553B",
           "#00cc96",
           "#ab63fa",
           "#FFA15A",
           "#19d3f3",
           "#FF6692",
           "#B6E880",
           "#FF97FF",
           "#FECB52"
          ],
          "font": {
           "color": "#2a3f5f"
          },
          "geo": {
           "bgcolor": "white",
           "lakecolor": "white",
           "landcolor": "#E5ECF6",
           "showlakes": true,
           "showland": true,
           "subunitcolor": "white"
          },
          "hoverlabel": {
           "align": "left"
          },
          "hovermode": "closest",
          "mapbox": {
           "style": "light"
          },
          "paper_bgcolor": "white",
          "plot_bgcolor": "#E5ECF6",
          "polar": {
           "angularaxis": {
            "gridcolor": "white",
            "linecolor": "white",
            "ticks": ""
           },
           "bgcolor": "#E5ECF6",
           "radialaxis": {
            "gridcolor": "white",
            "linecolor": "white",
            "ticks": ""
           }
          },
          "scene": {
           "xaxis": {
            "backgroundcolor": "#E5ECF6",
            "gridcolor": "white",
            "gridwidth": 2,
            "linecolor": "white",
            "showbackground": true,
            "ticks": "",
            "zerolinecolor": "white"
           },
           "yaxis": {
            "backgroundcolor": "#E5ECF6",
            "gridcolor": "white",
            "gridwidth": 2,
            "linecolor": "white",
            "showbackground": true,
            "ticks": "",
            "zerolinecolor": "white"
           },
           "zaxis": {
            "backgroundcolor": "#E5ECF6",
            "gridcolor": "white",
            "gridwidth": 2,
            "linecolor": "white",
            "showbackground": true,
            "ticks": "",
            "zerolinecolor": "white"
           }
          },
          "shapedefaults": {
           "line": {
            "color": "#2a3f5f"
           }
          },
          "ternary": {
           "aaxis": {
            "gridcolor": "white",
            "linecolor": "white",
            "ticks": ""
           },
           "baxis": {
            "gridcolor": "white",
            "linecolor": "white",
            "ticks": ""
           },
           "bgcolor": "#E5ECF6",
           "caxis": {
            "gridcolor": "white",
            "linecolor": "white",
            "ticks": ""
           }
          },
          "title": {
           "x": 0.05
          },
          "xaxis": {
           "automargin": true,
           "gridcolor": "white",
           "linecolor": "white",
           "ticks": "",
           "title": {
            "standoff": 15
           },
           "zerolinecolor": "white",
           "zerolinewidth": 2
          },
          "yaxis": {
           "automargin": true,
           "gridcolor": "white",
           "linecolor": "white",
           "ticks": "",
           "title": {
            "standoff": 15
           },
           "zerolinecolor": "white",
           "zerolinewidth": 2
          }
         }
        },
        "title": {
         "font": {
          "color": "#4D5663"
         }
        },
        "xaxis": {
         "gridcolor": "#E1E5ED",
         "showgrid": true,
         "tickfont": {
          "color": "#4D5663"
         },
         "title": {
          "font": {
           "color": "#4D5663"
          },
          "text": ""
         },
         "zerolinecolor": "#E1E5ED"
        },
        "yaxis": {
         "gridcolor": "#E1E5ED",
         "showgrid": true,
         "tickfont": {
          "color": "#4D5663"
         },
         "title": {
          "font": {
           "color": "#4D5663"
          },
          "text": ""
         },
         "zerolinecolor": "#E1E5ED"
        }
       }
      },
      "text/html": [
       "<div>\n",
       "        \n",
       "        \n",
       "            <div id=\"65d33623-dc52-4a6b-9642-65c5a4dc908f\" class=\"plotly-graph-div\" style=\"height:525px; width:100%;\"></div>\n",
       "            <script type=\"text/javascript\">\n",
       "                require([\"plotly\"], function(Plotly) {\n",
       "                    window.PLOTLYENV=window.PLOTLYENV || {};\n",
       "                    window.PLOTLYENV.BASE_URL='https://plot.ly';\n",
       "                    \n",
       "                if (document.getElementById(\"65d33623-dc52-4a6b-9642-65c5a4dc908f\")) {\n",
       "                    Plotly.newPlot(\n",
       "                        '65d33623-dc52-4a6b-9642-65c5a4dc908f',\n",
       "                        [{\"marker\": {\"color\": \"rgba(255, 153, 51, 0.6)\", \"line\": {\"color\": \"rgba(255, 153, 51, 1.0)\", \"width\": 1}}, \"name\": \"Values\", \"orientation\": \"v\", \"text\": \"\", \"type\": \"bar\", \"x\": [\"A\", \"B\", \"C\"], \"y\": [32, 43, 50]}],\n",
       "                        {\"legend\": {\"bgcolor\": \"#F5F6F9\", \"font\": {\"color\": \"#4D5663\"}}, \"paper_bgcolor\": \"#F5F6F9\", \"plot_bgcolor\": \"#F5F6F9\", \"template\": {\"data\": {\"bar\": [{\"error_x\": {\"color\": \"#2a3f5f\"}, \"error_y\": {\"color\": \"#2a3f5f\"}, \"marker\": {\"line\": {\"color\": \"#E5ECF6\", \"width\": 0.5}}, \"type\": \"bar\"}], \"barpolar\": [{\"marker\": {\"line\": {\"color\": \"#E5ECF6\", \"width\": 0.5}}, \"type\": \"barpolar\"}], \"carpet\": [{\"aaxis\": {\"endlinecolor\": \"#2a3f5f\", \"gridcolor\": \"white\", \"linecolor\": \"white\", \"minorgridcolor\": \"white\", \"startlinecolor\": \"#2a3f5f\"}, \"baxis\": {\"endlinecolor\": \"#2a3f5f\", \"gridcolor\": \"white\", \"linecolor\": \"white\", \"minorgridcolor\": \"white\", \"startlinecolor\": \"#2a3f5f\"}, \"type\": \"carpet\"}], \"choropleth\": [{\"colorbar\": {\"outlinewidth\": 0, \"ticks\": \"\"}, \"type\": \"choropleth\"}], \"contour\": [{\"colorbar\": {\"outlinewidth\": 0, \"ticks\": \"\"}, \"colorscale\": [[0.0, \"#0d0887\"], [0.1111111111111111, \"#46039f\"], [0.2222222222222222, \"#7201a8\"], [0.3333333333333333, \"#9c179e\"], [0.4444444444444444, \"#bd3786\"], [0.5555555555555556, \"#d8576b\"], [0.6666666666666666, \"#ed7953\"], [0.7777777777777778, \"#fb9f3a\"], [0.8888888888888888, \"#fdca26\"], [1.0, \"#f0f921\"]], \"type\": \"contour\"}], \"contourcarpet\": [{\"colorbar\": {\"outlinewidth\": 0, \"ticks\": \"\"}, \"type\": \"contourcarpet\"}], \"heatmap\": [{\"colorbar\": {\"outlinewidth\": 0, \"ticks\": \"\"}, \"colorscale\": [[0.0, \"#0d0887\"], [0.1111111111111111, \"#46039f\"], [0.2222222222222222, \"#7201a8\"], [0.3333333333333333, \"#9c179e\"], [0.4444444444444444, \"#bd3786\"], [0.5555555555555556, \"#d8576b\"], [0.6666666666666666, \"#ed7953\"], [0.7777777777777778, \"#fb9f3a\"], [0.8888888888888888, \"#fdca26\"], [1.0, \"#f0f921\"]], \"type\": \"heatmap\"}], \"heatmapgl\": [{\"colorbar\": {\"outlinewidth\": 0, \"ticks\": \"\"}, \"colorscale\": [[0.0, \"#0d0887\"], [0.1111111111111111, \"#46039f\"], [0.2222222222222222, \"#7201a8\"], [0.3333333333333333, \"#9c179e\"], [0.4444444444444444, \"#bd3786\"], [0.5555555555555556, \"#d8576b\"], [0.6666666666666666, \"#ed7953\"], [0.7777777777777778, \"#fb9f3a\"], [0.8888888888888888, \"#fdca26\"], [1.0, \"#f0f921\"]], \"type\": \"heatmapgl\"}], \"histogram\": [{\"marker\": {\"colorbar\": {\"outlinewidth\": 0, \"ticks\": \"\"}}, \"type\": \"histogram\"}], \"histogram2d\": [{\"colorbar\": {\"outlinewidth\": 0, \"ticks\": \"\"}, \"colorscale\": [[0.0, \"#0d0887\"], [0.1111111111111111, \"#46039f\"], [0.2222222222222222, \"#7201a8\"], [0.3333333333333333, \"#9c179e\"], [0.4444444444444444, \"#bd3786\"], [0.5555555555555556, \"#d8576b\"], [0.6666666666666666, \"#ed7953\"], [0.7777777777777778, \"#fb9f3a\"], [0.8888888888888888, \"#fdca26\"], [1.0, \"#f0f921\"]], \"type\": \"histogram2d\"}], \"histogram2dcontour\": [{\"colorbar\": {\"outlinewidth\": 0, \"ticks\": \"\"}, \"colorscale\": [[0.0, \"#0d0887\"], [0.1111111111111111, \"#46039f\"], [0.2222222222222222, \"#7201a8\"], [0.3333333333333333, \"#9c179e\"], [0.4444444444444444, \"#bd3786\"], [0.5555555555555556, \"#d8576b\"], [0.6666666666666666, \"#ed7953\"], [0.7777777777777778, \"#fb9f3a\"], [0.8888888888888888, \"#fdca26\"], [1.0, \"#f0f921\"]], \"type\": \"histogram2dcontour\"}], \"mesh3d\": [{\"colorbar\": {\"outlinewidth\": 0, \"ticks\": \"\"}, \"type\": \"mesh3d\"}], \"parcoords\": [{\"line\": {\"colorbar\": {\"outlinewidth\": 0, \"ticks\": \"\"}}, \"type\": \"parcoords\"}], \"pie\": [{\"automargin\": true, \"type\": \"pie\"}], \"scatter\": [{\"marker\": {\"colorbar\": {\"outlinewidth\": 0, \"ticks\": \"\"}}, \"type\": \"scatter\"}], \"scatter3d\": [{\"line\": {\"colorbar\": {\"outlinewidth\": 0, \"ticks\": \"\"}}, \"marker\": {\"colorbar\": {\"outlinewidth\": 0, \"ticks\": \"\"}}, \"type\": \"scatter3d\"}], \"scattercarpet\": [{\"marker\": {\"colorbar\": {\"outlinewidth\": 0, \"ticks\": \"\"}}, \"type\": \"scattercarpet\"}], \"scattergeo\": [{\"marker\": {\"colorbar\": {\"outlinewidth\": 0, \"ticks\": \"\"}}, \"type\": \"scattergeo\"}], \"scattergl\": [{\"marker\": {\"colorbar\": {\"outlinewidth\": 0, \"ticks\": \"\"}}, \"type\": \"scattergl\"}], \"scattermapbox\": [{\"marker\": {\"colorbar\": {\"outlinewidth\": 0, \"ticks\": \"\"}}, \"type\": \"scattermapbox\"}], \"scatterpolar\": [{\"marker\": {\"colorbar\": {\"outlinewidth\": 0, \"ticks\": \"\"}}, \"type\": \"scatterpolar\"}], \"scatterpolargl\": [{\"marker\": {\"colorbar\": {\"outlinewidth\": 0, \"ticks\": \"\"}}, \"type\": \"scatterpolargl\"}], \"scatterternary\": [{\"marker\": {\"colorbar\": {\"outlinewidth\": 0, \"ticks\": \"\"}}, \"type\": \"scatterternary\"}], \"surface\": [{\"colorbar\": {\"outlinewidth\": 0, \"ticks\": \"\"}, \"colorscale\": [[0.0, \"#0d0887\"], [0.1111111111111111, \"#46039f\"], [0.2222222222222222, \"#7201a8\"], [0.3333333333333333, \"#9c179e\"], [0.4444444444444444, \"#bd3786\"], [0.5555555555555556, \"#d8576b\"], [0.6666666666666666, \"#ed7953\"], [0.7777777777777778, \"#fb9f3a\"], [0.8888888888888888, \"#fdca26\"], [1.0, \"#f0f921\"]], \"type\": \"surface\"}], \"table\": [{\"cells\": {\"fill\": {\"color\": \"#EBF0F8\"}, \"line\": {\"color\": \"white\"}}, \"header\": {\"fill\": {\"color\": \"#C8D4E3\"}, \"line\": {\"color\": \"white\"}}, \"type\": \"table\"}]}, \"layout\": {\"annotationdefaults\": {\"arrowcolor\": \"#2a3f5f\", \"arrowhead\": 0, \"arrowwidth\": 1}, \"coloraxis\": {\"colorbar\": {\"outlinewidth\": 0, \"ticks\": \"\"}}, \"colorscale\": {\"diverging\": [[0, \"#8e0152\"], [0.1, \"#c51b7d\"], [0.2, \"#de77ae\"], [0.3, \"#f1b6da\"], [0.4, \"#fde0ef\"], [0.5, \"#f7f7f7\"], [0.6, \"#e6f5d0\"], [0.7, \"#b8e186\"], [0.8, \"#7fbc41\"], [0.9, \"#4d9221\"], [1, \"#276419\"]], \"sequential\": [[0.0, \"#0d0887\"], [0.1111111111111111, \"#46039f\"], [0.2222222222222222, \"#7201a8\"], [0.3333333333333333, \"#9c179e\"], [0.4444444444444444, \"#bd3786\"], [0.5555555555555556, \"#d8576b\"], [0.6666666666666666, \"#ed7953\"], [0.7777777777777778, \"#fb9f3a\"], [0.8888888888888888, \"#fdca26\"], [1.0, \"#f0f921\"]], \"sequentialminus\": [[0.0, \"#0d0887\"], [0.1111111111111111, \"#46039f\"], [0.2222222222222222, \"#7201a8\"], [0.3333333333333333, \"#9c179e\"], [0.4444444444444444, \"#bd3786\"], [0.5555555555555556, \"#d8576b\"], [0.6666666666666666, \"#ed7953\"], [0.7777777777777778, \"#fb9f3a\"], [0.8888888888888888, \"#fdca26\"], [1.0, \"#f0f921\"]]}, \"colorway\": [\"#636efa\", \"#EF553B\", \"#00cc96\", \"#ab63fa\", \"#FFA15A\", \"#19d3f3\", \"#FF6692\", \"#B6E880\", \"#FF97FF\", \"#FECB52\"], \"font\": {\"color\": \"#2a3f5f\"}, \"geo\": {\"bgcolor\": \"white\", \"lakecolor\": \"white\", \"landcolor\": \"#E5ECF6\", \"showlakes\": true, \"showland\": true, \"subunitcolor\": \"white\"}, \"hoverlabel\": {\"align\": \"left\"}, \"hovermode\": \"closest\", \"mapbox\": {\"style\": \"light\"}, \"paper_bgcolor\": \"white\", \"plot_bgcolor\": \"#E5ECF6\", \"polar\": {\"angularaxis\": {\"gridcolor\": \"white\", \"linecolor\": \"white\", \"ticks\": \"\"}, \"bgcolor\": \"#E5ECF6\", \"radialaxis\": {\"gridcolor\": \"white\", \"linecolor\": \"white\", \"ticks\": \"\"}}, \"scene\": {\"xaxis\": {\"backgroundcolor\": \"#E5ECF6\", \"gridcolor\": \"white\", \"gridwidth\": 2, \"linecolor\": \"white\", \"showbackground\": true, \"ticks\": \"\", \"zerolinecolor\": \"white\"}, \"yaxis\": {\"backgroundcolor\": \"#E5ECF6\", \"gridcolor\": \"white\", \"gridwidth\": 2, \"linecolor\": \"white\", \"showbackground\": true, \"ticks\": \"\", \"zerolinecolor\": \"white\"}, \"zaxis\": {\"backgroundcolor\": \"#E5ECF6\", \"gridcolor\": \"white\", \"gridwidth\": 2, \"linecolor\": \"white\", \"showbackground\": true, \"ticks\": \"\", \"zerolinecolor\": \"white\"}}, \"shapedefaults\": {\"line\": {\"color\": \"#2a3f5f\"}}, \"ternary\": {\"aaxis\": {\"gridcolor\": \"white\", \"linecolor\": \"white\", \"ticks\": \"\"}, \"baxis\": {\"gridcolor\": \"white\", \"linecolor\": \"white\", \"ticks\": \"\"}, \"bgcolor\": \"#E5ECF6\", \"caxis\": {\"gridcolor\": \"white\", \"linecolor\": \"white\", \"ticks\": \"\"}}, \"title\": {\"x\": 0.05}, \"xaxis\": {\"automargin\": true, \"gridcolor\": \"white\", \"linecolor\": \"white\", \"ticks\": \"\", \"title\": {\"standoff\": 15}, \"zerolinecolor\": \"white\", \"zerolinewidth\": 2}, \"yaxis\": {\"automargin\": true, \"gridcolor\": \"white\", \"linecolor\": \"white\", \"ticks\": \"\", \"title\": {\"standoff\": 15}, \"zerolinecolor\": \"white\", \"zerolinewidth\": 2}}}, \"title\": {\"font\": {\"color\": \"#4D5663\"}}, \"xaxis\": {\"gridcolor\": \"#E1E5ED\", \"showgrid\": true, \"tickfont\": {\"color\": \"#4D5663\"}, \"title\": {\"font\": {\"color\": \"#4D5663\"}, \"text\": \"\"}, \"zerolinecolor\": \"#E1E5ED\"}, \"yaxis\": {\"gridcolor\": \"#E1E5ED\", \"showgrid\": true, \"tickfont\": {\"color\": \"#4D5663\"}, \"title\": {\"font\": {\"color\": \"#4D5663\"}, \"text\": \"\"}, \"zerolinecolor\": \"#E1E5ED\"}},\n",
       "                        {\"showLink\": true, \"linkText\": \"Export to plot.ly\", \"plotlyServerURL\": \"https://plot.ly\", \"responsive\": true}\n",
       "                    ).then(function(){\n",
       "                            \n",
       "var gd = document.getElementById('65d33623-dc52-4a6b-9642-65c5a4dc908f');\n",
       "var x = new MutationObserver(function (mutations, observer) {{\n",
       "        var display = window.getComputedStyle(gd).display;\n",
       "        if (!display || display === 'none') {{\n",
       "            console.log([gd, 'removed!']);\n",
       "            Plotly.purge(gd);\n",
       "            observer.disconnect();\n",
       "        }}\n",
       "}});\n",
       "\n",
       "// Listen for the removal of the full notebook cells\n",
       "var notebookContainer = gd.closest('#notebook-container');\n",
       "if (notebookContainer) {{\n",
       "    x.observe(notebookContainer, {childList: true});\n",
       "}}\n",
       "\n",
       "// Listen for the clearing of the current output cell\n",
       "var outputEl = gd.closest('.output');\n",
       "if (outputEl) {{\n",
       "    x.observe(outputEl, {childList: true});\n",
       "}}\n",
       "\n",
       "                        })\n",
       "                };\n",
       "                });\n",
       "            </script>\n",
       "        </div>"
      ]
     },
     "metadata": {},
     "output_type": "display_data"
    }
   ],
   "source": [
    "df2.iplot(kind='bar',x='Category',y='Values')"
   ]
  },
  {
   "cell_type": "code",
   "execution_count": 14,
   "metadata": {},
   "outputs": [
    {
     "data": {
      "application/vnd.plotly.v1+json": {
       "config": {
        "linkText": "Export to plot.ly",
        "plotlyServerURL": "https://plot.ly",
        "showLink": true
       },
       "data": [
        {
         "marker": {
          "color": "rgba(255, 153, 51, 0.6)",
          "line": {
           "color": "rgba(255, 153, 51, 1.0)",
           "width": 1
          }
         },
         "name": "None",
         "orientation": "v",
         "text": "",
         "type": "bar",
         "x": [
          "A",
          "B",
          "C",
          "D"
         ],
         "y": [
          100,
          100,
          100,
          100
         ]
        }
       ],
       "layout": {
        "legend": {
         "bgcolor": "#F5F6F9",
         "font": {
          "color": "#4D5663"
         }
        },
        "paper_bgcolor": "#F5F6F9",
        "plot_bgcolor": "#F5F6F9",
        "template": {
         "data": {
          "bar": [
           {
            "error_x": {
             "color": "#2a3f5f"
            },
            "error_y": {
             "color": "#2a3f5f"
            },
            "marker": {
             "line": {
              "color": "#E5ECF6",
              "width": 0.5
             }
            },
            "type": "bar"
           }
          ],
          "barpolar": [
           {
            "marker": {
             "line": {
              "color": "#E5ECF6",
              "width": 0.5
             }
            },
            "type": "barpolar"
           }
          ],
          "carpet": [
           {
            "aaxis": {
             "endlinecolor": "#2a3f5f",
             "gridcolor": "white",
             "linecolor": "white",
             "minorgridcolor": "white",
             "startlinecolor": "#2a3f5f"
            },
            "baxis": {
             "endlinecolor": "#2a3f5f",
             "gridcolor": "white",
             "linecolor": "white",
             "minorgridcolor": "white",
             "startlinecolor": "#2a3f5f"
            },
            "type": "carpet"
           }
          ],
          "choropleth": [
           {
            "colorbar": {
             "outlinewidth": 0,
             "ticks": ""
            },
            "type": "choropleth"
           }
          ],
          "contour": [
           {
            "colorbar": {
             "outlinewidth": 0,
             "ticks": ""
            },
            "colorscale": [
             [
              0,
              "#0d0887"
             ],
             [
              0.1111111111111111,
              "#46039f"
             ],
             [
              0.2222222222222222,
              "#7201a8"
             ],
             [
              0.3333333333333333,
              "#9c179e"
             ],
             [
              0.4444444444444444,
              "#bd3786"
             ],
             [
              0.5555555555555556,
              "#d8576b"
             ],
             [
              0.6666666666666666,
              "#ed7953"
             ],
             [
              0.7777777777777778,
              "#fb9f3a"
             ],
             [
              0.8888888888888888,
              "#fdca26"
             ],
             [
              1,
              "#f0f921"
             ]
            ],
            "type": "contour"
           }
          ],
          "contourcarpet": [
           {
            "colorbar": {
             "outlinewidth": 0,
             "ticks": ""
            },
            "type": "contourcarpet"
           }
          ],
          "heatmap": [
           {
            "colorbar": {
             "outlinewidth": 0,
             "ticks": ""
            },
            "colorscale": [
             [
              0,
              "#0d0887"
             ],
             [
              0.1111111111111111,
              "#46039f"
             ],
             [
              0.2222222222222222,
              "#7201a8"
             ],
             [
              0.3333333333333333,
              "#9c179e"
             ],
             [
              0.4444444444444444,
              "#bd3786"
             ],
             [
              0.5555555555555556,
              "#d8576b"
             ],
             [
              0.6666666666666666,
              "#ed7953"
             ],
             [
              0.7777777777777778,
              "#fb9f3a"
             ],
             [
              0.8888888888888888,
              "#fdca26"
             ],
             [
              1,
              "#f0f921"
             ]
            ],
            "type": "heatmap"
           }
          ],
          "heatmapgl": [
           {
            "colorbar": {
             "outlinewidth": 0,
             "ticks": ""
            },
            "colorscale": [
             [
              0,
              "#0d0887"
             ],
             [
              0.1111111111111111,
              "#46039f"
             ],
             [
              0.2222222222222222,
              "#7201a8"
             ],
             [
              0.3333333333333333,
              "#9c179e"
             ],
             [
              0.4444444444444444,
              "#bd3786"
             ],
             [
              0.5555555555555556,
              "#d8576b"
             ],
             [
              0.6666666666666666,
              "#ed7953"
             ],
             [
              0.7777777777777778,
              "#fb9f3a"
             ],
             [
              0.8888888888888888,
              "#fdca26"
             ],
             [
              1,
              "#f0f921"
             ]
            ],
            "type": "heatmapgl"
           }
          ],
          "histogram": [
           {
            "marker": {
             "colorbar": {
              "outlinewidth": 0,
              "ticks": ""
             }
            },
            "type": "histogram"
           }
          ],
          "histogram2d": [
           {
            "colorbar": {
             "outlinewidth": 0,
             "ticks": ""
            },
            "colorscale": [
             [
              0,
              "#0d0887"
             ],
             [
              0.1111111111111111,
              "#46039f"
             ],
             [
              0.2222222222222222,
              "#7201a8"
             ],
             [
              0.3333333333333333,
              "#9c179e"
             ],
             [
              0.4444444444444444,
              "#bd3786"
             ],
             [
              0.5555555555555556,
              "#d8576b"
             ],
             [
              0.6666666666666666,
              "#ed7953"
             ],
             [
              0.7777777777777778,
              "#fb9f3a"
             ],
             [
              0.8888888888888888,
              "#fdca26"
             ],
             [
              1,
              "#f0f921"
             ]
            ],
            "type": "histogram2d"
           }
          ],
          "histogram2dcontour": [
           {
            "colorbar": {
             "outlinewidth": 0,
             "ticks": ""
            },
            "colorscale": [
             [
              0,
              "#0d0887"
             ],
             [
              0.1111111111111111,
              "#46039f"
             ],
             [
              0.2222222222222222,
              "#7201a8"
             ],
             [
              0.3333333333333333,
              "#9c179e"
             ],
             [
              0.4444444444444444,
              "#bd3786"
             ],
             [
              0.5555555555555556,
              "#d8576b"
             ],
             [
              0.6666666666666666,
              "#ed7953"
             ],
             [
              0.7777777777777778,
              "#fb9f3a"
             ],
             [
              0.8888888888888888,
              "#fdca26"
             ],
             [
              1,
              "#f0f921"
             ]
            ],
            "type": "histogram2dcontour"
           }
          ],
          "mesh3d": [
           {
            "colorbar": {
             "outlinewidth": 0,
             "ticks": ""
            },
            "type": "mesh3d"
           }
          ],
          "parcoords": [
           {
            "line": {
             "colorbar": {
              "outlinewidth": 0,
              "ticks": ""
             }
            },
            "type": "parcoords"
           }
          ],
          "pie": [
           {
            "automargin": true,
            "type": "pie"
           }
          ],
          "scatter": [
           {
            "marker": {
             "colorbar": {
              "outlinewidth": 0,
              "ticks": ""
             }
            },
            "type": "scatter"
           }
          ],
          "scatter3d": [
           {
            "line": {
             "colorbar": {
              "outlinewidth": 0,
              "ticks": ""
             }
            },
            "marker": {
             "colorbar": {
              "outlinewidth": 0,
              "ticks": ""
             }
            },
            "type": "scatter3d"
           }
          ],
          "scattercarpet": [
           {
            "marker": {
             "colorbar": {
              "outlinewidth": 0,
              "ticks": ""
             }
            },
            "type": "scattercarpet"
           }
          ],
          "scattergeo": [
           {
            "marker": {
             "colorbar": {
              "outlinewidth": 0,
              "ticks": ""
             }
            },
            "type": "scattergeo"
           }
          ],
          "scattergl": [
           {
            "marker": {
             "colorbar": {
              "outlinewidth": 0,
              "ticks": ""
             }
            },
            "type": "scattergl"
           }
          ],
          "scattermapbox": [
           {
            "marker": {
             "colorbar": {
              "outlinewidth": 0,
              "ticks": ""
             }
            },
            "type": "scattermapbox"
           }
          ],
          "scatterpolar": [
           {
            "marker": {
             "colorbar": {
              "outlinewidth": 0,
              "ticks": ""
             }
            },
            "type": "scatterpolar"
           }
          ],
          "scatterpolargl": [
           {
            "marker": {
             "colorbar": {
              "outlinewidth": 0,
              "ticks": ""
             }
            },
            "type": "scatterpolargl"
           }
          ],
          "scatterternary": [
           {
            "marker": {
             "colorbar": {
              "outlinewidth": 0,
              "ticks": ""
             }
            },
            "type": "scatterternary"
           }
          ],
          "surface": [
           {
            "colorbar": {
             "outlinewidth": 0,
             "ticks": ""
            },
            "colorscale": [
             [
              0,
              "#0d0887"
             ],
             [
              0.1111111111111111,
              "#46039f"
             ],
             [
              0.2222222222222222,
              "#7201a8"
             ],
             [
              0.3333333333333333,
              "#9c179e"
             ],
             [
              0.4444444444444444,
              "#bd3786"
             ],
             [
              0.5555555555555556,
              "#d8576b"
             ],
             [
              0.6666666666666666,
              "#ed7953"
             ],
             [
              0.7777777777777778,
              "#fb9f3a"
             ],
             [
              0.8888888888888888,
              "#fdca26"
             ],
             [
              1,
              "#f0f921"
             ]
            ],
            "type": "surface"
           }
          ],
          "table": [
           {
            "cells": {
             "fill": {
              "color": "#EBF0F8"
             },
             "line": {
              "color": "white"
             }
            },
            "header": {
             "fill": {
              "color": "#C8D4E3"
             },
             "line": {
              "color": "white"
             }
            },
            "type": "table"
           }
          ]
         },
         "layout": {
          "annotationdefaults": {
           "arrowcolor": "#2a3f5f",
           "arrowhead": 0,
           "arrowwidth": 1
          },
          "coloraxis": {
           "colorbar": {
            "outlinewidth": 0,
            "ticks": ""
           }
          },
          "colorscale": {
           "diverging": [
            [
             0,
             "#8e0152"
            ],
            [
             0.1,
             "#c51b7d"
            ],
            [
             0.2,
             "#de77ae"
            ],
            [
             0.3,
             "#f1b6da"
            ],
            [
             0.4,
             "#fde0ef"
            ],
            [
             0.5,
             "#f7f7f7"
            ],
            [
             0.6,
             "#e6f5d0"
            ],
            [
             0.7,
             "#b8e186"
            ],
            [
             0.8,
             "#7fbc41"
            ],
            [
             0.9,
             "#4d9221"
            ],
            [
             1,
             "#276419"
            ]
           ],
           "sequential": [
            [
             0,
             "#0d0887"
            ],
            [
             0.1111111111111111,
             "#46039f"
            ],
            [
             0.2222222222222222,
             "#7201a8"
            ],
            [
             0.3333333333333333,
             "#9c179e"
            ],
            [
             0.4444444444444444,
             "#bd3786"
            ],
            [
             0.5555555555555556,
             "#d8576b"
            ],
            [
             0.6666666666666666,
             "#ed7953"
            ],
            [
             0.7777777777777778,
             "#fb9f3a"
            ],
            [
             0.8888888888888888,
             "#fdca26"
            ],
            [
             1,
             "#f0f921"
            ]
           ],
           "sequentialminus": [
            [
             0,
             "#0d0887"
            ],
            [
             0.1111111111111111,
             "#46039f"
            ],
            [
             0.2222222222222222,
             "#7201a8"
            ],
            [
             0.3333333333333333,
             "#9c179e"
            ],
            [
             0.4444444444444444,
             "#bd3786"
            ],
            [
             0.5555555555555556,
             "#d8576b"
            ],
            [
             0.6666666666666666,
             "#ed7953"
            ],
            [
             0.7777777777777778,
             "#fb9f3a"
            ],
            [
             0.8888888888888888,
             "#fdca26"
            ],
            [
             1,
             "#f0f921"
            ]
           ]
          },
          "colorway": [
           "#636efa",
           "#EF553B",
           "#00cc96",
           "#ab63fa",
           "#FFA15A",
           "#19d3f3",
           "#FF6692",
           "#B6E880",
           "#FF97FF",
           "#FECB52"
          ],
          "font": {
           "color": "#2a3f5f"
          },
          "geo": {
           "bgcolor": "white",
           "lakecolor": "white",
           "landcolor": "#E5ECF6",
           "showlakes": true,
           "showland": true,
           "subunitcolor": "white"
          },
          "hoverlabel": {
           "align": "left"
          },
          "hovermode": "closest",
          "mapbox": {
           "style": "light"
          },
          "paper_bgcolor": "white",
          "plot_bgcolor": "#E5ECF6",
          "polar": {
           "angularaxis": {
            "gridcolor": "white",
            "linecolor": "white",
            "ticks": ""
           },
           "bgcolor": "#E5ECF6",
           "radialaxis": {
            "gridcolor": "white",
            "linecolor": "white",
            "ticks": ""
           }
          },
          "scene": {
           "xaxis": {
            "backgroundcolor": "#E5ECF6",
            "gridcolor": "white",
            "gridwidth": 2,
            "linecolor": "white",
            "showbackground": true,
            "ticks": "",
            "zerolinecolor": "white"
           },
           "yaxis": {
            "backgroundcolor": "#E5ECF6",
            "gridcolor": "white",
            "gridwidth": 2,
            "linecolor": "white",
            "showbackground": true,
            "ticks": "",
            "zerolinecolor": "white"
           },
           "zaxis": {
            "backgroundcolor": "#E5ECF6",
            "gridcolor": "white",
            "gridwidth": 2,
            "linecolor": "white",
            "showbackground": true,
            "ticks": "",
            "zerolinecolor": "white"
           }
          },
          "shapedefaults": {
           "line": {
            "color": "#2a3f5f"
           }
          },
          "ternary": {
           "aaxis": {
            "gridcolor": "white",
            "linecolor": "white",
            "ticks": ""
           },
           "baxis": {
            "gridcolor": "white",
            "linecolor": "white",
            "ticks": ""
           },
           "bgcolor": "#E5ECF6",
           "caxis": {
            "gridcolor": "white",
            "linecolor": "white",
            "ticks": ""
           }
          },
          "title": {
           "x": 0.05
          },
          "xaxis": {
           "automargin": true,
           "gridcolor": "white",
           "linecolor": "white",
           "ticks": "",
           "title": {
            "standoff": 15
           },
           "zerolinecolor": "white",
           "zerolinewidth": 2
          },
          "yaxis": {
           "automargin": true,
           "gridcolor": "white",
           "linecolor": "white",
           "ticks": "",
           "title": {
            "standoff": 15
           },
           "zerolinecolor": "white",
           "zerolinewidth": 2
          }
         }
        },
        "title": {
         "font": {
          "color": "#4D5663"
         }
        },
        "xaxis": {
         "gridcolor": "#E1E5ED",
         "showgrid": true,
         "tickfont": {
          "color": "#4D5663"
         },
         "title": {
          "font": {
           "color": "#4D5663"
          },
          "text": ""
         },
         "zerolinecolor": "#E1E5ED"
        },
        "yaxis": {
         "gridcolor": "#E1E5ED",
         "showgrid": true,
         "tickfont": {
          "color": "#4D5663"
         },
         "title": {
          "font": {
           "color": "#4D5663"
          },
          "text": ""
         },
         "zerolinecolor": "#E1E5ED"
        }
       }
      },
      "text/html": [
       "<div>\n",
       "        \n",
       "        \n",
       "            <div id=\"273aaf40-fb5f-4305-a0f7-767bbe693c0d\" class=\"plotly-graph-div\" style=\"height:525px; width:100%;\"></div>\n",
       "            <script type=\"text/javascript\">\n",
       "                require([\"plotly\"], function(Plotly) {\n",
       "                    window.PLOTLYENV=window.PLOTLYENV || {};\n",
       "                    window.PLOTLYENV.BASE_URL='https://plot.ly';\n",
       "                    \n",
       "                if (document.getElementById(\"273aaf40-fb5f-4305-a0f7-767bbe693c0d\")) {\n",
       "                    Plotly.newPlot(\n",
       "                        '273aaf40-fb5f-4305-a0f7-767bbe693c0d',\n",
       "                        [{\"marker\": {\"color\": \"rgba(255, 153, 51, 0.6)\", \"line\": {\"color\": \"rgba(255, 153, 51, 1.0)\", \"width\": 1}}, \"name\": \"None\", \"orientation\": \"v\", \"text\": \"\", \"type\": \"bar\", \"x\": [\"A\", \"B\", \"C\", \"D\"], \"y\": [100, 100, 100, 100]}],\n",
       "                        {\"legend\": {\"bgcolor\": \"#F5F6F9\", \"font\": {\"color\": \"#4D5663\"}}, \"paper_bgcolor\": \"#F5F6F9\", \"plot_bgcolor\": \"#F5F6F9\", \"template\": {\"data\": {\"bar\": [{\"error_x\": {\"color\": \"#2a3f5f\"}, \"error_y\": {\"color\": \"#2a3f5f\"}, \"marker\": {\"line\": {\"color\": \"#E5ECF6\", \"width\": 0.5}}, \"type\": \"bar\"}], \"barpolar\": [{\"marker\": {\"line\": {\"color\": \"#E5ECF6\", \"width\": 0.5}}, \"type\": \"barpolar\"}], \"carpet\": [{\"aaxis\": {\"endlinecolor\": \"#2a3f5f\", \"gridcolor\": \"white\", \"linecolor\": \"white\", \"minorgridcolor\": \"white\", \"startlinecolor\": \"#2a3f5f\"}, \"baxis\": {\"endlinecolor\": \"#2a3f5f\", \"gridcolor\": \"white\", \"linecolor\": \"white\", \"minorgridcolor\": \"white\", \"startlinecolor\": \"#2a3f5f\"}, \"type\": \"carpet\"}], \"choropleth\": [{\"colorbar\": {\"outlinewidth\": 0, \"ticks\": \"\"}, \"type\": \"choropleth\"}], \"contour\": [{\"colorbar\": {\"outlinewidth\": 0, \"ticks\": \"\"}, \"colorscale\": [[0.0, \"#0d0887\"], [0.1111111111111111, \"#46039f\"], [0.2222222222222222, \"#7201a8\"], [0.3333333333333333, \"#9c179e\"], [0.4444444444444444, \"#bd3786\"], [0.5555555555555556, \"#d8576b\"], [0.6666666666666666, \"#ed7953\"], [0.7777777777777778, \"#fb9f3a\"], [0.8888888888888888, \"#fdca26\"], [1.0, \"#f0f921\"]], \"type\": \"contour\"}], \"contourcarpet\": [{\"colorbar\": {\"outlinewidth\": 0, \"ticks\": \"\"}, \"type\": \"contourcarpet\"}], \"heatmap\": [{\"colorbar\": {\"outlinewidth\": 0, \"ticks\": \"\"}, \"colorscale\": [[0.0, \"#0d0887\"], [0.1111111111111111, \"#46039f\"], [0.2222222222222222, \"#7201a8\"], [0.3333333333333333, \"#9c179e\"], [0.4444444444444444, \"#bd3786\"], [0.5555555555555556, \"#d8576b\"], [0.6666666666666666, \"#ed7953\"], [0.7777777777777778, \"#fb9f3a\"], [0.8888888888888888, \"#fdca26\"], [1.0, \"#f0f921\"]], \"type\": \"heatmap\"}], \"heatmapgl\": [{\"colorbar\": {\"outlinewidth\": 0, \"ticks\": \"\"}, \"colorscale\": [[0.0, \"#0d0887\"], [0.1111111111111111, \"#46039f\"], [0.2222222222222222, \"#7201a8\"], [0.3333333333333333, \"#9c179e\"], [0.4444444444444444, \"#bd3786\"], [0.5555555555555556, \"#d8576b\"], [0.6666666666666666, \"#ed7953\"], [0.7777777777777778, \"#fb9f3a\"], [0.8888888888888888, \"#fdca26\"], [1.0, \"#f0f921\"]], \"type\": \"heatmapgl\"}], \"histogram\": [{\"marker\": {\"colorbar\": {\"outlinewidth\": 0, \"ticks\": \"\"}}, \"type\": \"histogram\"}], \"histogram2d\": [{\"colorbar\": {\"outlinewidth\": 0, \"ticks\": \"\"}, \"colorscale\": [[0.0, \"#0d0887\"], [0.1111111111111111, \"#46039f\"], [0.2222222222222222, \"#7201a8\"], [0.3333333333333333, \"#9c179e\"], [0.4444444444444444, \"#bd3786\"], [0.5555555555555556, \"#d8576b\"], [0.6666666666666666, \"#ed7953\"], [0.7777777777777778, \"#fb9f3a\"], [0.8888888888888888, \"#fdca26\"], [1.0, \"#f0f921\"]], \"type\": \"histogram2d\"}], \"histogram2dcontour\": [{\"colorbar\": {\"outlinewidth\": 0, \"ticks\": \"\"}, \"colorscale\": [[0.0, \"#0d0887\"], [0.1111111111111111, \"#46039f\"], [0.2222222222222222, \"#7201a8\"], [0.3333333333333333, \"#9c179e\"], [0.4444444444444444, \"#bd3786\"], [0.5555555555555556, \"#d8576b\"], [0.6666666666666666, \"#ed7953\"], [0.7777777777777778, \"#fb9f3a\"], [0.8888888888888888, \"#fdca26\"], [1.0, \"#f0f921\"]], \"type\": \"histogram2dcontour\"}], \"mesh3d\": [{\"colorbar\": {\"outlinewidth\": 0, \"ticks\": \"\"}, \"type\": \"mesh3d\"}], \"parcoords\": [{\"line\": {\"colorbar\": {\"outlinewidth\": 0, \"ticks\": \"\"}}, \"type\": \"parcoords\"}], \"pie\": [{\"automargin\": true, \"type\": \"pie\"}], \"scatter\": [{\"marker\": {\"colorbar\": {\"outlinewidth\": 0, \"ticks\": \"\"}}, \"type\": \"scatter\"}], \"scatter3d\": [{\"line\": {\"colorbar\": {\"outlinewidth\": 0, \"ticks\": \"\"}}, \"marker\": {\"colorbar\": {\"outlinewidth\": 0, \"ticks\": \"\"}}, \"type\": \"scatter3d\"}], \"scattercarpet\": [{\"marker\": {\"colorbar\": {\"outlinewidth\": 0, \"ticks\": \"\"}}, \"type\": \"scattercarpet\"}], \"scattergeo\": [{\"marker\": {\"colorbar\": {\"outlinewidth\": 0, \"ticks\": \"\"}}, \"type\": \"scattergeo\"}], \"scattergl\": [{\"marker\": {\"colorbar\": {\"outlinewidth\": 0, \"ticks\": \"\"}}, \"type\": \"scattergl\"}], \"scattermapbox\": [{\"marker\": {\"colorbar\": {\"outlinewidth\": 0, \"ticks\": \"\"}}, \"type\": \"scattermapbox\"}], \"scatterpolar\": [{\"marker\": {\"colorbar\": {\"outlinewidth\": 0, \"ticks\": \"\"}}, \"type\": \"scatterpolar\"}], \"scatterpolargl\": [{\"marker\": {\"colorbar\": {\"outlinewidth\": 0, \"ticks\": \"\"}}, \"type\": \"scatterpolargl\"}], \"scatterternary\": [{\"marker\": {\"colorbar\": {\"outlinewidth\": 0, \"ticks\": \"\"}}, \"type\": \"scatterternary\"}], \"surface\": [{\"colorbar\": {\"outlinewidth\": 0, \"ticks\": \"\"}, \"colorscale\": [[0.0, \"#0d0887\"], [0.1111111111111111, \"#46039f\"], [0.2222222222222222, \"#7201a8\"], [0.3333333333333333, \"#9c179e\"], [0.4444444444444444, \"#bd3786\"], [0.5555555555555556, \"#d8576b\"], [0.6666666666666666, \"#ed7953\"], [0.7777777777777778, \"#fb9f3a\"], [0.8888888888888888, \"#fdca26\"], [1.0, \"#f0f921\"]], \"type\": \"surface\"}], \"table\": [{\"cells\": {\"fill\": {\"color\": \"#EBF0F8\"}, \"line\": {\"color\": \"white\"}}, \"header\": {\"fill\": {\"color\": \"#C8D4E3\"}, \"line\": {\"color\": \"white\"}}, \"type\": \"table\"}]}, \"layout\": {\"annotationdefaults\": {\"arrowcolor\": \"#2a3f5f\", \"arrowhead\": 0, \"arrowwidth\": 1}, \"coloraxis\": {\"colorbar\": {\"outlinewidth\": 0, \"ticks\": \"\"}}, \"colorscale\": {\"diverging\": [[0, \"#8e0152\"], [0.1, \"#c51b7d\"], [0.2, \"#de77ae\"], [0.3, \"#f1b6da\"], [0.4, \"#fde0ef\"], [0.5, \"#f7f7f7\"], [0.6, \"#e6f5d0\"], [0.7, \"#b8e186\"], [0.8, \"#7fbc41\"], [0.9, \"#4d9221\"], [1, \"#276419\"]], \"sequential\": [[0.0, \"#0d0887\"], [0.1111111111111111, \"#46039f\"], [0.2222222222222222, \"#7201a8\"], [0.3333333333333333, \"#9c179e\"], [0.4444444444444444, \"#bd3786\"], [0.5555555555555556, \"#d8576b\"], [0.6666666666666666, \"#ed7953\"], [0.7777777777777778, \"#fb9f3a\"], [0.8888888888888888, \"#fdca26\"], [1.0, \"#f0f921\"]], \"sequentialminus\": [[0.0, \"#0d0887\"], [0.1111111111111111, \"#46039f\"], [0.2222222222222222, \"#7201a8\"], [0.3333333333333333, \"#9c179e\"], [0.4444444444444444, \"#bd3786\"], [0.5555555555555556, \"#d8576b\"], [0.6666666666666666, \"#ed7953\"], [0.7777777777777778, \"#fb9f3a\"], [0.8888888888888888, \"#fdca26\"], [1.0, \"#f0f921\"]]}, \"colorway\": [\"#636efa\", \"#EF553B\", \"#00cc96\", \"#ab63fa\", \"#FFA15A\", \"#19d3f3\", \"#FF6692\", \"#B6E880\", \"#FF97FF\", \"#FECB52\"], \"font\": {\"color\": \"#2a3f5f\"}, \"geo\": {\"bgcolor\": \"white\", \"lakecolor\": \"white\", \"landcolor\": \"#E5ECF6\", \"showlakes\": true, \"showland\": true, \"subunitcolor\": \"white\"}, \"hoverlabel\": {\"align\": \"left\"}, \"hovermode\": \"closest\", \"mapbox\": {\"style\": \"light\"}, \"paper_bgcolor\": \"white\", \"plot_bgcolor\": \"#E5ECF6\", \"polar\": {\"angularaxis\": {\"gridcolor\": \"white\", \"linecolor\": \"white\", \"ticks\": \"\"}, \"bgcolor\": \"#E5ECF6\", \"radialaxis\": {\"gridcolor\": \"white\", \"linecolor\": \"white\", \"ticks\": \"\"}}, \"scene\": {\"xaxis\": {\"backgroundcolor\": \"#E5ECF6\", \"gridcolor\": \"white\", \"gridwidth\": 2, \"linecolor\": \"white\", \"showbackground\": true, \"ticks\": \"\", \"zerolinecolor\": \"white\"}, \"yaxis\": {\"backgroundcolor\": \"#E5ECF6\", \"gridcolor\": \"white\", \"gridwidth\": 2, \"linecolor\": \"white\", \"showbackground\": true, \"ticks\": \"\", \"zerolinecolor\": \"white\"}, \"zaxis\": {\"backgroundcolor\": \"#E5ECF6\", \"gridcolor\": \"white\", \"gridwidth\": 2, \"linecolor\": \"white\", \"showbackground\": true, \"ticks\": \"\", \"zerolinecolor\": \"white\"}}, \"shapedefaults\": {\"line\": {\"color\": \"#2a3f5f\"}}, \"ternary\": {\"aaxis\": {\"gridcolor\": \"white\", \"linecolor\": \"white\", \"ticks\": \"\"}, \"baxis\": {\"gridcolor\": \"white\", \"linecolor\": \"white\", \"ticks\": \"\"}, \"bgcolor\": \"#E5ECF6\", \"caxis\": {\"gridcolor\": \"white\", \"linecolor\": \"white\", \"ticks\": \"\"}}, \"title\": {\"x\": 0.05}, \"xaxis\": {\"automargin\": true, \"gridcolor\": \"white\", \"linecolor\": \"white\", \"ticks\": \"\", \"title\": {\"standoff\": 15}, \"zerolinecolor\": \"white\", \"zerolinewidth\": 2}, \"yaxis\": {\"automargin\": true, \"gridcolor\": \"white\", \"linecolor\": \"white\", \"ticks\": \"\", \"title\": {\"standoff\": 15}, \"zerolinecolor\": \"white\", \"zerolinewidth\": 2}}}, \"title\": {\"font\": {\"color\": \"#4D5663\"}}, \"xaxis\": {\"gridcolor\": \"#E1E5ED\", \"showgrid\": true, \"tickfont\": {\"color\": \"#4D5663\"}, \"title\": {\"font\": {\"color\": \"#4D5663\"}, \"text\": \"\"}, \"zerolinecolor\": \"#E1E5ED\"}, \"yaxis\": {\"gridcolor\": \"#E1E5ED\", \"showgrid\": true, \"tickfont\": {\"color\": \"#4D5663\"}, \"title\": {\"font\": {\"color\": \"#4D5663\"}, \"text\": \"\"}, \"zerolinecolor\": \"#E1E5ED\"}},\n",
       "                        {\"showLink\": true, \"linkText\": \"Export to plot.ly\", \"plotlyServerURL\": \"https://plot.ly\", \"responsive\": true}\n",
       "                    ).then(function(){\n",
       "                            \n",
       "var gd = document.getElementById('273aaf40-fb5f-4305-a0f7-767bbe693c0d');\n",
       "var x = new MutationObserver(function (mutations, observer) {{\n",
       "        var display = window.getComputedStyle(gd).display;\n",
       "        if (!display || display === 'none') {{\n",
       "            console.log([gd, 'removed!']);\n",
       "            Plotly.purge(gd);\n",
       "            observer.disconnect();\n",
       "        }}\n",
       "}});\n",
       "\n",
       "// Listen for the removal of the full notebook cells\n",
       "var notebookContainer = gd.closest('#notebook-container');\n",
       "if (notebookContainer) {{\n",
       "    x.observe(notebookContainer, {childList: true});\n",
       "}}\n",
       "\n",
       "// Listen for the clearing of the current output cell\n",
       "var outputEl = gd.closest('.output');\n",
       "if (outputEl) {{\n",
       "    x.observe(outputEl, {childList: true});\n",
       "}}\n",
       "\n",
       "                        })\n",
       "                };\n",
       "                });\n",
       "            </script>\n",
       "        </div>"
      ]
     },
     "metadata": {},
     "output_type": "display_data"
    }
   ],
   "source": [
    "df.count().iplot(kind='bar')"
   ]
  },
  {
   "cell_type": "markdown",
   "metadata": {},
   "source": [
    "## Boxplots"
   ]
  },
  {
   "cell_type": "code",
   "execution_count": 15,
   "metadata": {},
   "outputs": [
    {
     "data": {
      "application/vnd.plotly.v1+json": {
       "config": {
        "linkText": "Export to plot.ly",
        "plotlyServerURL": "https://plot.ly",
        "showLink": true
       },
       "data": [
        {
         "boxpoints": false,
         "line": {
          "width": 1.3
         },
         "marker": {
          "color": "rgba(255, 153, 51, 1.0)"
         },
         "name": "A",
         "orientation": "v",
         "type": "box",
         "y": [
          0.21333712036216956,
          0.25665047651329204,
          1.9275407354802638,
          -0.1630088122780753,
          -0.7096503484216469,
          1.1427364761321277,
          2.084635310234222,
          -0.026399085983079537,
          -1.988420853788765,
          0.671292439856992,
          0.13993436471277995,
          0.7670216335899259,
          -0.7402054775005389,
          -1.4399459740799503,
          -1.2005486697745715,
          -1.165410327584835,
          0.6644248169283439,
          -0.028756506557073572,
          0.2516096398380415,
          -0.8146789513812929,
          -0.7224259322456218,
          -0.781910319181829,
          1.7911704476562211,
          -0.39073082039979745,
          -1.4352271322521146,
          0.3248760858998426,
          1.3214965589574204,
          0.1523080436319771,
          0.2141843572991045,
          -1.2217631454104891,
          -0.42887146674778853,
          -1.0642408721713603,
          -1.4620971662626352,
          1.123140947567761,
          0.07443428772796729,
          1.216309038820772,
          -0.020010207442218403,
          -1.0939099461120412,
          -0.5902945316229972,
          -1.6464425979687698,
          -1.1335630422281875,
          0.3685681559789853,
          0.9319954006380338,
          -0.38370523637238346,
          0.9729279519725634,
          0.6060350277351296,
          -1.5064314701773505,
          -0.11686442762806791,
          -0.04540867924604806,
          -1.4647848980138103,
          1.1033504484307806,
          -0.7637901184582542,
          0.7717287733084981,
          -0.2250405260743319,
          -0.3105523373298624,
          1.6250414877666595,
          -0.7154154635129228,
          -1.0137527586625759,
          -0.18160091030832878,
          0.7278260419848971,
          -1.4462848221517628,
          -0.2149209788992766,
          -0.02736333868677174,
          -0.4083772190277294,
          -1.3903448037480677,
          -0.1421538438592139,
          -0.7899119363245749,
          0.03614779270578574,
          1.114018405015867,
          0.8338294539917678,
          -0.5623298737996674,
          1.0775148567887205,
          -0.1301928773075661,
          -0.2511044988443641,
          0.5230267449493876,
          1.3212937313584114,
          1.483707056566117,
          1.9612035531763654,
          0.883359642676606,
          2.432854412098014,
          -0.4365300341492609,
          -1.6526007572122574,
          -0.1837514310451801,
          0.36087956949198857,
          -0.7012283537323358,
          -0.5790769597484454,
          -0.24819410221512403,
          -1.4940388601122643,
          0.16135932479736645,
          -1.069825539040541,
          1.5464357268018578,
          -0.12075629883590314,
          -1.6583980247893007,
          0.33209734423001075,
          -2.707552450449217,
          0.2128183167584507,
          0.6232552740258526,
          2.333363703121639,
          1.5198415518587358,
          -0.05955186507850644
         ]
        },
        {
         "boxpoints": false,
         "line": {
          "width": 1.3
         },
         "marker": {
          "color": "rgba(55, 128, 191, 1.0)"
         },
         "name": "B",
         "orientation": "v",
         "type": "box",
         "y": [
          -0.5864659752162915,
          -0.18099576406782086,
          -0.4533136022046553,
          0.49710557372620195,
          1.2775797802850062,
          0.4161083640971835,
          -0.15143106943229268,
          -0.365663929736837,
          -0.6184603732884246,
          0.21796399418182116,
          1.1186914535310386,
          0.44537632979139624,
          1.6364822973037336,
          -0.04862658005502512,
          0.6612865209790793,
          0.2817057722811247,
          0.3749416067021927,
          0.2583039295660702,
          -0.978626727229024,
          -0.6199393733967932,
          0.9606188506658868,
          1.356744718143514,
          -0.8602632844776701,
          -0.3555113270769093,
          0.9375159333038156,
          0.6048321925488336,
          0.8842081564062255,
          0.5511891110238712,
          -0.47857044081560157,
          -0.1337811402976441,
          -1.2853280872014985,
          -0.5766656318966009,
          -0.8207314218982654,
          0.5116859817080143,
          -1.0790996442387681,
          -0.6997609008747314,
          -0.28766636064296963,
          -0.6727663805637905,
          -0.3233231353415504,
          0.17623541797795725,
          0.8240659051722579,
          -0.8540606300446177,
          0.6122579383495008,
          -0.590967987543979,
          -0.41376092638310336,
          0.32887420159115527,
          0.8729354550960499,
          -0.33657901953658087,
          -1.194326742500851,
          -0.676615903454892,
          -0.5550205241717774,
          -2.026510738495248,
          -0.3457842826648694,
          -0.38678372767291264,
          -0.32893633561693986,
          0.004363227537524876,
          -1.0872490370707908,
          0.34096840542132634,
          -0.15103704217598235,
          0.5381608357022754,
          0.3927957547213143,
          -1.6835150692954717,
          -0.92583153055911,
          0.6790997638530409,
          -0.05065503749551706,
          0.7471561771513062,
          0.7267996918348049,
          0.7558737826149488,
          0.8669354661789175,
          -0.5883125097555686,
          -0.4616782593650259,
          -0.06828761261811965,
          0.1274240043599269,
          -0.8611087938563126,
          0.7295403774089118,
          0.6095456146491329,
          0.2457565485052304,
          -0.4527141682680746,
          -0.9894044423657463,
          -0.8461865919076168,
          1.6160276476471338,
          -0.44295786995666325,
          0.4052525078450415,
          -0.7725925348432313,
          -0.9700414649280531,
          0.2967877823951404,
          -0.26132861501848587,
          2.7995461162133872,
          0.2647627153131342,
          1.249817597253992,
          -0.2987960397363294,
          -0.5895330281226503,
          0.08840494189034458,
          -0.6442263753616765,
          0.23477998923235666,
          0.07912771285260012,
          -0.12988226344729503,
          -1.594079390394641,
          -0.14645967846660468,
          0.9901201163869056
         ]
        },
        {
         "boxpoints": false,
         "line": {
          "width": 1.3
         },
         "marker": {
          "color": "rgba(50, 171, 96, 1.0)"
         },
         "name": "C",
         "orientation": "v",
         "type": "box",
         "y": [
          -0.15409386096708147,
          0.8731863903000637,
          0.7892234402927493,
          0.8104639499990842,
          0.3739200651156504,
          0.888821220095366,
          0.03362767723488303,
          0.5989285244107289,
          0.13755412525304989,
          -1.6390305495019717,
          0.03156173862318914,
          -0.5093688846160807,
          -0.6008566424446116,
          -0.12317881544252014,
          0.4511808012432094,
          3.5081559410184866,
          0.3932663312794171,
          -2.7005731061790867,
          -1.4516374491108,
          1.2926803054696712,
          -1.3696166105998864,
          -0.41692394011220596,
          -1.8217715916088728,
          -1.8112911822965128,
          -0.6763464524393229,
          -0.5787351173109659,
          0.5441589206047204,
          2.2298668091051783,
          0.4054955369060133,
          0.7863272967033614,
          -0.9206210003566272,
          0.02022293557034932,
          1.8796833276526392,
          0.5565127425788943,
          0.5413264199017517,
          -3.0545468943333245,
          0.15135856937298206,
          -0.28753428909423134,
          -0.8263658715758724,
          -0.8745574542510015,
          -0.732903119694837,
          0.42651758063848905,
          -1.6476116191967374,
          0.45084700361094154,
          -0.11213491533708712,
          0.9207075468315324,
          0.03813904144214054,
          -0.12209913448179975,
          0.14480028295097216,
          0.5121714909419897,
          0.10617929864000014,
          -0.5359453955278299,
          -0.4783077764537238,
          1.0067800020799347,
          -0.48829641957847364,
          1.5129546278103194,
          -2.437687364959682,
          -1.146102903981523,
          -0.17863433651690444,
          0.9642421901633967,
          -1.1630116138330333,
          0.17038802493830377,
          1.708276022133024,
          -0.16613334668504778,
          0.7785958904004711,
          -0.6659555819092876,
          0.15481733121375887,
          -0.9863479866899411,
          -0.05113748152130975,
          0.8535927813848629,
          -0.5073805045570786,
          -0.4348665185655108,
          -0.18106117890974505,
          0.42676582115642936,
          -0.7894432165471591,
          -1.8113467196249016,
          -2.3441051401090505,
          2.1304239386427186,
          1.320738126165373,
          1.152079038293719,
          1.1904985781107802,
          0.4544157613361789,
          -1.8171352879405416,
          0.35804111222897833,
          0.11011801081236455,
          -0.462864031093342,
          0.13117517241613133,
          -0.7499674574046394,
          -1.629894698288106,
          -0.8109472932064513,
          -1.3575443921851864,
          -0.40537507616484114,
          -0.14328193508824014,
          1.3410996826548334,
          0.8743039715719515,
          0.6046464110944935,
          -0.29964928784708744,
          0.34029517332746817,
          0.46810547269470876,
          -0.589337367290618
         ]
        },
        {
         "boxpoints": false,
         "line": {
          "width": 1.3
         },
         "marker": {
          "color": "rgba(128, 0, 128, 1.0)"
         },
         "name": "D",
         "orientation": "v",
         "type": "box",
         "y": [
          0.5170055812564315,
          -0.5864002189861852,
          0.08244983973714591,
          -0.4249887402995753,
          -0.7160306854644531,
          -0.0007567718085830301,
          -0.13476050619792204,
          -0.5563123457885937,
          -1.0188671919936263,
          -0.9617830084121471,
          -0.14223267942762866,
          -0.37493259004746815,
          -0.7785954442579843,
          1.7158918762104922,
          -0.7628362412789231,
          1.8540555371403478,
          -0.186029663166845,
          -1.511141844016936,
          -0.8844616732370526,
          -0.5818267202624393,
          -1.4688893891001469,
          -0.6490729798733988,
          0.1014274906485541,
          -0.7060764819863503,
          0.7975306199132951,
          0.12312442889535842,
          -0.022118755581018237,
          -0.14578490786452675,
          -1.2761250707433514,
          -0.46018089358985015,
          -2.049349875582505,
          0.13836137428577058,
          -0.5820157916473553,
          -1.7425485533246892,
          2.0315720187202135,
          0.3218726730472288,
          0.5001993230041177,
          -0.8167678712878862,
          2.261478282007555,
          1.5211683775223057,
          -1.319704152302807,
          0.7054362051143414,
          0.029753396393046725,
          -0.1755613758623475,
          -0.34486429441646327,
          0.21472343867920282,
          0.8904992193382669,
          -0.0615159334096154,
          -0.5795058531142238,
          -0.6873115453371869,
          -0.24517141548305807,
          0.5737898188025035,
          0.9238048918062784,
          -1.7218942903205565,
          0.9858244243446375,
          -0.30042840455475106,
          1.6418000165020206,
          -0.02962221022177065,
          -0.33496033368353584,
          -1.8115038400226386,
          1.6442476106328505,
          0.38952126098520407,
          0.09731039965134451,
          -0.7245784140461443,
          -0.8819142812213432,
          0.31724433553107023,
          -0.6382333460760878,
          0.24611183230938485,
          -1.326124511521306,
          -0.313135225879092,
          1.056092553101489,
          -1.1140349135110206,
          -0.38483781251566385,
          0.5404548383142044,
          -0.08459106775322058,
          -0.19676026252827838,
          0.33514203810913606,
          0.6394525735929671,
          -0.7915552193140721,
          -0.9335472407522618,
          -0.11880612640628109,
          0.747276283078878,
          0.7578150408803679,
          0.6230302974499802,
          2.6908592061496335,
          -1.2124880728623326,
          -1.260620082714092,
          0.18948207728240185,
          0.49459976167799796,
          0.9273342996306305,
          -0.20337634559536946,
          1.0268371061484365,
          1.4071215557756458,
          -0.3882949774086078,
          1.4612656017408572,
          -0.1023747320512153,
          -0.8760565157177523,
          0.6870123875868547,
          -1.4490667003636082,
          -1.0444997775882212
         ]
        }
       ],
       "layout": {
        "legend": {
         "bgcolor": "#F5F6F9",
         "font": {
          "color": "#4D5663"
         }
        },
        "paper_bgcolor": "#F5F6F9",
        "plot_bgcolor": "#F5F6F9",
        "template": {
         "data": {
          "bar": [
           {
            "error_x": {
             "color": "#2a3f5f"
            },
            "error_y": {
             "color": "#2a3f5f"
            },
            "marker": {
             "line": {
              "color": "#E5ECF6",
              "width": 0.5
             }
            },
            "type": "bar"
           }
          ],
          "barpolar": [
           {
            "marker": {
             "line": {
              "color": "#E5ECF6",
              "width": 0.5
             }
            },
            "type": "barpolar"
           }
          ],
          "carpet": [
           {
            "aaxis": {
             "endlinecolor": "#2a3f5f",
             "gridcolor": "white",
             "linecolor": "white",
             "minorgridcolor": "white",
             "startlinecolor": "#2a3f5f"
            },
            "baxis": {
             "endlinecolor": "#2a3f5f",
             "gridcolor": "white",
             "linecolor": "white",
             "minorgridcolor": "white",
             "startlinecolor": "#2a3f5f"
            },
            "type": "carpet"
           }
          ],
          "choropleth": [
           {
            "colorbar": {
             "outlinewidth": 0,
             "ticks": ""
            },
            "type": "choropleth"
           }
          ],
          "contour": [
           {
            "colorbar": {
             "outlinewidth": 0,
             "ticks": ""
            },
            "colorscale": [
             [
              0,
              "#0d0887"
             ],
             [
              0.1111111111111111,
              "#46039f"
             ],
             [
              0.2222222222222222,
              "#7201a8"
             ],
             [
              0.3333333333333333,
              "#9c179e"
             ],
             [
              0.4444444444444444,
              "#bd3786"
             ],
             [
              0.5555555555555556,
              "#d8576b"
             ],
             [
              0.6666666666666666,
              "#ed7953"
             ],
             [
              0.7777777777777778,
              "#fb9f3a"
             ],
             [
              0.8888888888888888,
              "#fdca26"
             ],
             [
              1,
              "#f0f921"
             ]
            ],
            "type": "contour"
           }
          ],
          "contourcarpet": [
           {
            "colorbar": {
             "outlinewidth": 0,
             "ticks": ""
            },
            "type": "contourcarpet"
           }
          ],
          "heatmap": [
           {
            "colorbar": {
             "outlinewidth": 0,
             "ticks": ""
            },
            "colorscale": [
             [
              0,
              "#0d0887"
             ],
             [
              0.1111111111111111,
              "#46039f"
             ],
             [
              0.2222222222222222,
              "#7201a8"
             ],
             [
              0.3333333333333333,
              "#9c179e"
             ],
             [
              0.4444444444444444,
              "#bd3786"
             ],
             [
              0.5555555555555556,
              "#d8576b"
             ],
             [
              0.6666666666666666,
              "#ed7953"
             ],
             [
              0.7777777777777778,
              "#fb9f3a"
             ],
             [
              0.8888888888888888,
              "#fdca26"
             ],
             [
              1,
              "#f0f921"
             ]
            ],
            "type": "heatmap"
           }
          ],
          "heatmapgl": [
           {
            "colorbar": {
             "outlinewidth": 0,
             "ticks": ""
            },
            "colorscale": [
             [
              0,
              "#0d0887"
             ],
             [
              0.1111111111111111,
              "#46039f"
             ],
             [
              0.2222222222222222,
              "#7201a8"
             ],
             [
              0.3333333333333333,
              "#9c179e"
             ],
             [
              0.4444444444444444,
              "#bd3786"
             ],
             [
              0.5555555555555556,
              "#d8576b"
             ],
             [
              0.6666666666666666,
              "#ed7953"
             ],
             [
              0.7777777777777778,
              "#fb9f3a"
             ],
             [
              0.8888888888888888,
              "#fdca26"
             ],
             [
              1,
              "#f0f921"
             ]
            ],
            "type": "heatmapgl"
           }
          ],
          "histogram": [
           {
            "marker": {
             "colorbar": {
              "outlinewidth": 0,
              "ticks": ""
             }
            },
            "type": "histogram"
           }
          ],
          "histogram2d": [
           {
            "colorbar": {
             "outlinewidth": 0,
             "ticks": ""
            },
            "colorscale": [
             [
              0,
              "#0d0887"
             ],
             [
              0.1111111111111111,
              "#46039f"
             ],
             [
              0.2222222222222222,
              "#7201a8"
             ],
             [
              0.3333333333333333,
              "#9c179e"
             ],
             [
              0.4444444444444444,
              "#bd3786"
             ],
             [
              0.5555555555555556,
              "#d8576b"
             ],
             [
              0.6666666666666666,
              "#ed7953"
             ],
             [
              0.7777777777777778,
              "#fb9f3a"
             ],
             [
              0.8888888888888888,
              "#fdca26"
             ],
             [
              1,
              "#f0f921"
             ]
            ],
            "type": "histogram2d"
           }
          ],
          "histogram2dcontour": [
           {
            "colorbar": {
             "outlinewidth": 0,
             "ticks": ""
            },
            "colorscale": [
             [
              0,
              "#0d0887"
             ],
             [
              0.1111111111111111,
              "#46039f"
             ],
             [
              0.2222222222222222,
              "#7201a8"
             ],
             [
              0.3333333333333333,
              "#9c179e"
             ],
             [
              0.4444444444444444,
              "#bd3786"
             ],
             [
              0.5555555555555556,
              "#d8576b"
             ],
             [
              0.6666666666666666,
              "#ed7953"
             ],
             [
              0.7777777777777778,
              "#fb9f3a"
             ],
             [
              0.8888888888888888,
              "#fdca26"
             ],
             [
              1,
              "#f0f921"
             ]
            ],
            "type": "histogram2dcontour"
           }
          ],
          "mesh3d": [
           {
            "colorbar": {
             "outlinewidth": 0,
             "ticks": ""
            },
            "type": "mesh3d"
           }
          ],
          "parcoords": [
           {
            "line": {
             "colorbar": {
              "outlinewidth": 0,
              "ticks": ""
             }
            },
            "type": "parcoords"
           }
          ],
          "pie": [
           {
            "automargin": true,
            "type": "pie"
           }
          ],
          "scatter": [
           {
            "marker": {
             "colorbar": {
              "outlinewidth": 0,
              "ticks": ""
             }
            },
            "type": "scatter"
           }
          ],
          "scatter3d": [
           {
            "line": {
             "colorbar": {
              "outlinewidth": 0,
              "ticks": ""
             }
            },
            "marker": {
             "colorbar": {
              "outlinewidth": 0,
              "ticks": ""
             }
            },
            "type": "scatter3d"
           }
          ],
          "scattercarpet": [
           {
            "marker": {
             "colorbar": {
              "outlinewidth": 0,
              "ticks": ""
             }
            },
            "type": "scattercarpet"
           }
          ],
          "scattergeo": [
           {
            "marker": {
             "colorbar": {
              "outlinewidth": 0,
              "ticks": ""
             }
            },
            "type": "scattergeo"
           }
          ],
          "scattergl": [
           {
            "marker": {
             "colorbar": {
              "outlinewidth": 0,
              "ticks": ""
             }
            },
            "type": "scattergl"
           }
          ],
          "scattermapbox": [
           {
            "marker": {
             "colorbar": {
              "outlinewidth": 0,
              "ticks": ""
             }
            },
            "type": "scattermapbox"
           }
          ],
          "scatterpolar": [
           {
            "marker": {
             "colorbar": {
              "outlinewidth": 0,
              "ticks": ""
             }
            },
            "type": "scatterpolar"
           }
          ],
          "scatterpolargl": [
           {
            "marker": {
             "colorbar": {
              "outlinewidth": 0,
              "ticks": ""
             }
            },
            "type": "scatterpolargl"
           }
          ],
          "scatterternary": [
           {
            "marker": {
             "colorbar": {
              "outlinewidth": 0,
              "ticks": ""
             }
            },
            "type": "scatterternary"
           }
          ],
          "surface": [
           {
            "colorbar": {
             "outlinewidth": 0,
             "ticks": ""
            },
            "colorscale": [
             [
              0,
              "#0d0887"
             ],
             [
              0.1111111111111111,
              "#46039f"
             ],
             [
              0.2222222222222222,
              "#7201a8"
             ],
             [
              0.3333333333333333,
              "#9c179e"
             ],
             [
              0.4444444444444444,
              "#bd3786"
             ],
             [
              0.5555555555555556,
              "#d8576b"
             ],
             [
              0.6666666666666666,
              "#ed7953"
             ],
             [
              0.7777777777777778,
              "#fb9f3a"
             ],
             [
              0.8888888888888888,
              "#fdca26"
             ],
             [
              1,
              "#f0f921"
             ]
            ],
            "type": "surface"
           }
          ],
          "table": [
           {
            "cells": {
             "fill": {
              "color": "#EBF0F8"
             },
             "line": {
              "color": "white"
             }
            },
            "header": {
             "fill": {
              "color": "#C8D4E3"
             },
             "line": {
              "color": "white"
             }
            },
            "type": "table"
           }
          ]
         },
         "layout": {
          "annotationdefaults": {
           "arrowcolor": "#2a3f5f",
           "arrowhead": 0,
           "arrowwidth": 1
          },
          "coloraxis": {
           "colorbar": {
            "outlinewidth": 0,
            "ticks": ""
           }
          },
          "colorscale": {
           "diverging": [
            [
             0,
             "#8e0152"
            ],
            [
             0.1,
             "#c51b7d"
            ],
            [
             0.2,
             "#de77ae"
            ],
            [
             0.3,
             "#f1b6da"
            ],
            [
             0.4,
             "#fde0ef"
            ],
            [
             0.5,
             "#f7f7f7"
            ],
            [
             0.6,
             "#e6f5d0"
            ],
            [
             0.7,
             "#b8e186"
            ],
            [
             0.8,
             "#7fbc41"
            ],
            [
             0.9,
             "#4d9221"
            ],
            [
             1,
             "#276419"
            ]
           ],
           "sequential": [
            [
             0,
             "#0d0887"
            ],
            [
             0.1111111111111111,
             "#46039f"
            ],
            [
             0.2222222222222222,
             "#7201a8"
            ],
            [
             0.3333333333333333,
             "#9c179e"
            ],
            [
             0.4444444444444444,
             "#bd3786"
            ],
            [
             0.5555555555555556,
             "#d8576b"
            ],
            [
             0.6666666666666666,
             "#ed7953"
            ],
            [
             0.7777777777777778,
             "#fb9f3a"
            ],
            [
             0.8888888888888888,
             "#fdca26"
            ],
            [
             1,
             "#f0f921"
            ]
           ],
           "sequentialminus": [
            [
             0,
             "#0d0887"
            ],
            [
             0.1111111111111111,
             "#46039f"
            ],
            [
             0.2222222222222222,
             "#7201a8"
            ],
            [
             0.3333333333333333,
             "#9c179e"
            ],
            [
             0.4444444444444444,
             "#bd3786"
            ],
            [
             0.5555555555555556,
             "#d8576b"
            ],
            [
             0.6666666666666666,
             "#ed7953"
            ],
            [
             0.7777777777777778,
             "#fb9f3a"
            ],
            [
             0.8888888888888888,
             "#fdca26"
            ],
            [
             1,
             "#f0f921"
            ]
           ]
          },
          "colorway": [
           "#636efa",
           "#EF553B",
           "#00cc96",
           "#ab63fa",
           "#FFA15A",
           "#19d3f3",
           "#FF6692",
           "#B6E880",
           "#FF97FF",
           "#FECB52"
          ],
          "font": {
           "color": "#2a3f5f"
          },
          "geo": {
           "bgcolor": "white",
           "lakecolor": "white",
           "landcolor": "#E5ECF6",
           "showlakes": true,
           "showland": true,
           "subunitcolor": "white"
          },
          "hoverlabel": {
           "align": "left"
          },
          "hovermode": "closest",
          "mapbox": {
           "style": "light"
          },
          "paper_bgcolor": "white",
          "plot_bgcolor": "#E5ECF6",
          "polar": {
           "angularaxis": {
            "gridcolor": "white",
            "linecolor": "white",
            "ticks": ""
           },
           "bgcolor": "#E5ECF6",
           "radialaxis": {
            "gridcolor": "white",
            "linecolor": "white",
            "ticks": ""
           }
          },
          "scene": {
           "xaxis": {
            "backgroundcolor": "#E5ECF6",
            "gridcolor": "white",
            "gridwidth": 2,
            "linecolor": "white",
            "showbackground": true,
            "ticks": "",
            "zerolinecolor": "white"
           },
           "yaxis": {
            "backgroundcolor": "#E5ECF6",
            "gridcolor": "white",
            "gridwidth": 2,
            "linecolor": "white",
            "showbackground": true,
            "ticks": "",
            "zerolinecolor": "white"
           },
           "zaxis": {
            "backgroundcolor": "#E5ECF6",
            "gridcolor": "white",
            "gridwidth": 2,
            "linecolor": "white",
            "showbackground": true,
            "ticks": "",
            "zerolinecolor": "white"
           }
          },
          "shapedefaults": {
           "line": {
            "color": "#2a3f5f"
           }
          },
          "ternary": {
           "aaxis": {
            "gridcolor": "white",
            "linecolor": "white",
            "ticks": ""
           },
           "baxis": {
            "gridcolor": "white",
            "linecolor": "white",
            "ticks": ""
           },
           "bgcolor": "#E5ECF6",
           "caxis": {
            "gridcolor": "white",
            "linecolor": "white",
            "ticks": ""
           }
          },
          "title": {
           "x": 0.05
          },
          "xaxis": {
           "automargin": true,
           "gridcolor": "white",
           "linecolor": "white",
           "ticks": "",
           "title": {
            "standoff": 15
           },
           "zerolinecolor": "white",
           "zerolinewidth": 2
          },
          "yaxis": {
           "automargin": true,
           "gridcolor": "white",
           "linecolor": "white",
           "ticks": "",
           "title": {
            "standoff": 15
           },
           "zerolinecolor": "white",
           "zerolinewidth": 2
          }
         }
        },
        "title": {
         "font": {
          "color": "#4D5663"
         }
        },
        "xaxis": {
         "gridcolor": "#E1E5ED",
         "showgrid": true,
         "tickfont": {
          "color": "#4D5663"
         },
         "title": {
          "font": {
           "color": "#4D5663"
          },
          "text": ""
         },
         "zerolinecolor": "#E1E5ED"
        },
        "yaxis": {
         "gridcolor": "#E1E5ED",
         "showgrid": true,
         "tickfont": {
          "color": "#4D5663"
         },
         "title": {
          "font": {
           "color": "#4D5663"
          },
          "text": ""
         },
         "zerolinecolor": "#E1E5ED"
        }
       }
      },
      "text/html": [
       "<div>\n",
       "        \n",
       "        \n",
       "            <div id=\"71b9be6f-2e91-4107-bdf7-629d95de34aa\" class=\"plotly-graph-div\" style=\"height:525px; width:100%;\"></div>\n",
       "            <script type=\"text/javascript\">\n",
       "                require([\"plotly\"], function(Plotly) {\n",
       "                    window.PLOTLYENV=window.PLOTLYENV || {};\n",
       "                    window.PLOTLYENV.BASE_URL='https://plot.ly';\n",
       "                    \n",
       "                if (document.getElementById(\"71b9be6f-2e91-4107-bdf7-629d95de34aa\")) {\n",
       "                    Plotly.newPlot(\n",
       "                        '71b9be6f-2e91-4107-bdf7-629d95de34aa',\n",
       "                        [{\"boxpoints\": false, \"line\": {\"width\": 1.3}, \"marker\": {\"color\": \"rgba(255, 153, 51, 1.0)\"}, \"name\": \"A\", \"orientation\": \"v\", \"type\": \"box\", \"y\": [0.21333712036216956, 0.25665047651329204, 1.9275407354802638, -0.1630088122780753, -0.7096503484216469, 1.1427364761321277, 2.084635310234222, -0.026399085983079537, -1.988420853788765, 0.671292439856992, 0.13993436471277995, 0.7670216335899259, -0.7402054775005389, -1.4399459740799503, -1.2005486697745715, -1.165410327584835, 0.6644248169283439, -0.028756506557073572, 0.2516096398380415, -0.8146789513812929, -0.7224259322456218, -0.781910319181829, 1.7911704476562211, -0.39073082039979745, -1.4352271322521146, 0.3248760858998426, 1.3214965589574204, 0.1523080436319771, 0.2141843572991045, -1.2217631454104891, -0.42887146674778853, -1.0642408721713603, -1.4620971662626352, 1.123140947567761, 0.07443428772796729, 1.216309038820772, -0.020010207442218403, -1.0939099461120412, -0.5902945316229972, -1.6464425979687698, -1.1335630422281875, 0.3685681559789853, 0.9319954006380338, -0.38370523637238346, 0.9729279519725634, 0.6060350277351296, -1.5064314701773505, -0.11686442762806791, -0.04540867924604806, -1.4647848980138103, 1.1033504484307806, -0.7637901184582542, 0.7717287733084981, -0.2250405260743319, -0.3105523373298624, 1.6250414877666595, -0.7154154635129228, -1.0137527586625759, -0.18160091030832878, 0.7278260419848971, -1.4462848221517628, -0.2149209788992766, -0.02736333868677174, -0.4083772190277294, -1.3903448037480677, -0.1421538438592139, -0.7899119363245749, 0.03614779270578574, 1.114018405015867, 0.8338294539917678, -0.5623298737996674, 1.0775148567887205, -0.1301928773075661, -0.2511044988443641, 0.5230267449493876, 1.3212937313584114, 1.483707056566117, 1.9612035531763654, 0.883359642676606, 2.432854412098014, -0.4365300341492609, -1.6526007572122574, -0.1837514310451801, 0.36087956949198857, -0.7012283537323358, -0.5790769597484454, -0.24819410221512403, -1.4940388601122643, 0.16135932479736645, -1.069825539040541, 1.5464357268018578, -0.12075629883590314, -1.6583980247893007, 0.33209734423001075, -2.707552450449217, 0.2128183167584507, 0.6232552740258526, 2.333363703121639, 1.5198415518587358, -0.05955186507850644]}, {\"boxpoints\": false, \"line\": {\"width\": 1.3}, \"marker\": {\"color\": \"rgba(55, 128, 191, 1.0)\"}, \"name\": \"B\", \"orientation\": \"v\", \"type\": \"box\", \"y\": [-0.5864659752162915, -0.18099576406782086, -0.4533136022046553, 0.49710557372620195, 1.2775797802850062, 0.4161083640971835, -0.15143106943229268, -0.365663929736837, -0.6184603732884246, 0.21796399418182116, 1.1186914535310386, 0.44537632979139624, 1.6364822973037336, -0.04862658005502512, 0.6612865209790793, 0.2817057722811247, 0.3749416067021927, 0.2583039295660702, -0.978626727229024, -0.6199393733967932, 0.9606188506658868, 1.356744718143514, -0.8602632844776701, -0.3555113270769093, 0.9375159333038156, 0.6048321925488336, 0.8842081564062255, 0.5511891110238712, -0.47857044081560157, -0.1337811402976441, -1.2853280872014985, -0.5766656318966009, -0.8207314218982654, 0.5116859817080143, -1.0790996442387681, -0.6997609008747314, -0.28766636064296963, -0.6727663805637905, -0.3233231353415504, 0.17623541797795725, 0.8240659051722579, -0.8540606300446177, 0.6122579383495008, -0.590967987543979, -0.41376092638310336, 0.32887420159115527, 0.8729354550960499, -0.33657901953658087, -1.194326742500851, -0.676615903454892, -0.5550205241717774, -2.026510738495248, -0.3457842826648694, -0.38678372767291264, -0.32893633561693986, 0.004363227537524876, -1.0872490370707908, 0.34096840542132634, -0.15103704217598235, 0.5381608357022754, 0.3927957547213143, -1.6835150692954717, -0.92583153055911, 0.6790997638530409, -0.05065503749551706, 0.7471561771513062, 0.7267996918348049, 0.7558737826149488, 0.8669354661789175, -0.5883125097555686, -0.4616782593650259, -0.06828761261811965, 0.1274240043599269, -0.8611087938563126, 0.7295403774089118, 0.6095456146491329, 0.2457565485052304, -0.4527141682680746, -0.9894044423657463, -0.8461865919076168, 1.6160276476471338, -0.44295786995666325, 0.4052525078450415, -0.7725925348432313, -0.9700414649280531, 0.2967877823951404, -0.26132861501848587, 2.7995461162133872, 0.2647627153131342, 1.249817597253992, -0.2987960397363294, -0.5895330281226503, 0.08840494189034458, -0.6442263753616765, 0.23477998923235666, 0.07912771285260012, -0.12988226344729503, -1.594079390394641, -0.14645967846660468, 0.9901201163869056]}, {\"boxpoints\": false, \"line\": {\"width\": 1.3}, \"marker\": {\"color\": \"rgba(50, 171, 96, 1.0)\"}, \"name\": \"C\", \"orientation\": \"v\", \"type\": \"box\", \"y\": [-0.15409386096708147, 0.8731863903000637, 0.7892234402927493, 0.8104639499990842, 0.3739200651156504, 0.888821220095366, 0.03362767723488303, 0.5989285244107289, 0.13755412525304989, -1.6390305495019717, 0.03156173862318914, -0.5093688846160807, -0.6008566424446116, -0.12317881544252014, 0.4511808012432094, 3.5081559410184866, 0.3932663312794171, -2.7005731061790867, -1.4516374491108, 1.2926803054696712, -1.3696166105998864, -0.41692394011220596, -1.8217715916088728, -1.8112911822965128, -0.6763464524393229, -0.5787351173109659, 0.5441589206047204, 2.2298668091051783, 0.4054955369060133, 0.7863272967033614, -0.9206210003566272, 0.02022293557034932, 1.8796833276526392, 0.5565127425788943, 0.5413264199017517, -3.0545468943333245, 0.15135856937298206, -0.28753428909423134, -0.8263658715758724, -0.8745574542510015, -0.732903119694837, 0.42651758063848905, -1.6476116191967374, 0.45084700361094154, -0.11213491533708712, 0.9207075468315324, 0.03813904144214054, -0.12209913448179975, 0.14480028295097216, 0.5121714909419897, 0.10617929864000014, -0.5359453955278299, -0.4783077764537238, 1.0067800020799347, -0.48829641957847364, 1.5129546278103194, -2.437687364959682, -1.146102903981523, -0.17863433651690444, 0.9642421901633967, -1.1630116138330333, 0.17038802493830377, 1.708276022133024, -0.16613334668504778, 0.7785958904004711, -0.6659555819092876, 0.15481733121375887, -0.9863479866899411, -0.05113748152130975, 0.8535927813848629, -0.5073805045570786, -0.4348665185655108, -0.18106117890974505, 0.42676582115642936, -0.7894432165471591, -1.8113467196249016, -2.3441051401090505, 2.1304239386427186, 1.320738126165373, 1.152079038293719, 1.1904985781107802, 0.4544157613361789, -1.8171352879405416, 0.35804111222897833, 0.11011801081236455, -0.462864031093342, 0.13117517241613133, -0.7499674574046394, -1.629894698288106, -0.8109472932064513, -1.3575443921851864, -0.40537507616484114, -0.14328193508824014, 1.3410996826548334, 0.8743039715719515, 0.6046464110944935, -0.29964928784708744, 0.34029517332746817, 0.46810547269470876, -0.589337367290618]}, {\"boxpoints\": false, \"line\": {\"width\": 1.3}, \"marker\": {\"color\": \"rgba(128, 0, 128, 1.0)\"}, \"name\": \"D\", \"orientation\": \"v\", \"type\": \"box\", \"y\": [0.5170055812564315, -0.5864002189861852, 0.08244983973714591, -0.4249887402995753, -0.7160306854644531, -0.0007567718085830301, -0.13476050619792204, -0.5563123457885937, -1.0188671919936263, -0.9617830084121471, -0.14223267942762866, -0.37493259004746815, -0.7785954442579843, 1.7158918762104922, -0.7628362412789231, 1.8540555371403478, -0.186029663166845, -1.511141844016936, -0.8844616732370526, -0.5818267202624393, -1.4688893891001469, -0.6490729798733988, 0.1014274906485541, -0.7060764819863503, 0.7975306199132951, 0.12312442889535842, -0.022118755581018237, -0.14578490786452675, -1.2761250707433514, -0.46018089358985015, -2.049349875582505, 0.13836137428577058, -0.5820157916473553, -1.7425485533246892, 2.0315720187202135, 0.3218726730472288, 0.5001993230041177, -0.8167678712878862, 2.261478282007555, 1.5211683775223057, -1.319704152302807, 0.7054362051143414, 0.029753396393046725, -0.1755613758623475, -0.34486429441646327, 0.21472343867920282, 0.8904992193382669, -0.0615159334096154, -0.5795058531142238, -0.6873115453371869, -0.24517141548305807, 0.5737898188025035, 0.9238048918062784, -1.7218942903205565, 0.9858244243446375, -0.30042840455475106, 1.6418000165020206, -0.02962221022177065, -0.33496033368353584, -1.8115038400226386, 1.6442476106328505, 0.38952126098520407, 0.09731039965134451, -0.7245784140461443, -0.8819142812213432, 0.31724433553107023, -0.6382333460760878, 0.24611183230938485, -1.326124511521306, -0.313135225879092, 1.056092553101489, -1.1140349135110206, -0.38483781251566385, 0.5404548383142044, -0.08459106775322058, -0.19676026252827838, 0.33514203810913606, 0.6394525735929671, -0.7915552193140721, -0.9335472407522618, -0.11880612640628109, 0.747276283078878, 0.7578150408803679, 0.6230302974499802, 2.6908592061496335, -1.2124880728623326, -1.260620082714092, 0.18948207728240185, 0.49459976167799796, 0.9273342996306305, -0.20337634559536946, 1.0268371061484365, 1.4071215557756458, -0.3882949774086078, 1.4612656017408572, -0.1023747320512153, -0.8760565157177523, 0.6870123875868547, -1.4490667003636082, -1.0444997775882212]}],\n",
       "                        {\"legend\": {\"bgcolor\": \"#F5F6F9\", \"font\": {\"color\": \"#4D5663\"}}, \"paper_bgcolor\": \"#F5F6F9\", \"plot_bgcolor\": \"#F5F6F9\", \"template\": {\"data\": {\"bar\": [{\"error_x\": {\"color\": \"#2a3f5f\"}, \"error_y\": {\"color\": \"#2a3f5f\"}, \"marker\": {\"line\": {\"color\": \"#E5ECF6\", \"width\": 0.5}}, \"type\": \"bar\"}], \"barpolar\": [{\"marker\": {\"line\": {\"color\": \"#E5ECF6\", \"width\": 0.5}}, \"type\": \"barpolar\"}], \"carpet\": [{\"aaxis\": {\"endlinecolor\": \"#2a3f5f\", \"gridcolor\": \"white\", \"linecolor\": \"white\", \"minorgridcolor\": \"white\", \"startlinecolor\": \"#2a3f5f\"}, \"baxis\": {\"endlinecolor\": \"#2a3f5f\", \"gridcolor\": \"white\", \"linecolor\": \"white\", \"minorgridcolor\": \"white\", \"startlinecolor\": \"#2a3f5f\"}, \"type\": \"carpet\"}], \"choropleth\": [{\"colorbar\": {\"outlinewidth\": 0, \"ticks\": \"\"}, \"type\": \"choropleth\"}], \"contour\": [{\"colorbar\": {\"outlinewidth\": 0, \"ticks\": \"\"}, \"colorscale\": [[0.0, \"#0d0887\"], [0.1111111111111111, \"#46039f\"], [0.2222222222222222, \"#7201a8\"], [0.3333333333333333, \"#9c179e\"], [0.4444444444444444, \"#bd3786\"], [0.5555555555555556, \"#d8576b\"], [0.6666666666666666, \"#ed7953\"], [0.7777777777777778, \"#fb9f3a\"], [0.8888888888888888, \"#fdca26\"], [1.0, \"#f0f921\"]], \"type\": \"contour\"}], \"contourcarpet\": [{\"colorbar\": {\"outlinewidth\": 0, \"ticks\": \"\"}, \"type\": \"contourcarpet\"}], \"heatmap\": [{\"colorbar\": {\"outlinewidth\": 0, \"ticks\": \"\"}, \"colorscale\": [[0.0, \"#0d0887\"], [0.1111111111111111, \"#46039f\"], [0.2222222222222222, \"#7201a8\"], [0.3333333333333333, \"#9c179e\"], [0.4444444444444444, \"#bd3786\"], [0.5555555555555556, \"#d8576b\"], [0.6666666666666666, \"#ed7953\"], [0.7777777777777778, \"#fb9f3a\"], [0.8888888888888888, \"#fdca26\"], [1.0, \"#f0f921\"]], \"type\": \"heatmap\"}], \"heatmapgl\": [{\"colorbar\": {\"outlinewidth\": 0, \"ticks\": \"\"}, \"colorscale\": [[0.0, \"#0d0887\"], [0.1111111111111111, \"#46039f\"], [0.2222222222222222, \"#7201a8\"], [0.3333333333333333, \"#9c179e\"], [0.4444444444444444, \"#bd3786\"], [0.5555555555555556, \"#d8576b\"], [0.6666666666666666, \"#ed7953\"], [0.7777777777777778, \"#fb9f3a\"], [0.8888888888888888, \"#fdca26\"], [1.0, \"#f0f921\"]], \"type\": \"heatmapgl\"}], \"histogram\": [{\"marker\": {\"colorbar\": {\"outlinewidth\": 0, \"ticks\": \"\"}}, \"type\": \"histogram\"}], \"histogram2d\": [{\"colorbar\": {\"outlinewidth\": 0, \"ticks\": \"\"}, \"colorscale\": [[0.0, \"#0d0887\"], [0.1111111111111111, \"#46039f\"], [0.2222222222222222, \"#7201a8\"], [0.3333333333333333, \"#9c179e\"], [0.4444444444444444, \"#bd3786\"], [0.5555555555555556, \"#d8576b\"], [0.6666666666666666, \"#ed7953\"], [0.7777777777777778, \"#fb9f3a\"], [0.8888888888888888, \"#fdca26\"], [1.0, \"#f0f921\"]], \"type\": \"histogram2d\"}], \"histogram2dcontour\": [{\"colorbar\": {\"outlinewidth\": 0, \"ticks\": \"\"}, \"colorscale\": [[0.0, \"#0d0887\"], [0.1111111111111111, \"#46039f\"], [0.2222222222222222, \"#7201a8\"], [0.3333333333333333, \"#9c179e\"], [0.4444444444444444, \"#bd3786\"], [0.5555555555555556, \"#d8576b\"], [0.6666666666666666, \"#ed7953\"], [0.7777777777777778, \"#fb9f3a\"], [0.8888888888888888, \"#fdca26\"], [1.0, \"#f0f921\"]], \"type\": \"histogram2dcontour\"}], \"mesh3d\": [{\"colorbar\": {\"outlinewidth\": 0, \"ticks\": \"\"}, \"type\": \"mesh3d\"}], \"parcoords\": [{\"line\": {\"colorbar\": {\"outlinewidth\": 0, \"ticks\": \"\"}}, \"type\": \"parcoords\"}], \"pie\": [{\"automargin\": true, \"type\": \"pie\"}], \"scatter\": [{\"marker\": {\"colorbar\": {\"outlinewidth\": 0, \"ticks\": \"\"}}, \"type\": \"scatter\"}], \"scatter3d\": [{\"line\": {\"colorbar\": {\"outlinewidth\": 0, \"ticks\": \"\"}}, \"marker\": {\"colorbar\": {\"outlinewidth\": 0, \"ticks\": \"\"}}, \"type\": \"scatter3d\"}], \"scattercarpet\": [{\"marker\": {\"colorbar\": {\"outlinewidth\": 0, \"ticks\": \"\"}}, \"type\": \"scattercarpet\"}], \"scattergeo\": [{\"marker\": {\"colorbar\": {\"outlinewidth\": 0, \"ticks\": \"\"}}, \"type\": \"scattergeo\"}], \"scattergl\": [{\"marker\": {\"colorbar\": {\"outlinewidth\": 0, \"ticks\": \"\"}}, \"type\": \"scattergl\"}], \"scattermapbox\": [{\"marker\": {\"colorbar\": {\"outlinewidth\": 0, \"ticks\": \"\"}}, \"type\": \"scattermapbox\"}], \"scatterpolar\": [{\"marker\": {\"colorbar\": {\"outlinewidth\": 0, \"ticks\": \"\"}}, \"type\": \"scatterpolar\"}], \"scatterpolargl\": [{\"marker\": {\"colorbar\": {\"outlinewidth\": 0, \"ticks\": \"\"}}, \"type\": \"scatterpolargl\"}], \"scatterternary\": [{\"marker\": {\"colorbar\": {\"outlinewidth\": 0, \"ticks\": \"\"}}, \"type\": \"scatterternary\"}], \"surface\": [{\"colorbar\": {\"outlinewidth\": 0, \"ticks\": \"\"}, \"colorscale\": [[0.0, \"#0d0887\"], [0.1111111111111111, \"#46039f\"], [0.2222222222222222, \"#7201a8\"], [0.3333333333333333, \"#9c179e\"], [0.4444444444444444, \"#bd3786\"], [0.5555555555555556, \"#d8576b\"], [0.6666666666666666, \"#ed7953\"], [0.7777777777777778, \"#fb9f3a\"], [0.8888888888888888, \"#fdca26\"], [1.0, \"#f0f921\"]], \"type\": \"surface\"}], \"table\": [{\"cells\": {\"fill\": {\"color\": \"#EBF0F8\"}, \"line\": {\"color\": \"white\"}}, \"header\": {\"fill\": {\"color\": \"#C8D4E3\"}, \"line\": {\"color\": \"white\"}}, \"type\": \"table\"}]}, \"layout\": {\"annotationdefaults\": {\"arrowcolor\": \"#2a3f5f\", \"arrowhead\": 0, \"arrowwidth\": 1}, \"coloraxis\": {\"colorbar\": {\"outlinewidth\": 0, \"ticks\": \"\"}}, \"colorscale\": {\"diverging\": [[0, \"#8e0152\"], [0.1, \"#c51b7d\"], [0.2, \"#de77ae\"], [0.3, \"#f1b6da\"], [0.4, \"#fde0ef\"], [0.5, \"#f7f7f7\"], [0.6, \"#e6f5d0\"], [0.7, \"#b8e186\"], [0.8, \"#7fbc41\"], [0.9, \"#4d9221\"], [1, \"#276419\"]], \"sequential\": [[0.0, \"#0d0887\"], [0.1111111111111111, \"#46039f\"], [0.2222222222222222, \"#7201a8\"], [0.3333333333333333, \"#9c179e\"], [0.4444444444444444, \"#bd3786\"], [0.5555555555555556, \"#d8576b\"], [0.6666666666666666, \"#ed7953\"], [0.7777777777777778, \"#fb9f3a\"], [0.8888888888888888, \"#fdca26\"], [1.0, \"#f0f921\"]], \"sequentialminus\": [[0.0, \"#0d0887\"], [0.1111111111111111, \"#46039f\"], [0.2222222222222222, \"#7201a8\"], [0.3333333333333333, \"#9c179e\"], [0.4444444444444444, \"#bd3786\"], [0.5555555555555556, \"#d8576b\"], [0.6666666666666666, \"#ed7953\"], [0.7777777777777778, \"#fb9f3a\"], [0.8888888888888888, \"#fdca26\"], [1.0, \"#f0f921\"]]}, \"colorway\": [\"#636efa\", \"#EF553B\", \"#00cc96\", \"#ab63fa\", \"#FFA15A\", \"#19d3f3\", \"#FF6692\", \"#B6E880\", \"#FF97FF\", \"#FECB52\"], \"font\": {\"color\": \"#2a3f5f\"}, \"geo\": {\"bgcolor\": \"white\", \"lakecolor\": \"white\", \"landcolor\": \"#E5ECF6\", \"showlakes\": true, \"showland\": true, \"subunitcolor\": \"white\"}, \"hoverlabel\": {\"align\": \"left\"}, \"hovermode\": \"closest\", \"mapbox\": {\"style\": \"light\"}, \"paper_bgcolor\": \"white\", \"plot_bgcolor\": \"#E5ECF6\", \"polar\": {\"angularaxis\": {\"gridcolor\": \"white\", \"linecolor\": \"white\", \"ticks\": \"\"}, \"bgcolor\": \"#E5ECF6\", \"radialaxis\": {\"gridcolor\": \"white\", \"linecolor\": \"white\", \"ticks\": \"\"}}, \"scene\": {\"xaxis\": {\"backgroundcolor\": \"#E5ECF6\", \"gridcolor\": \"white\", \"gridwidth\": 2, \"linecolor\": \"white\", \"showbackground\": true, \"ticks\": \"\", \"zerolinecolor\": \"white\"}, \"yaxis\": {\"backgroundcolor\": \"#E5ECF6\", \"gridcolor\": \"white\", \"gridwidth\": 2, \"linecolor\": \"white\", \"showbackground\": true, \"ticks\": \"\", \"zerolinecolor\": \"white\"}, \"zaxis\": {\"backgroundcolor\": \"#E5ECF6\", \"gridcolor\": \"white\", \"gridwidth\": 2, \"linecolor\": \"white\", \"showbackground\": true, \"ticks\": \"\", \"zerolinecolor\": \"white\"}}, \"shapedefaults\": {\"line\": {\"color\": \"#2a3f5f\"}}, \"ternary\": {\"aaxis\": {\"gridcolor\": \"white\", \"linecolor\": \"white\", \"ticks\": \"\"}, \"baxis\": {\"gridcolor\": \"white\", \"linecolor\": \"white\", \"ticks\": \"\"}, \"bgcolor\": \"#E5ECF6\", \"caxis\": {\"gridcolor\": \"white\", \"linecolor\": \"white\", \"ticks\": \"\"}}, \"title\": {\"x\": 0.05}, \"xaxis\": {\"automargin\": true, \"gridcolor\": \"white\", \"linecolor\": \"white\", \"ticks\": \"\", \"title\": {\"standoff\": 15}, \"zerolinecolor\": \"white\", \"zerolinewidth\": 2}, \"yaxis\": {\"automargin\": true, \"gridcolor\": \"white\", \"linecolor\": \"white\", \"ticks\": \"\", \"title\": {\"standoff\": 15}, \"zerolinecolor\": \"white\", \"zerolinewidth\": 2}}}, \"title\": {\"font\": {\"color\": \"#4D5663\"}}, \"xaxis\": {\"gridcolor\": \"#E1E5ED\", \"showgrid\": true, \"tickfont\": {\"color\": \"#4D5663\"}, \"title\": {\"font\": {\"color\": \"#4D5663\"}, \"text\": \"\"}, \"zerolinecolor\": \"#E1E5ED\"}, \"yaxis\": {\"gridcolor\": \"#E1E5ED\", \"showgrid\": true, \"tickfont\": {\"color\": \"#4D5663\"}, \"title\": {\"font\": {\"color\": \"#4D5663\"}, \"text\": \"\"}, \"zerolinecolor\": \"#E1E5ED\"}},\n",
       "                        {\"showLink\": true, \"linkText\": \"Export to plot.ly\", \"plotlyServerURL\": \"https://plot.ly\", \"responsive\": true}\n",
       "                    ).then(function(){\n",
       "                            \n",
       "var gd = document.getElementById('71b9be6f-2e91-4107-bdf7-629d95de34aa');\n",
       "var x = new MutationObserver(function (mutations, observer) {{\n",
       "        var display = window.getComputedStyle(gd).display;\n",
       "        if (!display || display === 'none') {{\n",
       "            console.log([gd, 'removed!']);\n",
       "            Plotly.purge(gd);\n",
       "            observer.disconnect();\n",
       "        }}\n",
       "}});\n",
       "\n",
       "// Listen for the removal of the full notebook cells\n",
       "var notebookContainer = gd.closest('#notebook-container');\n",
       "if (notebookContainer) {{\n",
       "    x.observe(notebookContainer, {childList: true});\n",
       "}}\n",
       "\n",
       "// Listen for the clearing of the current output cell\n",
       "var outputEl = gd.closest('.output');\n",
       "if (outputEl) {{\n",
       "    x.observe(outputEl, {childList: true});\n",
       "}}\n",
       "\n",
       "                        })\n",
       "                };\n",
       "                });\n",
       "            </script>\n",
       "        </div>"
      ]
     },
     "metadata": {},
     "output_type": "display_data"
    }
   ],
   "source": [
    "df.iplot(kind='box')"
   ]
  },
  {
   "cell_type": "markdown",
   "metadata": {},
   "source": [
    "## 3d Surface"
   ]
  },
  {
   "cell_type": "code",
   "execution_count": 16,
   "metadata": {
    "scrolled": false
   },
   "outputs": [
    {
     "data": {
      "application/vnd.plotly.v1+json": {
       "config": {
        "linkText": "Export to plot.ly",
        "plotlyServerURL": "https://plot.ly",
        "showLink": true
       },
       "data": [
        {
         "colorscale": [
          [
           0,
           "rgb(165,0,38)"
          ],
          [
           0.1,
           "rgb(215,48,39)"
          ],
          [
           0.2,
           "rgb(244,109,67)"
          ],
          [
           0.3,
           "rgb(253,174,97)"
          ],
          [
           0.4,
           "rgb(254,224,144)"
          ],
          [
           0.5,
           "rgb(255,255,191)"
          ],
          [
           0.6,
           "rgb(224,243,248)"
          ],
          [
           0.7,
           "rgb(171,217,233)"
          ],
          [
           0.8,
           "rgb(116,173,209)"
          ],
          [
           0.9,
           "rgb(69,117,180)"
          ],
          [
           1,
           "rgb(49,54,149)"
          ]
         ],
         "type": "surface",
         "x": [
          0,
          1,
          2,
          3,
          4
         ],
         "y": [
          "x",
          "y",
          "z"
         ],
         "z": [
          [
           1,
           2,
           3,
           4,
           5
          ],
          [
           10,
           20,
           30,
           20,
           10
          ],
          [
           5,
           4,
           3,
           2,
           1
          ]
         ]
        }
       ],
       "layout": {
        "legend": {
         "bgcolor": "#F5F6F9",
         "font": {
          "color": "#4D5663"
         }
        },
        "paper_bgcolor": "#F5F6F9",
        "plot_bgcolor": "#F5F6F9",
        "template": {
         "data": {
          "bar": [
           {
            "error_x": {
             "color": "#2a3f5f"
            },
            "error_y": {
             "color": "#2a3f5f"
            },
            "marker": {
             "line": {
              "color": "#E5ECF6",
              "width": 0.5
             }
            },
            "type": "bar"
           }
          ],
          "barpolar": [
           {
            "marker": {
             "line": {
              "color": "#E5ECF6",
              "width": 0.5
             }
            },
            "type": "barpolar"
           }
          ],
          "carpet": [
           {
            "aaxis": {
             "endlinecolor": "#2a3f5f",
             "gridcolor": "white",
             "linecolor": "white",
             "minorgridcolor": "white",
             "startlinecolor": "#2a3f5f"
            },
            "baxis": {
             "endlinecolor": "#2a3f5f",
             "gridcolor": "white",
             "linecolor": "white",
             "minorgridcolor": "white",
             "startlinecolor": "#2a3f5f"
            },
            "type": "carpet"
           }
          ],
          "choropleth": [
           {
            "colorbar": {
             "outlinewidth": 0,
             "ticks": ""
            },
            "type": "choropleth"
           }
          ],
          "contour": [
           {
            "colorbar": {
             "outlinewidth": 0,
             "ticks": ""
            },
            "colorscale": [
             [
              0,
              "#0d0887"
             ],
             [
              0.1111111111111111,
              "#46039f"
             ],
             [
              0.2222222222222222,
              "#7201a8"
             ],
             [
              0.3333333333333333,
              "#9c179e"
             ],
             [
              0.4444444444444444,
              "#bd3786"
             ],
             [
              0.5555555555555556,
              "#d8576b"
             ],
             [
              0.6666666666666666,
              "#ed7953"
             ],
             [
              0.7777777777777778,
              "#fb9f3a"
             ],
             [
              0.8888888888888888,
              "#fdca26"
             ],
             [
              1,
              "#f0f921"
             ]
            ],
            "type": "contour"
           }
          ],
          "contourcarpet": [
           {
            "colorbar": {
             "outlinewidth": 0,
             "ticks": ""
            },
            "type": "contourcarpet"
           }
          ],
          "heatmap": [
           {
            "colorbar": {
             "outlinewidth": 0,
             "ticks": ""
            },
            "colorscale": [
             [
              0,
              "#0d0887"
             ],
             [
              0.1111111111111111,
              "#46039f"
             ],
             [
              0.2222222222222222,
              "#7201a8"
             ],
             [
              0.3333333333333333,
              "#9c179e"
             ],
             [
              0.4444444444444444,
              "#bd3786"
             ],
             [
              0.5555555555555556,
              "#d8576b"
             ],
             [
              0.6666666666666666,
              "#ed7953"
             ],
             [
              0.7777777777777778,
              "#fb9f3a"
             ],
             [
              0.8888888888888888,
              "#fdca26"
             ],
             [
              1,
              "#f0f921"
             ]
            ],
            "type": "heatmap"
           }
          ],
          "heatmapgl": [
           {
            "colorbar": {
             "outlinewidth": 0,
             "ticks": ""
            },
            "colorscale": [
             [
              0,
              "#0d0887"
             ],
             [
              0.1111111111111111,
              "#46039f"
             ],
             [
              0.2222222222222222,
              "#7201a8"
             ],
             [
              0.3333333333333333,
              "#9c179e"
             ],
             [
              0.4444444444444444,
              "#bd3786"
             ],
             [
              0.5555555555555556,
              "#d8576b"
             ],
             [
              0.6666666666666666,
              "#ed7953"
             ],
             [
              0.7777777777777778,
              "#fb9f3a"
             ],
             [
              0.8888888888888888,
              "#fdca26"
             ],
             [
              1,
              "#f0f921"
             ]
            ],
            "type": "heatmapgl"
           }
          ],
          "histogram": [
           {
            "marker": {
             "colorbar": {
              "outlinewidth": 0,
              "ticks": ""
             }
            },
            "type": "histogram"
           }
          ],
          "histogram2d": [
           {
            "colorbar": {
             "outlinewidth": 0,
             "ticks": ""
            },
            "colorscale": [
             [
              0,
              "#0d0887"
             ],
             [
              0.1111111111111111,
              "#46039f"
             ],
             [
              0.2222222222222222,
              "#7201a8"
             ],
             [
              0.3333333333333333,
              "#9c179e"
             ],
             [
              0.4444444444444444,
              "#bd3786"
             ],
             [
              0.5555555555555556,
              "#d8576b"
             ],
             [
              0.6666666666666666,
              "#ed7953"
             ],
             [
              0.7777777777777778,
              "#fb9f3a"
             ],
             [
              0.8888888888888888,
              "#fdca26"
             ],
             [
              1,
              "#f0f921"
             ]
            ],
            "type": "histogram2d"
           }
          ],
          "histogram2dcontour": [
           {
            "colorbar": {
             "outlinewidth": 0,
             "ticks": ""
            },
            "colorscale": [
             [
              0,
              "#0d0887"
             ],
             [
              0.1111111111111111,
              "#46039f"
             ],
             [
              0.2222222222222222,
              "#7201a8"
             ],
             [
              0.3333333333333333,
              "#9c179e"
             ],
             [
              0.4444444444444444,
              "#bd3786"
             ],
             [
              0.5555555555555556,
              "#d8576b"
             ],
             [
              0.6666666666666666,
              "#ed7953"
             ],
             [
              0.7777777777777778,
              "#fb9f3a"
             ],
             [
              0.8888888888888888,
              "#fdca26"
             ],
             [
              1,
              "#f0f921"
             ]
            ],
            "type": "histogram2dcontour"
           }
          ],
          "mesh3d": [
           {
            "colorbar": {
             "outlinewidth": 0,
             "ticks": ""
            },
            "type": "mesh3d"
           }
          ],
          "parcoords": [
           {
            "line": {
             "colorbar": {
              "outlinewidth": 0,
              "ticks": ""
             }
            },
            "type": "parcoords"
           }
          ],
          "pie": [
           {
            "automargin": true,
            "type": "pie"
           }
          ],
          "scatter": [
           {
            "marker": {
             "colorbar": {
              "outlinewidth": 0,
              "ticks": ""
             }
            },
            "type": "scatter"
           }
          ],
          "scatter3d": [
           {
            "line": {
             "colorbar": {
              "outlinewidth": 0,
              "ticks": ""
             }
            },
            "marker": {
             "colorbar": {
              "outlinewidth": 0,
              "ticks": ""
             }
            },
            "type": "scatter3d"
           }
          ],
          "scattercarpet": [
           {
            "marker": {
             "colorbar": {
              "outlinewidth": 0,
              "ticks": ""
             }
            },
            "type": "scattercarpet"
           }
          ],
          "scattergeo": [
           {
            "marker": {
             "colorbar": {
              "outlinewidth": 0,
              "ticks": ""
             }
            },
            "type": "scattergeo"
           }
          ],
          "scattergl": [
           {
            "marker": {
             "colorbar": {
              "outlinewidth": 0,
              "ticks": ""
             }
            },
            "type": "scattergl"
           }
          ],
          "scattermapbox": [
           {
            "marker": {
             "colorbar": {
              "outlinewidth": 0,
              "ticks": ""
             }
            },
            "type": "scattermapbox"
           }
          ],
          "scatterpolar": [
           {
            "marker": {
             "colorbar": {
              "outlinewidth": 0,
              "ticks": ""
             }
            },
            "type": "scatterpolar"
           }
          ],
          "scatterpolargl": [
           {
            "marker": {
             "colorbar": {
              "outlinewidth": 0,
              "ticks": ""
             }
            },
            "type": "scatterpolargl"
           }
          ],
          "scatterternary": [
           {
            "marker": {
             "colorbar": {
              "outlinewidth": 0,
              "ticks": ""
             }
            },
            "type": "scatterternary"
           }
          ],
          "surface": [
           {
            "colorbar": {
             "outlinewidth": 0,
             "ticks": ""
            },
            "colorscale": [
             [
              0,
              "#0d0887"
             ],
             [
              0.1111111111111111,
              "#46039f"
             ],
             [
              0.2222222222222222,
              "#7201a8"
             ],
             [
              0.3333333333333333,
              "#9c179e"
             ],
             [
              0.4444444444444444,
              "#bd3786"
             ],
             [
              0.5555555555555556,
              "#d8576b"
             ],
             [
              0.6666666666666666,
              "#ed7953"
             ],
             [
              0.7777777777777778,
              "#fb9f3a"
             ],
             [
              0.8888888888888888,
              "#fdca26"
             ],
             [
              1,
              "#f0f921"
             ]
            ],
            "type": "surface"
           }
          ],
          "table": [
           {
            "cells": {
             "fill": {
              "color": "#EBF0F8"
             },
             "line": {
              "color": "white"
             }
            },
            "header": {
             "fill": {
              "color": "#C8D4E3"
             },
             "line": {
              "color": "white"
             }
            },
            "type": "table"
           }
          ]
         },
         "layout": {
          "annotationdefaults": {
           "arrowcolor": "#2a3f5f",
           "arrowhead": 0,
           "arrowwidth": 1
          },
          "coloraxis": {
           "colorbar": {
            "outlinewidth": 0,
            "ticks": ""
           }
          },
          "colorscale": {
           "diverging": [
            [
             0,
             "#8e0152"
            ],
            [
             0.1,
             "#c51b7d"
            ],
            [
             0.2,
             "#de77ae"
            ],
            [
             0.3,
             "#f1b6da"
            ],
            [
             0.4,
             "#fde0ef"
            ],
            [
             0.5,
             "#f7f7f7"
            ],
            [
             0.6,
             "#e6f5d0"
            ],
            [
             0.7,
             "#b8e186"
            ],
            [
             0.8,
             "#7fbc41"
            ],
            [
             0.9,
             "#4d9221"
            ],
            [
             1,
             "#276419"
            ]
           ],
           "sequential": [
            [
             0,
             "#0d0887"
            ],
            [
             0.1111111111111111,
             "#46039f"
            ],
            [
             0.2222222222222222,
             "#7201a8"
            ],
            [
             0.3333333333333333,
             "#9c179e"
            ],
            [
             0.4444444444444444,
             "#bd3786"
            ],
            [
             0.5555555555555556,
             "#d8576b"
            ],
            [
             0.6666666666666666,
             "#ed7953"
            ],
            [
             0.7777777777777778,
             "#fb9f3a"
            ],
            [
             0.8888888888888888,
             "#fdca26"
            ],
            [
             1,
             "#f0f921"
            ]
           ],
           "sequentialminus": [
            [
             0,
             "#0d0887"
            ],
            [
             0.1111111111111111,
             "#46039f"
            ],
            [
             0.2222222222222222,
             "#7201a8"
            ],
            [
             0.3333333333333333,
             "#9c179e"
            ],
            [
             0.4444444444444444,
             "#bd3786"
            ],
            [
             0.5555555555555556,
             "#d8576b"
            ],
            [
             0.6666666666666666,
             "#ed7953"
            ],
            [
             0.7777777777777778,
             "#fb9f3a"
            ],
            [
             0.8888888888888888,
             "#fdca26"
            ],
            [
             1,
             "#f0f921"
            ]
           ]
          },
          "colorway": [
           "#636efa",
           "#EF553B",
           "#00cc96",
           "#ab63fa",
           "#FFA15A",
           "#19d3f3",
           "#FF6692",
           "#B6E880",
           "#FF97FF",
           "#FECB52"
          ],
          "font": {
           "color": "#2a3f5f"
          },
          "geo": {
           "bgcolor": "white",
           "lakecolor": "white",
           "landcolor": "#E5ECF6",
           "showlakes": true,
           "showland": true,
           "subunitcolor": "white"
          },
          "hoverlabel": {
           "align": "left"
          },
          "hovermode": "closest",
          "mapbox": {
           "style": "light"
          },
          "paper_bgcolor": "white",
          "plot_bgcolor": "#E5ECF6",
          "polar": {
           "angularaxis": {
            "gridcolor": "white",
            "linecolor": "white",
            "ticks": ""
           },
           "bgcolor": "#E5ECF6",
           "radialaxis": {
            "gridcolor": "white",
            "linecolor": "white",
            "ticks": ""
           }
          },
          "scene": {
           "xaxis": {
            "backgroundcolor": "#E5ECF6",
            "gridcolor": "white",
            "gridwidth": 2,
            "linecolor": "white",
            "showbackground": true,
            "ticks": "",
            "zerolinecolor": "white"
           },
           "yaxis": {
            "backgroundcolor": "#E5ECF6",
            "gridcolor": "white",
            "gridwidth": 2,
            "linecolor": "white",
            "showbackground": true,
            "ticks": "",
            "zerolinecolor": "white"
           },
           "zaxis": {
            "backgroundcolor": "#E5ECF6",
            "gridcolor": "white",
            "gridwidth": 2,
            "linecolor": "white",
            "showbackground": true,
            "ticks": "",
            "zerolinecolor": "white"
           }
          },
          "shapedefaults": {
           "line": {
            "color": "#2a3f5f"
           }
          },
          "ternary": {
           "aaxis": {
            "gridcolor": "white",
            "linecolor": "white",
            "ticks": ""
           },
           "baxis": {
            "gridcolor": "white",
            "linecolor": "white",
            "ticks": ""
           },
           "bgcolor": "#E5ECF6",
           "caxis": {
            "gridcolor": "white",
            "linecolor": "white",
            "ticks": ""
           }
          },
          "title": {
           "x": 0.05
          },
          "xaxis": {
           "automargin": true,
           "gridcolor": "white",
           "linecolor": "white",
           "ticks": "",
           "title": {
            "standoff": 15
           },
           "zerolinecolor": "white",
           "zerolinewidth": 2
          },
          "yaxis": {
           "automargin": true,
           "gridcolor": "white",
           "linecolor": "white",
           "ticks": "",
           "title": {
            "standoff": 15
           },
           "zerolinecolor": "white",
           "zerolinewidth": 2
          }
         }
        },
        "title": {
         "font": {
          "color": "#4D5663"
         }
        },
        "xaxis": {
         "gridcolor": "#E1E5ED",
         "showgrid": true,
         "tickfont": {
          "color": "#4D5663"
         },
         "title": {
          "font": {
           "color": "#4D5663"
          },
          "text": ""
         },
         "zerolinecolor": "#E1E5ED"
        },
        "yaxis": {
         "gridcolor": "#E1E5ED",
         "showgrid": true,
         "tickfont": {
          "color": "#4D5663"
         },
         "title": {
          "font": {
           "color": "#4D5663"
          },
          "text": ""
         },
         "zerolinecolor": "#E1E5ED"
        }
       }
      },
      "text/html": [
       "<div>\n",
       "        \n",
       "        \n",
       "            <div id=\"fe7a6c93-bcd8-4699-a206-8116feeb2c6a\" class=\"plotly-graph-div\" style=\"height:525px; width:100%;\"></div>\n",
       "            <script type=\"text/javascript\">\n",
       "                require([\"plotly\"], function(Plotly) {\n",
       "                    window.PLOTLYENV=window.PLOTLYENV || {};\n",
       "                    window.PLOTLYENV.BASE_URL='https://plot.ly';\n",
       "                    \n",
       "                if (document.getElementById(\"fe7a6c93-bcd8-4699-a206-8116feeb2c6a\")) {\n",
       "                    Plotly.newPlot(\n",
       "                        'fe7a6c93-bcd8-4699-a206-8116feeb2c6a',\n",
       "                        [{\"colorscale\": [[0.0, \"rgb(165,0,38)\"], [0.1, \"rgb(215,48,39)\"], [0.2, \"rgb(244,109,67)\"], [0.3, \"rgb(253,174,97)\"], [0.4, \"rgb(254,224,144)\"], [0.5, \"rgb(255,255,191)\"], [0.6, \"rgb(224,243,248)\"], [0.7, \"rgb(171,217,233)\"], [0.8, \"rgb(116,173,209)\"], [0.9, \"rgb(69,117,180)\"], [1.0, \"rgb(49,54,149)\"]], \"type\": \"surface\", \"x\": [0, 1, 2, 3, 4], \"y\": [\"x\", \"y\", \"z\"], \"z\": [[1, 2, 3, 4, 5], [10, 20, 30, 20, 10], [5, 4, 3, 2, 1]]}],\n",
       "                        {\"legend\": {\"bgcolor\": \"#F5F6F9\", \"font\": {\"color\": \"#4D5663\"}}, \"paper_bgcolor\": \"#F5F6F9\", \"plot_bgcolor\": \"#F5F6F9\", \"template\": {\"data\": {\"bar\": [{\"error_x\": {\"color\": \"#2a3f5f\"}, \"error_y\": {\"color\": \"#2a3f5f\"}, \"marker\": {\"line\": {\"color\": \"#E5ECF6\", \"width\": 0.5}}, \"type\": \"bar\"}], \"barpolar\": [{\"marker\": {\"line\": {\"color\": \"#E5ECF6\", \"width\": 0.5}}, \"type\": \"barpolar\"}], \"carpet\": [{\"aaxis\": {\"endlinecolor\": \"#2a3f5f\", \"gridcolor\": \"white\", \"linecolor\": \"white\", \"minorgridcolor\": \"white\", \"startlinecolor\": \"#2a3f5f\"}, \"baxis\": {\"endlinecolor\": \"#2a3f5f\", \"gridcolor\": \"white\", \"linecolor\": \"white\", \"minorgridcolor\": \"white\", \"startlinecolor\": \"#2a3f5f\"}, \"type\": \"carpet\"}], \"choropleth\": [{\"colorbar\": {\"outlinewidth\": 0, \"ticks\": \"\"}, \"type\": \"choropleth\"}], \"contour\": [{\"colorbar\": {\"outlinewidth\": 0, \"ticks\": \"\"}, \"colorscale\": [[0.0, \"#0d0887\"], [0.1111111111111111, \"#46039f\"], [0.2222222222222222, \"#7201a8\"], [0.3333333333333333, \"#9c179e\"], [0.4444444444444444, \"#bd3786\"], [0.5555555555555556, \"#d8576b\"], [0.6666666666666666, \"#ed7953\"], [0.7777777777777778, \"#fb9f3a\"], [0.8888888888888888, \"#fdca26\"], [1.0, \"#f0f921\"]], \"type\": \"contour\"}], \"contourcarpet\": [{\"colorbar\": {\"outlinewidth\": 0, \"ticks\": \"\"}, \"type\": \"contourcarpet\"}], \"heatmap\": [{\"colorbar\": {\"outlinewidth\": 0, \"ticks\": \"\"}, \"colorscale\": [[0.0, \"#0d0887\"], [0.1111111111111111, \"#46039f\"], [0.2222222222222222, \"#7201a8\"], [0.3333333333333333, \"#9c179e\"], [0.4444444444444444, \"#bd3786\"], [0.5555555555555556, \"#d8576b\"], [0.6666666666666666, \"#ed7953\"], [0.7777777777777778, \"#fb9f3a\"], [0.8888888888888888, \"#fdca26\"], [1.0, \"#f0f921\"]], \"type\": \"heatmap\"}], \"heatmapgl\": [{\"colorbar\": {\"outlinewidth\": 0, \"ticks\": \"\"}, \"colorscale\": [[0.0, \"#0d0887\"], [0.1111111111111111, \"#46039f\"], [0.2222222222222222, \"#7201a8\"], [0.3333333333333333, \"#9c179e\"], [0.4444444444444444, \"#bd3786\"], [0.5555555555555556, \"#d8576b\"], [0.6666666666666666, \"#ed7953\"], [0.7777777777777778, \"#fb9f3a\"], [0.8888888888888888, \"#fdca26\"], [1.0, \"#f0f921\"]], \"type\": \"heatmapgl\"}], \"histogram\": [{\"marker\": {\"colorbar\": {\"outlinewidth\": 0, \"ticks\": \"\"}}, \"type\": \"histogram\"}], \"histogram2d\": [{\"colorbar\": {\"outlinewidth\": 0, \"ticks\": \"\"}, \"colorscale\": [[0.0, \"#0d0887\"], [0.1111111111111111, \"#46039f\"], [0.2222222222222222, \"#7201a8\"], [0.3333333333333333, \"#9c179e\"], [0.4444444444444444, \"#bd3786\"], [0.5555555555555556, \"#d8576b\"], [0.6666666666666666, \"#ed7953\"], [0.7777777777777778, \"#fb9f3a\"], [0.8888888888888888, \"#fdca26\"], [1.0, \"#f0f921\"]], \"type\": \"histogram2d\"}], \"histogram2dcontour\": [{\"colorbar\": {\"outlinewidth\": 0, \"ticks\": \"\"}, \"colorscale\": [[0.0, \"#0d0887\"], [0.1111111111111111, \"#46039f\"], [0.2222222222222222, \"#7201a8\"], [0.3333333333333333, \"#9c179e\"], [0.4444444444444444, \"#bd3786\"], [0.5555555555555556, \"#d8576b\"], [0.6666666666666666, \"#ed7953\"], [0.7777777777777778, \"#fb9f3a\"], [0.8888888888888888, \"#fdca26\"], [1.0, \"#f0f921\"]], \"type\": \"histogram2dcontour\"}], \"mesh3d\": [{\"colorbar\": {\"outlinewidth\": 0, \"ticks\": \"\"}, \"type\": \"mesh3d\"}], \"parcoords\": [{\"line\": {\"colorbar\": {\"outlinewidth\": 0, \"ticks\": \"\"}}, \"type\": \"parcoords\"}], \"pie\": [{\"automargin\": true, \"type\": \"pie\"}], \"scatter\": [{\"marker\": {\"colorbar\": {\"outlinewidth\": 0, \"ticks\": \"\"}}, \"type\": \"scatter\"}], \"scatter3d\": [{\"line\": {\"colorbar\": {\"outlinewidth\": 0, \"ticks\": \"\"}}, \"marker\": {\"colorbar\": {\"outlinewidth\": 0, \"ticks\": \"\"}}, \"type\": \"scatter3d\"}], \"scattercarpet\": [{\"marker\": {\"colorbar\": {\"outlinewidth\": 0, \"ticks\": \"\"}}, \"type\": \"scattercarpet\"}], \"scattergeo\": [{\"marker\": {\"colorbar\": {\"outlinewidth\": 0, \"ticks\": \"\"}}, \"type\": \"scattergeo\"}], \"scattergl\": [{\"marker\": {\"colorbar\": {\"outlinewidth\": 0, \"ticks\": \"\"}}, \"type\": \"scattergl\"}], \"scattermapbox\": [{\"marker\": {\"colorbar\": {\"outlinewidth\": 0, \"ticks\": \"\"}}, \"type\": \"scattermapbox\"}], \"scatterpolar\": [{\"marker\": {\"colorbar\": {\"outlinewidth\": 0, \"ticks\": \"\"}}, \"type\": \"scatterpolar\"}], \"scatterpolargl\": [{\"marker\": {\"colorbar\": {\"outlinewidth\": 0, \"ticks\": \"\"}}, \"type\": \"scatterpolargl\"}], \"scatterternary\": [{\"marker\": {\"colorbar\": {\"outlinewidth\": 0, \"ticks\": \"\"}}, \"type\": \"scatterternary\"}], \"surface\": [{\"colorbar\": {\"outlinewidth\": 0, \"ticks\": \"\"}, \"colorscale\": [[0.0, \"#0d0887\"], [0.1111111111111111, \"#46039f\"], [0.2222222222222222, \"#7201a8\"], [0.3333333333333333, \"#9c179e\"], [0.4444444444444444, \"#bd3786\"], [0.5555555555555556, \"#d8576b\"], [0.6666666666666666, \"#ed7953\"], [0.7777777777777778, \"#fb9f3a\"], [0.8888888888888888, \"#fdca26\"], [1.0, \"#f0f921\"]], \"type\": \"surface\"}], \"table\": [{\"cells\": {\"fill\": {\"color\": \"#EBF0F8\"}, \"line\": {\"color\": \"white\"}}, \"header\": {\"fill\": {\"color\": \"#C8D4E3\"}, \"line\": {\"color\": \"white\"}}, \"type\": \"table\"}]}, \"layout\": {\"annotationdefaults\": {\"arrowcolor\": \"#2a3f5f\", \"arrowhead\": 0, \"arrowwidth\": 1}, \"coloraxis\": {\"colorbar\": {\"outlinewidth\": 0, \"ticks\": \"\"}}, \"colorscale\": {\"diverging\": [[0, \"#8e0152\"], [0.1, \"#c51b7d\"], [0.2, \"#de77ae\"], [0.3, \"#f1b6da\"], [0.4, \"#fde0ef\"], [0.5, \"#f7f7f7\"], [0.6, \"#e6f5d0\"], [0.7, \"#b8e186\"], [0.8, \"#7fbc41\"], [0.9, \"#4d9221\"], [1, \"#276419\"]], \"sequential\": [[0.0, \"#0d0887\"], [0.1111111111111111, \"#46039f\"], [0.2222222222222222, \"#7201a8\"], [0.3333333333333333, \"#9c179e\"], [0.4444444444444444, \"#bd3786\"], [0.5555555555555556, \"#d8576b\"], [0.6666666666666666, \"#ed7953\"], [0.7777777777777778, \"#fb9f3a\"], [0.8888888888888888, \"#fdca26\"], [1.0, \"#f0f921\"]], \"sequentialminus\": [[0.0, \"#0d0887\"], [0.1111111111111111, \"#46039f\"], [0.2222222222222222, \"#7201a8\"], [0.3333333333333333, \"#9c179e\"], [0.4444444444444444, \"#bd3786\"], [0.5555555555555556, \"#d8576b\"], [0.6666666666666666, \"#ed7953\"], [0.7777777777777778, \"#fb9f3a\"], [0.8888888888888888, \"#fdca26\"], [1.0, \"#f0f921\"]]}, \"colorway\": [\"#636efa\", \"#EF553B\", \"#00cc96\", \"#ab63fa\", \"#FFA15A\", \"#19d3f3\", \"#FF6692\", \"#B6E880\", \"#FF97FF\", \"#FECB52\"], \"font\": {\"color\": \"#2a3f5f\"}, \"geo\": {\"bgcolor\": \"white\", \"lakecolor\": \"white\", \"landcolor\": \"#E5ECF6\", \"showlakes\": true, \"showland\": true, \"subunitcolor\": \"white\"}, \"hoverlabel\": {\"align\": \"left\"}, \"hovermode\": \"closest\", \"mapbox\": {\"style\": \"light\"}, \"paper_bgcolor\": \"white\", \"plot_bgcolor\": \"#E5ECF6\", \"polar\": {\"angularaxis\": {\"gridcolor\": \"white\", \"linecolor\": \"white\", \"ticks\": \"\"}, \"bgcolor\": \"#E5ECF6\", \"radialaxis\": {\"gridcolor\": \"white\", \"linecolor\": \"white\", \"ticks\": \"\"}}, \"scene\": {\"xaxis\": {\"backgroundcolor\": \"#E5ECF6\", \"gridcolor\": \"white\", \"gridwidth\": 2, \"linecolor\": \"white\", \"showbackground\": true, \"ticks\": \"\", \"zerolinecolor\": \"white\"}, \"yaxis\": {\"backgroundcolor\": \"#E5ECF6\", \"gridcolor\": \"white\", \"gridwidth\": 2, \"linecolor\": \"white\", \"showbackground\": true, \"ticks\": \"\", \"zerolinecolor\": \"white\"}, \"zaxis\": {\"backgroundcolor\": \"#E5ECF6\", \"gridcolor\": \"white\", \"gridwidth\": 2, \"linecolor\": \"white\", \"showbackground\": true, \"ticks\": \"\", \"zerolinecolor\": \"white\"}}, \"shapedefaults\": {\"line\": {\"color\": \"#2a3f5f\"}}, \"ternary\": {\"aaxis\": {\"gridcolor\": \"white\", \"linecolor\": \"white\", \"ticks\": \"\"}, \"baxis\": {\"gridcolor\": \"white\", \"linecolor\": \"white\", \"ticks\": \"\"}, \"bgcolor\": \"#E5ECF6\", \"caxis\": {\"gridcolor\": \"white\", \"linecolor\": \"white\", \"ticks\": \"\"}}, \"title\": {\"x\": 0.05}, \"xaxis\": {\"automargin\": true, \"gridcolor\": \"white\", \"linecolor\": \"white\", \"ticks\": \"\", \"title\": {\"standoff\": 15}, \"zerolinecolor\": \"white\", \"zerolinewidth\": 2}, \"yaxis\": {\"automargin\": true, \"gridcolor\": \"white\", \"linecolor\": \"white\", \"ticks\": \"\", \"title\": {\"standoff\": 15}, \"zerolinecolor\": \"white\", \"zerolinewidth\": 2}}}, \"title\": {\"font\": {\"color\": \"#4D5663\"}}, \"xaxis\": {\"gridcolor\": \"#E1E5ED\", \"showgrid\": true, \"tickfont\": {\"color\": \"#4D5663\"}, \"title\": {\"font\": {\"color\": \"#4D5663\"}, \"text\": \"\"}, \"zerolinecolor\": \"#E1E5ED\"}, \"yaxis\": {\"gridcolor\": \"#E1E5ED\", \"showgrid\": true, \"tickfont\": {\"color\": \"#4D5663\"}, \"title\": {\"font\": {\"color\": \"#4D5663\"}, \"text\": \"\"}, \"zerolinecolor\": \"#E1E5ED\"}},\n",
       "                        {\"showLink\": true, \"linkText\": \"Export to plot.ly\", \"plotlyServerURL\": \"https://plot.ly\", \"responsive\": true}\n",
       "                    ).then(function(){\n",
       "                            \n",
       "var gd = document.getElementById('fe7a6c93-bcd8-4699-a206-8116feeb2c6a');\n",
       "var x = new MutationObserver(function (mutations, observer) {{\n",
       "        var display = window.getComputedStyle(gd).display;\n",
       "        if (!display || display === 'none') {{\n",
       "            console.log([gd, 'removed!']);\n",
       "            Plotly.purge(gd);\n",
       "            observer.disconnect();\n",
       "        }}\n",
       "}});\n",
       "\n",
       "// Listen for the removal of the full notebook cells\n",
       "var notebookContainer = gd.closest('#notebook-container');\n",
       "if (notebookContainer) {{\n",
       "    x.observe(notebookContainer, {childList: true});\n",
       "}}\n",
       "\n",
       "// Listen for the clearing of the current output cell\n",
       "var outputEl = gd.closest('.output');\n",
       "if (outputEl) {{\n",
       "    x.observe(outputEl, {childList: true});\n",
       "}}\n",
       "\n",
       "                        })\n",
       "                };\n",
       "                });\n",
       "            </script>\n",
       "        </div>"
      ]
     },
     "metadata": {},
     "output_type": "display_data"
    }
   ],
   "source": [
    "df3 = pd.DataFrame({'x':[1,2,3,4,5],'y':[10,20,30,20,10],'z':[5,4,3,2,1]})\n",
    "df3.iplot(kind='surface',colorscale='rdylbu')"
   ]
  },
  {
   "cell_type": "markdown",
   "metadata": {},
   "source": [
    "## Spread"
   ]
  },
  {
   "cell_type": "code",
   "execution_count": 19,
   "metadata": {},
   "outputs": [
    {
     "data": {
      "application/vnd.plotly.v1+json": {
       "config": {
        "linkText": "Export to plot.ly",
        "plotlyServerURL": "https://plot.ly",
        "showLink": true
       },
       "data": [
        {
         "line": {
          "color": "rgba(255, 153, 51, 1.0)",
          "dash": "solid",
          "shape": "linear",
          "width": 1.3
         },
         "mode": "lines",
         "name": "A",
         "text": "",
         "type": "scatter",
         "x": [
          0,
          1,
          2,
          3,
          4,
          5,
          6,
          7,
          8,
          9,
          10,
          11,
          12,
          13,
          14,
          15,
          16,
          17,
          18,
          19,
          20,
          21,
          22,
          23,
          24,
          25,
          26,
          27,
          28,
          29,
          30,
          31,
          32,
          33,
          34,
          35,
          36,
          37,
          38,
          39,
          40,
          41,
          42,
          43,
          44,
          45,
          46,
          47,
          48,
          49,
          50,
          51,
          52,
          53,
          54,
          55,
          56,
          57,
          58,
          59,
          60,
          61,
          62,
          63,
          64,
          65,
          66,
          67,
          68,
          69,
          70,
          71,
          72,
          73,
          74,
          75,
          76,
          77,
          78,
          79,
          80,
          81,
          82,
          83,
          84,
          85,
          86,
          87,
          88,
          89,
          90,
          91,
          92,
          93,
          94,
          95,
          96,
          97,
          98,
          99
         ],
         "y": [
          0.21333712036216956,
          0.25665047651329204,
          1.9275407354802638,
          -0.1630088122780753,
          -0.7096503484216469,
          1.1427364761321277,
          2.084635310234222,
          -0.026399085983079537,
          -1.988420853788765,
          0.671292439856992,
          0.13993436471277995,
          0.7670216335899259,
          -0.7402054775005389,
          -1.4399459740799503,
          -1.2005486697745715,
          -1.165410327584835,
          0.6644248169283439,
          -0.028756506557073572,
          0.2516096398380415,
          -0.8146789513812929,
          -0.7224259322456218,
          -0.781910319181829,
          1.7911704476562211,
          -0.39073082039979745,
          -1.4352271322521146,
          0.3248760858998426,
          1.3214965589574204,
          0.1523080436319771,
          0.2141843572991045,
          -1.2217631454104891,
          -0.42887146674778853,
          -1.0642408721713603,
          -1.4620971662626352,
          1.123140947567761,
          0.07443428772796729,
          1.216309038820772,
          -0.020010207442218403,
          -1.0939099461120412,
          -0.5902945316229972,
          -1.6464425979687698,
          -1.1335630422281875,
          0.3685681559789853,
          0.9319954006380338,
          -0.38370523637238346,
          0.9729279519725634,
          0.6060350277351296,
          -1.5064314701773505,
          -0.11686442762806791,
          -0.04540867924604806,
          -1.4647848980138103,
          1.1033504484307806,
          -0.7637901184582542,
          0.7717287733084981,
          -0.2250405260743319,
          -0.3105523373298624,
          1.6250414877666595,
          -0.7154154635129228,
          -1.0137527586625759,
          -0.18160091030832878,
          0.7278260419848971,
          -1.4462848221517628,
          -0.2149209788992766,
          -0.02736333868677174,
          -0.4083772190277294,
          -1.3903448037480677,
          -0.1421538438592139,
          -0.7899119363245749,
          0.03614779270578574,
          1.114018405015867,
          0.8338294539917678,
          -0.5623298737996674,
          1.0775148567887205,
          -0.1301928773075661,
          -0.2511044988443641,
          0.5230267449493876,
          1.3212937313584114,
          1.483707056566117,
          1.9612035531763654,
          0.883359642676606,
          2.432854412098014,
          -0.4365300341492609,
          -1.6526007572122574,
          -0.1837514310451801,
          0.36087956949198857,
          -0.7012283537323358,
          -0.5790769597484454,
          -0.24819410221512403,
          -1.4940388601122643,
          0.16135932479736645,
          -1.069825539040541,
          1.5464357268018578,
          -0.12075629883590314,
          -1.6583980247893007,
          0.33209734423001075,
          -2.707552450449217,
          0.2128183167584507,
          0.6232552740258526,
          2.333363703121639,
          1.5198415518587358,
          -0.05955186507850644
         ]
        },
        {
         "line": {
          "color": "rgba(55, 128, 191, 1.0)",
          "dash": "solid",
          "shape": "linear",
          "width": 1.3
         },
         "mode": "lines",
         "name": "B",
         "text": "",
         "type": "scatter",
         "x": [
          0,
          1,
          2,
          3,
          4,
          5,
          6,
          7,
          8,
          9,
          10,
          11,
          12,
          13,
          14,
          15,
          16,
          17,
          18,
          19,
          20,
          21,
          22,
          23,
          24,
          25,
          26,
          27,
          28,
          29,
          30,
          31,
          32,
          33,
          34,
          35,
          36,
          37,
          38,
          39,
          40,
          41,
          42,
          43,
          44,
          45,
          46,
          47,
          48,
          49,
          50,
          51,
          52,
          53,
          54,
          55,
          56,
          57,
          58,
          59,
          60,
          61,
          62,
          63,
          64,
          65,
          66,
          67,
          68,
          69,
          70,
          71,
          72,
          73,
          74,
          75,
          76,
          77,
          78,
          79,
          80,
          81,
          82,
          83,
          84,
          85,
          86,
          87,
          88,
          89,
          90,
          91,
          92,
          93,
          94,
          95,
          96,
          97,
          98,
          99
         ],
         "y": [
          -0.5864659752162915,
          -0.18099576406782086,
          -0.4533136022046553,
          0.49710557372620195,
          1.2775797802850062,
          0.4161083640971835,
          -0.15143106943229268,
          -0.365663929736837,
          -0.6184603732884246,
          0.21796399418182116,
          1.1186914535310386,
          0.44537632979139624,
          1.6364822973037336,
          -0.04862658005502512,
          0.6612865209790793,
          0.2817057722811247,
          0.3749416067021927,
          0.2583039295660702,
          -0.978626727229024,
          -0.6199393733967932,
          0.9606188506658868,
          1.356744718143514,
          -0.8602632844776701,
          -0.3555113270769093,
          0.9375159333038156,
          0.6048321925488336,
          0.8842081564062255,
          0.5511891110238712,
          -0.47857044081560157,
          -0.1337811402976441,
          -1.2853280872014985,
          -0.5766656318966009,
          -0.8207314218982654,
          0.5116859817080143,
          -1.0790996442387681,
          -0.6997609008747314,
          -0.28766636064296963,
          -0.6727663805637905,
          -0.3233231353415504,
          0.17623541797795725,
          0.8240659051722579,
          -0.8540606300446177,
          0.6122579383495008,
          -0.590967987543979,
          -0.41376092638310336,
          0.32887420159115527,
          0.8729354550960499,
          -0.33657901953658087,
          -1.194326742500851,
          -0.676615903454892,
          -0.5550205241717774,
          -2.026510738495248,
          -0.3457842826648694,
          -0.38678372767291264,
          -0.32893633561693986,
          0.004363227537524876,
          -1.0872490370707908,
          0.34096840542132634,
          -0.15103704217598235,
          0.5381608357022754,
          0.3927957547213143,
          -1.6835150692954717,
          -0.92583153055911,
          0.6790997638530409,
          -0.05065503749551706,
          0.7471561771513062,
          0.7267996918348049,
          0.7558737826149488,
          0.8669354661789175,
          -0.5883125097555686,
          -0.4616782593650259,
          -0.06828761261811965,
          0.1274240043599269,
          -0.8611087938563126,
          0.7295403774089118,
          0.6095456146491329,
          0.2457565485052304,
          -0.4527141682680746,
          -0.9894044423657463,
          -0.8461865919076168,
          1.6160276476471338,
          -0.44295786995666325,
          0.4052525078450415,
          -0.7725925348432313,
          -0.9700414649280531,
          0.2967877823951404,
          -0.26132861501848587,
          2.7995461162133872,
          0.2647627153131342,
          1.249817597253992,
          -0.2987960397363294,
          -0.5895330281226503,
          0.08840494189034458,
          -0.6442263753616765,
          0.23477998923235666,
          0.07912771285260012,
          -0.12988226344729503,
          -1.594079390394641,
          -0.14645967846660468,
          0.9901201163869056
         ]
        },
        {
         "connectgaps": false,
         "fill": "tozeroy",
         "line": {
          "color": "green",
          "dash": "solid",
          "shape": "linear",
          "width": 0.5
         },
         "mode": "lines",
         "name": "Spread",
         "showlegend": false,
         "type": "scatter",
         "x": [
          0,
          1,
          2,
          3,
          4,
          5,
          6,
          7,
          8,
          9,
          10,
          11,
          12,
          13,
          14,
          15,
          16,
          17,
          18,
          19,
          20,
          21,
          22,
          23,
          24,
          25,
          26,
          27,
          28,
          29,
          30,
          31,
          32,
          33,
          34,
          35,
          36,
          37,
          38,
          39,
          40,
          41,
          42,
          43,
          44,
          45,
          46,
          47,
          48,
          49,
          50,
          51,
          52,
          53,
          54,
          55,
          56,
          57,
          58,
          59,
          60,
          61,
          62,
          63,
          64,
          65,
          66,
          67,
          68,
          69,
          70,
          71,
          72,
          73,
          74,
          75,
          76,
          77,
          78,
          79,
          80,
          81,
          82,
          83,
          84,
          85,
          86,
          87,
          88,
          89,
          90,
          91,
          92,
          93,
          94,
          95,
          96,
          97,
          98,
          99
         ],
         "xaxis": "x2",
         "y": [
          0.7998030955784611,
          0.4376462405811129,
          2.380854337684919,
          "",
          "",
          0.7266281120349443,
          2.2360663796665143,
          0.33926484375375743,
          "",
          0.4533284456751709,
          "",
          0.3216453037985297,
          "",
          "",
          "",
          "",
          0.2894832102261512,
          "",
          1.2302363670670655,
          "",
          "",
          "",
          2.651433732133891,
          "",
          "",
          "",
          0.43728840255119483,
          "",
          0.6927547981147061,
          "",
          0.85645662045371,
          "",
          "",
          0.6114549658597467,
          1.1535339319667355,
          1.9160699396955034,
          0.2676561532007512,
          "",
          "",
          "",
          "",
          1.222628786023603,
          0.31973746228853295,
          0.20726275117159548,
          1.3866888783556668,
          0.27716082614397436,
          "",
          0.21971459190851295,
          1.148918063254803,
          "",
          1.658370972602558,
          1.262720620036994,
          1.1175130559733675,
          0.16174320159858074,
          0.01838399828707743,
          1.6206782602291345,
          0.37183357355786795,
          "",
          "",
          0.18966520628262173,
          "",
          1.4685940903961952,
          0.8984681918723383,
          "",
          "",
          "",
          "",
          "",
          0.24708293883694954,
          1.4221419637473365,
          "",
          1.14580246940684,
          "",
          0.6100042950119484,
          "",
          0.7117481167092785,
          1.2379505080608866,
          2.41391772144444,
          1.8727640850423524,
          3.279041004005631,
          "",
          "",
          "",
          1.1334721043352198,
          0.26881311119571727,
          "",
          0.013134512803361836,
          "",
          "",
          "",
          1.8452317665381872,
          0.4687767292867472,
          "",
          0.9763237195916872,
          "",
          0.13369060390585058,
          0.7531375374731476,
          3.9274430935162803,
          1.6663012303253404,
          ""
         ],
         "yaxis": "y2"
        },
        {
         "connectgaps": false,
         "fill": "tozeroy",
         "line": {
          "color": "red",
          "dash": "solid",
          "shape": "linear",
          "width": 0.5
         },
         "mode": "lines",
         "name": "Spread",
         "showlegend": false,
         "type": "scatter",
         "x": [
          0,
          1,
          2,
          3,
          4,
          5,
          6,
          7,
          8,
          9,
          10,
          11,
          12,
          13,
          14,
          15,
          16,
          17,
          18,
          19,
          20,
          21,
          22,
          23,
          24,
          25,
          26,
          27,
          28,
          29,
          30,
          31,
          32,
          33,
          34,
          35,
          36,
          37,
          38,
          39,
          40,
          41,
          42,
          43,
          44,
          45,
          46,
          47,
          48,
          49,
          50,
          51,
          52,
          53,
          54,
          55,
          56,
          57,
          58,
          59,
          60,
          61,
          62,
          63,
          64,
          65,
          66,
          67,
          68,
          69,
          70,
          71,
          72,
          73,
          74,
          75,
          76,
          77,
          78,
          79,
          80,
          81,
          82,
          83,
          84,
          85,
          86,
          87,
          88,
          89,
          90,
          91,
          92,
          93,
          94,
          95,
          96,
          97,
          98,
          99
         ],
         "xaxis": "x2",
         "y": [
          "",
          "",
          "",
          -0.6601143860042773,
          -1.9872301287066532,
          "",
          "",
          "",
          -1.3699604805003405,
          "",
          -0.9787570888182586,
          "",
          -2.3766877748042727,
          -1.391319394024925,
          -1.8618351907536508,
          -1.4471160998659598,
          "",
          -0.28706043612314375,
          "",
          -0.1947395779844997,
          -1.6830447829115087,
          -2.138655037325343,
          "",
          -0.03521949332288815,
          -2.3727430655559303,
          -0.27995610664899095,
          "",
          -0.3988810673918941,
          "",
          -1.087982005112845,
          "",
          -0.4875752402747594,
          -0.6413657443643698,
          "",
          "",
          "",
          "",
          -0.4211435655482507,
          -0.2669713962814468,
          -1.822678015946727,
          -1.9576289474004454,
          "",
          "",
          "",
          "",
          "",
          -2.3793669252734,
          "",
          "",
          -0.7881689945589183,
          "",
          "",
          "",
          "",
          "",
          "",
          "",
          -1.354721164083902,
          -0.030563868132346433,
          "",
          -1.8390805768730771,
          "",
          "",
          -1.0874769828807702,
          -1.3396897662525507,
          -0.8893100210105201,
          -1.5167116281593798,
          -0.719725989909163,
          "",
          "",
          -0.10065161443464149,
          "",
          -0.25761688166749297,
          "",
          -0.20651363245952414,
          "",
          "",
          "",
          "",
          "",
          -2.0525576817963946,
          -1.2096428872555942,
          -0.5890039388902216,
          "",
          "",
          -0.8758647421435859,
          "",
          -4.2935849763256515,
          -0.10340339051576777,
          -2.319643136294533,
          "",
          "",
          -1.7468029666796452,
          "",
          -2.9423324396815738,
          "",
          "",
          "",
          "",
          -1.049671981465412
         ],
         "yaxis": "y2"
        }
       ],
       "layout": {
        "hovermode": "x",
        "legend": {
         "bgcolor": "#F5F6F9",
         "font": {
          "color": "#4D5663"
         }
        },
        "paper_bgcolor": "#F5F6F9",
        "plot_bgcolor": "#F5F6F9",
        "template": {
         "data": {
          "bar": [
           {
            "error_x": {
             "color": "#2a3f5f"
            },
            "error_y": {
             "color": "#2a3f5f"
            },
            "marker": {
             "line": {
              "color": "#E5ECF6",
              "width": 0.5
             }
            },
            "type": "bar"
           }
          ],
          "barpolar": [
           {
            "marker": {
             "line": {
              "color": "#E5ECF6",
              "width": 0.5
             }
            },
            "type": "barpolar"
           }
          ],
          "carpet": [
           {
            "aaxis": {
             "endlinecolor": "#2a3f5f",
             "gridcolor": "white",
             "linecolor": "white",
             "minorgridcolor": "white",
             "startlinecolor": "#2a3f5f"
            },
            "baxis": {
             "endlinecolor": "#2a3f5f",
             "gridcolor": "white",
             "linecolor": "white",
             "minorgridcolor": "white",
             "startlinecolor": "#2a3f5f"
            },
            "type": "carpet"
           }
          ],
          "choropleth": [
           {
            "colorbar": {
             "outlinewidth": 0,
             "ticks": ""
            },
            "type": "choropleth"
           }
          ],
          "contour": [
           {
            "colorbar": {
             "outlinewidth": 0,
             "ticks": ""
            },
            "colorscale": [
             [
              0,
              "#0d0887"
             ],
             [
              0.1111111111111111,
              "#46039f"
             ],
             [
              0.2222222222222222,
              "#7201a8"
             ],
             [
              0.3333333333333333,
              "#9c179e"
             ],
             [
              0.4444444444444444,
              "#bd3786"
             ],
             [
              0.5555555555555556,
              "#d8576b"
             ],
             [
              0.6666666666666666,
              "#ed7953"
             ],
             [
              0.7777777777777778,
              "#fb9f3a"
             ],
             [
              0.8888888888888888,
              "#fdca26"
             ],
             [
              1,
              "#f0f921"
             ]
            ],
            "type": "contour"
           }
          ],
          "contourcarpet": [
           {
            "colorbar": {
             "outlinewidth": 0,
             "ticks": ""
            },
            "type": "contourcarpet"
           }
          ],
          "heatmap": [
           {
            "colorbar": {
             "outlinewidth": 0,
             "ticks": ""
            },
            "colorscale": [
             [
              0,
              "#0d0887"
             ],
             [
              0.1111111111111111,
              "#46039f"
             ],
             [
              0.2222222222222222,
              "#7201a8"
             ],
             [
              0.3333333333333333,
              "#9c179e"
             ],
             [
              0.4444444444444444,
              "#bd3786"
             ],
             [
              0.5555555555555556,
              "#d8576b"
             ],
             [
              0.6666666666666666,
              "#ed7953"
             ],
             [
              0.7777777777777778,
              "#fb9f3a"
             ],
             [
              0.8888888888888888,
              "#fdca26"
             ],
             [
              1,
              "#f0f921"
             ]
            ],
            "type": "heatmap"
           }
          ],
          "heatmapgl": [
           {
            "colorbar": {
             "outlinewidth": 0,
             "ticks": ""
            },
            "colorscale": [
             [
              0,
              "#0d0887"
             ],
             [
              0.1111111111111111,
              "#46039f"
             ],
             [
              0.2222222222222222,
              "#7201a8"
             ],
             [
              0.3333333333333333,
              "#9c179e"
             ],
             [
              0.4444444444444444,
              "#bd3786"
             ],
             [
              0.5555555555555556,
              "#d8576b"
             ],
             [
              0.6666666666666666,
              "#ed7953"
             ],
             [
              0.7777777777777778,
              "#fb9f3a"
             ],
             [
              0.8888888888888888,
              "#fdca26"
             ],
             [
              1,
              "#f0f921"
             ]
            ],
            "type": "heatmapgl"
           }
          ],
          "histogram": [
           {
            "marker": {
             "colorbar": {
              "outlinewidth": 0,
              "ticks": ""
             }
            },
            "type": "histogram"
           }
          ],
          "histogram2d": [
           {
            "colorbar": {
             "outlinewidth": 0,
             "ticks": ""
            },
            "colorscale": [
             [
              0,
              "#0d0887"
             ],
             [
              0.1111111111111111,
              "#46039f"
             ],
             [
              0.2222222222222222,
              "#7201a8"
             ],
             [
              0.3333333333333333,
              "#9c179e"
             ],
             [
              0.4444444444444444,
              "#bd3786"
             ],
             [
              0.5555555555555556,
              "#d8576b"
             ],
             [
              0.6666666666666666,
              "#ed7953"
             ],
             [
              0.7777777777777778,
              "#fb9f3a"
             ],
             [
              0.8888888888888888,
              "#fdca26"
             ],
             [
              1,
              "#f0f921"
             ]
            ],
            "type": "histogram2d"
           }
          ],
          "histogram2dcontour": [
           {
            "colorbar": {
             "outlinewidth": 0,
             "ticks": ""
            },
            "colorscale": [
             [
              0,
              "#0d0887"
             ],
             [
              0.1111111111111111,
              "#46039f"
             ],
             [
              0.2222222222222222,
              "#7201a8"
             ],
             [
              0.3333333333333333,
              "#9c179e"
             ],
             [
              0.4444444444444444,
              "#bd3786"
             ],
             [
              0.5555555555555556,
              "#d8576b"
             ],
             [
              0.6666666666666666,
              "#ed7953"
             ],
             [
              0.7777777777777778,
              "#fb9f3a"
             ],
             [
              0.8888888888888888,
              "#fdca26"
             ],
             [
              1,
              "#f0f921"
             ]
            ],
            "type": "histogram2dcontour"
           }
          ],
          "mesh3d": [
           {
            "colorbar": {
             "outlinewidth": 0,
             "ticks": ""
            },
            "type": "mesh3d"
           }
          ],
          "parcoords": [
           {
            "line": {
             "colorbar": {
              "outlinewidth": 0,
              "ticks": ""
             }
            },
            "type": "parcoords"
           }
          ],
          "pie": [
           {
            "automargin": true,
            "type": "pie"
           }
          ],
          "scatter": [
           {
            "marker": {
             "colorbar": {
              "outlinewidth": 0,
              "ticks": ""
             }
            },
            "type": "scatter"
           }
          ],
          "scatter3d": [
           {
            "line": {
             "colorbar": {
              "outlinewidth": 0,
              "ticks": ""
             }
            },
            "marker": {
             "colorbar": {
              "outlinewidth": 0,
              "ticks": ""
             }
            },
            "type": "scatter3d"
           }
          ],
          "scattercarpet": [
           {
            "marker": {
             "colorbar": {
              "outlinewidth": 0,
              "ticks": ""
             }
            },
            "type": "scattercarpet"
           }
          ],
          "scattergeo": [
           {
            "marker": {
             "colorbar": {
              "outlinewidth": 0,
              "ticks": ""
             }
            },
            "type": "scattergeo"
           }
          ],
          "scattergl": [
           {
            "marker": {
             "colorbar": {
              "outlinewidth": 0,
              "ticks": ""
             }
            },
            "type": "scattergl"
           }
          ],
          "scattermapbox": [
           {
            "marker": {
             "colorbar": {
              "outlinewidth": 0,
              "ticks": ""
             }
            },
            "type": "scattermapbox"
           }
          ],
          "scatterpolar": [
           {
            "marker": {
             "colorbar": {
              "outlinewidth": 0,
              "ticks": ""
             }
            },
            "type": "scatterpolar"
           }
          ],
          "scatterpolargl": [
           {
            "marker": {
             "colorbar": {
              "outlinewidth": 0,
              "ticks": ""
             }
            },
            "type": "scatterpolargl"
           }
          ],
          "scatterternary": [
           {
            "marker": {
             "colorbar": {
              "outlinewidth": 0,
              "ticks": ""
             }
            },
            "type": "scatterternary"
           }
          ],
          "surface": [
           {
            "colorbar": {
             "outlinewidth": 0,
             "ticks": ""
            },
            "colorscale": [
             [
              0,
              "#0d0887"
             ],
             [
              0.1111111111111111,
              "#46039f"
             ],
             [
              0.2222222222222222,
              "#7201a8"
             ],
             [
              0.3333333333333333,
              "#9c179e"
             ],
             [
              0.4444444444444444,
              "#bd3786"
             ],
             [
              0.5555555555555556,
              "#d8576b"
             ],
             [
              0.6666666666666666,
              "#ed7953"
             ],
             [
              0.7777777777777778,
              "#fb9f3a"
             ],
             [
              0.8888888888888888,
              "#fdca26"
             ],
             [
              1,
              "#f0f921"
             ]
            ],
            "type": "surface"
           }
          ],
          "table": [
           {
            "cells": {
             "fill": {
              "color": "#EBF0F8"
             },
             "line": {
              "color": "white"
             }
            },
            "header": {
             "fill": {
              "color": "#C8D4E3"
             },
             "line": {
              "color": "white"
             }
            },
            "type": "table"
           }
          ]
         },
         "layout": {
          "annotationdefaults": {
           "arrowcolor": "#2a3f5f",
           "arrowhead": 0,
           "arrowwidth": 1
          },
          "coloraxis": {
           "colorbar": {
            "outlinewidth": 0,
            "ticks": ""
           }
          },
          "colorscale": {
           "diverging": [
            [
             0,
             "#8e0152"
            ],
            [
             0.1,
             "#c51b7d"
            ],
            [
             0.2,
             "#de77ae"
            ],
            [
             0.3,
             "#f1b6da"
            ],
            [
             0.4,
             "#fde0ef"
            ],
            [
             0.5,
             "#f7f7f7"
            ],
            [
             0.6,
             "#e6f5d0"
            ],
            [
             0.7,
             "#b8e186"
            ],
            [
             0.8,
             "#7fbc41"
            ],
            [
             0.9,
             "#4d9221"
            ],
            [
             1,
             "#276419"
            ]
           ],
           "sequential": [
            [
             0,
             "#0d0887"
            ],
            [
             0.1111111111111111,
             "#46039f"
            ],
            [
             0.2222222222222222,
             "#7201a8"
            ],
            [
             0.3333333333333333,
             "#9c179e"
            ],
            [
             0.4444444444444444,
             "#bd3786"
            ],
            [
             0.5555555555555556,
             "#d8576b"
            ],
            [
             0.6666666666666666,
             "#ed7953"
            ],
            [
             0.7777777777777778,
             "#fb9f3a"
            ],
            [
             0.8888888888888888,
             "#fdca26"
            ],
            [
             1,
             "#f0f921"
            ]
           ],
           "sequentialminus": [
            [
             0,
             "#0d0887"
            ],
            [
             0.1111111111111111,
             "#46039f"
            ],
            [
             0.2222222222222222,
             "#7201a8"
            ],
            [
             0.3333333333333333,
             "#9c179e"
            ],
            [
             0.4444444444444444,
             "#bd3786"
            ],
            [
             0.5555555555555556,
             "#d8576b"
            ],
            [
             0.6666666666666666,
             "#ed7953"
            ],
            [
             0.7777777777777778,
             "#fb9f3a"
            ],
            [
             0.8888888888888888,
             "#fdca26"
            ],
            [
             1,
             "#f0f921"
            ]
           ]
          },
          "colorway": [
           "#636efa",
           "#EF553B",
           "#00cc96",
           "#ab63fa",
           "#FFA15A",
           "#19d3f3",
           "#FF6692",
           "#B6E880",
           "#FF97FF",
           "#FECB52"
          ],
          "font": {
           "color": "#2a3f5f"
          },
          "geo": {
           "bgcolor": "white",
           "lakecolor": "white",
           "landcolor": "#E5ECF6",
           "showlakes": true,
           "showland": true,
           "subunitcolor": "white"
          },
          "hoverlabel": {
           "align": "left"
          },
          "hovermode": "closest",
          "mapbox": {
           "style": "light"
          },
          "paper_bgcolor": "white",
          "plot_bgcolor": "#E5ECF6",
          "polar": {
           "angularaxis": {
            "gridcolor": "white",
            "linecolor": "white",
            "ticks": ""
           },
           "bgcolor": "#E5ECF6",
           "radialaxis": {
            "gridcolor": "white",
            "linecolor": "white",
            "ticks": ""
           }
          },
          "scene": {
           "xaxis": {
            "backgroundcolor": "#E5ECF6",
            "gridcolor": "white",
            "gridwidth": 2,
            "linecolor": "white",
            "showbackground": true,
            "ticks": "",
            "zerolinecolor": "white"
           },
           "yaxis": {
            "backgroundcolor": "#E5ECF6",
            "gridcolor": "white",
            "gridwidth": 2,
            "linecolor": "white",
            "showbackground": true,
            "ticks": "",
            "zerolinecolor": "white"
           },
           "zaxis": {
            "backgroundcolor": "#E5ECF6",
            "gridcolor": "white",
            "gridwidth": 2,
            "linecolor": "white",
            "showbackground": true,
            "ticks": "",
            "zerolinecolor": "white"
           }
          },
          "shapedefaults": {
           "line": {
            "color": "#2a3f5f"
           }
          },
          "ternary": {
           "aaxis": {
            "gridcolor": "white",
            "linecolor": "white",
            "ticks": ""
           },
           "baxis": {
            "gridcolor": "white",
            "linecolor": "white",
            "ticks": ""
           },
           "bgcolor": "#E5ECF6",
           "caxis": {
            "gridcolor": "white",
            "linecolor": "white",
            "ticks": ""
           }
          },
          "title": {
           "x": 0.05
          },
          "xaxis": {
           "automargin": true,
           "gridcolor": "white",
           "linecolor": "white",
           "ticks": "",
           "title": {
            "standoff": 15
           },
           "zerolinecolor": "white",
           "zerolinewidth": 2
          },
          "yaxis": {
           "automargin": true,
           "gridcolor": "white",
           "linecolor": "white",
           "ticks": "",
           "title": {
            "standoff": 15
           },
           "zerolinecolor": "white",
           "zerolinewidth": 2
          }
         }
        },
        "title": {
         "font": {
          "color": "#4D5663"
         }
        },
        "xaxis": {
         "gridcolor": "#E1E5ED",
         "showgrid": true,
         "tickfont": {
          "color": "#4D5663"
         },
         "title": {
          "font": {
           "color": "#4D5663"
          },
          "text": ""
         },
         "zerolinecolor": "#E1E5ED"
        },
        "xaxis2": {
         "anchor": "y2",
         "gridcolor": "#E1E5ED",
         "showgrid": true,
         "showticklabels": false,
         "tickfont": {
          "color": "#4D5663"
         },
         "title": {
          "font": {
           "color": "#4D5663"
          },
          "text": ""
         },
         "zerolinecolor": "#E1E5ED"
        },
        "yaxis": {
         "domain": [
          0.3,
          1
         ],
         "gridcolor": "#E1E5ED",
         "showgrid": true,
         "tickfont": {
          "color": "#4D5663"
         },
         "title": {
          "font": {
           "color": "#4D5663"
          },
          "text": ""
         },
         "zerolinecolor": "#E1E5ED"
        },
        "yaxis2": {
         "domain": [
          0,
          0.25
         ],
         "gridcolor": "#E1E5ED",
         "showgrid": true,
         "tickfont": {
          "color": "#4D5663"
         },
         "title": {
          "font": {
           "color": "#4D5663"
          },
          "text": "Spread"
         },
         "zerolinecolor": "#E1E5ED"
        }
       }
      },
      "text/html": [
       "<div>\n",
       "        \n",
       "        \n",
       "            <div id=\"698aae4e-e30d-4c48-9d29-412f6a1538c3\" class=\"plotly-graph-div\" style=\"height:525px; width:100%;\"></div>\n",
       "            <script type=\"text/javascript\">\n",
       "                require([\"plotly\"], function(Plotly) {\n",
       "                    window.PLOTLYENV=window.PLOTLYENV || {};\n",
       "                    window.PLOTLYENV.BASE_URL='https://plot.ly';\n",
       "                    \n",
       "                if (document.getElementById(\"698aae4e-e30d-4c48-9d29-412f6a1538c3\")) {\n",
       "                    Plotly.newPlot(\n",
       "                        '698aae4e-e30d-4c48-9d29-412f6a1538c3',\n",
       "                        [{\"line\": {\"color\": \"rgba(255, 153, 51, 1.0)\", \"dash\": \"solid\", \"shape\": \"linear\", \"width\": 1.3}, \"mode\": \"lines\", \"name\": \"A\", \"text\": \"\", \"type\": \"scatter\", \"x\": [0, 1, 2, 3, 4, 5, 6, 7, 8, 9, 10, 11, 12, 13, 14, 15, 16, 17, 18, 19, 20, 21, 22, 23, 24, 25, 26, 27, 28, 29, 30, 31, 32, 33, 34, 35, 36, 37, 38, 39, 40, 41, 42, 43, 44, 45, 46, 47, 48, 49, 50, 51, 52, 53, 54, 55, 56, 57, 58, 59, 60, 61, 62, 63, 64, 65, 66, 67, 68, 69, 70, 71, 72, 73, 74, 75, 76, 77, 78, 79, 80, 81, 82, 83, 84, 85, 86, 87, 88, 89, 90, 91, 92, 93, 94, 95, 96, 97, 98, 99], \"y\": [0.21333712036216956, 0.25665047651329204, 1.9275407354802638, -0.1630088122780753, -0.7096503484216469, 1.1427364761321277, 2.084635310234222, -0.026399085983079537, -1.988420853788765, 0.671292439856992, 0.13993436471277995, 0.7670216335899259, -0.7402054775005389, -1.4399459740799503, -1.2005486697745715, -1.165410327584835, 0.6644248169283439, -0.028756506557073572, 0.2516096398380415, -0.8146789513812929, -0.7224259322456218, -0.781910319181829, 1.7911704476562211, -0.39073082039979745, -1.4352271322521146, 0.3248760858998426, 1.3214965589574204, 0.1523080436319771, 0.2141843572991045, -1.2217631454104891, -0.42887146674778853, -1.0642408721713603, -1.4620971662626352, 1.123140947567761, 0.07443428772796729, 1.216309038820772, -0.020010207442218403, -1.0939099461120412, -0.5902945316229972, -1.6464425979687698, -1.1335630422281875, 0.3685681559789853, 0.9319954006380338, -0.38370523637238346, 0.9729279519725634, 0.6060350277351296, -1.5064314701773505, -0.11686442762806791, -0.04540867924604806, -1.4647848980138103, 1.1033504484307806, -0.7637901184582542, 0.7717287733084981, -0.2250405260743319, -0.3105523373298624, 1.6250414877666595, -0.7154154635129228, -1.0137527586625759, -0.18160091030832878, 0.7278260419848971, -1.4462848221517628, -0.2149209788992766, -0.02736333868677174, -0.4083772190277294, -1.3903448037480677, -0.1421538438592139, -0.7899119363245749, 0.03614779270578574, 1.114018405015867, 0.8338294539917678, -0.5623298737996674, 1.0775148567887205, -0.1301928773075661, -0.2511044988443641, 0.5230267449493876, 1.3212937313584114, 1.483707056566117, 1.9612035531763654, 0.883359642676606, 2.432854412098014, -0.4365300341492609, -1.6526007572122574, -0.1837514310451801, 0.36087956949198857, -0.7012283537323358, -0.5790769597484454, -0.24819410221512403, -1.4940388601122643, 0.16135932479736645, -1.069825539040541, 1.5464357268018578, -0.12075629883590314, -1.6583980247893007, 0.33209734423001075, -2.707552450449217, 0.2128183167584507, 0.6232552740258526, 2.333363703121639, 1.5198415518587358, -0.05955186507850644]}, {\"line\": {\"color\": \"rgba(55, 128, 191, 1.0)\", \"dash\": \"solid\", \"shape\": \"linear\", \"width\": 1.3}, \"mode\": \"lines\", \"name\": \"B\", \"text\": \"\", \"type\": \"scatter\", \"x\": [0, 1, 2, 3, 4, 5, 6, 7, 8, 9, 10, 11, 12, 13, 14, 15, 16, 17, 18, 19, 20, 21, 22, 23, 24, 25, 26, 27, 28, 29, 30, 31, 32, 33, 34, 35, 36, 37, 38, 39, 40, 41, 42, 43, 44, 45, 46, 47, 48, 49, 50, 51, 52, 53, 54, 55, 56, 57, 58, 59, 60, 61, 62, 63, 64, 65, 66, 67, 68, 69, 70, 71, 72, 73, 74, 75, 76, 77, 78, 79, 80, 81, 82, 83, 84, 85, 86, 87, 88, 89, 90, 91, 92, 93, 94, 95, 96, 97, 98, 99], \"y\": [-0.5864659752162915, -0.18099576406782086, -0.4533136022046553, 0.49710557372620195, 1.2775797802850062, 0.4161083640971835, -0.15143106943229268, -0.365663929736837, -0.6184603732884246, 0.21796399418182116, 1.1186914535310386, 0.44537632979139624, 1.6364822973037336, -0.04862658005502512, 0.6612865209790793, 0.2817057722811247, 0.3749416067021927, 0.2583039295660702, -0.978626727229024, -0.6199393733967932, 0.9606188506658868, 1.356744718143514, -0.8602632844776701, -0.3555113270769093, 0.9375159333038156, 0.6048321925488336, 0.8842081564062255, 0.5511891110238712, -0.47857044081560157, -0.1337811402976441, -1.2853280872014985, -0.5766656318966009, -0.8207314218982654, 0.5116859817080143, -1.0790996442387681, -0.6997609008747314, -0.28766636064296963, -0.6727663805637905, -0.3233231353415504, 0.17623541797795725, 0.8240659051722579, -0.8540606300446177, 0.6122579383495008, -0.590967987543979, -0.41376092638310336, 0.32887420159115527, 0.8729354550960499, -0.33657901953658087, -1.194326742500851, -0.676615903454892, -0.5550205241717774, -2.026510738495248, -0.3457842826648694, -0.38678372767291264, -0.32893633561693986, 0.004363227537524876, -1.0872490370707908, 0.34096840542132634, -0.15103704217598235, 0.5381608357022754, 0.3927957547213143, -1.6835150692954717, -0.92583153055911, 0.6790997638530409, -0.05065503749551706, 0.7471561771513062, 0.7267996918348049, 0.7558737826149488, 0.8669354661789175, -0.5883125097555686, -0.4616782593650259, -0.06828761261811965, 0.1274240043599269, -0.8611087938563126, 0.7295403774089118, 0.6095456146491329, 0.2457565485052304, -0.4527141682680746, -0.9894044423657463, -0.8461865919076168, 1.6160276476471338, -0.44295786995666325, 0.4052525078450415, -0.7725925348432313, -0.9700414649280531, 0.2967877823951404, -0.26132861501848587, 2.7995461162133872, 0.2647627153131342, 1.249817597253992, -0.2987960397363294, -0.5895330281226503, 0.08840494189034458, -0.6442263753616765, 0.23477998923235666, 0.07912771285260012, -0.12988226344729503, -1.594079390394641, -0.14645967846660468, 0.9901201163869056]}, {\"connectgaps\": false, \"fill\": \"tozeroy\", \"line\": {\"color\": \"green\", \"dash\": \"solid\", \"shape\": \"linear\", \"width\": 0.5}, \"mode\": \"lines\", \"name\": \"Spread\", \"showlegend\": false, \"type\": \"scatter\", \"x\": [0, 1, 2, 3, 4, 5, 6, 7, 8, 9, 10, 11, 12, 13, 14, 15, 16, 17, 18, 19, 20, 21, 22, 23, 24, 25, 26, 27, 28, 29, 30, 31, 32, 33, 34, 35, 36, 37, 38, 39, 40, 41, 42, 43, 44, 45, 46, 47, 48, 49, 50, 51, 52, 53, 54, 55, 56, 57, 58, 59, 60, 61, 62, 63, 64, 65, 66, 67, 68, 69, 70, 71, 72, 73, 74, 75, 76, 77, 78, 79, 80, 81, 82, 83, 84, 85, 86, 87, 88, 89, 90, 91, 92, 93, 94, 95, 96, 97, 98, 99], \"xaxis\": \"x2\", \"y\": [0.7998030955784611, 0.4376462405811129, 2.380854337684919, \"\", \"\", 0.7266281120349443, 2.2360663796665143, 0.33926484375375743, \"\", 0.4533284456751709, \"\", 0.3216453037985297, \"\", \"\", \"\", \"\", 0.2894832102261512, \"\", 1.2302363670670655, \"\", \"\", \"\", 2.651433732133891, \"\", \"\", \"\", 0.43728840255119483, \"\", 0.6927547981147061, \"\", 0.85645662045371, \"\", \"\", 0.6114549658597467, 1.1535339319667355, 1.9160699396955034, 0.2676561532007512, \"\", \"\", \"\", \"\", 1.222628786023603, 0.31973746228853295, 0.20726275117159548, 1.3866888783556668, 0.27716082614397436, \"\", 0.21971459190851295, 1.148918063254803, \"\", 1.658370972602558, 1.262720620036994, 1.1175130559733675, 0.16174320159858074, 0.01838399828707743, 1.6206782602291345, 0.37183357355786795, \"\", \"\", 0.18966520628262173, \"\", 1.4685940903961952, 0.8984681918723383, \"\", \"\", \"\", \"\", \"\", 0.24708293883694954, 1.4221419637473365, \"\", 1.14580246940684, \"\", 0.6100042950119484, \"\", 0.7117481167092785, 1.2379505080608866, 2.41391772144444, 1.8727640850423524, 3.279041004005631, \"\", \"\", \"\", 1.1334721043352198, 0.26881311119571727, \"\", 0.013134512803361836, \"\", \"\", \"\", 1.8452317665381872, 0.4687767292867472, \"\", 0.9763237195916872, \"\", 0.13369060390585058, 0.7531375374731476, 3.9274430935162803, 1.6663012303253404, \"\"], \"yaxis\": \"y2\"}, {\"connectgaps\": false, \"fill\": \"tozeroy\", \"line\": {\"color\": \"red\", \"dash\": \"solid\", \"shape\": \"linear\", \"width\": 0.5}, \"mode\": \"lines\", \"name\": \"Spread\", \"showlegend\": false, \"type\": \"scatter\", \"x\": [0, 1, 2, 3, 4, 5, 6, 7, 8, 9, 10, 11, 12, 13, 14, 15, 16, 17, 18, 19, 20, 21, 22, 23, 24, 25, 26, 27, 28, 29, 30, 31, 32, 33, 34, 35, 36, 37, 38, 39, 40, 41, 42, 43, 44, 45, 46, 47, 48, 49, 50, 51, 52, 53, 54, 55, 56, 57, 58, 59, 60, 61, 62, 63, 64, 65, 66, 67, 68, 69, 70, 71, 72, 73, 74, 75, 76, 77, 78, 79, 80, 81, 82, 83, 84, 85, 86, 87, 88, 89, 90, 91, 92, 93, 94, 95, 96, 97, 98, 99], \"xaxis\": \"x2\", \"y\": [\"\", \"\", \"\", -0.6601143860042773, -1.9872301287066532, \"\", \"\", \"\", -1.3699604805003405, \"\", -0.9787570888182586, \"\", -2.3766877748042727, -1.391319394024925, -1.8618351907536508, -1.4471160998659598, \"\", -0.28706043612314375, \"\", -0.1947395779844997, -1.6830447829115087, -2.138655037325343, \"\", -0.03521949332288815, -2.3727430655559303, -0.27995610664899095, \"\", -0.3988810673918941, \"\", -1.087982005112845, \"\", -0.4875752402747594, -0.6413657443643698, \"\", \"\", \"\", \"\", -0.4211435655482507, -0.2669713962814468, -1.822678015946727, -1.9576289474004454, \"\", \"\", \"\", \"\", \"\", -2.3793669252734, \"\", \"\", -0.7881689945589183, \"\", \"\", \"\", \"\", \"\", \"\", \"\", -1.354721164083902, -0.030563868132346433, \"\", -1.8390805768730771, \"\", \"\", -1.0874769828807702, -1.3396897662525507, -0.8893100210105201, -1.5167116281593798, -0.719725989909163, \"\", \"\", -0.10065161443464149, \"\", -0.25761688166749297, \"\", -0.20651363245952414, \"\", \"\", \"\", \"\", \"\", -2.0525576817963946, -1.2096428872555942, -0.5890039388902216, \"\", \"\", -0.8758647421435859, \"\", -4.2935849763256515, -0.10340339051576777, -2.319643136294533, \"\", \"\", -1.7468029666796452, \"\", -2.9423324396815738, \"\", \"\", \"\", \"\", -1.049671981465412], \"yaxis\": \"y2\"}],\n",
       "                        {\"hovermode\": \"x\", \"legend\": {\"bgcolor\": \"#F5F6F9\", \"font\": {\"color\": \"#4D5663\"}}, \"paper_bgcolor\": \"#F5F6F9\", \"plot_bgcolor\": \"#F5F6F9\", \"template\": {\"data\": {\"bar\": [{\"error_x\": {\"color\": \"#2a3f5f\"}, \"error_y\": {\"color\": \"#2a3f5f\"}, \"marker\": {\"line\": {\"color\": \"#E5ECF6\", \"width\": 0.5}}, \"type\": \"bar\"}], \"barpolar\": [{\"marker\": {\"line\": {\"color\": \"#E5ECF6\", \"width\": 0.5}}, \"type\": \"barpolar\"}], \"carpet\": [{\"aaxis\": {\"endlinecolor\": \"#2a3f5f\", \"gridcolor\": \"white\", \"linecolor\": \"white\", \"minorgridcolor\": \"white\", \"startlinecolor\": \"#2a3f5f\"}, \"baxis\": {\"endlinecolor\": \"#2a3f5f\", \"gridcolor\": \"white\", \"linecolor\": \"white\", \"minorgridcolor\": \"white\", \"startlinecolor\": \"#2a3f5f\"}, \"type\": \"carpet\"}], \"choropleth\": [{\"colorbar\": {\"outlinewidth\": 0, \"ticks\": \"\"}, \"type\": \"choropleth\"}], \"contour\": [{\"colorbar\": {\"outlinewidth\": 0, \"ticks\": \"\"}, \"colorscale\": [[0.0, \"#0d0887\"], [0.1111111111111111, \"#46039f\"], [0.2222222222222222, \"#7201a8\"], [0.3333333333333333, \"#9c179e\"], [0.4444444444444444, \"#bd3786\"], [0.5555555555555556, \"#d8576b\"], [0.6666666666666666, \"#ed7953\"], [0.7777777777777778, \"#fb9f3a\"], [0.8888888888888888, \"#fdca26\"], [1.0, \"#f0f921\"]], \"type\": \"contour\"}], \"contourcarpet\": [{\"colorbar\": {\"outlinewidth\": 0, \"ticks\": \"\"}, \"type\": \"contourcarpet\"}], \"heatmap\": [{\"colorbar\": {\"outlinewidth\": 0, \"ticks\": \"\"}, \"colorscale\": [[0.0, \"#0d0887\"], [0.1111111111111111, \"#46039f\"], [0.2222222222222222, \"#7201a8\"], [0.3333333333333333, \"#9c179e\"], [0.4444444444444444, \"#bd3786\"], [0.5555555555555556, \"#d8576b\"], [0.6666666666666666, \"#ed7953\"], [0.7777777777777778, \"#fb9f3a\"], [0.8888888888888888, \"#fdca26\"], [1.0, \"#f0f921\"]], \"type\": \"heatmap\"}], \"heatmapgl\": [{\"colorbar\": {\"outlinewidth\": 0, \"ticks\": \"\"}, \"colorscale\": [[0.0, \"#0d0887\"], [0.1111111111111111, \"#46039f\"], [0.2222222222222222, \"#7201a8\"], [0.3333333333333333, \"#9c179e\"], [0.4444444444444444, \"#bd3786\"], [0.5555555555555556, \"#d8576b\"], [0.6666666666666666, \"#ed7953\"], [0.7777777777777778, \"#fb9f3a\"], [0.8888888888888888, \"#fdca26\"], [1.0, \"#f0f921\"]], \"type\": \"heatmapgl\"}], \"histogram\": [{\"marker\": {\"colorbar\": {\"outlinewidth\": 0, \"ticks\": \"\"}}, \"type\": \"histogram\"}], \"histogram2d\": [{\"colorbar\": {\"outlinewidth\": 0, \"ticks\": \"\"}, \"colorscale\": [[0.0, \"#0d0887\"], [0.1111111111111111, \"#46039f\"], [0.2222222222222222, \"#7201a8\"], [0.3333333333333333, \"#9c179e\"], [0.4444444444444444, \"#bd3786\"], [0.5555555555555556, \"#d8576b\"], [0.6666666666666666, \"#ed7953\"], [0.7777777777777778, \"#fb9f3a\"], [0.8888888888888888, \"#fdca26\"], [1.0, \"#f0f921\"]], \"type\": \"histogram2d\"}], \"histogram2dcontour\": [{\"colorbar\": {\"outlinewidth\": 0, \"ticks\": \"\"}, \"colorscale\": [[0.0, \"#0d0887\"], [0.1111111111111111, \"#46039f\"], [0.2222222222222222, \"#7201a8\"], [0.3333333333333333, \"#9c179e\"], [0.4444444444444444, \"#bd3786\"], [0.5555555555555556, \"#d8576b\"], [0.6666666666666666, \"#ed7953\"], [0.7777777777777778, \"#fb9f3a\"], [0.8888888888888888, \"#fdca26\"], [1.0, \"#f0f921\"]], \"type\": \"histogram2dcontour\"}], \"mesh3d\": [{\"colorbar\": {\"outlinewidth\": 0, \"ticks\": \"\"}, \"type\": \"mesh3d\"}], \"parcoords\": [{\"line\": {\"colorbar\": {\"outlinewidth\": 0, \"ticks\": \"\"}}, \"type\": \"parcoords\"}], \"pie\": [{\"automargin\": true, \"type\": \"pie\"}], \"scatter\": [{\"marker\": {\"colorbar\": {\"outlinewidth\": 0, \"ticks\": \"\"}}, \"type\": \"scatter\"}], \"scatter3d\": [{\"line\": {\"colorbar\": {\"outlinewidth\": 0, \"ticks\": \"\"}}, \"marker\": {\"colorbar\": {\"outlinewidth\": 0, \"ticks\": \"\"}}, \"type\": \"scatter3d\"}], \"scattercarpet\": [{\"marker\": {\"colorbar\": {\"outlinewidth\": 0, \"ticks\": \"\"}}, \"type\": \"scattercarpet\"}], \"scattergeo\": [{\"marker\": {\"colorbar\": {\"outlinewidth\": 0, \"ticks\": \"\"}}, \"type\": \"scattergeo\"}], \"scattergl\": [{\"marker\": {\"colorbar\": {\"outlinewidth\": 0, \"ticks\": \"\"}}, \"type\": \"scattergl\"}], \"scattermapbox\": [{\"marker\": {\"colorbar\": {\"outlinewidth\": 0, \"ticks\": \"\"}}, \"type\": \"scattermapbox\"}], \"scatterpolar\": [{\"marker\": {\"colorbar\": {\"outlinewidth\": 0, \"ticks\": \"\"}}, \"type\": \"scatterpolar\"}], \"scatterpolargl\": [{\"marker\": {\"colorbar\": {\"outlinewidth\": 0, \"ticks\": \"\"}}, \"type\": \"scatterpolargl\"}], \"scatterternary\": [{\"marker\": {\"colorbar\": {\"outlinewidth\": 0, \"ticks\": \"\"}}, \"type\": \"scatterternary\"}], \"surface\": [{\"colorbar\": {\"outlinewidth\": 0, \"ticks\": \"\"}, \"colorscale\": [[0.0, \"#0d0887\"], [0.1111111111111111, \"#46039f\"], [0.2222222222222222, \"#7201a8\"], [0.3333333333333333, \"#9c179e\"], [0.4444444444444444, \"#bd3786\"], [0.5555555555555556, \"#d8576b\"], [0.6666666666666666, \"#ed7953\"], [0.7777777777777778, \"#fb9f3a\"], [0.8888888888888888, \"#fdca26\"], [1.0, \"#f0f921\"]], \"type\": \"surface\"}], \"table\": [{\"cells\": {\"fill\": {\"color\": \"#EBF0F8\"}, \"line\": {\"color\": \"white\"}}, \"header\": {\"fill\": {\"color\": \"#C8D4E3\"}, \"line\": {\"color\": \"white\"}}, \"type\": \"table\"}]}, \"layout\": {\"annotationdefaults\": {\"arrowcolor\": \"#2a3f5f\", \"arrowhead\": 0, \"arrowwidth\": 1}, \"coloraxis\": {\"colorbar\": {\"outlinewidth\": 0, \"ticks\": \"\"}}, \"colorscale\": {\"diverging\": [[0, \"#8e0152\"], [0.1, \"#c51b7d\"], [0.2, \"#de77ae\"], [0.3, \"#f1b6da\"], [0.4, \"#fde0ef\"], [0.5, \"#f7f7f7\"], [0.6, \"#e6f5d0\"], [0.7, \"#b8e186\"], [0.8, \"#7fbc41\"], [0.9, \"#4d9221\"], [1, \"#276419\"]], \"sequential\": [[0.0, \"#0d0887\"], [0.1111111111111111, \"#46039f\"], [0.2222222222222222, \"#7201a8\"], [0.3333333333333333, \"#9c179e\"], [0.4444444444444444, \"#bd3786\"], [0.5555555555555556, \"#d8576b\"], [0.6666666666666666, \"#ed7953\"], [0.7777777777777778, \"#fb9f3a\"], [0.8888888888888888, \"#fdca26\"], [1.0, \"#f0f921\"]], \"sequentialminus\": [[0.0, \"#0d0887\"], [0.1111111111111111, \"#46039f\"], [0.2222222222222222, \"#7201a8\"], [0.3333333333333333, \"#9c179e\"], [0.4444444444444444, \"#bd3786\"], [0.5555555555555556, \"#d8576b\"], [0.6666666666666666, \"#ed7953\"], [0.7777777777777778, \"#fb9f3a\"], [0.8888888888888888, \"#fdca26\"], [1.0, \"#f0f921\"]]}, \"colorway\": [\"#636efa\", \"#EF553B\", \"#00cc96\", \"#ab63fa\", \"#FFA15A\", \"#19d3f3\", \"#FF6692\", \"#B6E880\", \"#FF97FF\", \"#FECB52\"], \"font\": {\"color\": \"#2a3f5f\"}, \"geo\": {\"bgcolor\": \"white\", \"lakecolor\": \"white\", \"landcolor\": \"#E5ECF6\", \"showlakes\": true, \"showland\": true, \"subunitcolor\": \"white\"}, \"hoverlabel\": {\"align\": \"left\"}, \"hovermode\": \"closest\", \"mapbox\": {\"style\": \"light\"}, \"paper_bgcolor\": \"white\", \"plot_bgcolor\": \"#E5ECF6\", \"polar\": {\"angularaxis\": {\"gridcolor\": \"white\", \"linecolor\": \"white\", \"ticks\": \"\"}, \"bgcolor\": \"#E5ECF6\", \"radialaxis\": {\"gridcolor\": \"white\", \"linecolor\": \"white\", \"ticks\": \"\"}}, \"scene\": {\"xaxis\": {\"backgroundcolor\": \"#E5ECF6\", \"gridcolor\": \"white\", \"gridwidth\": 2, \"linecolor\": \"white\", \"showbackground\": true, \"ticks\": \"\", \"zerolinecolor\": \"white\"}, \"yaxis\": {\"backgroundcolor\": \"#E5ECF6\", \"gridcolor\": \"white\", \"gridwidth\": 2, \"linecolor\": \"white\", \"showbackground\": true, \"ticks\": \"\", \"zerolinecolor\": \"white\"}, \"zaxis\": {\"backgroundcolor\": \"#E5ECF6\", \"gridcolor\": \"white\", \"gridwidth\": 2, \"linecolor\": \"white\", \"showbackground\": true, \"ticks\": \"\", \"zerolinecolor\": \"white\"}}, \"shapedefaults\": {\"line\": {\"color\": \"#2a3f5f\"}}, \"ternary\": {\"aaxis\": {\"gridcolor\": \"white\", \"linecolor\": \"white\", \"ticks\": \"\"}, \"baxis\": {\"gridcolor\": \"white\", \"linecolor\": \"white\", \"ticks\": \"\"}, \"bgcolor\": \"#E5ECF6\", \"caxis\": {\"gridcolor\": \"white\", \"linecolor\": \"white\", \"ticks\": \"\"}}, \"title\": {\"x\": 0.05}, \"xaxis\": {\"automargin\": true, \"gridcolor\": \"white\", \"linecolor\": \"white\", \"ticks\": \"\", \"title\": {\"standoff\": 15}, \"zerolinecolor\": \"white\", \"zerolinewidth\": 2}, \"yaxis\": {\"automargin\": true, \"gridcolor\": \"white\", \"linecolor\": \"white\", \"ticks\": \"\", \"title\": {\"standoff\": 15}, \"zerolinecolor\": \"white\", \"zerolinewidth\": 2}}}, \"title\": {\"font\": {\"color\": \"#4D5663\"}}, \"xaxis\": {\"gridcolor\": \"#E1E5ED\", \"showgrid\": true, \"tickfont\": {\"color\": \"#4D5663\"}, \"title\": {\"font\": {\"color\": \"#4D5663\"}, \"text\": \"\"}, \"zerolinecolor\": \"#E1E5ED\"}, \"xaxis2\": {\"anchor\": \"y2\", \"gridcolor\": \"#E1E5ED\", \"showgrid\": true, \"showticklabels\": false, \"tickfont\": {\"color\": \"#4D5663\"}, \"title\": {\"font\": {\"color\": \"#4D5663\"}, \"text\": \"\"}, \"zerolinecolor\": \"#E1E5ED\"}, \"yaxis\": {\"domain\": [0.3, 1], \"gridcolor\": \"#E1E5ED\", \"showgrid\": true, \"tickfont\": {\"color\": \"#4D5663\"}, \"title\": {\"font\": {\"color\": \"#4D5663\"}, \"text\": \"\"}, \"zerolinecolor\": \"#E1E5ED\"}, \"yaxis2\": {\"domain\": [0, 0.25], \"gridcolor\": \"#E1E5ED\", \"showgrid\": true, \"tickfont\": {\"color\": \"#4D5663\"}, \"title\": {\"font\": {\"color\": \"#4D5663\"}, \"text\": \"Spread\"}, \"zerolinecolor\": \"#E1E5ED\"}},\n",
       "                        {\"showLink\": true, \"linkText\": \"Export to plot.ly\", \"plotlyServerURL\": \"https://plot.ly\", \"responsive\": true}\n",
       "                    ).then(function(){\n",
       "                            \n",
       "var gd = document.getElementById('698aae4e-e30d-4c48-9d29-412f6a1538c3');\n",
       "var x = new MutationObserver(function (mutations, observer) {{\n",
       "        var display = window.getComputedStyle(gd).display;\n",
       "        if (!display || display === 'none') {{\n",
       "            console.log([gd, 'removed!']);\n",
       "            Plotly.purge(gd);\n",
       "            observer.disconnect();\n",
       "        }}\n",
       "}});\n",
       "\n",
       "// Listen for the removal of the full notebook cells\n",
       "var notebookContainer = gd.closest('#notebook-container');\n",
       "if (notebookContainer) {{\n",
       "    x.observe(notebookContainer, {childList: true});\n",
       "}}\n",
       "\n",
       "// Listen for the clearing of the current output cell\n",
       "var outputEl = gd.closest('.output');\n",
       "if (outputEl) {{\n",
       "    x.observe(outputEl, {childList: true});\n",
       "}}\n",
       "\n",
       "                        })\n",
       "                };\n",
       "                });\n",
       "            </script>\n",
       "        </div>"
      ]
     },
     "metadata": {},
     "output_type": "display_data"
    }
   ],
   "source": [
    "df[['A','B']].iplot(kind='spread')"
   ]
  },
  {
   "cell_type": "markdown",
   "metadata": {},
   "source": [
    "## histogram"
   ]
  },
  {
   "cell_type": "code",
   "execution_count": 17,
   "metadata": {},
   "outputs": [
    {
     "data": {
      "application/vnd.plotly.v1+json": {
       "config": {
        "linkText": "Export to plot.ly",
        "plotlyServerURL": "https://plot.ly",
        "showLink": true
       },
       "data": [
        {
         "histfunc": "count",
         "histnorm": "",
         "marker": {
          "color": "rgba(255, 153, 51, 1.0)",
          "line": {
           "color": "#4D5663",
           "width": 1.3
          }
         },
         "name": "A",
         "nbinsx": 25,
         "opacity": 0.8,
         "orientation": "v",
         "type": "histogram",
         "x": [
          0.21333712036216956,
          0.25665047651329204,
          1.9275407354802638,
          -0.1630088122780753,
          -0.7096503484216469,
          1.1427364761321277,
          2.084635310234222,
          -0.026399085983079537,
          -1.988420853788765,
          0.671292439856992,
          0.13993436471277995,
          0.7670216335899259,
          -0.7402054775005389,
          -1.4399459740799503,
          -1.2005486697745715,
          -1.165410327584835,
          0.6644248169283439,
          -0.028756506557073572,
          0.2516096398380415,
          -0.8146789513812929,
          -0.7224259322456218,
          -0.781910319181829,
          1.7911704476562211,
          -0.39073082039979745,
          -1.4352271322521146,
          0.3248760858998426,
          1.3214965589574204,
          0.1523080436319771,
          0.2141843572991045,
          -1.2217631454104891,
          -0.42887146674778853,
          -1.0642408721713603,
          -1.4620971662626352,
          1.123140947567761,
          0.07443428772796729,
          1.216309038820772,
          -0.020010207442218403,
          -1.0939099461120412,
          -0.5902945316229972,
          -1.6464425979687698,
          -1.1335630422281875,
          0.3685681559789853,
          0.9319954006380338,
          -0.38370523637238346,
          0.9729279519725634,
          0.6060350277351296,
          -1.5064314701773505,
          -0.11686442762806791,
          -0.04540867924604806,
          -1.4647848980138103,
          1.1033504484307806,
          -0.7637901184582542,
          0.7717287733084981,
          -0.2250405260743319,
          -0.3105523373298624,
          1.6250414877666595,
          -0.7154154635129228,
          -1.0137527586625759,
          -0.18160091030832878,
          0.7278260419848971,
          -1.4462848221517628,
          -0.2149209788992766,
          -0.02736333868677174,
          -0.4083772190277294,
          -1.3903448037480677,
          -0.1421538438592139,
          -0.7899119363245749,
          0.03614779270578574,
          1.114018405015867,
          0.8338294539917678,
          -0.5623298737996674,
          1.0775148567887205,
          -0.1301928773075661,
          -0.2511044988443641,
          0.5230267449493876,
          1.3212937313584114,
          1.483707056566117,
          1.9612035531763654,
          0.883359642676606,
          2.432854412098014,
          -0.4365300341492609,
          -1.6526007572122574,
          -0.1837514310451801,
          0.36087956949198857,
          -0.7012283537323358,
          -0.5790769597484454,
          -0.24819410221512403,
          -1.4940388601122643,
          0.16135932479736645,
          -1.069825539040541,
          1.5464357268018578,
          -0.12075629883590314,
          -1.6583980247893007,
          0.33209734423001075,
          -2.707552450449217,
          0.2128183167584507,
          0.6232552740258526,
          2.333363703121639,
          1.5198415518587358,
          -0.05955186507850644
         ]
        }
       ],
       "layout": {
        "barmode": "overlay",
        "legend": {
         "bgcolor": "#F5F6F9",
         "font": {
          "color": "#4D5663"
         }
        },
        "paper_bgcolor": "#F5F6F9",
        "plot_bgcolor": "#F5F6F9",
        "template": {
         "data": {
          "bar": [
           {
            "error_x": {
             "color": "#2a3f5f"
            },
            "error_y": {
             "color": "#2a3f5f"
            },
            "marker": {
             "line": {
              "color": "#E5ECF6",
              "width": 0.5
             }
            },
            "type": "bar"
           }
          ],
          "barpolar": [
           {
            "marker": {
             "line": {
              "color": "#E5ECF6",
              "width": 0.5
             }
            },
            "type": "barpolar"
           }
          ],
          "carpet": [
           {
            "aaxis": {
             "endlinecolor": "#2a3f5f",
             "gridcolor": "white",
             "linecolor": "white",
             "minorgridcolor": "white",
             "startlinecolor": "#2a3f5f"
            },
            "baxis": {
             "endlinecolor": "#2a3f5f",
             "gridcolor": "white",
             "linecolor": "white",
             "minorgridcolor": "white",
             "startlinecolor": "#2a3f5f"
            },
            "type": "carpet"
           }
          ],
          "choropleth": [
           {
            "colorbar": {
             "outlinewidth": 0,
             "ticks": ""
            },
            "type": "choropleth"
           }
          ],
          "contour": [
           {
            "colorbar": {
             "outlinewidth": 0,
             "ticks": ""
            },
            "colorscale": [
             [
              0,
              "#0d0887"
             ],
             [
              0.1111111111111111,
              "#46039f"
             ],
             [
              0.2222222222222222,
              "#7201a8"
             ],
             [
              0.3333333333333333,
              "#9c179e"
             ],
             [
              0.4444444444444444,
              "#bd3786"
             ],
             [
              0.5555555555555556,
              "#d8576b"
             ],
             [
              0.6666666666666666,
              "#ed7953"
             ],
             [
              0.7777777777777778,
              "#fb9f3a"
             ],
             [
              0.8888888888888888,
              "#fdca26"
             ],
             [
              1,
              "#f0f921"
             ]
            ],
            "type": "contour"
           }
          ],
          "contourcarpet": [
           {
            "colorbar": {
             "outlinewidth": 0,
             "ticks": ""
            },
            "type": "contourcarpet"
           }
          ],
          "heatmap": [
           {
            "colorbar": {
             "outlinewidth": 0,
             "ticks": ""
            },
            "colorscale": [
             [
              0,
              "#0d0887"
             ],
             [
              0.1111111111111111,
              "#46039f"
             ],
             [
              0.2222222222222222,
              "#7201a8"
             ],
             [
              0.3333333333333333,
              "#9c179e"
             ],
             [
              0.4444444444444444,
              "#bd3786"
             ],
             [
              0.5555555555555556,
              "#d8576b"
             ],
             [
              0.6666666666666666,
              "#ed7953"
             ],
             [
              0.7777777777777778,
              "#fb9f3a"
             ],
             [
              0.8888888888888888,
              "#fdca26"
             ],
             [
              1,
              "#f0f921"
             ]
            ],
            "type": "heatmap"
           }
          ],
          "heatmapgl": [
           {
            "colorbar": {
             "outlinewidth": 0,
             "ticks": ""
            },
            "colorscale": [
             [
              0,
              "#0d0887"
             ],
             [
              0.1111111111111111,
              "#46039f"
             ],
             [
              0.2222222222222222,
              "#7201a8"
             ],
             [
              0.3333333333333333,
              "#9c179e"
             ],
             [
              0.4444444444444444,
              "#bd3786"
             ],
             [
              0.5555555555555556,
              "#d8576b"
             ],
             [
              0.6666666666666666,
              "#ed7953"
             ],
             [
              0.7777777777777778,
              "#fb9f3a"
             ],
             [
              0.8888888888888888,
              "#fdca26"
             ],
             [
              1,
              "#f0f921"
             ]
            ],
            "type": "heatmapgl"
           }
          ],
          "histogram": [
           {
            "marker": {
             "colorbar": {
              "outlinewidth": 0,
              "ticks": ""
             }
            },
            "type": "histogram"
           }
          ],
          "histogram2d": [
           {
            "colorbar": {
             "outlinewidth": 0,
             "ticks": ""
            },
            "colorscale": [
             [
              0,
              "#0d0887"
             ],
             [
              0.1111111111111111,
              "#46039f"
             ],
             [
              0.2222222222222222,
              "#7201a8"
             ],
             [
              0.3333333333333333,
              "#9c179e"
             ],
             [
              0.4444444444444444,
              "#bd3786"
             ],
             [
              0.5555555555555556,
              "#d8576b"
             ],
             [
              0.6666666666666666,
              "#ed7953"
             ],
             [
              0.7777777777777778,
              "#fb9f3a"
             ],
             [
              0.8888888888888888,
              "#fdca26"
             ],
             [
              1,
              "#f0f921"
             ]
            ],
            "type": "histogram2d"
           }
          ],
          "histogram2dcontour": [
           {
            "colorbar": {
             "outlinewidth": 0,
             "ticks": ""
            },
            "colorscale": [
             [
              0,
              "#0d0887"
             ],
             [
              0.1111111111111111,
              "#46039f"
             ],
             [
              0.2222222222222222,
              "#7201a8"
             ],
             [
              0.3333333333333333,
              "#9c179e"
             ],
             [
              0.4444444444444444,
              "#bd3786"
             ],
             [
              0.5555555555555556,
              "#d8576b"
             ],
             [
              0.6666666666666666,
              "#ed7953"
             ],
             [
              0.7777777777777778,
              "#fb9f3a"
             ],
             [
              0.8888888888888888,
              "#fdca26"
             ],
             [
              1,
              "#f0f921"
             ]
            ],
            "type": "histogram2dcontour"
           }
          ],
          "mesh3d": [
           {
            "colorbar": {
             "outlinewidth": 0,
             "ticks": ""
            },
            "type": "mesh3d"
           }
          ],
          "parcoords": [
           {
            "line": {
             "colorbar": {
              "outlinewidth": 0,
              "ticks": ""
             }
            },
            "type": "parcoords"
           }
          ],
          "pie": [
           {
            "automargin": true,
            "type": "pie"
           }
          ],
          "scatter": [
           {
            "marker": {
             "colorbar": {
              "outlinewidth": 0,
              "ticks": ""
             }
            },
            "type": "scatter"
           }
          ],
          "scatter3d": [
           {
            "line": {
             "colorbar": {
              "outlinewidth": 0,
              "ticks": ""
             }
            },
            "marker": {
             "colorbar": {
              "outlinewidth": 0,
              "ticks": ""
             }
            },
            "type": "scatter3d"
           }
          ],
          "scattercarpet": [
           {
            "marker": {
             "colorbar": {
              "outlinewidth": 0,
              "ticks": ""
             }
            },
            "type": "scattercarpet"
           }
          ],
          "scattergeo": [
           {
            "marker": {
             "colorbar": {
              "outlinewidth": 0,
              "ticks": ""
             }
            },
            "type": "scattergeo"
           }
          ],
          "scattergl": [
           {
            "marker": {
             "colorbar": {
              "outlinewidth": 0,
              "ticks": ""
             }
            },
            "type": "scattergl"
           }
          ],
          "scattermapbox": [
           {
            "marker": {
             "colorbar": {
              "outlinewidth": 0,
              "ticks": ""
             }
            },
            "type": "scattermapbox"
           }
          ],
          "scatterpolar": [
           {
            "marker": {
             "colorbar": {
              "outlinewidth": 0,
              "ticks": ""
             }
            },
            "type": "scatterpolar"
           }
          ],
          "scatterpolargl": [
           {
            "marker": {
             "colorbar": {
              "outlinewidth": 0,
              "ticks": ""
             }
            },
            "type": "scatterpolargl"
           }
          ],
          "scatterternary": [
           {
            "marker": {
             "colorbar": {
              "outlinewidth": 0,
              "ticks": ""
             }
            },
            "type": "scatterternary"
           }
          ],
          "surface": [
           {
            "colorbar": {
             "outlinewidth": 0,
             "ticks": ""
            },
            "colorscale": [
             [
              0,
              "#0d0887"
             ],
             [
              0.1111111111111111,
              "#46039f"
             ],
             [
              0.2222222222222222,
              "#7201a8"
             ],
             [
              0.3333333333333333,
              "#9c179e"
             ],
             [
              0.4444444444444444,
              "#bd3786"
             ],
             [
              0.5555555555555556,
              "#d8576b"
             ],
             [
              0.6666666666666666,
              "#ed7953"
             ],
             [
              0.7777777777777778,
              "#fb9f3a"
             ],
             [
              0.8888888888888888,
              "#fdca26"
             ],
             [
              1,
              "#f0f921"
             ]
            ],
            "type": "surface"
           }
          ],
          "table": [
           {
            "cells": {
             "fill": {
              "color": "#EBF0F8"
             },
             "line": {
              "color": "white"
             }
            },
            "header": {
             "fill": {
              "color": "#C8D4E3"
             },
             "line": {
              "color": "white"
             }
            },
            "type": "table"
           }
          ]
         },
         "layout": {
          "annotationdefaults": {
           "arrowcolor": "#2a3f5f",
           "arrowhead": 0,
           "arrowwidth": 1
          },
          "coloraxis": {
           "colorbar": {
            "outlinewidth": 0,
            "ticks": ""
           }
          },
          "colorscale": {
           "diverging": [
            [
             0,
             "#8e0152"
            ],
            [
             0.1,
             "#c51b7d"
            ],
            [
             0.2,
             "#de77ae"
            ],
            [
             0.3,
             "#f1b6da"
            ],
            [
             0.4,
             "#fde0ef"
            ],
            [
             0.5,
             "#f7f7f7"
            ],
            [
             0.6,
             "#e6f5d0"
            ],
            [
             0.7,
             "#b8e186"
            ],
            [
             0.8,
             "#7fbc41"
            ],
            [
             0.9,
             "#4d9221"
            ],
            [
             1,
             "#276419"
            ]
           ],
           "sequential": [
            [
             0,
             "#0d0887"
            ],
            [
             0.1111111111111111,
             "#46039f"
            ],
            [
             0.2222222222222222,
             "#7201a8"
            ],
            [
             0.3333333333333333,
             "#9c179e"
            ],
            [
             0.4444444444444444,
             "#bd3786"
            ],
            [
             0.5555555555555556,
             "#d8576b"
            ],
            [
             0.6666666666666666,
             "#ed7953"
            ],
            [
             0.7777777777777778,
             "#fb9f3a"
            ],
            [
             0.8888888888888888,
             "#fdca26"
            ],
            [
             1,
             "#f0f921"
            ]
           ],
           "sequentialminus": [
            [
             0,
             "#0d0887"
            ],
            [
             0.1111111111111111,
             "#46039f"
            ],
            [
             0.2222222222222222,
             "#7201a8"
            ],
            [
             0.3333333333333333,
             "#9c179e"
            ],
            [
             0.4444444444444444,
             "#bd3786"
            ],
            [
             0.5555555555555556,
             "#d8576b"
            ],
            [
             0.6666666666666666,
             "#ed7953"
            ],
            [
             0.7777777777777778,
             "#fb9f3a"
            ],
            [
             0.8888888888888888,
             "#fdca26"
            ],
            [
             1,
             "#f0f921"
            ]
           ]
          },
          "colorway": [
           "#636efa",
           "#EF553B",
           "#00cc96",
           "#ab63fa",
           "#FFA15A",
           "#19d3f3",
           "#FF6692",
           "#B6E880",
           "#FF97FF",
           "#FECB52"
          ],
          "font": {
           "color": "#2a3f5f"
          },
          "geo": {
           "bgcolor": "white",
           "lakecolor": "white",
           "landcolor": "#E5ECF6",
           "showlakes": true,
           "showland": true,
           "subunitcolor": "white"
          },
          "hoverlabel": {
           "align": "left"
          },
          "hovermode": "closest",
          "mapbox": {
           "style": "light"
          },
          "paper_bgcolor": "white",
          "plot_bgcolor": "#E5ECF6",
          "polar": {
           "angularaxis": {
            "gridcolor": "white",
            "linecolor": "white",
            "ticks": ""
           },
           "bgcolor": "#E5ECF6",
           "radialaxis": {
            "gridcolor": "white",
            "linecolor": "white",
            "ticks": ""
           }
          },
          "scene": {
           "xaxis": {
            "backgroundcolor": "#E5ECF6",
            "gridcolor": "white",
            "gridwidth": 2,
            "linecolor": "white",
            "showbackground": true,
            "ticks": "",
            "zerolinecolor": "white"
           },
           "yaxis": {
            "backgroundcolor": "#E5ECF6",
            "gridcolor": "white",
            "gridwidth": 2,
            "linecolor": "white",
            "showbackground": true,
            "ticks": "",
            "zerolinecolor": "white"
           },
           "zaxis": {
            "backgroundcolor": "#E5ECF6",
            "gridcolor": "white",
            "gridwidth": 2,
            "linecolor": "white",
            "showbackground": true,
            "ticks": "",
            "zerolinecolor": "white"
           }
          },
          "shapedefaults": {
           "line": {
            "color": "#2a3f5f"
           }
          },
          "ternary": {
           "aaxis": {
            "gridcolor": "white",
            "linecolor": "white",
            "ticks": ""
           },
           "baxis": {
            "gridcolor": "white",
            "linecolor": "white",
            "ticks": ""
           },
           "bgcolor": "#E5ECF6",
           "caxis": {
            "gridcolor": "white",
            "linecolor": "white",
            "ticks": ""
           }
          },
          "title": {
           "x": 0.05
          },
          "xaxis": {
           "automargin": true,
           "gridcolor": "white",
           "linecolor": "white",
           "ticks": "",
           "title": {
            "standoff": 15
           },
           "zerolinecolor": "white",
           "zerolinewidth": 2
          },
          "yaxis": {
           "automargin": true,
           "gridcolor": "white",
           "linecolor": "white",
           "ticks": "",
           "title": {
            "standoff": 15
           },
           "zerolinecolor": "white",
           "zerolinewidth": 2
          }
         }
        },
        "title": {
         "font": {
          "color": "#4D5663"
         }
        },
        "xaxis": {
         "gridcolor": "#E1E5ED",
         "showgrid": true,
         "tickfont": {
          "color": "#4D5663"
         },
         "title": {
          "font": {
           "color": "#4D5663"
          },
          "text": ""
         },
         "zerolinecolor": "#E1E5ED"
        },
        "yaxis": {
         "gridcolor": "#E1E5ED",
         "showgrid": true,
         "tickfont": {
          "color": "#4D5663"
         },
         "title": {
          "font": {
           "color": "#4D5663"
          },
          "text": ""
         },
         "zerolinecolor": "#E1E5ED"
        }
       }
      },
      "text/html": [
       "<div>\n",
       "        \n",
       "        \n",
       "            <div id=\"84cba45f-325c-4ca6-b32e-dae17b2b5300\" class=\"plotly-graph-div\" style=\"height:525px; width:100%;\"></div>\n",
       "            <script type=\"text/javascript\">\n",
       "                require([\"plotly\"], function(Plotly) {\n",
       "                    window.PLOTLYENV=window.PLOTLYENV || {};\n",
       "                    window.PLOTLYENV.BASE_URL='https://plot.ly';\n",
       "                    \n",
       "                if (document.getElementById(\"84cba45f-325c-4ca6-b32e-dae17b2b5300\")) {\n",
       "                    Plotly.newPlot(\n",
       "                        '84cba45f-325c-4ca6-b32e-dae17b2b5300',\n",
       "                        [{\"histfunc\": \"count\", \"histnorm\": \"\", \"marker\": {\"color\": \"rgba(255, 153, 51, 1.0)\", \"line\": {\"color\": \"#4D5663\", \"width\": 1.3}}, \"name\": \"A\", \"nbinsx\": 25, \"opacity\": 0.8, \"orientation\": \"v\", \"type\": \"histogram\", \"x\": [0.21333712036216956, 0.25665047651329204, 1.9275407354802638, -0.1630088122780753, -0.7096503484216469, 1.1427364761321277, 2.084635310234222, -0.026399085983079537, -1.988420853788765, 0.671292439856992, 0.13993436471277995, 0.7670216335899259, -0.7402054775005389, -1.4399459740799503, -1.2005486697745715, -1.165410327584835, 0.6644248169283439, -0.028756506557073572, 0.2516096398380415, -0.8146789513812929, -0.7224259322456218, -0.781910319181829, 1.7911704476562211, -0.39073082039979745, -1.4352271322521146, 0.3248760858998426, 1.3214965589574204, 0.1523080436319771, 0.2141843572991045, -1.2217631454104891, -0.42887146674778853, -1.0642408721713603, -1.4620971662626352, 1.123140947567761, 0.07443428772796729, 1.216309038820772, -0.020010207442218403, -1.0939099461120412, -0.5902945316229972, -1.6464425979687698, -1.1335630422281875, 0.3685681559789853, 0.9319954006380338, -0.38370523637238346, 0.9729279519725634, 0.6060350277351296, -1.5064314701773505, -0.11686442762806791, -0.04540867924604806, -1.4647848980138103, 1.1033504484307806, -0.7637901184582542, 0.7717287733084981, -0.2250405260743319, -0.3105523373298624, 1.6250414877666595, -0.7154154635129228, -1.0137527586625759, -0.18160091030832878, 0.7278260419848971, -1.4462848221517628, -0.2149209788992766, -0.02736333868677174, -0.4083772190277294, -1.3903448037480677, -0.1421538438592139, -0.7899119363245749, 0.03614779270578574, 1.114018405015867, 0.8338294539917678, -0.5623298737996674, 1.0775148567887205, -0.1301928773075661, -0.2511044988443641, 0.5230267449493876, 1.3212937313584114, 1.483707056566117, 1.9612035531763654, 0.883359642676606, 2.432854412098014, -0.4365300341492609, -1.6526007572122574, -0.1837514310451801, 0.36087956949198857, -0.7012283537323358, -0.5790769597484454, -0.24819410221512403, -1.4940388601122643, 0.16135932479736645, -1.069825539040541, 1.5464357268018578, -0.12075629883590314, -1.6583980247893007, 0.33209734423001075, -2.707552450449217, 0.2128183167584507, 0.6232552740258526, 2.333363703121639, 1.5198415518587358, -0.05955186507850644]}],\n",
       "                        {\"barmode\": \"overlay\", \"legend\": {\"bgcolor\": \"#F5F6F9\", \"font\": {\"color\": \"#4D5663\"}}, \"paper_bgcolor\": \"#F5F6F9\", \"plot_bgcolor\": \"#F5F6F9\", \"template\": {\"data\": {\"bar\": [{\"error_x\": {\"color\": \"#2a3f5f\"}, \"error_y\": {\"color\": \"#2a3f5f\"}, \"marker\": {\"line\": {\"color\": \"#E5ECF6\", \"width\": 0.5}}, \"type\": \"bar\"}], \"barpolar\": [{\"marker\": {\"line\": {\"color\": \"#E5ECF6\", \"width\": 0.5}}, \"type\": \"barpolar\"}], \"carpet\": [{\"aaxis\": {\"endlinecolor\": \"#2a3f5f\", \"gridcolor\": \"white\", \"linecolor\": \"white\", \"minorgridcolor\": \"white\", \"startlinecolor\": \"#2a3f5f\"}, \"baxis\": {\"endlinecolor\": \"#2a3f5f\", \"gridcolor\": \"white\", \"linecolor\": \"white\", \"minorgridcolor\": \"white\", \"startlinecolor\": \"#2a3f5f\"}, \"type\": \"carpet\"}], \"choropleth\": [{\"colorbar\": {\"outlinewidth\": 0, \"ticks\": \"\"}, \"type\": \"choropleth\"}], \"contour\": [{\"colorbar\": {\"outlinewidth\": 0, \"ticks\": \"\"}, \"colorscale\": [[0.0, \"#0d0887\"], [0.1111111111111111, \"#46039f\"], [0.2222222222222222, \"#7201a8\"], [0.3333333333333333, \"#9c179e\"], [0.4444444444444444, \"#bd3786\"], [0.5555555555555556, \"#d8576b\"], [0.6666666666666666, \"#ed7953\"], [0.7777777777777778, \"#fb9f3a\"], [0.8888888888888888, \"#fdca26\"], [1.0, \"#f0f921\"]], \"type\": \"contour\"}], \"contourcarpet\": [{\"colorbar\": {\"outlinewidth\": 0, \"ticks\": \"\"}, \"type\": \"contourcarpet\"}], \"heatmap\": [{\"colorbar\": {\"outlinewidth\": 0, \"ticks\": \"\"}, \"colorscale\": [[0.0, \"#0d0887\"], [0.1111111111111111, \"#46039f\"], [0.2222222222222222, \"#7201a8\"], [0.3333333333333333, \"#9c179e\"], [0.4444444444444444, \"#bd3786\"], [0.5555555555555556, \"#d8576b\"], [0.6666666666666666, \"#ed7953\"], [0.7777777777777778, \"#fb9f3a\"], [0.8888888888888888, \"#fdca26\"], [1.0, \"#f0f921\"]], \"type\": \"heatmap\"}], \"heatmapgl\": [{\"colorbar\": {\"outlinewidth\": 0, \"ticks\": \"\"}, \"colorscale\": [[0.0, \"#0d0887\"], [0.1111111111111111, \"#46039f\"], [0.2222222222222222, \"#7201a8\"], [0.3333333333333333, \"#9c179e\"], [0.4444444444444444, \"#bd3786\"], [0.5555555555555556, \"#d8576b\"], [0.6666666666666666, \"#ed7953\"], [0.7777777777777778, \"#fb9f3a\"], [0.8888888888888888, \"#fdca26\"], [1.0, \"#f0f921\"]], \"type\": \"heatmapgl\"}], \"histogram\": [{\"marker\": {\"colorbar\": {\"outlinewidth\": 0, \"ticks\": \"\"}}, \"type\": \"histogram\"}], \"histogram2d\": [{\"colorbar\": {\"outlinewidth\": 0, \"ticks\": \"\"}, \"colorscale\": [[0.0, \"#0d0887\"], [0.1111111111111111, \"#46039f\"], [0.2222222222222222, \"#7201a8\"], [0.3333333333333333, \"#9c179e\"], [0.4444444444444444, \"#bd3786\"], [0.5555555555555556, \"#d8576b\"], [0.6666666666666666, \"#ed7953\"], [0.7777777777777778, \"#fb9f3a\"], [0.8888888888888888, \"#fdca26\"], [1.0, \"#f0f921\"]], \"type\": \"histogram2d\"}], \"histogram2dcontour\": [{\"colorbar\": {\"outlinewidth\": 0, \"ticks\": \"\"}, \"colorscale\": [[0.0, \"#0d0887\"], [0.1111111111111111, \"#46039f\"], [0.2222222222222222, \"#7201a8\"], [0.3333333333333333, \"#9c179e\"], [0.4444444444444444, \"#bd3786\"], [0.5555555555555556, \"#d8576b\"], [0.6666666666666666, \"#ed7953\"], [0.7777777777777778, \"#fb9f3a\"], [0.8888888888888888, \"#fdca26\"], [1.0, \"#f0f921\"]], \"type\": \"histogram2dcontour\"}], \"mesh3d\": [{\"colorbar\": {\"outlinewidth\": 0, \"ticks\": \"\"}, \"type\": \"mesh3d\"}], \"parcoords\": [{\"line\": {\"colorbar\": {\"outlinewidth\": 0, \"ticks\": \"\"}}, \"type\": \"parcoords\"}], \"pie\": [{\"automargin\": true, \"type\": \"pie\"}], \"scatter\": [{\"marker\": {\"colorbar\": {\"outlinewidth\": 0, \"ticks\": \"\"}}, \"type\": \"scatter\"}], \"scatter3d\": [{\"line\": {\"colorbar\": {\"outlinewidth\": 0, \"ticks\": \"\"}}, \"marker\": {\"colorbar\": {\"outlinewidth\": 0, \"ticks\": \"\"}}, \"type\": \"scatter3d\"}], \"scattercarpet\": [{\"marker\": {\"colorbar\": {\"outlinewidth\": 0, \"ticks\": \"\"}}, \"type\": \"scattercarpet\"}], \"scattergeo\": [{\"marker\": {\"colorbar\": {\"outlinewidth\": 0, \"ticks\": \"\"}}, \"type\": \"scattergeo\"}], \"scattergl\": [{\"marker\": {\"colorbar\": {\"outlinewidth\": 0, \"ticks\": \"\"}}, \"type\": \"scattergl\"}], \"scattermapbox\": [{\"marker\": {\"colorbar\": {\"outlinewidth\": 0, \"ticks\": \"\"}}, \"type\": \"scattermapbox\"}], \"scatterpolar\": [{\"marker\": {\"colorbar\": {\"outlinewidth\": 0, \"ticks\": \"\"}}, \"type\": \"scatterpolar\"}], \"scatterpolargl\": [{\"marker\": {\"colorbar\": {\"outlinewidth\": 0, \"ticks\": \"\"}}, \"type\": \"scatterpolargl\"}], \"scatterternary\": [{\"marker\": {\"colorbar\": {\"outlinewidth\": 0, \"ticks\": \"\"}}, \"type\": \"scatterternary\"}], \"surface\": [{\"colorbar\": {\"outlinewidth\": 0, \"ticks\": \"\"}, \"colorscale\": [[0.0, \"#0d0887\"], [0.1111111111111111, \"#46039f\"], [0.2222222222222222, \"#7201a8\"], [0.3333333333333333, \"#9c179e\"], [0.4444444444444444, \"#bd3786\"], [0.5555555555555556, \"#d8576b\"], [0.6666666666666666, \"#ed7953\"], [0.7777777777777778, \"#fb9f3a\"], [0.8888888888888888, \"#fdca26\"], [1.0, \"#f0f921\"]], \"type\": \"surface\"}], \"table\": [{\"cells\": {\"fill\": {\"color\": \"#EBF0F8\"}, \"line\": {\"color\": \"white\"}}, \"header\": {\"fill\": {\"color\": \"#C8D4E3\"}, \"line\": {\"color\": \"white\"}}, \"type\": \"table\"}]}, \"layout\": {\"annotationdefaults\": {\"arrowcolor\": \"#2a3f5f\", \"arrowhead\": 0, \"arrowwidth\": 1}, \"coloraxis\": {\"colorbar\": {\"outlinewidth\": 0, \"ticks\": \"\"}}, \"colorscale\": {\"diverging\": [[0, \"#8e0152\"], [0.1, \"#c51b7d\"], [0.2, \"#de77ae\"], [0.3, \"#f1b6da\"], [0.4, \"#fde0ef\"], [0.5, \"#f7f7f7\"], [0.6, \"#e6f5d0\"], [0.7, \"#b8e186\"], [0.8, \"#7fbc41\"], [0.9, \"#4d9221\"], [1, \"#276419\"]], \"sequential\": [[0.0, \"#0d0887\"], [0.1111111111111111, \"#46039f\"], [0.2222222222222222, \"#7201a8\"], [0.3333333333333333, \"#9c179e\"], [0.4444444444444444, \"#bd3786\"], [0.5555555555555556, \"#d8576b\"], [0.6666666666666666, \"#ed7953\"], [0.7777777777777778, \"#fb9f3a\"], [0.8888888888888888, \"#fdca26\"], [1.0, \"#f0f921\"]], \"sequentialminus\": [[0.0, \"#0d0887\"], [0.1111111111111111, \"#46039f\"], [0.2222222222222222, \"#7201a8\"], [0.3333333333333333, \"#9c179e\"], [0.4444444444444444, \"#bd3786\"], [0.5555555555555556, \"#d8576b\"], [0.6666666666666666, \"#ed7953\"], [0.7777777777777778, \"#fb9f3a\"], [0.8888888888888888, \"#fdca26\"], [1.0, \"#f0f921\"]]}, \"colorway\": [\"#636efa\", \"#EF553B\", \"#00cc96\", \"#ab63fa\", \"#FFA15A\", \"#19d3f3\", \"#FF6692\", \"#B6E880\", \"#FF97FF\", \"#FECB52\"], \"font\": {\"color\": \"#2a3f5f\"}, \"geo\": {\"bgcolor\": \"white\", \"lakecolor\": \"white\", \"landcolor\": \"#E5ECF6\", \"showlakes\": true, \"showland\": true, \"subunitcolor\": \"white\"}, \"hoverlabel\": {\"align\": \"left\"}, \"hovermode\": \"closest\", \"mapbox\": {\"style\": \"light\"}, \"paper_bgcolor\": \"white\", \"plot_bgcolor\": \"#E5ECF6\", \"polar\": {\"angularaxis\": {\"gridcolor\": \"white\", \"linecolor\": \"white\", \"ticks\": \"\"}, \"bgcolor\": \"#E5ECF6\", \"radialaxis\": {\"gridcolor\": \"white\", \"linecolor\": \"white\", \"ticks\": \"\"}}, \"scene\": {\"xaxis\": {\"backgroundcolor\": \"#E5ECF6\", \"gridcolor\": \"white\", \"gridwidth\": 2, \"linecolor\": \"white\", \"showbackground\": true, \"ticks\": \"\", \"zerolinecolor\": \"white\"}, \"yaxis\": {\"backgroundcolor\": \"#E5ECF6\", \"gridcolor\": \"white\", \"gridwidth\": 2, \"linecolor\": \"white\", \"showbackground\": true, \"ticks\": \"\", \"zerolinecolor\": \"white\"}, \"zaxis\": {\"backgroundcolor\": \"#E5ECF6\", \"gridcolor\": \"white\", \"gridwidth\": 2, \"linecolor\": \"white\", \"showbackground\": true, \"ticks\": \"\", \"zerolinecolor\": \"white\"}}, \"shapedefaults\": {\"line\": {\"color\": \"#2a3f5f\"}}, \"ternary\": {\"aaxis\": {\"gridcolor\": \"white\", \"linecolor\": \"white\", \"ticks\": \"\"}, \"baxis\": {\"gridcolor\": \"white\", \"linecolor\": \"white\", \"ticks\": \"\"}, \"bgcolor\": \"#E5ECF6\", \"caxis\": {\"gridcolor\": \"white\", \"linecolor\": \"white\", \"ticks\": \"\"}}, \"title\": {\"x\": 0.05}, \"xaxis\": {\"automargin\": true, \"gridcolor\": \"white\", \"linecolor\": \"white\", \"ticks\": \"\", \"title\": {\"standoff\": 15}, \"zerolinecolor\": \"white\", \"zerolinewidth\": 2}, \"yaxis\": {\"automargin\": true, \"gridcolor\": \"white\", \"linecolor\": \"white\", \"ticks\": \"\", \"title\": {\"standoff\": 15}, \"zerolinecolor\": \"white\", \"zerolinewidth\": 2}}}, \"title\": {\"font\": {\"color\": \"#4D5663\"}}, \"xaxis\": {\"gridcolor\": \"#E1E5ED\", \"showgrid\": true, \"tickfont\": {\"color\": \"#4D5663\"}, \"title\": {\"font\": {\"color\": \"#4D5663\"}, \"text\": \"\"}, \"zerolinecolor\": \"#E1E5ED\"}, \"yaxis\": {\"gridcolor\": \"#E1E5ED\", \"showgrid\": true, \"tickfont\": {\"color\": \"#4D5663\"}, \"title\": {\"font\": {\"color\": \"#4D5663\"}, \"text\": \"\"}, \"zerolinecolor\": \"#E1E5ED\"}},\n",
       "                        {\"showLink\": true, \"linkText\": \"Export to plot.ly\", \"plotlyServerURL\": \"https://plot.ly\", \"responsive\": true}\n",
       "                    ).then(function(){\n",
       "                            \n",
       "var gd = document.getElementById('84cba45f-325c-4ca6-b32e-dae17b2b5300');\n",
       "var x = new MutationObserver(function (mutations, observer) {{\n",
       "        var display = window.getComputedStyle(gd).display;\n",
       "        if (!display || display === 'none') {{\n",
       "            console.log([gd, 'removed!']);\n",
       "            Plotly.purge(gd);\n",
       "            observer.disconnect();\n",
       "        }}\n",
       "}});\n",
       "\n",
       "// Listen for the removal of the full notebook cells\n",
       "var notebookContainer = gd.closest('#notebook-container');\n",
       "if (notebookContainer) {{\n",
       "    x.observe(notebookContainer, {childList: true});\n",
       "}}\n",
       "\n",
       "// Listen for the clearing of the current output cell\n",
       "var outputEl = gd.closest('.output');\n",
       "if (outputEl) {{\n",
       "    x.observe(outputEl, {childList: true});\n",
       "}}\n",
       "\n",
       "                        })\n",
       "                };\n",
       "                });\n",
       "            </script>\n",
       "        </div>"
      ]
     },
     "metadata": {},
     "output_type": "display_data"
    }
   ],
   "source": [
    "df['A'].iplot(kind='hist',bins=25)"
   ]
  },
  {
   "cell_type": "code",
   "execution_count": 20,
   "metadata": {},
   "outputs": [
    {
     "data": {
      "application/vnd.plotly.v1+json": {
       "config": {
        "linkText": "Export to plot.ly",
        "plotlyServerURL": "https://plot.ly",
        "showLink": true
       },
       "data": [
        {
         "marker": {
          "color": [
           "rgb(255, 153, 51)",
           "rgb(55, 128, 191)",
           "rgb(50, 171, 96)",
           "rgb(128, 0, 128)",
           "rgb(219, 64, 82)",
           "rgb(0, 128, 128)",
           "rgb(255, 255, 51)",
           "rgb(128, 128, 0)",
           "rgb(251, 128, 114)",
           "rgb(128, 177, 211)"
          ],
          "line": {
           "width": 1.3
          },
          "size": [
           56,
           71,
           70,
           70,
           64,
           72,
           59,
           67,
           60,
           33,
           59,
           50,
           49,
           56,
           65,
           112,
           64,
           17,
           36,
           78,
           37,
           52,
           30,
           30,
           48,
           49,
           66,
           92,
           64,
           70,
           44,
           58,
           87,
           67,
           66,
           12,
           60,
           54,
           45,
           45,
           47,
           65,
           33,
           65,
           56,
           72,
           59,
           56,
           60,
           66,
           60,
           50,
           51,
           73,
           51,
           81,
           21,
           41,
           55,
           73,
           40,
           61,
           84,
           56,
           70,
           48,
           60,
           43,
           57,
           71,
           50,
           51,
           55,
           65,
           46,
           30,
           22,
           91,
           78,
           76,
           76,
           65,
           30,
           63,
           60,
           51,
           60,
           47,
           33,
           46,
           37,
           52,
           56,
           78,
           71,
           67,
           53,
           63,
           65,
           49
          ],
          "symbol": "circle"
         },
         "mode": "markers",
         "text": "",
         "type": "scatter",
         "x": [
          0.21333712036216956,
          0.25665047651329204,
          1.9275407354802638,
          -0.1630088122780753,
          -0.7096503484216469,
          1.1427364761321277,
          2.084635310234222,
          -0.026399085983079537,
          -1.988420853788765,
          0.671292439856992,
          0.13993436471277995,
          0.7670216335899259,
          -0.7402054775005389,
          -1.4399459740799503,
          -1.2005486697745715,
          -1.165410327584835,
          0.6644248169283439,
          -0.028756506557073572,
          0.2516096398380415,
          -0.8146789513812929,
          -0.7224259322456218,
          -0.781910319181829,
          1.7911704476562211,
          -0.39073082039979745,
          -1.4352271322521146,
          0.3248760858998426,
          1.3214965589574204,
          0.1523080436319771,
          0.2141843572991045,
          -1.2217631454104891,
          -0.42887146674778853,
          -1.0642408721713603,
          -1.4620971662626352,
          1.123140947567761,
          0.07443428772796729,
          1.216309038820772,
          -0.020010207442218403,
          -1.0939099461120412,
          -0.5902945316229972,
          -1.6464425979687698,
          -1.1335630422281875,
          0.3685681559789853,
          0.9319954006380338,
          -0.38370523637238346,
          0.9729279519725634,
          0.6060350277351296,
          -1.5064314701773505,
          -0.11686442762806791,
          -0.04540867924604806,
          -1.4647848980138103,
          1.1033504484307806,
          -0.7637901184582542,
          0.7717287733084981,
          -0.2250405260743319,
          -0.3105523373298624,
          1.6250414877666595,
          -0.7154154635129228,
          -1.0137527586625759,
          -0.18160091030832878,
          0.7278260419848971,
          -1.4462848221517628,
          -0.2149209788992766,
          -0.02736333868677174,
          -0.4083772190277294,
          -1.3903448037480677,
          -0.1421538438592139,
          -0.7899119363245749,
          0.03614779270578574,
          1.114018405015867,
          0.8338294539917678,
          -0.5623298737996674,
          1.0775148567887205,
          -0.1301928773075661,
          -0.2511044988443641,
          0.5230267449493876,
          1.3212937313584114,
          1.483707056566117,
          1.9612035531763654,
          0.883359642676606,
          2.432854412098014,
          -0.4365300341492609,
          -1.6526007572122574,
          -0.1837514310451801,
          0.36087956949198857,
          -0.7012283537323358,
          -0.5790769597484454,
          -0.24819410221512403,
          -1.4940388601122643,
          0.16135932479736645,
          -1.069825539040541,
          1.5464357268018578,
          -0.12075629883590314,
          -1.6583980247893007,
          0.33209734423001075,
          -2.707552450449217,
          0.2128183167584507,
          0.6232552740258526,
          2.333363703121639,
          1.5198415518587358,
          -0.05955186507850644
         ],
         "y": [
          -0.5864659752162915,
          -0.18099576406782086,
          -0.4533136022046553,
          0.49710557372620195,
          1.2775797802850062,
          0.4161083640971835,
          -0.15143106943229268,
          -0.365663929736837,
          -0.6184603732884246,
          0.21796399418182116,
          1.1186914535310386,
          0.44537632979139624,
          1.6364822973037336,
          -0.04862658005502512,
          0.6612865209790793,
          0.2817057722811247,
          0.3749416067021927,
          0.2583039295660702,
          -0.978626727229024,
          -0.6199393733967932,
          0.9606188506658868,
          1.356744718143514,
          -0.8602632844776701,
          -0.3555113270769093,
          0.9375159333038156,
          0.6048321925488336,
          0.8842081564062255,
          0.5511891110238712,
          -0.47857044081560157,
          -0.1337811402976441,
          -1.2853280872014985,
          -0.5766656318966009,
          -0.8207314218982654,
          0.5116859817080143,
          -1.0790996442387681,
          -0.6997609008747314,
          -0.28766636064296963,
          -0.6727663805637905,
          -0.3233231353415504,
          0.17623541797795725,
          0.8240659051722579,
          -0.8540606300446177,
          0.6122579383495008,
          -0.590967987543979,
          -0.41376092638310336,
          0.32887420159115527,
          0.8729354550960499,
          -0.33657901953658087,
          -1.194326742500851,
          -0.676615903454892,
          -0.5550205241717774,
          -2.026510738495248,
          -0.3457842826648694,
          -0.38678372767291264,
          -0.32893633561693986,
          0.004363227537524876,
          -1.0872490370707908,
          0.34096840542132634,
          -0.15103704217598235,
          0.5381608357022754,
          0.3927957547213143,
          -1.6835150692954717,
          -0.92583153055911,
          0.6790997638530409,
          -0.05065503749551706,
          0.7471561771513062,
          0.7267996918348049,
          0.7558737826149488,
          0.8669354661789175,
          -0.5883125097555686,
          -0.4616782593650259,
          -0.06828761261811965,
          0.1274240043599269,
          -0.8611087938563126,
          0.7295403774089118,
          0.6095456146491329,
          0.2457565485052304,
          -0.4527141682680746,
          -0.9894044423657463,
          -0.8461865919076168,
          1.6160276476471338,
          -0.44295786995666325,
          0.4052525078450415,
          -0.7725925348432313,
          -0.9700414649280531,
          0.2967877823951404,
          -0.26132861501848587,
          2.7995461162133872,
          0.2647627153131342,
          1.249817597253992,
          -0.2987960397363294,
          -0.5895330281226503,
          0.08840494189034458,
          -0.6442263753616765,
          0.23477998923235666,
          0.07912771285260012,
          -0.12988226344729503,
          -1.594079390394641,
          -0.14645967846660468,
          0.9901201163869056
         ]
        }
       ],
       "layout": {
        "legend": {
         "bgcolor": "#F5F6F9",
         "font": {
          "color": "#4D5663"
         }
        },
        "paper_bgcolor": "#F5F6F9",
        "plot_bgcolor": "#F5F6F9",
        "template": {
         "data": {
          "bar": [
           {
            "error_x": {
             "color": "#2a3f5f"
            },
            "error_y": {
             "color": "#2a3f5f"
            },
            "marker": {
             "line": {
              "color": "#E5ECF6",
              "width": 0.5
             }
            },
            "type": "bar"
           }
          ],
          "barpolar": [
           {
            "marker": {
             "line": {
              "color": "#E5ECF6",
              "width": 0.5
             }
            },
            "type": "barpolar"
           }
          ],
          "carpet": [
           {
            "aaxis": {
             "endlinecolor": "#2a3f5f",
             "gridcolor": "white",
             "linecolor": "white",
             "minorgridcolor": "white",
             "startlinecolor": "#2a3f5f"
            },
            "baxis": {
             "endlinecolor": "#2a3f5f",
             "gridcolor": "white",
             "linecolor": "white",
             "minorgridcolor": "white",
             "startlinecolor": "#2a3f5f"
            },
            "type": "carpet"
           }
          ],
          "choropleth": [
           {
            "colorbar": {
             "outlinewidth": 0,
             "ticks": ""
            },
            "type": "choropleth"
           }
          ],
          "contour": [
           {
            "colorbar": {
             "outlinewidth": 0,
             "ticks": ""
            },
            "colorscale": [
             [
              0,
              "#0d0887"
             ],
             [
              0.1111111111111111,
              "#46039f"
             ],
             [
              0.2222222222222222,
              "#7201a8"
             ],
             [
              0.3333333333333333,
              "#9c179e"
             ],
             [
              0.4444444444444444,
              "#bd3786"
             ],
             [
              0.5555555555555556,
              "#d8576b"
             ],
             [
              0.6666666666666666,
              "#ed7953"
             ],
             [
              0.7777777777777778,
              "#fb9f3a"
             ],
             [
              0.8888888888888888,
              "#fdca26"
             ],
             [
              1,
              "#f0f921"
             ]
            ],
            "type": "contour"
           }
          ],
          "contourcarpet": [
           {
            "colorbar": {
             "outlinewidth": 0,
             "ticks": ""
            },
            "type": "contourcarpet"
           }
          ],
          "heatmap": [
           {
            "colorbar": {
             "outlinewidth": 0,
             "ticks": ""
            },
            "colorscale": [
             [
              0,
              "#0d0887"
             ],
             [
              0.1111111111111111,
              "#46039f"
             ],
             [
              0.2222222222222222,
              "#7201a8"
             ],
             [
              0.3333333333333333,
              "#9c179e"
             ],
             [
              0.4444444444444444,
              "#bd3786"
             ],
             [
              0.5555555555555556,
              "#d8576b"
             ],
             [
              0.6666666666666666,
              "#ed7953"
             ],
             [
              0.7777777777777778,
              "#fb9f3a"
             ],
             [
              0.8888888888888888,
              "#fdca26"
             ],
             [
              1,
              "#f0f921"
             ]
            ],
            "type": "heatmap"
           }
          ],
          "heatmapgl": [
           {
            "colorbar": {
             "outlinewidth": 0,
             "ticks": ""
            },
            "colorscale": [
             [
              0,
              "#0d0887"
             ],
             [
              0.1111111111111111,
              "#46039f"
             ],
             [
              0.2222222222222222,
              "#7201a8"
             ],
             [
              0.3333333333333333,
              "#9c179e"
             ],
             [
              0.4444444444444444,
              "#bd3786"
             ],
             [
              0.5555555555555556,
              "#d8576b"
             ],
             [
              0.6666666666666666,
              "#ed7953"
             ],
             [
              0.7777777777777778,
              "#fb9f3a"
             ],
             [
              0.8888888888888888,
              "#fdca26"
             ],
             [
              1,
              "#f0f921"
             ]
            ],
            "type": "heatmapgl"
           }
          ],
          "histogram": [
           {
            "marker": {
             "colorbar": {
              "outlinewidth": 0,
              "ticks": ""
             }
            },
            "type": "histogram"
           }
          ],
          "histogram2d": [
           {
            "colorbar": {
             "outlinewidth": 0,
             "ticks": ""
            },
            "colorscale": [
             [
              0,
              "#0d0887"
             ],
             [
              0.1111111111111111,
              "#46039f"
             ],
             [
              0.2222222222222222,
              "#7201a8"
             ],
             [
              0.3333333333333333,
              "#9c179e"
             ],
             [
              0.4444444444444444,
              "#bd3786"
             ],
             [
              0.5555555555555556,
              "#d8576b"
             ],
             [
              0.6666666666666666,
              "#ed7953"
             ],
             [
              0.7777777777777778,
              "#fb9f3a"
             ],
             [
              0.8888888888888888,
              "#fdca26"
             ],
             [
              1,
              "#f0f921"
             ]
            ],
            "type": "histogram2d"
           }
          ],
          "histogram2dcontour": [
           {
            "colorbar": {
             "outlinewidth": 0,
             "ticks": ""
            },
            "colorscale": [
             [
              0,
              "#0d0887"
             ],
             [
              0.1111111111111111,
              "#46039f"
             ],
             [
              0.2222222222222222,
              "#7201a8"
             ],
             [
              0.3333333333333333,
              "#9c179e"
             ],
             [
              0.4444444444444444,
              "#bd3786"
             ],
             [
              0.5555555555555556,
              "#d8576b"
             ],
             [
              0.6666666666666666,
              "#ed7953"
             ],
             [
              0.7777777777777778,
              "#fb9f3a"
             ],
             [
              0.8888888888888888,
              "#fdca26"
             ],
             [
              1,
              "#f0f921"
             ]
            ],
            "type": "histogram2dcontour"
           }
          ],
          "mesh3d": [
           {
            "colorbar": {
             "outlinewidth": 0,
             "ticks": ""
            },
            "type": "mesh3d"
           }
          ],
          "parcoords": [
           {
            "line": {
             "colorbar": {
              "outlinewidth": 0,
              "ticks": ""
             }
            },
            "type": "parcoords"
           }
          ],
          "pie": [
           {
            "automargin": true,
            "type": "pie"
           }
          ],
          "scatter": [
           {
            "marker": {
             "colorbar": {
              "outlinewidth": 0,
              "ticks": ""
             }
            },
            "type": "scatter"
           }
          ],
          "scatter3d": [
           {
            "line": {
             "colorbar": {
              "outlinewidth": 0,
              "ticks": ""
             }
            },
            "marker": {
             "colorbar": {
              "outlinewidth": 0,
              "ticks": ""
             }
            },
            "type": "scatter3d"
           }
          ],
          "scattercarpet": [
           {
            "marker": {
             "colorbar": {
              "outlinewidth": 0,
              "ticks": ""
             }
            },
            "type": "scattercarpet"
           }
          ],
          "scattergeo": [
           {
            "marker": {
             "colorbar": {
              "outlinewidth": 0,
              "ticks": ""
             }
            },
            "type": "scattergeo"
           }
          ],
          "scattergl": [
           {
            "marker": {
             "colorbar": {
              "outlinewidth": 0,
              "ticks": ""
             }
            },
            "type": "scattergl"
           }
          ],
          "scattermapbox": [
           {
            "marker": {
             "colorbar": {
              "outlinewidth": 0,
              "ticks": ""
             }
            },
            "type": "scattermapbox"
           }
          ],
          "scatterpolar": [
           {
            "marker": {
             "colorbar": {
              "outlinewidth": 0,
              "ticks": ""
             }
            },
            "type": "scatterpolar"
           }
          ],
          "scatterpolargl": [
           {
            "marker": {
             "colorbar": {
              "outlinewidth": 0,
              "ticks": ""
             }
            },
            "type": "scatterpolargl"
           }
          ],
          "scatterternary": [
           {
            "marker": {
             "colorbar": {
              "outlinewidth": 0,
              "ticks": ""
             }
            },
            "type": "scatterternary"
           }
          ],
          "surface": [
           {
            "colorbar": {
             "outlinewidth": 0,
             "ticks": ""
            },
            "colorscale": [
             [
              0,
              "#0d0887"
             ],
             [
              0.1111111111111111,
              "#46039f"
             ],
             [
              0.2222222222222222,
              "#7201a8"
             ],
             [
              0.3333333333333333,
              "#9c179e"
             ],
             [
              0.4444444444444444,
              "#bd3786"
             ],
             [
              0.5555555555555556,
              "#d8576b"
             ],
             [
              0.6666666666666666,
              "#ed7953"
             ],
             [
              0.7777777777777778,
              "#fb9f3a"
             ],
             [
              0.8888888888888888,
              "#fdca26"
             ],
             [
              1,
              "#f0f921"
             ]
            ],
            "type": "surface"
           }
          ],
          "table": [
           {
            "cells": {
             "fill": {
              "color": "#EBF0F8"
             },
             "line": {
              "color": "white"
             }
            },
            "header": {
             "fill": {
              "color": "#C8D4E3"
             },
             "line": {
              "color": "white"
             }
            },
            "type": "table"
           }
          ]
         },
         "layout": {
          "annotationdefaults": {
           "arrowcolor": "#2a3f5f",
           "arrowhead": 0,
           "arrowwidth": 1
          },
          "coloraxis": {
           "colorbar": {
            "outlinewidth": 0,
            "ticks": ""
           }
          },
          "colorscale": {
           "diverging": [
            [
             0,
             "#8e0152"
            ],
            [
             0.1,
             "#c51b7d"
            ],
            [
             0.2,
             "#de77ae"
            ],
            [
             0.3,
             "#f1b6da"
            ],
            [
             0.4,
             "#fde0ef"
            ],
            [
             0.5,
             "#f7f7f7"
            ],
            [
             0.6,
             "#e6f5d0"
            ],
            [
             0.7,
             "#b8e186"
            ],
            [
             0.8,
             "#7fbc41"
            ],
            [
             0.9,
             "#4d9221"
            ],
            [
             1,
             "#276419"
            ]
           ],
           "sequential": [
            [
             0,
             "#0d0887"
            ],
            [
             0.1111111111111111,
             "#46039f"
            ],
            [
             0.2222222222222222,
             "#7201a8"
            ],
            [
             0.3333333333333333,
             "#9c179e"
            ],
            [
             0.4444444444444444,
             "#bd3786"
            ],
            [
             0.5555555555555556,
             "#d8576b"
            ],
            [
             0.6666666666666666,
             "#ed7953"
            ],
            [
             0.7777777777777778,
             "#fb9f3a"
            ],
            [
             0.8888888888888888,
             "#fdca26"
            ],
            [
             1,
             "#f0f921"
            ]
           ],
           "sequentialminus": [
            [
             0,
             "#0d0887"
            ],
            [
             0.1111111111111111,
             "#46039f"
            ],
            [
             0.2222222222222222,
             "#7201a8"
            ],
            [
             0.3333333333333333,
             "#9c179e"
            ],
            [
             0.4444444444444444,
             "#bd3786"
            ],
            [
             0.5555555555555556,
             "#d8576b"
            ],
            [
             0.6666666666666666,
             "#ed7953"
            ],
            [
             0.7777777777777778,
             "#fb9f3a"
            ],
            [
             0.8888888888888888,
             "#fdca26"
            ],
            [
             1,
             "#f0f921"
            ]
           ]
          },
          "colorway": [
           "#636efa",
           "#EF553B",
           "#00cc96",
           "#ab63fa",
           "#FFA15A",
           "#19d3f3",
           "#FF6692",
           "#B6E880",
           "#FF97FF",
           "#FECB52"
          ],
          "font": {
           "color": "#2a3f5f"
          },
          "geo": {
           "bgcolor": "white",
           "lakecolor": "white",
           "landcolor": "#E5ECF6",
           "showlakes": true,
           "showland": true,
           "subunitcolor": "white"
          },
          "hoverlabel": {
           "align": "left"
          },
          "hovermode": "closest",
          "mapbox": {
           "style": "light"
          },
          "paper_bgcolor": "white",
          "plot_bgcolor": "#E5ECF6",
          "polar": {
           "angularaxis": {
            "gridcolor": "white",
            "linecolor": "white",
            "ticks": ""
           },
           "bgcolor": "#E5ECF6",
           "radialaxis": {
            "gridcolor": "white",
            "linecolor": "white",
            "ticks": ""
           }
          },
          "scene": {
           "xaxis": {
            "backgroundcolor": "#E5ECF6",
            "gridcolor": "white",
            "gridwidth": 2,
            "linecolor": "white",
            "showbackground": true,
            "ticks": "",
            "zerolinecolor": "white"
           },
           "yaxis": {
            "backgroundcolor": "#E5ECF6",
            "gridcolor": "white",
            "gridwidth": 2,
            "linecolor": "white",
            "showbackground": true,
            "ticks": "",
            "zerolinecolor": "white"
           },
           "zaxis": {
            "backgroundcolor": "#E5ECF6",
            "gridcolor": "white",
            "gridwidth": 2,
            "linecolor": "white",
            "showbackground": true,
            "ticks": "",
            "zerolinecolor": "white"
           }
          },
          "shapedefaults": {
           "line": {
            "color": "#2a3f5f"
           }
          },
          "ternary": {
           "aaxis": {
            "gridcolor": "white",
            "linecolor": "white",
            "ticks": ""
           },
           "baxis": {
            "gridcolor": "white",
            "linecolor": "white",
            "ticks": ""
           },
           "bgcolor": "#E5ECF6",
           "caxis": {
            "gridcolor": "white",
            "linecolor": "white",
            "ticks": ""
           }
          },
          "title": {
           "x": 0.05
          },
          "xaxis": {
           "automargin": true,
           "gridcolor": "white",
           "linecolor": "white",
           "ticks": "",
           "title": {
            "standoff": 15
           },
           "zerolinecolor": "white",
           "zerolinewidth": 2
          },
          "yaxis": {
           "automargin": true,
           "gridcolor": "white",
           "linecolor": "white",
           "ticks": "",
           "title": {
            "standoff": 15
           },
           "zerolinecolor": "white",
           "zerolinewidth": 2
          }
         }
        },
        "title": {
         "font": {
          "color": "#4D5663"
         }
        },
        "xaxis": {
         "gridcolor": "#E1E5ED",
         "showgrid": true,
         "tickfont": {
          "color": "#4D5663"
         },
         "title": {
          "font": {
           "color": "#4D5663"
          },
          "text": ""
         },
         "zerolinecolor": "#E1E5ED"
        },
        "yaxis": {
         "gridcolor": "#E1E5ED",
         "showgrid": true,
         "tickfont": {
          "color": "#4D5663"
         },
         "title": {
          "font": {
           "color": "#4D5663"
          },
          "text": ""
         },
         "zerolinecolor": "#E1E5ED"
        }
       }
      },
      "text/html": [
       "<div>\n",
       "        \n",
       "        \n",
       "            <div id=\"d6612928-eb87-4e2d-ba64-eb2659bd6e7a\" class=\"plotly-graph-div\" style=\"height:525px; width:100%;\"></div>\n",
       "            <script type=\"text/javascript\">\n",
       "                require([\"plotly\"], function(Plotly) {\n",
       "                    window.PLOTLYENV=window.PLOTLYENV || {};\n",
       "                    window.PLOTLYENV.BASE_URL='https://plot.ly';\n",
       "                    \n",
       "                if (document.getElementById(\"d6612928-eb87-4e2d-ba64-eb2659bd6e7a\")) {\n",
       "                    Plotly.newPlot(\n",
       "                        'd6612928-eb87-4e2d-ba64-eb2659bd6e7a',\n",
       "                        [{\"marker\": {\"color\": [\"rgb(255, 153, 51)\", \"rgb(55, 128, 191)\", \"rgb(50, 171, 96)\", \"rgb(128, 0, 128)\", \"rgb(219, 64, 82)\", \"rgb(0, 128, 128)\", \"rgb(255, 255, 51)\", \"rgb(128, 128, 0)\", \"rgb(251, 128, 114)\", \"rgb(128, 177, 211)\"], \"line\": {\"width\": 1.3}, \"size\": [56, 71, 70, 70, 64, 72, 59, 67, 60, 33, 59, 50, 49, 56, 65, 112, 64, 17, 36, 78, 37, 52, 30, 30, 48, 49, 66, 92, 64, 70, 44, 58, 87, 67, 66, 12, 60, 54, 45, 45, 47, 65, 33, 65, 56, 72, 59, 56, 60, 66, 60, 50, 51, 73, 51, 81, 21, 41, 55, 73, 40, 61, 84, 56, 70, 48, 60, 43, 57, 71, 50, 51, 55, 65, 46, 30, 22, 91, 78, 76, 76, 65, 30, 63, 60, 51, 60, 47, 33, 46, 37, 52, 56, 78, 71, 67, 53, 63, 65, 49], \"symbol\": \"circle\"}, \"mode\": \"markers\", \"text\": \"\", \"type\": \"scatter\", \"x\": [0.21333712036216956, 0.25665047651329204, 1.9275407354802638, -0.1630088122780753, -0.7096503484216469, 1.1427364761321277, 2.084635310234222, -0.026399085983079537, -1.988420853788765, 0.671292439856992, 0.13993436471277995, 0.7670216335899259, -0.7402054775005389, -1.4399459740799503, -1.2005486697745715, -1.165410327584835, 0.6644248169283439, -0.028756506557073572, 0.2516096398380415, -0.8146789513812929, -0.7224259322456218, -0.781910319181829, 1.7911704476562211, -0.39073082039979745, -1.4352271322521146, 0.3248760858998426, 1.3214965589574204, 0.1523080436319771, 0.2141843572991045, -1.2217631454104891, -0.42887146674778853, -1.0642408721713603, -1.4620971662626352, 1.123140947567761, 0.07443428772796729, 1.216309038820772, -0.020010207442218403, -1.0939099461120412, -0.5902945316229972, -1.6464425979687698, -1.1335630422281875, 0.3685681559789853, 0.9319954006380338, -0.38370523637238346, 0.9729279519725634, 0.6060350277351296, -1.5064314701773505, -0.11686442762806791, -0.04540867924604806, -1.4647848980138103, 1.1033504484307806, -0.7637901184582542, 0.7717287733084981, -0.2250405260743319, -0.3105523373298624, 1.6250414877666595, -0.7154154635129228, -1.0137527586625759, -0.18160091030832878, 0.7278260419848971, -1.4462848221517628, -0.2149209788992766, -0.02736333868677174, -0.4083772190277294, -1.3903448037480677, -0.1421538438592139, -0.7899119363245749, 0.03614779270578574, 1.114018405015867, 0.8338294539917678, -0.5623298737996674, 1.0775148567887205, -0.1301928773075661, -0.2511044988443641, 0.5230267449493876, 1.3212937313584114, 1.483707056566117, 1.9612035531763654, 0.883359642676606, 2.432854412098014, -0.4365300341492609, -1.6526007572122574, -0.1837514310451801, 0.36087956949198857, -0.7012283537323358, -0.5790769597484454, -0.24819410221512403, -1.4940388601122643, 0.16135932479736645, -1.069825539040541, 1.5464357268018578, -0.12075629883590314, -1.6583980247893007, 0.33209734423001075, -2.707552450449217, 0.2128183167584507, 0.6232552740258526, 2.333363703121639, 1.5198415518587358, -0.05955186507850644], \"y\": [-0.5864659752162915, -0.18099576406782086, -0.4533136022046553, 0.49710557372620195, 1.2775797802850062, 0.4161083640971835, -0.15143106943229268, -0.365663929736837, -0.6184603732884246, 0.21796399418182116, 1.1186914535310386, 0.44537632979139624, 1.6364822973037336, -0.04862658005502512, 0.6612865209790793, 0.2817057722811247, 0.3749416067021927, 0.2583039295660702, -0.978626727229024, -0.6199393733967932, 0.9606188506658868, 1.356744718143514, -0.8602632844776701, -0.3555113270769093, 0.9375159333038156, 0.6048321925488336, 0.8842081564062255, 0.5511891110238712, -0.47857044081560157, -0.1337811402976441, -1.2853280872014985, -0.5766656318966009, -0.8207314218982654, 0.5116859817080143, -1.0790996442387681, -0.6997609008747314, -0.28766636064296963, -0.6727663805637905, -0.3233231353415504, 0.17623541797795725, 0.8240659051722579, -0.8540606300446177, 0.6122579383495008, -0.590967987543979, -0.41376092638310336, 0.32887420159115527, 0.8729354550960499, -0.33657901953658087, -1.194326742500851, -0.676615903454892, -0.5550205241717774, -2.026510738495248, -0.3457842826648694, -0.38678372767291264, -0.32893633561693986, 0.004363227537524876, -1.0872490370707908, 0.34096840542132634, -0.15103704217598235, 0.5381608357022754, 0.3927957547213143, -1.6835150692954717, -0.92583153055911, 0.6790997638530409, -0.05065503749551706, 0.7471561771513062, 0.7267996918348049, 0.7558737826149488, 0.8669354661789175, -0.5883125097555686, -0.4616782593650259, -0.06828761261811965, 0.1274240043599269, -0.8611087938563126, 0.7295403774089118, 0.6095456146491329, 0.2457565485052304, -0.4527141682680746, -0.9894044423657463, -0.8461865919076168, 1.6160276476471338, -0.44295786995666325, 0.4052525078450415, -0.7725925348432313, -0.9700414649280531, 0.2967877823951404, -0.26132861501848587, 2.7995461162133872, 0.2647627153131342, 1.249817597253992, -0.2987960397363294, -0.5895330281226503, 0.08840494189034458, -0.6442263753616765, 0.23477998923235666, 0.07912771285260012, -0.12988226344729503, -1.594079390394641, -0.14645967846660468, 0.9901201163869056]}],\n",
       "                        {\"legend\": {\"bgcolor\": \"#F5F6F9\", \"font\": {\"color\": \"#4D5663\"}}, \"paper_bgcolor\": \"#F5F6F9\", \"plot_bgcolor\": \"#F5F6F9\", \"template\": {\"data\": {\"bar\": [{\"error_x\": {\"color\": \"#2a3f5f\"}, \"error_y\": {\"color\": \"#2a3f5f\"}, \"marker\": {\"line\": {\"color\": \"#E5ECF6\", \"width\": 0.5}}, \"type\": \"bar\"}], \"barpolar\": [{\"marker\": {\"line\": {\"color\": \"#E5ECF6\", \"width\": 0.5}}, \"type\": \"barpolar\"}], \"carpet\": [{\"aaxis\": {\"endlinecolor\": \"#2a3f5f\", \"gridcolor\": \"white\", \"linecolor\": \"white\", \"minorgridcolor\": \"white\", \"startlinecolor\": \"#2a3f5f\"}, \"baxis\": {\"endlinecolor\": \"#2a3f5f\", \"gridcolor\": \"white\", \"linecolor\": \"white\", \"minorgridcolor\": \"white\", \"startlinecolor\": \"#2a3f5f\"}, \"type\": \"carpet\"}], \"choropleth\": [{\"colorbar\": {\"outlinewidth\": 0, \"ticks\": \"\"}, \"type\": \"choropleth\"}], \"contour\": [{\"colorbar\": {\"outlinewidth\": 0, \"ticks\": \"\"}, \"colorscale\": [[0.0, \"#0d0887\"], [0.1111111111111111, \"#46039f\"], [0.2222222222222222, \"#7201a8\"], [0.3333333333333333, \"#9c179e\"], [0.4444444444444444, \"#bd3786\"], [0.5555555555555556, \"#d8576b\"], [0.6666666666666666, \"#ed7953\"], [0.7777777777777778, \"#fb9f3a\"], [0.8888888888888888, \"#fdca26\"], [1.0, \"#f0f921\"]], \"type\": \"contour\"}], \"contourcarpet\": [{\"colorbar\": {\"outlinewidth\": 0, \"ticks\": \"\"}, \"type\": \"contourcarpet\"}], \"heatmap\": [{\"colorbar\": {\"outlinewidth\": 0, \"ticks\": \"\"}, \"colorscale\": [[0.0, \"#0d0887\"], [0.1111111111111111, \"#46039f\"], [0.2222222222222222, \"#7201a8\"], [0.3333333333333333, \"#9c179e\"], [0.4444444444444444, \"#bd3786\"], [0.5555555555555556, \"#d8576b\"], [0.6666666666666666, \"#ed7953\"], [0.7777777777777778, \"#fb9f3a\"], [0.8888888888888888, \"#fdca26\"], [1.0, \"#f0f921\"]], \"type\": \"heatmap\"}], \"heatmapgl\": [{\"colorbar\": {\"outlinewidth\": 0, \"ticks\": \"\"}, \"colorscale\": [[0.0, \"#0d0887\"], [0.1111111111111111, \"#46039f\"], [0.2222222222222222, \"#7201a8\"], [0.3333333333333333, \"#9c179e\"], [0.4444444444444444, \"#bd3786\"], [0.5555555555555556, \"#d8576b\"], [0.6666666666666666, \"#ed7953\"], [0.7777777777777778, \"#fb9f3a\"], [0.8888888888888888, \"#fdca26\"], [1.0, \"#f0f921\"]], \"type\": \"heatmapgl\"}], \"histogram\": [{\"marker\": {\"colorbar\": {\"outlinewidth\": 0, \"ticks\": \"\"}}, \"type\": \"histogram\"}], \"histogram2d\": [{\"colorbar\": {\"outlinewidth\": 0, \"ticks\": \"\"}, \"colorscale\": [[0.0, \"#0d0887\"], [0.1111111111111111, \"#46039f\"], [0.2222222222222222, \"#7201a8\"], [0.3333333333333333, \"#9c179e\"], [0.4444444444444444, \"#bd3786\"], [0.5555555555555556, \"#d8576b\"], [0.6666666666666666, \"#ed7953\"], [0.7777777777777778, \"#fb9f3a\"], [0.8888888888888888, \"#fdca26\"], [1.0, \"#f0f921\"]], \"type\": \"histogram2d\"}], \"histogram2dcontour\": [{\"colorbar\": {\"outlinewidth\": 0, \"ticks\": \"\"}, \"colorscale\": [[0.0, \"#0d0887\"], [0.1111111111111111, \"#46039f\"], [0.2222222222222222, \"#7201a8\"], [0.3333333333333333, \"#9c179e\"], [0.4444444444444444, \"#bd3786\"], [0.5555555555555556, \"#d8576b\"], [0.6666666666666666, \"#ed7953\"], [0.7777777777777778, \"#fb9f3a\"], [0.8888888888888888, \"#fdca26\"], [1.0, \"#f0f921\"]], \"type\": \"histogram2dcontour\"}], \"mesh3d\": [{\"colorbar\": {\"outlinewidth\": 0, \"ticks\": \"\"}, \"type\": \"mesh3d\"}], \"parcoords\": [{\"line\": {\"colorbar\": {\"outlinewidth\": 0, \"ticks\": \"\"}}, \"type\": \"parcoords\"}], \"pie\": [{\"automargin\": true, \"type\": \"pie\"}], \"scatter\": [{\"marker\": {\"colorbar\": {\"outlinewidth\": 0, \"ticks\": \"\"}}, \"type\": \"scatter\"}], \"scatter3d\": [{\"line\": {\"colorbar\": {\"outlinewidth\": 0, \"ticks\": \"\"}}, \"marker\": {\"colorbar\": {\"outlinewidth\": 0, \"ticks\": \"\"}}, \"type\": \"scatter3d\"}], \"scattercarpet\": [{\"marker\": {\"colorbar\": {\"outlinewidth\": 0, \"ticks\": \"\"}}, \"type\": \"scattercarpet\"}], \"scattergeo\": [{\"marker\": {\"colorbar\": {\"outlinewidth\": 0, \"ticks\": \"\"}}, \"type\": \"scattergeo\"}], \"scattergl\": [{\"marker\": {\"colorbar\": {\"outlinewidth\": 0, \"ticks\": \"\"}}, \"type\": \"scattergl\"}], \"scattermapbox\": [{\"marker\": {\"colorbar\": {\"outlinewidth\": 0, \"ticks\": \"\"}}, \"type\": \"scattermapbox\"}], \"scatterpolar\": [{\"marker\": {\"colorbar\": {\"outlinewidth\": 0, \"ticks\": \"\"}}, \"type\": \"scatterpolar\"}], \"scatterpolargl\": [{\"marker\": {\"colorbar\": {\"outlinewidth\": 0, \"ticks\": \"\"}}, \"type\": \"scatterpolargl\"}], \"scatterternary\": [{\"marker\": {\"colorbar\": {\"outlinewidth\": 0, \"ticks\": \"\"}}, \"type\": \"scatterternary\"}], \"surface\": [{\"colorbar\": {\"outlinewidth\": 0, \"ticks\": \"\"}, \"colorscale\": [[0.0, \"#0d0887\"], [0.1111111111111111, \"#46039f\"], [0.2222222222222222, \"#7201a8\"], [0.3333333333333333, \"#9c179e\"], [0.4444444444444444, \"#bd3786\"], [0.5555555555555556, \"#d8576b\"], [0.6666666666666666, \"#ed7953\"], [0.7777777777777778, \"#fb9f3a\"], [0.8888888888888888, \"#fdca26\"], [1.0, \"#f0f921\"]], \"type\": \"surface\"}], \"table\": [{\"cells\": {\"fill\": {\"color\": \"#EBF0F8\"}, \"line\": {\"color\": \"white\"}}, \"header\": {\"fill\": {\"color\": \"#C8D4E3\"}, \"line\": {\"color\": \"white\"}}, \"type\": \"table\"}]}, \"layout\": {\"annotationdefaults\": {\"arrowcolor\": \"#2a3f5f\", \"arrowhead\": 0, \"arrowwidth\": 1}, \"coloraxis\": {\"colorbar\": {\"outlinewidth\": 0, \"ticks\": \"\"}}, \"colorscale\": {\"diverging\": [[0, \"#8e0152\"], [0.1, \"#c51b7d\"], [0.2, \"#de77ae\"], [0.3, \"#f1b6da\"], [0.4, \"#fde0ef\"], [0.5, \"#f7f7f7\"], [0.6, \"#e6f5d0\"], [0.7, \"#b8e186\"], [0.8, \"#7fbc41\"], [0.9, \"#4d9221\"], [1, \"#276419\"]], \"sequential\": [[0.0, \"#0d0887\"], [0.1111111111111111, \"#46039f\"], [0.2222222222222222, \"#7201a8\"], [0.3333333333333333, \"#9c179e\"], [0.4444444444444444, \"#bd3786\"], [0.5555555555555556, \"#d8576b\"], [0.6666666666666666, \"#ed7953\"], [0.7777777777777778, \"#fb9f3a\"], [0.8888888888888888, \"#fdca26\"], [1.0, \"#f0f921\"]], \"sequentialminus\": [[0.0, \"#0d0887\"], [0.1111111111111111, \"#46039f\"], [0.2222222222222222, \"#7201a8\"], [0.3333333333333333, \"#9c179e\"], [0.4444444444444444, \"#bd3786\"], [0.5555555555555556, \"#d8576b\"], [0.6666666666666666, \"#ed7953\"], [0.7777777777777778, \"#fb9f3a\"], [0.8888888888888888, \"#fdca26\"], [1.0, \"#f0f921\"]]}, \"colorway\": [\"#636efa\", \"#EF553B\", \"#00cc96\", \"#ab63fa\", \"#FFA15A\", \"#19d3f3\", \"#FF6692\", \"#B6E880\", \"#FF97FF\", \"#FECB52\"], \"font\": {\"color\": \"#2a3f5f\"}, \"geo\": {\"bgcolor\": \"white\", \"lakecolor\": \"white\", \"landcolor\": \"#E5ECF6\", \"showlakes\": true, \"showland\": true, \"subunitcolor\": \"white\"}, \"hoverlabel\": {\"align\": \"left\"}, \"hovermode\": \"closest\", \"mapbox\": {\"style\": \"light\"}, \"paper_bgcolor\": \"white\", \"plot_bgcolor\": \"#E5ECF6\", \"polar\": {\"angularaxis\": {\"gridcolor\": \"white\", \"linecolor\": \"white\", \"ticks\": \"\"}, \"bgcolor\": \"#E5ECF6\", \"radialaxis\": {\"gridcolor\": \"white\", \"linecolor\": \"white\", \"ticks\": \"\"}}, \"scene\": {\"xaxis\": {\"backgroundcolor\": \"#E5ECF6\", \"gridcolor\": \"white\", \"gridwidth\": 2, \"linecolor\": \"white\", \"showbackground\": true, \"ticks\": \"\", \"zerolinecolor\": \"white\"}, \"yaxis\": {\"backgroundcolor\": \"#E5ECF6\", \"gridcolor\": \"white\", \"gridwidth\": 2, \"linecolor\": \"white\", \"showbackground\": true, \"ticks\": \"\", \"zerolinecolor\": \"white\"}, \"zaxis\": {\"backgroundcolor\": \"#E5ECF6\", \"gridcolor\": \"white\", \"gridwidth\": 2, \"linecolor\": \"white\", \"showbackground\": true, \"ticks\": \"\", \"zerolinecolor\": \"white\"}}, \"shapedefaults\": {\"line\": {\"color\": \"#2a3f5f\"}}, \"ternary\": {\"aaxis\": {\"gridcolor\": \"white\", \"linecolor\": \"white\", \"ticks\": \"\"}, \"baxis\": {\"gridcolor\": \"white\", \"linecolor\": \"white\", \"ticks\": \"\"}, \"bgcolor\": \"#E5ECF6\", \"caxis\": {\"gridcolor\": \"white\", \"linecolor\": \"white\", \"ticks\": \"\"}}, \"title\": {\"x\": 0.05}, \"xaxis\": {\"automargin\": true, \"gridcolor\": \"white\", \"linecolor\": \"white\", \"ticks\": \"\", \"title\": {\"standoff\": 15}, \"zerolinecolor\": \"white\", \"zerolinewidth\": 2}, \"yaxis\": {\"automargin\": true, \"gridcolor\": \"white\", \"linecolor\": \"white\", \"ticks\": \"\", \"title\": {\"standoff\": 15}, \"zerolinecolor\": \"white\", \"zerolinewidth\": 2}}}, \"title\": {\"font\": {\"color\": \"#4D5663\"}}, \"xaxis\": {\"gridcolor\": \"#E1E5ED\", \"showgrid\": true, \"tickfont\": {\"color\": \"#4D5663\"}, \"title\": {\"font\": {\"color\": \"#4D5663\"}, \"text\": \"\"}, \"zerolinecolor\": \"#E1E5ED\"}, \"yaxis\": {\"gridcolor\": \"#E1E5ED\", \"showgrid\": true, \"tickfont\": {\"color\": \"#4D5663\"}, \"title\": {\"font\": {\"color\": \"#4D5663\"}, \"text\": \"\"}, \"zerolinecolor\": \"#E1E5ED\"}},\n",
       "                        {\"showLink\": true, \"linkText\": \"Export to plot.ly\", \"plotlyServerURL\": \"https://plot.ly\", \"responsive\": true}\n",
       "                    ).then(function(){\n",
       "                            \n",
       "var gd = document.getElementById('d6612928-eb87-4e2d-ba64-eb2659bd6e7a');\n",
       "var x = new MutationObserver(function (mutations, observer) {{\n",
       "        var display = window.getComputedStyle(gd).display;\n",
       "        if (!display || display === 'none') {{\n",
       "            console.log([gd, 'removed!']);\n",
       "            Plotly.purge(gd);\n",
       "            observer.disconnect();\n",
       "        }}\n",
       "}});\n",
       "\n",
       "// Listen for the removal of the full notebook cells\n",
       "var notebookContainer = gd.closest('#notebook-container');\n",
       "if (notebookContainer) {{\n",
       "    x.observe(notebookContainer, {childList: true});\n",
       "}}\n",
       "\n",
       "// Listen for the clearing of the current output cell\n",
       "var outputEl = gd.closest('.output');\n",
       "if (outputEl) {{\n",
       "    x.observe(outputEl, {childList: true});\n",
       "}}\n",
       "\n",
       "                        })\n",
       "                };\n",
       "                });\n",
       "            </script>\n",
       "        </div>"
      ]
     },
     "metadata": {},
     "output_type": "display_data"
    }
   ],
   "source": [
    "df.iplot(kind='bubble',x='A',y='B',size='C')"
   ]
  },
  {
   "cell_type": "markdown",
   "metadata": {},
   "source": [
    "## scatter_matrix()\n",
    "\n",
    "Similar to sns.pairplot()"
   ]
  },
  {
   "cell_type": "code",
   "execution_count": 21,
   "metadata": {},
   "outputs": [
    {
     "data": {
      "application/vnd.plotly.v1+json": {
       "config": {
        "linkText": "Export to plot.ly",
        "plotlyServerURL": "https://plot.ly",
        "showLink": true
       },
       "data": [
        {
         "histfunc": "count",
         "histnorm": "",
         "marker": {
          "color": "rgba(255, 153, 51, 1.0)",
          "line": {
           "color": "#4D5663",
           "width": 1.3
          }
         },
         "name": "A",
         "nbinsx": 10,
         "opacity": 0.8,
         "orientation": "v",
         "type": "histogram",
         "x": [
          0.21333712036216956,
          0.25665047651329204,
          1.9275407354802638,
          -0.1630088122780753,
          -0.7096503484216469,
          1.1427364761321277,
          2.084635310234222,
          -0.026399085983079537,
          -1.988420853788765,
          0.671292439856992,
          0.13993436471277995,
          0.7670216335899259,
          -0.7402054775005389,
          -1.4399459740799503,
          -1.2005486697745715,
          -1.165410327584835,
          0.6644248169283439,
          -0.028756506557073572,
          0.2516096398380415,
          -0.8146789513812929,
          -0.7224259322456218,
          -0.781910319181829,
          1.7911704476562211,
          -0.39073082039979745,
          -1.4352271322521146,
          0.3248760858998426,
          1.3214965589574204,
          0.1523080436319771,
          0.2141843572991045,
          -1.2217631454104891,
          -0.42887146674778853,
          -1.0642408721713603,
          -1.4620971662626352,
          1.123140947567761,
          0.07443428772796729,
          1.216309038820772,
          -0.020010207442218403,
          -1.0939099461120412,
          -0.5902945316229972,
          -1.6464425979687698,
          -1.1335630422281875,
          0.3685681559789853,
          0.9319954006380338,
          -0.38370523637238346,
          0.9729279519725634,
          0.6060350277351296,
          -1.5064314701773505,
          -0.11686442762806791,
          -0.04540867924604806,
          -1.4647848980138103,
          1.1033504484307806,
          -0.7637901184582542,
          0.7717287733084981,
          -0.2250405260743319,
          -0.3105523373298624,
          1.6250414877666595,
          -0.7154154635129228,
          -1.0137527586625759,
          -0.18160091030832878,
          0.7278260419848971,
          -1.4462848221517628,
          -0.2149209788992766,
          -0.02736333868677174,
          -0.4083772190277294,
          -1.3903448037480677,
          -0.1421538438592139,
          -0.7899119363245749,
          0.03614779270578574,
          1.114018405015867,
          0.8338294539917678,
          -0.5623298737996674,
          1.0775148567887205,
          -0.1301928773075661,
          -0.2511044988443641,
          0.5230267449493876,
          1.3212937313584114,
          1.483707056566117,
          1.9612035531763654,
          0.883359642676606,
          2.432854412098014,
          -0.4365300341492609,
          -1.6526007572122574,
          -0.1837514310451801,
          0.36087956949198857,
          -0.7012283537323358,
          -0.5790769597484454,
          -0.24819410221512403,
          -1.4940388601122643,
          0.16135932479736645,
          -1.069825539040541,
          1.5464357268018578,
          -0.12075629883590314,
          -1.6583980247893007,
          0.33209734423001075,
          -2.707552450449217,
          0.2128183167584507,
          0.6232552740258526,
          2.333363703121639,
          1.5198415518587358,
          -0.05955186507850644
         ],
         "xaxis": "x",
         "yaxis": "y"
        },
        {
         "line": {
          "color": "rgba(128, 128, 128, 1.0)",
          "dash": "solid",
          "shape": "linear",
          "width": 1.3
         },
         "marker": {
          "size": 2,
          "symbol": "circle"
         },
         "mode": "markers",
         "name": "A",
         "text": "",
         "type": "scatter",
         "x": [
          -0.5864659752162915,
          -0.18099576406782086,
          -0.4533136022046553,
          0.49710557372620195,
          1.2775797802850062,
          0.4161083640971835,
          -0.15143106943229268,
          -0.365663929736837,
          -0.6184603732884246,
          0.21796399418182116,
          1.1186914535310386,
          0.44537632979139624,
          1.6364822973037336,
          -0.04862658005502512,
          0.6612865209790793,
          0.2817057722811247,
          0.3749416067021927,
          0.2583039295660702,
          -0.978626727229024,
          -0.6199393733967932,
          0.9606188506658868,
          1.356744718143514,
          -0.8602632844776701,
          -0.3555113270769093,
          0.9375159333038156,
          0.6048321925488336,
          0.8842081564062255,
          0.5511891110238712,
          -0.47857044081560157,
          -0.1337811402976441,
          -1.2853280872014985,
          -0.5766656318966009,
          -0.8207314218982654,
          0.5116859817080143,
          -1.0790996442387681,
          -0.6997609008747314,
          -0.28766636064296963,
          -0.6727663805637905,
          -0.3233231353415504,
          0.17623541797795725,
          0.8240659051722579,
          -0.8540606300446177,
          0.6122579383495008,
          -0.590967987543979,
          -0.41376092638310336,
          0.32887420159115527,
          0.8729354550960499,
          -0.33657901953658087,
          -1.194326742500851,
          -0.676615903454892,
          -0.5550205241717774,
          -2.026510738495248,
          -0.3457842826648694,
          -0.38678372767291264,
          -0.32893633561693986,
          0.004363227537524876,
          -1.0872490370707908,
          0.34096840542132634,
          -0.15103704217598235,
          0.5381608357022754,
          0.3927957547213143,
          -1.6835150692954717,
          -0.92583153055911,
          0.6790997638530409,
          -0.05065503749551706,
          0.7471561771513062,
          0.7267996918348049,
          0.7558737826149488,
          0.8669354661789175,
          -0.5883125097555686,
          -0.4616782593650259,
          -0.06828761261811965,
          0.1274240043599269,
          -0.8611087938563126,
          0.7295403774089118,
          0.6095456146491329,
          0.2457565485052304,
          -0.4527141682680746,
          -0.9894044423657463,
          -0.8461865919076168,
          1.6160276476471338,
          -0.44295786995666325,
          0.4052525078450415,
          -0.7725925348432313,
          -0.9700414649280531,
          0.2967877823951404,
          -0.26132861501848587,
          2.7995461162133872,
          0.2647627153131342,
          1.249817597253992,
          -0.2987960397363294,
          -0.5895330281226503,
          0.08840494189034458,
          -0.6442263753616765,
          0.23477998923235666,
          0.07912771285260012,
          -0.12988226344729503,
          -1.594079390394641,
          -0.14645967846660468,
          0.9901201163869056
         ],
         "xaxis": "x2",
         "y": [
          0.21333712036216956,
          0.25665047651329204,
          1.9275407354802638,
          -0.1630088122780753,
          -0.7096503484216469,
          1.1427364761321277,
          2.084635310234222,
          -0.026399085983079537,
          -1.988420853788765,
          0.671292439856992,
          0.13993436471277995,
          0.7670216335899259,
          -0.7402054775005389,
          -1.4399459740799503,
          -1.2005486697745715,
          -1.165410327584835,
          0.6644248169283439,
          -0.028756506557073572,
          0.2516096398380415,
          -0.8146789513812929,
          -0.7224259322456218,
          -0.781910319181829,
          1.7911704476562211,
          -0.39073082039979745,
          -1.4352271322521146,
          0.3248760858998426,
          1.3214965589574204,
          0.1523080436319771,
          0.2141843572991045,
          -1.2217631454104891,
          -0.42887146674778853,
          -1.0642408721713603,
          -1.4620971662626352,
          1.123140947567761,
          0.07443428772796729,
          1.216309038820772,
          -0.020010207442218403,
          -1.0939099461120412,
          -0.5902945316229972,
          -1.6464425979687698,
          -1.1335630422281875,
          0.3685681559789853,
          0.9319954006380338,
          -0.38370523637238346,
          0.9729279519725634,
          0.6060350277351296,
          -1.5064314701773505,
          -0.11686442762806791,
          -0.04540867924604806,
          -1.4647848980138103,
          1.1033504484307806,
          -0.7637901184582542,
          0.7717287733084981,
          -0.2250405260743319,
          -0.3105523373298624,
          1.6250414877666595,
          -0.7154154635129228,
          -1.0137527586625759,
          -0.18160091030832878,
          0.7278260419848971,
          -1.4462848221517628,
          -0.2149209788992766,
          -0.02736333868677174,
          -0.4083772190277294,
          -1.3903448037480677,
          -0.1421538438592139,
          -0.7899119363245749,
          0.03614779270578574,
          1.114018405015867,
          0.8338294539917678,
          -0.5623298737996674,
          1.0775148567887205,
          -0.1301928773075661,
          -0.2511044988443641,
          0.5230267449493876,
          1.3212937313584114,
          1.483707056566117,
          1.9612035531763654,
          0.883359642676606,
          2.432854412098014,
          -0.4365300341492609,
          -1.6526007572122574,
          -0.1837514310451801,
          0.36087956949198857,
          -0.7012283537323358,
          -0.5790769597484454,
          -0.24819410221512403,
          -1.4940388601122643,
          0.16135932479736645,
          -1.069825539040541,
          1.5464357268018578,
          -0.12075629883590314,
          -1.6583980247893007,
          0.33209734423001075,
          -2.707552450449217,
          0.2128183167584507,
          0.6232552740258526,
          2.333363703121639,
          1.5198415518587358,
          -0.05955186507850644
         ],
         "yaxis": "y2"
        },
        {
         "line": {
          "color": "rgba(128, 128, 128, 1.0)",
          "dash": "solid",
          "shape": "linear",
          "width": 1.3
         },
         "marker": {
          "size": 2,
          "symbol": "circle"
         },
         "mode": "markers",
         "name": "A",
         "text": "",
         "type": "scatter",
         "x": [
          -0.15409386096708147,
          0.8731863903000637,
          0.7892234402927493,
          0.8104639499990842,
          0.3739200651156504,
          0.888821220095366,
          0.03362767723488303,
          0.5989285244107289,
          0.13755412525304989,
          -1.6390305495019717,
          0.03156173862318914,
          -0.5093688846160807,
          -0.6008566424446116,
          -0.12317881544252014,
          0.4511808012432094,
          3.5081559410184866,
          0.3932663312794171,
          -2.7005731061790867,
          -1.4516374491108,
          1.2926803054696712,
          -1.3696166105998864,
          -0.41692394011220596,
          -1.8217715916088728,
          -1.8112911822965128,
          -0.6763464524393229,
          -0.5787351173109659,
          0.5441589206047204,
          2.2298668091051783,
          0.4054955369060133,
          0.7863272967033614,
          -0.9206210003566272,
          0.02022293557034932,
          1.8796833276526392,
          0.5565127425788943,
          0.5413264199017517,
          -3.0545468943333245,
          0.15135856937298206,
          -0.28753428909423134,
          -0.8263658715758724,
          -0.8745574542510015,
          -0.732903119694837,
          0.42651758063848905,
          -1.6476116191967374,
          0.45084700361094154,
          -0.11213491533708712,
          0.9207075468315324,
          0.03813904144214054,
          -0.12209913448179975,
          0.14480028295097216,
          0.5121714909419897,
          0.10617929864000014,
          -0.5359453955278299,
          -0.4783077764537238,
          1.0067800020799347,
          -0.48829641957847364,
          1.5129546278103194,
          -2.437687364959682,
          -1.146102903981523,
          -0.17863433651690444,
          0.9642421901633967,
          -1.1630116138330333,
          0.17038802493830377,
          1.708276022133024,
          -0.16613334668504778,
          0.7785958904004711,
          -0.6659555819092876,
          0.15481733121375887,
          -0.9863479866899411,
          -0.05113748152130975,
          0.8535927813848629,
          -0.5073805045570786,
          -0.4348665185655108,
          -0.18106117890974505,
          0.42676582115642936,
          -0.7894432165471591,
          -1.8113467196249016,
          -2.3441051401090505,
          2.1304239386427186,
          1.320738126165373,
          1.152079038293719,
          1.1904985781107802,
          0.4544157613361789,
          -1.8171352879405416,
          0.35804111222897833,
          0.11011801081236455,
          -0.462864031093342,
          0.13117517241613133,
          -0.7499674574046394,
          -1.629894698288106,
          -0.8109472932064513,
          -1.3575443921851864,
          -0.40537507616484114,
          -0.14328193508824014,
          1.3410996826548334,
          0.8743039715719515,
          0.6046464110944935,
          -0.29964928784708744,
          0.34029517332746817,
          0.46810547269470876,
          -0.589337367290618
         ],
         "xaxis": "x3",
         "y": [
          0.21333712036216956,
          0.25665047651329204,
          1.9275407354802638,
          -0.1630088122780753,
          -0.7096503484216469,
          1.1427364761321277,
          2.084635310234222,
          -0.026399085983079537,
          -1.988420853788765,
          0.671292439856992,
          0.13993436471277995,
          0.7670216335899259,
          -0.7402054775005389,
          -1.4399459740799503,
          -1.2005486697745715,
          -1.165410327584835,
          0.6644248169283439,
          -0.028756506557073572,
          0.2516096398380415,
          -0.8146789513812929,
          -0.7224259322456218,
          -0.781910319181829,
          1.7911704476562211,
          -0.39073082039979745,
          -1.4352271322521146,
          0.3248760858998426,
          1.3214965589574204,
          0.1523080436319771,
          0.2141843572991045,
          -1.2217631454104891,
          -0.42887146674778853,
          -1.0642408721713603,
          -1.4620971662626352,
          1.123140947567761,
          0.07443428772796729,
          1.216309038820772,
          -0.020010207442218403,
          -1.0939099461120412,
          -0.5902945316229972,
          -1.6464425979687698,
          -1.1335630422281875,
          0.3685681559789853,
          0.9319954006380338,
          -0.38370523637238346,
          0.9729279519725634,
          0.6060350277351296,
          -1.5064314701773505,
          -0.11686442762806791,
          -0.04540867924604806,
          -1.4647848980138103,
          1.1033504484307806,
          -0.7637901184582542,
          0.7717287733084981,
          -0.2250405260743319,
          -0.3105523373298624,
          1.6250414877666595,
          -0.7154154635129228,
          -1.0137527586625759,
          -0.18160091030832878,
          0.7278260419848971,
          -1.4462848221517628,
          -0.2149209788992766,
          -0.02736333868677174,
          -0.4083772190277294,
          -1.3903448037480677,
          -0.1421538438592139,
          -0.7899119363245749,
          0.03614779270578574,
          1.114018405015867,
          0.8338294539917678,
          -0.5623298737996674,
          1.0775148567887205,
          -0.1301928773075661,
          -0.2511044988443641,
          0.5230267449493876,
          1.3212937313584114,
          1.483707056566117,
          1.9612035531763654,
          0.883359642676606,
          2.432854412098014,
          -0.4365300341492609,
          -1.6526007572122574,
          -0.1837514310451801,
          0.36087956949198857,
          -0.7012283537323358,
          -0.5790769597484454,
          -0.24819410221512403,
          -1.4940388601122643,
          0.16135932479736645,
          -1.069825539040541,
          1.5464357268018578,
          -0.12075629883590314,
          -1.6583980247893007,
          0.33209734423001075,
          -2.707552450449217,
          0.2128183167584507,
          0.6232552740258526,
          2.333363703121639,
          1.5198415518587358,
          -0.05955186507850644
         ],
         "yaxis": "y3"
        },
        {
         "line": {
          "color": "rgba(128, 128, 128, 1.0)",
          "dash": "solid",
          "shape": "linear",
          "width": 1.3
         },
         "marker": {
          "size": 2,
          "symbol": "circle"
         },
         "mode": "markers",
         "name": "A",
         "text": "",
         "type": "scatter",
         "x": [
          0.5170055812564315,
          -0.5864002189861852,
          0.08244983973714591,
          -0.4249887402995753,
          -0.7160306854644531,
          -0.0007567718085830301,
          -0.13476050619792204,
          -0.5563123457885937,
          -1.0188671919936263,
          -0.9617830084121471,
          -0.14223267942762866,
          -0.37493259004746815,
          -0.7785954442579843,
          1.7158918762104922,
          -0.7628362412789231,
          1.8540555371403478,
          -0.186029663166845,
          -1.511141844016936,
          -0.8844616732370526,
          -0.5818267202624393,
          -1.4688893891001469,
          -0.6490729798733988,
          0.1014274906485541,
          -0.7060764819863503,
          0.7975306199132951,
          0.12312442889535842,
          -0.022118755581018237,
          -0.14578490786452675,
          -1.2761250707433514,
          -0.46018089358985015,
          -2.049349875582505,
          0.13836137428577058,
          -0.5820157916473553,
          -1.7425485533246892,
          2.0315720187202135,
          0.3218726730472288,
          0.5001993230041177,
          -0.8167678712878862,
          2.261478282007555,
          1.5211683775223057,
          -1.319704152302807,
          0.7054362051143414,
          0.029753396393046725,
          -0.1755613758623475,
          -0.34486429441646327,
          0.21472343867920282,
          0.8904992193382669,
          -0.0615159334096154,
          -0.5795058531142238,
          -0.6873115453371869,
          -0.24517141548305807,
          0.5737898188025035,
          0.9238048918062784,
          -1.7218942903205565,
          0.9858244243446375,
          -0.30042840455475106,
          1.6418000165020206,
          -0.02962221022177065,
          -0.33496033368353584,
          -1.8115038400226386,
          1.6442476106328505,
          0.38952126098520407,
          0.09731039965134451,
          -0.7245784140461443,
          -0.8819142812213432,
          0.31724433553107023,
          -0.6382333460760878,
          0.24611183230938485,
          -1.326124511521306,
          -0.313135225879092,
          1.056092553101489,
          -1.1140349135110206,
          -0.38483781251566385,
          0.5404548383142044,
          -0.08459106775322058,
          -0.19676026252827838,
          0.33514203810913606,
          0.6394525735929671,
          -0.7915552193140721,
          -0.9335472407522618,
          -0.11880612640628109,
          0.747276283078878,
          0.7578150408803679,
          0.6230302974499802,
          2.6908592061496335,
          -1.2124880728623326,
          -1.260620082714092,
          0.18948207728240185,
          0.49459976167799796,
          0.9273342996306305,
          -0.20337634559536946,
          1.0268371061484365,
          1.4071215557756458,
          -0.3882949774086078,
          1.4612656017408572,
          -0.1023747320512153,
          -0.8760565157177523,
          0.6870123875868547,
          -1.4490667003636082,
          -1.0444997775882212
         ],
         "xaxis": "x4",
         "y": [
          0.21333712036216956,
          0.25665047651329204,
          1.9275407354802638,
          -0.1630088122780753,
          -0.7096503484216469,
          1.1427364761321277,
          2.084635310234222,
          -0.026399085983079537,
          -1.988420853788765,
          0.671292439856992,
          0.13993436471277995,
          0.7670216335899259,
          -0.7402054775005389,
          -1.4399459740799503,
          -1.2005486697745715,
          -1.165410327584835,
          0.6644248169283439,
          -0.028756506557073572,
          0.2516096398380415,
          -0.8146789513812929,
          -0.7224259322456218,
          -0.781910319181829,
          1.7911704476562211,
          -0.39073082039979745,
          -1.4352271322521146,
          0.3248760858998426,
          1.3214965589574204,
          0.1523080436319771,
          0.2141843572991045,
          -1.2217631454104891,
          -0.42887146674778853,
          -1.0642408721713603,
          -1.4620971662626352,
          1.123140947567761,
          0.07443428772796729,
          1.216309038820772,
          -0.020010207442218403,
          -1.0939099461120412,
          -0.5902945316229972,
          -1.6464425979687698,
          -1.1335630422281875,
          0.3685681559789853,
          0.9319954006380338,
          -0.38370523637238346,
          0.9729279519725634,
          0.6060350277351296,
          -1.5064314701773505,
          -0.11686442762806791,
          -0.04540867924604806,
          -1.4647848980138103,
          1.1033504484307806,
          -0.7637901184582542,
          0.7717287733084981,
          -0.2250405260743319,
          -0.3105523373298624,
          1.6250414877666595,
          -0.7154154635129228,
          -1.0137527586625759,
          -0.18160091030832878,
          0.7278260419848971,
          -1.4462848221517628,
          -0.2149209788992766,
          -0.02736333868677174,
          -0.4083772190277294,
          -1.3903448037480677,
          -0.1421538438592139,
          -0.7899119363245749,
          0.03614779270578574,
          1.114018405015867,
          0.8338294539917678,
          -0.5623298737996674,
          1.0775148567887205,
          -0.1301928773075661,
          -0.2511044988443641,
          0.5230267449493876,
          1.3212937313584114,
          1.483707056566117,
          1.9612035531763654,
          0.883359642676606,
          2.432854412098014,
          -0.4365300341492609,
          -1.6526007572122574,
          -0.1837514310451801,
          0.36087956949198857,
          -0.7012283537323358,
          -0.5790769597484454,
          -0.24819410221512403,
          -1.4940388601122643,
          0.16135932479736645,
          -1.069825539040541,
          1.5464357268018578,
          -0.12075629883590314,
          -1.6583980247893007,
          0.33209734423001075,
          -2.707552450449217,
          0.2128183167584507,
          0.6232552740258526,
          2.333363703121639,
          1.5198415518587358,
          -0.05955186507850644
         ],
         "yaxis": "y4"
        },
        {
         "line": {
          "color": "rgba(128, 128, 128, 1.0)",
          "dash": "solid",
          "shape": "linear",
          "width": 1.3
         },
         "marker": {
          "size": 2,
          "symbol": "circle"
         },
         "mode": "markers",
         "name": "B",
         "text": "",
         "type": "scatter",
         "x": [
          0.21333712036216956,
          0.25665047651329204,
          1.9275407354802638,
          -0.1630088122780753,
          -0.7096503484216469,
          1.1427364761321277,
          2.084635310234222,
          -0.026399085983079537,
          -1.988420853788765,
          0.671292439856992,
          0.13993436471277995,
          0.7670216335899259,
          -0.7402054775005389,
          -1.4399459740799503,
          -1.2005486697745715,
          -1.165410327584835,
          0.6644248169283439,
          -0.028756506557073572,
          0.2516096398380415,
          -0.8146789513812929,
          -0.7224259322456218,
          -0.781910319181829,
          1.7911704476562211,
          -0.39073082039979745,
          -1.4352271322521146,
          0.3248760858998426,
          1.3214965589574204,
          0.1523080436319771,
          0.2141843572991045,
          -1.2217631454104891,
          -0.42887146674778853,
          -1.0642408721713603,
          -1.4620971662626352,
          1.123140947567761,
          0.07443428772796729,
          1.216309038820772,
          -0.020010207442218403,
          -1.0939099461120412,
          -0.5902945316229972,
          -1.6464425979687698,
          -1.1335630422281875,
          0.3685681559789853,
          0.9319954006380338,
          -0.38370523637238346,
          0.9729279519725634,
          0.6060350277351296,
          -1.5064314701773505,
          -0.11686442762806791,
          -0.04540867924604806,
          -1.4647848980138103,
          1.1033504484307806,
          -0.7637901184582542,
          0.7717287733084981,
          -0.2250405260743319,
          -0.3105523373298624,
          1.6250414877666595,
          -0.7154154635129228,
          -1.0137527586625759,
          -0.18160091030832878,
          0.7278260419848971,
          -1.4462848221517628,
          -0.2149209788992766,
          -0.02736333868677174,
          -0.4083772190277294,
          -1.3903448037480677,
          -0.1421538438592139,
          -0.7899119363245749,
          0.03614779270578574,
          1.114018405015867,
          0.8338294539917678,
          -0.5623298737996674,
          1.0775148567887205,
          -0.1301928773075661,
          -0.2511044988443641,
          0.5230267449493876,
          1.3212937313584114,
          1.483707056566117,
          1.9612035531763654,
          0.883359642676606,
          2.432854412098014,
          -0.4365300341492609,
          -1.6526007572122574,
          -0.1837514310451801,
          0.36087956949198857,
          -0.7012283537323358,
          -0.5790769597484454,
          -0.24819410221512403,
          -1.4940388601122643,
          0.16135932479736645,
          -1.069825539040541,
          1.5464357268018578,
          -0.12075629883590314,
          -1.6583980247893007,
          0.33209734423001075,
          -2.707552450449217,
          0.2128183167584507,
          0.6232552740258526,
          2.333363703121639,
          1.5198415518587358,
          -0.05955186507850644
         ],
         "xaxis": "x5",
         "y": [
          -0.5864659752162915,
          -0.18099576406782086,
          -0.4533136022046553,
          0.49710557372620195,
          1.2775797802850062,
          0.4161083640971835,
          -0.15143106943229268,
          -0.365663929736837,
          -0.6184603732884246,
          0.21796399418182116,
          1.1186914535310386,
          0.44537632979139624,
          1.6364822973037336,
          -0.04862658005502512,
          0.6612865209790793,
          0.2817057722811247,
          0.3749416067021927,
          0.2583039295660702,
          -0.978626727229024,
          -0.6199393733967932,
          0.9606188506658868,
          1.356744718143514,
          -0.8602632844776701,
          -0.3555113270769093,
          0.9375159333038156,
          0.6048321925488336,
          0.8842081564062255,
          0.5511891110238712,
          -0.47857044081560157,
          -0.1337811402976441,
          -1.2853280872014985,
          -0.5766656318966009,
          -0.8207314218982654,
          0.5116859817080143,
          -1.0790996442387681,
          -0.6997609008747314,
          -0.28766636064296963,
          -0.6727663805637905,
          -0.3233231353415504,
          0.17623541797795725,
          0.8240659051722579,
          -0.8540606300446177,
          0.6122579383495008,
          -0.590967987543979,
          -0.41376092638310336,
          0.32887420159115527,
          0.8729354550960499,
          -0.33657901953658087,
          -1.194326742500851,
          -0.676615903454892,
          -0.5550205241717774,
          -2.026510738495248,
          -0.3457842826648694,
          -0.38678372767291264,
          -0.32893633561693986,
          0.004363227537524876,
          -1.0872490370707908,
          0.34096840542132634,
          -0.15103704217598235,
          0.5381608357022754,
          0.3927957547213143,
          -1.6835150692954717,
          -0.92583153055911,
          0.6790997638530409,
          -0.05065503749551706,
          0.7471561771513062,
          0.7267996918348049,
          0.7558737826149488,
          0.8669354661789175,
          -0.5883125097555686,
          -0.4616782593650259,
          -0.06828761261811965,
          0.1274240043599269,
          -0.8611087938563126,
          0.7295403774089118,
          0.6095456146491329,
          0.2457565485052304,
          -0.4527141682680746,
          -0.9894044423657463,
          -0.8461865919076168,
          1.6160276476471338,
          -0.44295786995666325,
          0.4052525078450415,
          -0.7725925348432313,
          -0.9700414649280531,
          0.2967877823951404,
          -0.26132861501848587,
          2.7995461162133872,
          0.2647627153131342,
          1.249817597253992,
          -0.2987960397363294,
          -0.5895330281226503,
          0.08840494189034458,
          -0.6442263753616765,
          0.23477998923235666,
          0.07912771285260012,
          -0.12988226344729503,
          -1.594079390394641,
          -0.14645967846660468,
          0.9901201163869056
         ],
         "yaxis": "y5"
        },
        {
         "histfunc": "count",
         "histnorm": "",
         "marker": {
          "color": "rgba(55, 128, 191, 1.0)",
          "line": {
           "color": "#4D5663",
           "width": 1.3
          }
         },
         "name": "B",
         "nbinsx": 10,
         "opacity": 0.8,
         "orientation": "v",
         "type": "histogram",
         "x": [
          -0.5864659752162915,
          -0.18099576406782086,
          -0.4533136022046553,
          0.49710557372620195,
          1.2775797802850062,
          0.4161083640971835,
          -0.15143106943229268,
          -0.365663929736837,
          -0.6184603732884246,
          0.21796399418182116,
          1.1186914535310386,
          0.44537632979139624,
          1.6364822973037336,
          -0.04862658005502512,
          0.6612865209790793,
          0.2817057722811247,
          0.3749416067021927,
          0.2583039295660702,
          -0.978626727229024,
          -0.6199393733967932,
          0.9606188506658868,
          1.356744718143514,
          -0.8602632844776701,
          -0.3555113270769093,
          0.9375159333038156,
          0.6048321925488336,
          0.8842081564062255,
          0.5511891110238712,
          -0.47857044081560157,
          -0.1337811402976441,
          -1.2853280872014985,
          -0.5766656318966009,
          -0.8207314218982654,
          0.5116859817080143,
          -1.0790996442387681,
          -0.6997609008747314,
          -0.28766636064296963,
          -0.6727663805637905,
          -0.3233231353415504,
          0.17623541797795725,
          0.8240659051722579,
          -0.8540606300446177,
          0.6122579383495008,
          -0.590967987543979,
          -0.41376092638310336,
          0.32887420159115527,
          0.8729354550960499,
          -0.33657901953658087,
          -1.194326742500851,
          -0.676615903454892,
          -0.5550205241717774,
          -2.026510738495248,
          -0.3457842826648694,
          -0.38678372767291264,
          -0.32893633561693986,
          0.004363227537524876,
          -1.0872490370707908,
          0.34096840542132634,
          -0.15103704217598235,
          0.5381608357022754,
          0.3927957547213143,
          -1.6835150692954717,
          -0.92583153055911,
          0.6790997638530409,
          -0.05065503749551706,
          0.7471561771513062,
          0.7267996918348049,
          0.7558737826149488,
          0.8669354661789175,
          -0.5883125097555686,
          -0.4616782593650259,
          -0.06828761261811965,
          0.1274240043599269,
          -0.8611087938563126,
          0.7295403774089118,
          0.6095456146491329,
          0.2457565485052304,
          -0.4527141682680746,
          -0.9894044423657463,
          -0.8461865919076168,
          1.6160276476471338,
          -0.44295786995666325,
          0.4052525078450415,
          -0.7725925348432313,
          -0.9700414649280531,
          0.2967877823951404,
          -0.26132861501848587,
          2.7995461162133872,
          0.2647627153131342,
          1.249817597253992,
          -0.2987960397363294,
          -0.5895330281226503,
          0.08840494189034458,
          -0.6442263753616765,
          0.23477998923235666,
          0.07912771285260012,
          -0.12988226344729503,
          -1.594079390394641,
          -0.14645967846660468,
          0.9901201163869056
         ],
         "xaxis": "x6",
         "yaxis": "y6"
        },
        {
         "line": {
          "color": "rgba(128, 128, 128, 1.0)",
          "dash": "solid",
          "shape": "linear",
          "width": 1.3
         },
         "marker": {
          "size": 2,
          "symbol": "circle"
         },
         "mode": "markers",
         "name": "B",
         "text": "",
         "type": "scatter",
         "x": [
          -0.15409386096708147,
          0.8731863903000637,
          0.7892234402927493,
          0.8104639499990842,
          0.3739200651156504,
          0.888821220095366,
          0.03362767723488303,
          0.5989285244107289,
          0.13755412525304989,
          -1.6390305495019717,
          0.03156173862318914,
          -0.5093688846160807,
          -0.6008566424446116,
          -0.12317881544252014,
          0.4511808012432094,
          3.5081559410184866,
          0.3932663312794171,
          -2.7005731061790867,
          -1.4516374491108,
          1.2926803054696712,
          -1.3696166105998864,
          -0.41692394011220596,
          -1.8217715916088728,
          -1.8112911822965128,
          -0.6763464524393229,
          -0.5787351173109659,
          0.5441589206047204,
          2.2298668091051783,
          0.4054955369060133,
          0.7863272967033614,
          -0.9206210003566272,
          0.02022293557034932,
          1.8796833276526392,
          0.5565127425788943,
          0.5413264199017517,
          -3.0545468943333245,
          0.15135856937298206,
          -0.28753428909423134,
          -0.8263658715758724,
          -0.8745574542510015,
          -0.732903119694837,
          0.42651758063848905,
          -1.6476116191967374,
          0.45084700361094154,
          -0.11213491533708712,
          0.9207075468315324,
          0.03813904144214054,
          -0.12209913448179975,
          0.14480028295097216,
          0.5121714909419897,
          0.10617929864000014,
          -0.5359453955278299,
          -0.4783077764537238,
          1.0067800020799347,
          -0.48829641957847364,
          1.5129546278103194,
          -2.437687364959682,
          -1.146102903981523,
          -0.17863433651690444,
          0.9642421901633967,
          -1.1630116138330333,
          0.17038802493830377,
          1.708276022133024,
          -0.16613334668504778,
          0.7785958904004711,
          -0.6659555819092876,
          0.15481733121375887,
          -0.9863479866899411,
          -0.05113748152130975,
          0.8535927813848629,
          -0.5073805045570786,
          -0.4348665185655108,
          -0.18106117890974505,
          0.42676582115642936,
          -0.7894432165471591,
          -1.8113467196249016,
          -2.3441051401090505,
          2.1304239386427186,
          1.320738126165373,
          1.152079038293719,
          1.1904985781107802,
          0.4544157613361789,
          -1.8171352879405416,
          0.35804111222897833,
          0.11011801081236455,
          -0.462864031093342,
          0.13117517241613133,
          -0.7499674574046394,
          -1.629894698288106,
          -0.8109472932064513,
          -1.3575443921851864,
          -0.40537507616484114,
          -0.14328193508824014,
          1.3410996826548334,
          0.8743039715719515,
          0.6046464110944935,
          -0.29964928784708744,
          0.34029517332746817,
          0.46810547269470876,
          -0.589337367290618
         ],
         "xaxis": "x7",
         "y": [
          -0.5864659752162915,
          -0.18099576406782086,
          -0.4533136022046553,
          0.49710557372620195,
          1.2775797802850062,
          0.4161083640971835,
          -0.15143106943229268,
          -0.365663929736837,
          -0.6184603732884246,
          0.21796399418182116,
          1.1186914535310386,
          0.44537632979139624,
          1.6364822973037336,
          -0.04862658005502512,
          0.6612865209790793,
          0.2817057722811247,
          0.3749416067021927,
          0.2583039295660702,
          -0.978626727229024,
          -0.6199393733967932,
          0.9606188506658868,
          1.356744718143514,
          -0.8602632844776701,
          -0.3555113270769093,
          0.9375159333038156,
          0.6048321925488336,
          0.8842081564062255,
          0.5511891110238712,
          -0.47857044081560157,
          -0.1337811402976441,
          -1.2853280872014985,
          -0.5766656318966009,
          -0.8207314218982654,
          0.5116859817080143,
          -1.0790996442387681,
          -0.6997609008747314,
          -0.28766636064296963,
          -0.6727663805637905,
          -0.3233231353415504,
          0.17623541797795725,
          0.8240659051722579,
          -0.8540606300446177,
          0.6122579383495008,
          -0.590967987543979,
          -0.41376092638310336,
          0.32887420159115527,
          0.8729354550960499,
          -0.33657901953658087,
          -1.194326742500851,
          -0.676615903454892,
          -0.5550205241717774,
          -2.026510738495248,
          -0.3457842826648694,
          -0.38678372767291264,
          -0.32893633561693986,
          0.004363227537524876,
          -1.0872490370707908,
          0.34096840542132634,
          -0.15103704217598235,
          0.5381608357022754,
          0.3927957547213143,
          -1.6835150692954717,
          -0.92583153055911,
          0.6790997638530409,
          -0.05065503749551706,
          0.7471561771513062,
          0.7267996918348049,
          0.7558737826149488,
          0.8669354661789175,
          -0.5883125097555686,
          -0.4616782593650259,
          -0.06828761261811965,
          0.1274240043599269,
          -0.8611087938563126,
          0.7295403774089118,
          0.6095456146491329,
          0.2457565485052304,
          -0.4527141682680746,
          -0.9894044423657463,
          -0.8461865919076168,
          1.6160276476471338,
          -0.44295786995666325,
          0.4052525078450415,
          -0.7725925348432313,
          -0.9700414649280531,
          0.2967877823951404,
          -0.26132861501848587,
          2.7995461162133872,
          0.2647627153131342,
          1.249817597253992,
          -0.2987960397363294,
          -0.5895330281226503,
          0.08840494189034458,
          -0.6442263753616765,
          0.23477998923235666,
          0.07912771285260012,
          -0.12988226344729503,
          -1.594079390394641,
          -0.14645967846660468,
          0.9901201163869056
         ],
         "yaxis": "y7"
        },
        {
         "line": {
          "color": "rgba(128, 128, 128, 1.0)",
          "dash": "solid",
          "shape": "linear",
          "width": 1.3
         },
         "marker": {
          "size": 2,
          "symbol": "circle"
         },
         "mode": "markers",
         "name": "B",
         "text": "",
         "type": "scatter",
         "x": [
          0.5170055812564315,
          -0.5864002189861852,
          0.08244983973714591,
          -0.4249887402995753,
          -0.7160306854644531,
          -0.0007567718085830301,
          -0.13476050619792204,
          -0.5563123457885937,
          -1.0188671919936263,
          -0.9617830084121471,
          -0.14223267942762866,
          -0.37493259004746815,
          -0.7785954442579843,
          1.7158918762104922,
          -0.7628362412789231,
          1.8540555371403478,
          -0.186029663166845,
          -1.511141844016936,
          -0.8844616732370526,
          -0.5818267202624393,
          -1.4688893891001469,
          -0.6490729798733988,
          0.1014274906485541,
          -0.7060764819863503,
          0.7975306199132951,
          0.12312442889535842,
          -0.022118755581018237,
          -0.14578490786452675,
          -1.2761250707433514,
          -0.46018089358985015,
          -2.049349875582505,
          0.13836137428577058,
          -0.5820157916473553,
          -1.7425485533246892,
          2.0315720187202135,
          0.3218726730472288,
          0.5001993230041177,
          -0.8167678712878862,
          2.261478282007555,
          1.5211683775223057,
          -1.319704152302807,
          0.7054362051143414,
          0.029753396393046725,
          -0.1755613758623475,
          -0.34486429441646327,
          0.21472343867920282,
          0.8904992193382669,
          -0.0615159334096154,
          -0.5795058531142238,
          -0.6873115453371869,
          -0.24517141548305807,
          0.5737898188025035,
          0.9238048918062784,
          -1.7218942903205565,
          0.9858244243446375,
          -0.30042840455475106,
          1.6418000165020206,
          -0.02962221022177065,
          -0.33496033368353584,
          -1.8115038400226386,
          1.6442476106328505,
          0.38952126098520407,
          0.09731039965134451,
          -0.7245784140461443,
          -0.8819142812213432,
          0.31724433553107023,
          -0.6382333460760878,
          0.24611183230938485,
          -1.326124511521306,
          -0.313135225879092,
          1.056092553101489,
          -1.1140349135110206,
          -0.38483781251566385,
          0.5404548383142044,
          -0.08459106775322058,
          -0.19676026252827838,
          0.33514203810913606,
          0.6394525735929671,
          -0.7915552193140721,
          -0.9335472407522618,
          -0.11880612640628109,
          0.747276283078878,
          0.7578150408803679,
          0.6230302974499802,
          2.6908592061496335,
          -1.2124880728623326,
          -1.260620082714092,
          0.18948207728240185,
          0.49459976167799796,
          0.9273342996306305,
          -0.20337634559536946,
          1.0268371061484365,
          1.4071215557756458,
          -0.3882949774086078,
          1.4612656017408572,
          -0.1023747320512153,
          -0.8760565157177523,
          0.6870123875868547,
          -1.4490667003636082,
          -1.0444997775882212
         ],
         "xaxis": "x8",
         "y": [
          -0.5864659752162915,
          -0.18099576406782086,
          -0.4533136022046553,
          0.49710557372620195,
          1.2775797802850062,
          0.4161083640971835,
          -0.15143106943229268,
          -0.365663929736837,
          -0.6184603732884246,
          0.21796399418182116,
          1.1186914535310386,
          0.44537632979139624,
          1.6364822973037336,
          -0.04862658005502512,
          0.6612865209790793,
          0.2817057722811247,
          0.3749416067021927,
          0.2583039295660702,
          -0.978626727229024,
          -0.6199393733967932,
          0.9606188506658868,
          1.356744718143514,
          -0.8602632844776701,
          -0.3555113270769093,
          0.9375159333038156,
          0.6048321925488336,
          0.8842081564062255,
          0.5511891110238712,
          -0.47857044081560157,
          -0.1337811402976441,
          -1.2853280872014985,
          -0.5766656318966009,
          -0.8207314218982654,
          0.5116859817080143,
          -1.0790996442387681,
          -0.6997609008747314,
          -0.28766636064296963,
          -0.6727663805637905,
          -0.3233231353415504,
          0.17623541797795725,
          0.8240659051722579,
          -0.8540606300446177,
          0.6122579383495008,
          -0.590967987543979,
          -0.41376092638310336,
          0.32887420159115527,
          0.8729354550960499,
          -0.33657901953658087,
          -1.194326742500851,
          -0.676615903454892,
          -0.5550205241717774,
          -2.026510738495248,
          -0.3457842826648694,
          -0.38678372767291264,
          -0.32893633561693986,
          0.004363227537524876,
          -1.0872490370707908,
          0.34096840542132634,
          -0.15103704217598235,
          0.5381608357022754,
          0.3927957547213143,
          -1.6835150692954717,
          -0.92583153055911,
          0.6790997638530409,
          -0.05065503749551706,
          0.7471561771513062,
          0.7267996918348049,
          0.7558737826149488,
          0.8669354661789175,
          -0.5883125097555686,
          -0.4616782593650259,
          -0.06828761261811965,
          0.1274240043599269,
          -0.8611087938563126,
          0.7295403774089118,
          0.6095456146491329,
          0.2457565485052304,
          -0.4527141682680746,
          -0.9894044423657463,
          -0.8461865919076168,
          1.6160276476471338,
          -0.44295786995666325,
          0.4052525078450415,
          -0.7725925348432313,
          -0.9700414649280531,
          0.2967877823951404,
          -0.26132861501848587,
          2.7995461162133872,
          0.2647627153131342,
          1.249817597253992,
          -0.2987960397363294,
          -0.5895330281226503,
          0.08840494189034458,
          -0.6442263753616765,
          0.23477998923235666,
          0.07912771285260012,
          -0.12988226344729503,
          -1.594079390394641,
          -0.14645967846660468,
          0.9901201163869056
         ],
         "yaxis": "y8"
        },
        {
         "line": {
          "color": "rgba(128, 128, 128, 1.0)",
          "dash": "solid",
          "shape": "linear",
          "width": 1.3
         },
         "marker": {
          "size": 2,
          "symbol": "circle"
         },
         "mode": "markers",
         "name": "C",
         "text": "",
         "type": "scatter",
         "x": [
          0.21333712036216956,
          0.25665047651329204,
          1.9275407354802638,
          -0.1630088122780753,
          -0.7096503484216469,
          1.1427364761321277,
          2.084635310234222,
          -0.026399085983079537,
          -1.988420853788765,
          0.671292439856992,
          0.13993436471277995,
          0.7670216335899259,
          -0.7402054775005389,
          -1.4399459740799503,
          -1.2005486697745715,
          -1.165410327584835,
          0.6644248169283439,
          -0.028756506557073572,
          0.2516096398380415,
          -0.8146789513812929,
          -0.7224259322456218,
          -0.781910319181829,
          1.7911704476562211,
          -0.39073082039979745,
          -1.4352271322521146,
          0.3248760858998426,
          1.3214965589574204,
          0.1523080436319771,
          0.2141843572991045,
          -1.2217631454104891,
          -0.42887146674778853,
          -1.0642408721713603,
          -1.4620971662626352,
          1.123140947567761,
          0.07443428772796729,
          1.216309038820772,
          -0.020010207442218403,
          -1.0939099461120412,
          -0.5902945316229972,
          -1.6464425979687698,
          -1.1335630422281875,
          0.3685681559789853,
          0.9319954006380338,
          -0.38370523637238346,
          0.9729279519725634,
          0.6060350277351296,
          -1.5064314701773505,
          -0.11686442762806791,
          -0.04540867924604806,
          -1.4647848980138103,
          1.1033504484307806,
          -0.7637901184582542,
          0.7717287733084981,
          -0.2250405260743319,
          -0.3105523373298624,
          1.6250414877666595,
          -0.7154154635129228,
          -1.0137527586625759,
          -0.18160091030832878,
          0.7278260419848971,
          -1.4462848221517628,
          -0.2149209788992766,
          -0.02736333868677174,
          -0.4083772190277294,
          -1.3903448037480677,
          -0.1421538438592139,
          -0.7899119363245749,
          0.03614779270578574,
          1.114018405015867,
          0.8338294539917678,
          -0.5623298737996674,
          1.0775148567887205,
          -0.1301928773075661,
          -0.2511044988443641,
          0.5230267449493876,
          1.3212937313584114,
          1.483707056566117,
          1.9612035531763654,
          0.883359642676606,
          2.432854412098014,
          -0.4365300341492609,
          -1.6526007572122574,
          -0.1837514310451801,
          0.36087956949198857,
          -0.7012283537323358,
          -0.5790769597484454,
          -0.24819410221512403,
          -1.4940388601122643,
          0.16135932479736645,
          -1.069825539040541,
          1.5464357268018578,
          -0.12075629883590314,
          -1.6583980247893007,
          0.33209734423001075,
          -2.707552450449217,
          0.2128183167584507,
          0.6232552740258526,
          2.333363703121639,
          1.5198415518587358,
          -0.05955186507850644
         ],
         "xaxis": "x9",
         "y": [
          -0.15409386096708147,
          0.8731863903000637,
          0.7892234402927493,
          0.8104639499990842,
          0.3739200651156504,
          0.888821220095366,
          0.03362767723488303,
          0.5989285244107289,
          0.13755412525304989,
          -1.6390305495019717,
          0.03156173862318914,
          -0.5093688846160807,
          -0.6008566424446116,
          -0.12317881544252014,
          0.4511808012432094,
          3.5081559410184866,
          0.3932663312794171,
          -2.7005731061790867,
          -1.4516374491108,
          1.2926803054696712,
          -1.3696166105998864,
          -0.41692394011220596,
          -1.8217715916088728,
          -1.8112911822965128,
          -0.6763464524393229,
          -0.5787351173109659,
          0.5441589206047204,
          2.2298668091051783,
          0.4054955369060133,
          0.7863272967033614,
          -0.9206210003566272,
          0.02022293557034932,
          1.8796833276526392,
          0.5565127425788943,
          0.5413264199017517,
          -3.0545468943333245,
          0.15135856937298206,
          -0.28753428909423134,
          -0.8263658715758724,
          -0.8745574542510015,
          -0.732903119694837,
          0.42651758063848905,
          -1.6476116191967374,
          0.45084700361094154,
          -0.11213491533708712,
          0.9207075468315324,
          0.03813904144214054,
          -0.12209913448179975,
          0.14480028295097216,
          0.5121714909419897,
          0.10617929864000014,
          -0.5359453955278299,
          -0.4783077764537238,
          1.0067800020799347,
          -0.48829641957847364,
          1.5129546278103194,
          -2.437687364959682,
          -1.146102903981523,
          -0.17863433651690444,
          0.9642421901633967,
          -1.1630116138330333,
          0.17038802493830377,
          1.708276022133024,
          -0.16613334668504778,
          0.7785958904004711,
          -0.6659555819092876,
          0.15481733121375887,
          -0.9863479866899411,
          -0.05113748152130975,
          0.8535927813848629,
          -0.5073805045570786,
          -0.4348665185655108,
          -0.18106117890974505,
          0.42676582115642936,
          -0.7894432165471591,
          -1.8113467196249016,
          -2.3441051401090505,
          2.1304239386427186,
          1.320738126165373,
          1.152079038293719,
          1.1904985781107802,
          0.4544157613361789,
          -1.8171352879405416,
          0.35804111222897833,
          0.11011801081236455,
          -0.462864031093342,
          0.13117517241613133,
          -0.7499674574046394,
          -1.629894698288106,
          -0.8109472932064513,
          -1.3575443921851864,
          -0.40537507616484114,
          -0.14328193508824014,
          1.3410996826548334,
          0.8743039715719515,
          0.6046464110944935,
          -0.29964928784708744,
          0.34029517332746817,
          0.46810547269470876,
          -0.589337367290618
         ],
         "yaxis": "y9"
        },
        {
         "line": {
          "color": "rgba(128, 128, 128, 1.0)",
          "dash": "solid",
          "shape": "linear",
          "width": 1.3
         },
         "marker": {
          "size": 2,
          "symbol": "circle"
         },
         "mode": "markers",
         "name": "C",
         "text": "",
         "type": "scatter",
         "x": [
          -0.5864659752162915,
          -0.18099576406782086,
          -0.4533136022046553,
          0.49710557372620195,
          1.2775797802850062,
          0.4161083640971835,
          -0.15143106943229268,
          -0.365663929736837,
          -0.6184603732884246,
          0.21796399418182116,
          1.1186914535310386,
          0.44537632979139624,
          1.6364822973037336,
          -0.04862658005502512,
          0.6612865209790793,
          0.2817057722811247,
          0.3749416067021927,
          0.2583039295660702,
          -0.978626727229024,
          -0.6199393733967932,
          0.9606188506658868,
          1.356744718143514,
          -0.8602632844776701,
          -0.3555113270769093,
          0.9375159333038156,
          0.6048321925488336,
          0.8842081564062255,
          0.5511891110238712,
          -0.47857044081560157,
          -0.1337811402976441,
          -1.2853280872014985,
          -0.5766656318966009,
          -0.8207314218982654,
          0.5116859817080143,
          -1.0790996442387681,
          -0.6997609008747314,
          -0.28766636064296963,
          -0.6727663805637905,
          -0.3233231353415504,
          0.17623541797795725,
          0.8240659051722579,
          -0.8540606300446177,
          0.6122579383495008,
          -0.590967987543979,
          -0.41376092638310336,
          0.32887420159115527,
          0.8729354550960499,
          -0.33657901953658087,
          -1.194326742500851,
          -0.676615903454892,
          -0.5550205241717774,
          -2.026510738495248,
          -0.3457842826648694,
          -0.38678372767291264,
          -0.32893633561693986,
          0.004363227537524876,
          -1.0872490370707908,
          0.34096840542132634,
          -0.15103704217598235,
          0.5381608357022754,
          0.3927957547213143,
          -1.6835150692954717,
          -0.92583153055911,
          0.6790997638530409,
          -0.05065503749551706,
          0.7471561771513062,
          0.7267996918348049,
          0.7558737826149488,
          0.8669354661789175,
          -0.5883125097555686,
          -0.4616782593650259,
          -0.06828761261811965,
          0.1274240043599269,
          -0.8611087938563126,
          0.7295403774089118,
          0.6095456146491329,
          0.2457565485052304,
          -0.4527141682680746,
          -0.9894044423657463,
          -0.8461865919076168,
          1.6160276476471338,
          -0.44295786995666325,
          0.4052525078450415,
          -0.7725925348432313,
          -0.9700414649280531,
          0.2967877823951404,
          -0.26132861501848587,
          2.7995461162133872,
          0.2647627153131342,
          1.249817597253992,
          -0.2987960397363294,
          -0.5895330281226503,
          0.08840494189034458,
          -0.6442263753616765,
          0.23477998923235666,
          0.07912771285260012,
          -0.12988226344729503,
          -1.594079390394641,
          -0.14645967846660468,
          0.9901201163869056
         ],
         "xaxis": "x10",
         "y": [
          -0.15409386096708147,
          0.8731863903000637,
          0.7892234402927493,
          0.8104639499990842,
          0.3739200651156504,
          0.888821220095366,
          0.03362767723488303,
          0.5989285244107289,
          0.13755412525304989,
          -1.6390305495019717,
          0.03156173862318914,
          -0.5093688846160807,
          -0.6008566424446116,
          -0.12317881544252014,
          0.4511808012432094,
          3.5081559410184866,
          0.3932663312794171,
          -2.7005731061790867,
          -1.4516374491108,
          1.2926803054696712,
          -1.3696166105998864,
          -0.41692394011220596,
          -1.8217715916088728,
          -1.8112911822965128,
          -0.6763464524393229,
          -0.5787351173109659,
          0.5441589206047204,
          2.2298668091051783,
          0.4054955369060133,
          0.7863272967033614,
          -0.9206210003566272,
          0.02022293557034932,
          1.8796833276526392,
          0.5565127425788943,
          0.5413264199017517,
          -3.0545468943333245,
          0.15135856937298206,
          -0.28753428909423134,
          -0.8263658715758724,
          -0.8745574542510015,
          -0.732903119694837,
          0.42651758063848905,
          -1.6476116191967374,
          0.45084700361094154,
          -0.11213491533708712,
          0.9207075468315324,
          0.03813904144214054,
          -0.12209913448179975,
          0.14480028295097216,
          0.5121714909419897,
          0.10617929864000014,
          -0.5359453955278299,
          -0.4783077764537238,
          1.0067800020799347,
          -0.48829641957847364,
          1.5129546278103194,
          -2.437687364959682,
          -1.146102903981523,
          -0.17863433651690444,
          0.9642421901633967,
          -1.1630116138330333,
          0.17038802493830377,
          1.708276022133024,
          -0.16613334668504778,
          0.7785958904004711,
          -0.6659555819092876,
          0.15481733121375887,
          -0.9863479866899411,
          -0.05113748152130975,
          0.8535927813848629,
          -0.5073805045570786,
          -0.4348665185655108,
          -0.18106117890974505,
          0.42676582115642936,
          -0.7894432165471591,
          -1.8113467196249016,
          -2.3441051401090505,
          2.1304239386427186,
          1.320738126165373,
          1.152079038293719,
          1.1904985781107802,
          0.4544157613361789,
          -1.8171352879405416,
          0.35804111222897833,
          0.11011801081236455,
          -0.462864031093342,
          0.13117517241613133,
          -0.7499674574046394,
          -1.629894698288106,
          -0.8109472932064513,
          -1.3575443921851864,
          -0.40537507616484114,
          -0.14328193508824014,
          1.3410996826548334,
          0.8743039715719515,
          0.6046464110944935,
          -0.29964928784708744,
          0.34029517332746817,
          0.46810547269470876,
          -0.589337367290618
         ],
         "yaxis": "y10"
        },
        {
         "histfunc": "count",
         "histnorm": "",
         "marker": {
          "color": "rgba(50, 171, 96, 1.0)",
          "line": {
           "color": "#4D5663",
           "width": 1.3
          }
         },
         "name": "C",
         "nbinsx": 10,
         "opacity": 0.8,
         "orientation": "v",
         "type": "histogram",
         "x": [
          -0.15409386096708147,
          0.8731863903000637,
          0.7892234402927493,
          0.8104639499990842,
          0.3739200651156504,
          0.888821220095366,
          0.03362767723488303,
          0.5989285244107289,
          0.13755412525304989,
          -1.6390305495019717,
          0.03156173862318914,
          -0.5093688846160807,
          -0.6008566424446116,
          -0.12317881544252014,
          0.4511808012432094,
          3.5081559410184866,
          0.3932663312794171,
          -2.7005731061790867,
          -1.4516374491108,
          1.2926803054696712,
          -1.3696166105998864,
          -0.41692394011220596,
          -1.8217715916088728,
          -1.8112911822965128,
          -0.6763464524393229,
          -0.5787351173109659,
          0.5441589206047204,
          2.2298668091051783,
          0.4054955369060133,
          0.7863272967033614,
          -0.9206210003566272,
          0.02022293557034932,
          1.8796833276526392,
          0.5565127425788943,
          0.5413264199017517,
          -3.0545468943333245,
          0.15135856937298206,
          -0.28753428909423134,
          -0.8263658715758724,
          -0.8745574542510015,
          -0.732903119694837,
          0.42651758063848905,
          -1.6476116191967374,
          0.45084700361094154,
          -0.11213491533708712,
          0.9207075468315324,
          0.03813904144214054,
          -0.12209913448179975,
          0.14480028295097216,
          0.5121714909419897,
          0.10617929864000014,
          -0.5359453955278299,
          -0.4783077764537238,
          1.0067800020799347,
          -0.48829641957847364,
          1.5129546278103194,
          -2.437687364959682,
          -1.146102903981523,
          -0.17863433651690444,
          0.9642421901633967,
          -1.1630116138330333,
          0.17038802493830377,
          1.708276022133024,
          -0.16613334668504778,
          0.7785958904004711,
          -0.6659555819092876,
          0.15481733121375887,
          -0.9863479866899411,
          -0.05113748152130975,
          0.8535927813848629,
          -0.5073805045570786,
          -0.4348665185655108,
          -0.18106117890974505,
          0.42676582115642936,
          -0.7894432165471591,
          -1.8113467196249016,
          -2.3441051401090505,
          2.1304239386427186,
          1.320738126165373,
          1.152079038293719,
          1.1904985781107802,
          0.4544157613361789,
          -1.8171352879405416,
          0.35804111222897833,
          0.11011801081236455,
          -0.462864031093342,
          0.13117517241613133,
          -0.7499674574046394,
          -1.629894698288106,
          -0.8109472932064513,
          -1.3575443921851864,
          -0.40537507616484114,
          -0.14328193508824014,
          1.3410996826548334,
          0.8743039715719515,
          0.6046464110944935,
          -0.29964928784708744,
          0.34029517332746817,
          0.46810547269470876,
          -0.589337367290618
         ],
         "xaxis": "x11",
         "yaxis": "y11"
        },
        {
         "line": {
          "color": "rgba(128, 128, 128, 1.0)",
          "dash": "solid",
          "shape": "linear",
          "width": 1.3
         },
         "marker": {
          "size": 2,
          "symbol": "circle"
         },
         "mode": "markers",
         "name": "C",
         "text": "",
         "type": "scatter",
         "x": [
          0.5170055812564315,
          -0.5864002189861852,
          0.08244983973714591,
          -0.4249887402995753,
          -0.7160306854644531,
          -0.0007567718085830301,
          -0.13476050619792204,
          -0.5563123457885937,
          -1.0188671919936263,
          -0.9617830084121471,
          -0.14223267942762866,
          -0.37493259004746815,
          -0.7785954442579843,
          1.7158918762104922,
          -0.7628362412789231,
          1.8540555371403478,
          -0.186029663166845,
          -1.511141844016936,
          -0.8844616732370526,
          -0.5818267202624393,
          -1.4688893891001469,
          -0.6490729798733988,
          0.1014274906485541,
          -0.7060764819863503,
          0.7975306199132951,
          0.12312442889535842,
          -0.022118755581018237,
          -0.14578490786452675,
          -1.2761250707433514,
          -0.46018089358985015,
          -2.049349875582505,
          0.13836137428577058,
          -0.5820157916473553,
          -1.7425485533246892,
          2.0315720187202135,
          0.3218726730472288,
          0.5001993230041177,
          -0.8167678712878862,
          2.261478282007555,
          1.5211683775223057,
          -1.319704152302807,
          0.7054362051143414,
          0.029753396393046725,
          -0.1755613758623475,
          -0.34486429441646327,
          0.21472343867920282,
          0.8904992193382669,
          -0.0615159334096154,
          -0.5795058531142238,
          -0.6873115453371869,
          -0.24517141548305807,
          0.5737898188025035,
          0.9238048918062784,
          -1.7218942903205565,
          0.9858244243446375,
          -0.30042840455475106,
          1.6418000165020206,
          -0.02962221022177065,
          -0.33496033368353584,
          -1.8115038400226386,
          1.6442476106328505,
          0.38952126098520407,
          0.09731039965134451,
          -0.7245784140461443,
          -0.8819142812213432,
          0.31724433553107023,
          -0.6382333460760878,
          0.24611183230938485,
          -1.326124511521306,
          -0.313135225879092,
          1.056092553101489,
          -1.1140349135110206,
          -0.38483781251566385,
          0.5404548383142044,
          -0.08459106775322058,
          -0.19676026252827838,
          0.33514203810913606,
          0.6394525735929671,
          -0.7915552193140721,
          -0.9335472407522618,
          -0.11880612640628109,
          0.747276283078878,
          0.7578150408803679,
          0.6230302974499802,
          2.6908592061496335,
          -1.2124880728623326,
          -1.260620082714092,
          0.18948207728240185,
          0.49459976167799796,
          0.9273342996306305,
          -0.20337634559536946,
          1.0268371061484365,
          1.4071215557756458,
          -0.3882949774086078,
          1.4612656017408572,
          -0.1023747320512153,
          -0.8760565157177523,
          0.6870123875868547,
          -1.4490667003636082,
          -1.0444997775882212
         ],
         "xaxis": "x12",
         "y": [
          -0.15409386096708147,
          0.8731863903000637,
          0.7892234402927493,
          0.8104639499990842,
          0.3739200651156504,
          0.888821220095366,
          0.03362767723488303,
          0.5989285244107289,
          0.13755412525304989,
          -1.6390305495019717,
          0.03156173862318914,
          -0.5093688846160807,
          -0.6008566424446116,
          -0.12317881544252014,
          0.4511808012432094,
          3.5081559410184866,
          0.3932663312794171,
          -2.7005731061790867,
          -1.4516374491108,
          1.2926803054696712,
          -1.3696166105998864,
          -0.41692394011220596,
          -1.8217715916088728,
          -1.8112911822965128,
          -0.6763464524393229,
          -0.5787351173109659,
          0.5441589206047204,
          2.2298668091051783,
          0.4054955369060133,
          0.7863272967033614,
          -0.9206210003566272,
          0.02022293557034932,
          1.8796833276526392,
          0.5565127425788943,
          0.5413264199017517,
          -3.0545468943333245,
          0.15135856937298206,
          -0.28753428909423134,
          -0.8263658715758724,
          -0.8745574542510015,
          -0.732903119694837,
          0.42651758063848905,
          -1.6476116191967374,
          0.45084700361094154,
          -0.11213491533708712,
          0.9207075468315324,
          0.03813904144214054,
          -0.12209913448179975,
          0.14480028295097216,
          0.5121714909419897,
          0.10617929864000014,
          -0.5359453955278299,
          -0.4783077764537238,
          1.0067800020799347,
          -0.48829641957847364,
          1.5129546278103194,
          -2.437687364959682,
          -1.146102903981523,
          -0.17863433651690444,
          0.9642421901633967,
          -1.1630116138330333,
          0.17038802493830377,
          1.708276022133024,
          -0.16613334668504778,
          0.7785958904004711,
          -0.6659555819092876,
          0.15481733121375887,
          -0.9863479866899411,
          -0.05113748152130975,
          0.8535927813848629,
          -0.5073805045570786,
          -0.4348665185655108,
          -0.18106117890974505,
          0.42676582115642936,
          -0.7894432165471591,
          -1.8113467196249016,
          -2.3441051401090505,
          2.1304239386427186,
          1.320738126165373,
          1.152079038293719,
          1.1904985781107802,
          0.4544157613361789,
          -1.8171352879405416,
          0.35804111222897833,
          0.11011801081236455,
          -0.462864031093342,
          0.13117517241613133,
          -0.7499674574046394,
          -1.629894698288106,
          -0.8109472932064513,
          -1.3575443921851864,
          -0.40537507616484114,
          -0.14328193508824014,
          1.3410996826548334,
          0.8743039715719515,
          0.6046464110944935,
          -0.29964928784708744,
          0.34029517332746817,
          0.46810547269470876,
          -0.589337367290618
         ],
         "yaxis": "y12"
        },
        {
         "line": {
          "color": "rgba(128, 128, 128, 1.0)",
          "dash": "solid",
          "shape": "linear",
          "width": 1.3
         },
         "marker": {
          "size": 2,
          "symbol": "circle"
         },
         "mode": "markers",
         "name": "D",
         "text": "",
         "type": "scatter",
         "x": [
          0.21333712036216956,
          0.25665047651329204,
          1.9275407354802638,
          -0.1630088122780753,
          -0.7096503484216469,
          1.1427364761321277,
          2.084635310234222,
          -0.026399085983079537,
          -1.988420853788765,
          0.671292439856992,
          0.13993436471277995,
          0.7670216335899259,
          -0.7402054775005389,
          -1.4399459740799503,
          -1.2005486697745715,
          -1.165410327584835,
          0.6644248169283439,
          -0.028756506557073572,
          0.2516096398380415,
          -0.8146789513812929,
          -0.7224259322456218,
          -0.781910319181829,
          1.7911704476562211,
          -0.39073082039979745,
          -1.4352271322521146,
          0.3248760858998426,
          1.3214965589574204,
          0.1523080436319771,
          0.2141843572991045,
          -1.2217631454104891,
          -0.42887146674778853,
          -1.0642408721713603,
          -1.4620971662626352,
          1.123140947567761,
          0.07443428772796729,
          1.216309038820772,
          -0.020010207442218403,
          -1.0939099461120412,
          -0.5902945316229972,
          -1.6464425979687698,
          -1.1335630422281875,
          0.3685681559789853,
          0.9319954006380338,
          -0.38370523637238346,
          0.9729279519725634,
          0.6060350277351296,
          -1.5064314701773505,
          -0.11686442762806791,
          -0.04540867924604806,
          -1.4647848980138103,
          1.1033504484307806,
          -0.7637901184582542,
          0.7717287733084981,
          -0.2250405260743319,
          -0.3105523373298624,
          1.6250414877666595,
          -0.7154154635129228,
          -1.0137527586625759,
          -0.18160091030832878,
          0.7278260419848971,
          -1.4462848221517628,
          -0.2149209788992766,
          -0.02736333868677174,
          -0.4083772190277294,
          -1.3903448037480677,
          -0.1421538438592139,
          -0.7899119363245749,
          0.03614779270578574,
          1.114018405015867,
          0.8338294539917678,
          -0.5623298737996674,
          1.0775148567887205,
          -0.1301928773075661,
          -0.2511044988443641,
          0.5230267449493876,
          1.3212937313584114,
          1.483707056566117,
          1.9612035531763654,
          0.883359642676606,
          2.432854412098014,
          -0.4365300341492609,
          -1.6526007572122574,
          -0.1837514310451801,
          0.36087956949198857,
          -0.7012283537323358,
          -0.5790769597484454,
          -0.24819410221512403,
          -1.4940388601122643,
          0.16135932479736645,
          -1.069825539040541,
          1.5464357268018578,
          -0.12075629883590314,
          -1.6583980247893007,
          0.33209734423001075,
          -2.707552450449217,
          0.2128183167584507,
          0.6232552740258526,
          2.333363703121639,
          1.5198415518587358,
          -0.05955186507850644
         ],
         "xaxis": "x13",
         "y": [
          0.5170055812564315,
          -0.5864002189861852,
          0.08244983973714591,
          -0.4249887402995753,
          -0.7160306854644531,
          -0.0007567718085830301,
          -0.13476050619792204,
          -0.5563123457885937,
          -1.0188671919936263,
          -0.9617830084121471,
          -0.14223267942762866,
          -0.37493259004746815,
          -0.7785954442579843,
          1.7158918762104922,
          -0.7628362412789231,
          1.8540555371403478,
          -0.186029663166845,
          -1.511141844016936,
          -0.8844616732370526,
          -0.5818267202624393,
          -1.4688893891001469,
          -0.6490729798733988,
          0.1014274906485541,
          -0.7060764819863503,
          0.7975306199132951,
          0.12312442889535842,
          -0.022118755581018237,
          -0.14578490786452675,
          -1.2761250707433514,
          -0.46018089358985015,
          -2.049349875582505,
          0.13836137428577058,
          -0.5820157916473553,
          -1.7425485533246892,
          2.0315720187202135,
          0.3218726730472288,
          0.5001993230041177,
          -0.8167678712878862,
          2.261478282007555,
          1.5211683775223057,
          -1.319704152302807,
          0.7054362051143414,
          0.029753396393046725,
          -0.1755613758623475,
          -0.34486429441646327,
          0.21472343867920282,
          0.8904992193382669,
          -0.0615159334096154,
          -0.5795058531142238,
          -0.6873115453371869,
          -0.24517141548305807,
          0.5737898188025035,
          0.9238048918062784,
          -1.7218942903205565,
          0.9858244243446375,
          -0.30042840455475106,
          1.6418000165020206,
          -0.02962221022177065,
          -0.33496033368353584,
          -1.8115038400226386,
          1.6442476106328505,
          0.38952126098520407,
          0.09731039965134451,
          -0.7245784140461443,
          -0.8819142812213432,
          0.31724433553107023,
          -0.6382333460760878,
          0.24611183230938485,
          -1.326124511521306,
          -0.313135225879092,
          1.056092553101489,
          -1.1140349135110206,
          -0.38483781251566385,
          0.5404548383142044,
          -0.08459106775322058,
          -0.19676026252827838,
          0.33514203810913606,
          0.6394525735929671,
          -0.7915552193140721,
          -0.9335472407522618,
          -0.11880612640628109,
          0.747276283078878,
          0.7578150408803679,
          0.6230302974499802,
          2.6908592061496335,
          -1.2124880728623326,
          -1.260620082714092,
          0.18948207728240185,
          0.49459976167799796,
          0.9273342996306305,
          -0.20337634559536946,
          1.0268371061484365,
          1.4071215557756458,
          -0.3882949774086078,
          1.4612656017408572,
          -0.1023747320512153,
          -0.8760565157177523,
          0.6870123875868547,
          -1.4490667003636082,
          -1.0444997775882212
         ],
         "yaxis": "y13"
        },
        {
         "line": {
          "color": "rgba(128, 128, 128, 1.0)",
          "dash": "solid",
          "shape": "linear",
          "width": 1.3
         },
         "marker": {
          "size": 2,
          "symbol": "circle"
         },
         "mode": "markers",
         "name": "D",
         "text": "",
         "type": "scatter",
         "x": [
          -0.5864659752162915,
          -0.18099576406782086,
          -0.4533136022046553,
          0.49710557372620195,
          1.2775797802850062,
          0.4161083640971835,
          -0.15143106943229268,
          -0.365663929736837,
          -0.6184603732884246,
          0.21796399418182116,
          1.1186914535310386,
          0.44537632979139624,
          1.6364822973037336,
          -0.04862658005502512,
          0.6612865209790793,
          0.2817057722811247,
          0.3749416067021927,
          0.2583039295660702,
          -0.978626727229024,
          -0.6199393733967932,
          0.9606188506658868,
          1.356744718143514,
          -0.8602632844776701,
          -0.3555113270769093,
          0.9375159333038156,
          0.6048321925488336,
          0.8842081564062255,
          0.5511891110238712,
          -0.47857044081560157,
          -0.1337811402976441,
          -1.2853280872014985,
          -0.5766656318966009,
          -0.8207314218982654,
          0.5116859817080143,
          -1.0790996442387681,
          -0.6997609008747314,
          -0.28766636064296963,
          -0.6727663805637905,
          -0.3233231353415504,
          0.17623541797795725,
          0.8240659051722579,
          -0.8540606300446177,
          0.6122579383495008,
          -0.590967987543979,
          -0.41376092638310336,
          0.32887420159115527,
          0.8729354550960499,
          -0.33657901953658087,
          -1.194326742500851,
          -0.676615903454892,
          -0.5550205241717774,
          -2.026510738495248,
          -0.3457842826648694,
          -0.38678372767291264,
          -0.32893633561693986,
          0.004363227537524876,
          -1.0872490370707908,
          0.34096840542132634,
          -0.15103704217598235,
          0.5381608357022754,
          0.3927957547213143,
          -1.6835150692954717,
          -0.92583153055911,
          0.6790997638530409,
          -0.05065503749551706,
          0.7471561771513062,
          0.7267996918348049,
          0.7558737826149488,
          0.8669354661789175,
          -0.5883125097555686,
          -0.4616782593650259,
          -0.06828761261811965,
          0.1274240043599269,
          -0.8611087938563126,
          0.7295403774089118,
          0.6095456146491329,
          0.2457565485052304,
          -0.4527141682680746,
          -0.9894044423657463,
          -0.8461865919076168,
          1.6160276476471338,
          -0.44295786995666325,
          0.4052525078450415,
          -0.7725925348432313,
          -0.9700414649280531,
          0.2967877823951404,
          -0.26132861501848587,
          2.7995461162133872,
          0.2647627153131342,
          1.249817597253992,
          -0.2987960397363294,
          -0.5895330281226503,
          0.08840494189034458,
          -0.6442263753616765,
          0.23477998923235666,
          0.07912771285260012,
          -0.12988226344729503,
          -1.594079390394641,
          -0.14645967846660468,
          0.9901201163869056
         ],
         "xaxis": "x14",
         "y": [
          0.5170055812564315,
          -0.5864002189861852,
          0.08244983973714591,
          -0.4249887402995753,
          -0.7160306854644531,
          -0.0007567718085830301,
          -0.13476050619792204,
          -0.5563123457885937,
          -1.0188671919936263,
          -0.9617830084121471,
          -0.14223267942762866,
          -0.37493259004746815,
          -0.7785954442579843,
          1.7158918762104922,
          -0.7628362412789231,
          1.8540555371403478,
          -0.186029663166845,
          -1.511141844016936,
          -0.8844616732370526,
          -0.5818267202624393,
          -1.4688893891001469,
          -0.6490729798733988,
          0.1014274906485541,
          -0.7060764819863503,
          0.7975306199132951,
          0.12312442889535842,
          -0.022118755581018237,
          -0.14578490786452675,
          -1.2761250707433514,
          -0.46018089358985015,
          -2.049349875582505,
          0.13836137428577058,
          -0.5820157916473553,
          -1.7425485533246892,
          2.0315720187202135,
          0.3218726730472288,
          0.5001993230041177,
          -0.8167678712878862,
          2.261478282007555,
          1.5211683775223057,
          -1.319704152302807,
          0.7054362051143414,
          0.029753396393046725,
          -0.1755613758623475,
          -0.34486429441646327,
          0.21472343867920282,
          0.8904992193382669,
          -0.0615159334096154,
          -0.5795058531142238,
          -0.6873115453371869,
          -0.24517141548305807,
          0.5737898188025035,
          0.9238048918062784,
          -1.7218942903205565,
          0.9858244243446375,
          -0.30042840455475106,
          1.6418000165020206,
          -0.02962221022177065,
          -0.33496033368353584,
          -1.8115038400226386,
          1.6442476106328505,
          0.38952126098520407,
          0.09731039965134451,
          -0.7245784140461443,
          -0.8819142812213432,
          0.31724433553107023,
          -0.6382333460760878,
          0.24611183230938485,
          -1.326124511521306,
          -0.313135225879092,
          1.056092553101489,
          -1.1140349135110206,
          -0.38483781251566385,
          0.5404548383142044,
          -0.08459106775322058,
          -0.19676026252827838,
          0.33514203810913606,
          0.6394525735929671,
          -0.7915552193140721,
          -0.9335472407522618,
          -0.11880612640628109,
          0.747276283078878,
          0.7578150408803679,
          0.6230302974499802,
          2.6908592061496335,
          -1.2124880728623326,
          -1.260620082714092,
          0.18948207728240185,
          0.49459976167799796,
          0.9273342996306305,
          -0.20337634559536946,
          1.0268371061484365,
          1.4071215557756458,
          -0.3882949774086078,
          1.4612656017408572,
          -0.1023747320512153,
          -0.8760565157177523,
          0.6870123875868547,
          -1.4490667003636082,
          -1.0444997775882212
         ],
         "yaxis": "y14"
        },
        {
         "line": {
          "color": "rgba(128, 128, 128, 1.0)",
          "dash": "solid",
          "shape": "linear",
          "width": 1.3
         },
         "marker": {
          "size": 2,
          "symbol": "circle"
         },
         "mode": "markers",
         "name": "D",
         "text": "",
         "type": "scatter",
         "x": [
          -0.15409386096708147,
          0.8731863903000637,
          0.7892234402927493,
          0.8104639499990842,
          0.3739200651156504,
          0.888821220095366,
          0.03362767723488303,
          0.5989285244107289,
          0.13755412525304989,
          -1.6390305495019717,
          0.03156173862318914,
          -0.5093688846160807,
          -0.6008566424446116,
          -0.12317881544252014,
          0.4511808012432094,
          3.5081559410184866,
          0.3932663312794171,
          -2.7005731061790867,
          -1.4516374491108,
          1.2926803054696712,
          -1.3696166105998864,
          -0.41692394011220596,
          -1.8217715916088728,
          -1.8112911822965128,
          -0.6763464524393229,
          -0.5787351173109659,
          0.5441589206047204,
          2.2298668091051783,
          0.4054955369060133,
          0.7863272967033614,
          -0.9206210003566272,
          0.02022293557034932,
          1.8796833276526392,
          0.5565127425788943,
          0.5413264199017517,
          -3.0545468943333245,
          0.15135856937298206,
          -0.28753428909423134,
          -0.8263658715758724,
          -0.8745574542510015,
          -0.732903119694837,
          0.42651758063848905,
          -1.6476116191967374,
          0.45084700361094154,
          -0.11213491533708712,
          0.9207075468315324,
          0.03813904144214054,
          -0.12209913448179975,
          0.14480028295097216,
          0.5121714909419897,
          0.10617929864000014,
          -0.5359453955278299,
          -0.4783077764537238,
          1.0067800020799347,
          -0.48829641957847364,
          1.5129546278103194,
          -2.437687364959682,
          -1.146102903981523,
          -0.17863433651690444,
          0.9642421901633967,
          -1.1630116138330333,
          0.17038802493830377,
          1.708276022133024,
          -0.16613334668504778,
          0.7785958904004711,
          -0.6659555819092876,
          0.15481733121375887,
          -0.9863479866899411,
          -0.05113748152130975,
          0.8535927813848629,
          -0.5073805045570786,
          -0.4348665185655108,
          -0.18106117890974505,
          0.42676582115642936,
          -0.7894432165471591,
          -1.8113467196249016,
          -2.3441051401090505,
          2.1304239386427186,
          1.320738126165373,
          1.152079038293719,
          1.1904985781107802,
          0.4544157613361789,
          -1.8171352879405416,
          0.35804111222897833,
          0.11011801081236455,
          -0.462864031093342,
          0.13117517241613133,
          -0.7499674574046394,
          -1.629894698288106,
          -0.8109472932064513,
          -1.3575443921851864,
          -0.40537507616484114,
          -0.14328193508824014,
          1.3410996826548334,
          0.8743039715719515,
          0.6046464110944935,
          -0.29964928784708744,
          0.34029517332746817,
          0.46810547269470876,
          -0.589337367290618
         ],
         "xaxis": "x15",
         "y": [
          0.5170055812564315,
          -0.5864002189861852,
          0.08244983973714591,
          -0.4249887402995753,
          -0.7160306854644531,
          -0.0007567718085830301,
          -0.13476050619792204,
          -0.5563123457885937,
          -1.0188671919936263,
          -0.9617830084121471,
          -0.14223267942762866,
          -0.37493259004746815,
          -0.7785954442579843,
          1.7158918762104922,
          -0.7628362412789231,
          1.8540555371403478,
          -0.186029663166845,
          -1.511141844016936,
          -0.8844616732370526,
          -0.5818267202624393,
          -1.4688893891001469,
          -0.6490729798733988,
          0.1014274906485541,
          -0.7060764819863503,
          0.7975306199132951,
          0.12312442889535842,
          -0.022118755581018237,
          -0.14578490786452675,
          -1.2761250707433514,
          -0.46018089358985015,
          -2.049349875582505,
          0.13836137428577058,
          -0.5820157916473553,
          -1.7425485533246892,
          2.0315720187202135,
          0.3218726730472288,
          0.5001993230041177,
          -0.8167678712878862,
          2.261478282007555,
          1.5211683775223057,
          -1.319704152302807,
          0.7054362051143414,
          0.029753396393046725,
          -0.1755613758623475,
          -0.34486429441646327,
          0.21472343867920282,
          0.8904992193382669,
          -0.0615159334096154,
          -0.5795058531142238,
          -0.6873115453371869,
          -0.24517141548305807,
          0.5737898188025035,
          0.9238048918062784,
          -1.7218942903205565,
          0.9858244243446375,
          -0.30042840455475106,
          1.6418000165020206,
          -0.02962221022177065,
          -0.33496033368353584,
          -1.8115038400226386,
          1.6442476106328505,
          0.38952126098520407,
          0.09731039965134451,
          -0.7245784140461443,
          -0.8819142812213432,
          0.31724433553107023,
          -0.6382333460760878,
          0.24611183230938485,
          -1.326124511521306,
          -0.313135225879092,
          1.056092553101489,
          -1.1140349135110206,
          -0.38483781251566385,
          0.5404548383142044,
          -0.08459106775322058,
          -0.19676026252827838,
          0.33514203810913606,
          0.6394525735929671,
          -0.7915552193140721,
          -0.9335472407522618,
          -0.11880612640628109,
          0.747276283078878,
          0.7578150408803679,
          0.6230302974499802,
          2.6908592061496335,
          -1.2124880728623326,
          -1.260620082714092,
          0.18948207728240185,
          0.49459976167799796,
          0.9273342996306305,
          -0.20337634559536946,
          1.0268371061484365,
          1.4071215557756458,
          -0.3882949774086078,
          1.4612656017408572,
          -0.1023747320512153,
          -0.8760565157177523,
          0.6870123875868547,
          -1.4490667003636082,
          -1.0444997775882212
         ],
         "yaxis": "y15"
        },
        {
         "histfunc": "count",
         "histnorm": "",
         "marker": {
          "color": "rgba(128, 0, 128, 1.0)",
          "line": {
           "color": "#4D5663",
           "width": 1.3
          }
         },
         "name": "D",
         "nbinsx": 10,
         "opacity": 0.8,
         "orientation": "v",
         "type": "histogram",
         "x": [
          0.5170055812564315,
          -0.5864002189861852,
          0.08244983973714591,
          -0.4249887402995753,
          -0.7160306854644531,
          -0.0007567718085830301,
          -0.13476050619792204,
          -0.5563123457885937,
          -1.0188671919936263,
          -0.9617830084121471,
          -0.14223267942762866,
          -0.37493259004746815,
          -0.7785954442579843,
          1.7158918762104922,
          -0.7628362412789231,
          1.8540555371403478,
          -0.186029663166845,
          -1.511141844016936,
          -0.8844616732370526,
          -0.5818267202624393,
          -1.4688893891001469,
          -0.6490729798733988,
          0.1014274906485541,
          -0.7060764819863503,
          0.7975306199132951,
          0.12312442889535842,
          -0.022118755581018237,
          -0.14578490786452675,
          -1.2761250707433514,
          -0.46018089358985015,
          -2.049349875582505,
          0.13836137428577058,
          -0.5820157916473553,
          -1.7425485533246892,
          2.0315720187202135,
          0.3218726730472288,
          0.5001993230041177,
          -0.8167678712878862,
          2.261478282007555,
          1.5211683775223057,
          -1.319704152302807,
          0.7054362051143414,
          0.029753396393046725,
          -0.1755613758623475,
          -0.34486429441646327,
          0.21472343867920282,
          0.8904992193382669,
          -0.0615159334096154,
          -0.5795058531142238,
          -0.6873115453371869,
          -0.24517141548305807,
          0.5737898188025035,
          0.9238048918062784,
          -1.7218942903205565,
          0.9858244243446375,
          -0.30042840455475106,
          1.6418000165020206,
          -0.02962221022177065,
          -0.33496033368353584,
          -1.8115038400226386,
          1.6442476106328505,
          0.38952126098520407,
          0.09731039965134451,
          -0.7245784140461443,
          -0.8819142812213432,
          0.31724433553107023,
          -0.6382333460760878,
          0.24611183230938485,
          -1.326124511521306,
          -0.313135225879092,
          1.056092553101489,
          -1.1140349135110206,
          -0.38483781251566385,
          0.5404548383142044,
          -0.08459106775322058,
          -0.19676026252827838,
          0.33514203810913606,
          0.6394525735929671,
          -0.7915552193140721,
          -0.9335472407522618,
          -0.11880612640628109,
          0.747276283078878,
          0.7578150408803679,
          0.6230302974499802,
          2.6908592061496335,
          -1.2124880728623326,
          -1.260620082714092,
          0.18948207728240185,
          0.49459976167799796,
          0.9273342996306305,
          -0.20337634559536946,
          1.0268371061484365,
          1.4071215557756458,
          -0.3882949774086078,
          1.4612656017408572,
          -0.1023747320512153,
          -0.8760565157177523,
          0.6870123875868547,
          -1.4490667003636082,
          -1.0444997775882212
         ],
         "xaxis": "x16",
         "yaxis": "y16"
        }
       ],
       "layout": {
        "bargap": 0.02,
        "legend": {
         "bgcolor": "#F5F6F9",
         "font": {
          "color": "#4D5663"
         }
        },
        "paper_bgcolor": "#F5F6F9",
        "plot_bgcolor": "#F5F6F9",
        "showlegend": false,
        "template": {
         "data": {
          "bar": [
           {
            "error_x": {
             "color": "#2a3f5f"
            },
            "error_y": {
             "color": "#2a3f5f"
            },
            "marker": {
             "line": {
              "color": "#E5ECF6",
              "width": 0.5
             }
            },
            "type": "bar"
           }
          ],
          "barpolar": [
           {
            "marker": {
             "line": {
              "color": "#E5ECF6",
              "width": 0.5
             }
            },
            "type": "barpolar"
           }
          ],
          "carpet": [
           {
            "aaxis": {
             "endlinecolor": "#2a3f5f",
             "gridcolor": "white",
             "linecolor": "white",
             "minorgridcolor": "white",
             "startlinecolor": "#2a3f5f"
            },
            "baxis": {
             "endlinecolor": "#2a3f5f",
             "gridcolor": "white",
             "linecolor": "white",
             "minorgridcolor": "white",
             "startlinecolor": "#2a3f5f"
            },
            "type": "carpet"
           }
          ],
          "choropleth": [
           {
            "colorbar": {
             "outlinewidth": 0,
             "ticks": ""
            },
            "type": "choropleth"
           }
          ],
          "contour": [
           {
            "colorbar": {
             "outlinewidth": 0,
             "ticks": ""
            },
            "colorscale": [
             [
              0,
              "#0d0887"
             ],
             [
              0.1111111111111111,
              "#46039f"
             ],
             [
              0.2222222222222222,
              "#7201a8"
             ],
             [
              0.3333333333333333,
              "#9c179e"
             ],
             [
              0.4444444444444444,
              "#bd3786"
             ],
             [
              0.5555555555555556,
              "#d8576b"
             ],
             [
              0.6666666666666666,
              "#ed7953"
             ],
             [
              0.7777777777777778,
              "#fb9f3a"
             ],
             [
              0.8888888888888888,
              "#fdca26"
             ],
             [
              1,
              "#f0f921"
             ]
            ],
            "type": "contour"
           }
          ],
          "contourcarpet": [
           {
            "colorbar": {
             "outlinewidth": 0,
             "ticks": ""
            },
            "type": "contourcarpet"
           }
          ],
          "heatmap": [
           {
            "colorbar": {
             "outlinewidth": 0,
             "ticks": ""
            },
            "colorscale": [
             [
              0,
              "#0d0887"
             ],
             [
              0.1111111111111111,
              "#46039f"
             ],
             [
              0.2222222222222222,
              "#7201a8"
             ],
             [
              0.3333333333333333,
              "#9c179e"
             ],
             [
              0.4444444444444444,
              "#bd3786"
             ],
             [
              0.5555555555555556,
              "#d8576b"
             ],
             [
              0.6666666666666666,
              "#ed7953"
             ],
             [
              0.7777777777777778,
              "#fb9f3a"
             ],
             [
              0.8888888888888888,
              "#fdca26"
             ],
             [
              1,
              "#f0f921"
             ]
            ],
            "type": "heatmap"
           }
          ],
          "heatmapgl": [
           {
            "colorbar": {
             "outlinewidth": 0,
             "ticks": ""
            },
            "colorscale": [
             [
              0,
              "#0d0887"
             ],
             [
              0.1111111111111111,
              "#46039f"
             ],
             [
              0.2222222222222222,
              "#7201a8"
             ],
             [
              0.3333333333333333,
              "#9c179e"
             ],
             [
              0.4444444444444444,
              "#bd3786"
             ],
             [
              0.5555555555555556,
              "#d8576b"
             ],
             [
              0.6666666666666666,
              "#ed7953"
             ],
             [
              0.7777777777777778,
              "#fb9f3a"
             ],
             [
              0.8888888888888888,
              "#fdca26"
             ],
             [
              1,
              "#f0f921"
             ]
            ],
            "type": "heatmapgl"
           }
          ],
          "histogram": [
           {
            "marker": {
             "colorbar": {
              "outlinewidth": 0,
              "ticks": ""
             }
            },
            "type": "histogram"
           }
          ],
          "histogram2d": [
           {
            "colorbar": {
             "outlinewidth": 0,
             "ticks": ""
            },
            "colorscale": [
             [
              0,
              "#0d0887"
             ],
             [
              0.1111111111111111,
              "#46039f"
             ],
             [
              0.2222222222222222,
              "#7201a8"
             ],
             [
              0.3333333333333333,
              "#9c179e"
             ],
             [
              0.4444444444444444,
              "#bd3786"
             ],
             [
              0.5555555555555556,
              "#d8576b"
             ],
             [
              0.6666666666666666,
              "#ed7953"
             ],
             [
              0.7777777777777778,
              "#fb9f3a"
             ],
             [
              0.8888888888888888,
              "#fdca26"
             ],
             [
              1,
              "#f0f921"
             ]
            ],
            "type": "histogram2d"
           }
          ],
          "histogram2dcontour": [
           {
            "colorbar": {
             "outlinewidth": 0,
             "ticks": ""
            },
            "colorscale": [
             [
              0,
              "#0d0887"
             ],
             [
              0.1111111111111111,
              "#46039f"
             ],
             [
              0.2222222222222222,
              "#7201a8"
             ],
             [
              0.3333333333333333,
              "#9c179e"
             ],
             [
              0.4444444444444444,
              "#bd3786"
             ],
             [
              0.5555555555555556,
              "#d8576b"
             ],
             [
              0.6666666666666666,
              "#ed7953"
             ],
             [
              0.7777777777777778,
              "#fb9f3a"
             ],
             [
              0.8888888888888888,
              "#fdca26"
             ],
             [
              1,
              "#f0f921"
             ]
            ],
            "type": "histogram2dcontour"
           }
          ],
          "mesh3d": [
           {
            "colorbar": {
             "outlinewidth": 0,
             "ticks": ""
            },
            "type": "mesh3d"
           }
          ],
          "parcoords": [
           {
            "line": {
             "colorbar": {
              "outlinewidth": 0,
              "ticks": ""
             }
            },
            "type": "parcoords"
           }
          ],
          "pie": [
           {
            "automargin": true,
            "type": "pie"
           }
          ],
          "scatter": [
           {
            "marker": {
             "colorbar": {
              "outlinewidth": 0,
              "ticks": ""
             }
            },
            "type": "scatter"
           }
          ],
          "scatter3d": [
           {
            "line": {
             "colorbar": {
              "outlinewidth": 0,
              "ticks": ""
             }
            },
            "marker": {
             "colorbar": {
              "outlinewidth": 0,
              "ticks": ""
             }
            },
            "type": "scatter3d"
           }
          ],
          "scattercarpet": [
           {
            "marker": {
             "colorbar": {
              "outlinewidth": 0,
              "ticks": ""
             }
            },
            "type": "scattercarpet"
           }
          ],
          "scattergeo": [
           {
            "marker": {
             "colorbar": {
              "outlinewidth": 0,
              "ticks": ""
             }
            },
            "type": "scattergeo"
           }
          ],
          "scattergl": [
           {
            "marker": {
             "colorbar": {
              "outlinewidth": 0,
              "ticks": ""
             }
            },
            "type": "scattergl"
           }
          ],
          "scattermapbox": [
           {
            "marker": {
             "colorbar": {
              "outlinewidth": 0,
              "ticks": ""
             }
            },
            "type": "scattermapbox"
           }
          ],
          "scatterpolar": [
           {
            "marker": {
             "colorbar": {
              "outlinewidth": 0,
              "ticks": ""
             }
            },
            "type": "scatterpolar"
           }
          ],
          "scatterpolargl": [
           {
            "marker": {
             "colorbar": {
              "outlinewidth": 0,
              "ticks": ""
             }
            },
            "type": "scatterpolargl"
           }
          ],
          "scatterternary": [
           {
            "marker": {
             "colorbar": {
              "outlinewidth": 0,
              "ticks": ""
             }
            },
            "type": "scatterternary"
           }
          ],
          "surface": [
           {
            "colorbar": {
             "outlinewidth": 0,
             "ticks": ""
            },
            "colorscale": [
             [
              0,
              "#0d0887"
             ],
             [
              0.1111111111111111,
              "#46039f"
             ],
             [
              0.2222222222222222,
              "#7201a8"
             ],
             [
              0.3333333333333333,
              "#9c179e"
             ],
             [
              0.4444444444444444,
              "#bd3786"
             ],
             [
              0.5555555555555556,
              "#d8576b"
             ],
             [
              0.6666666666666666,
              "#ed7953"
             ],
             [
              0.7777777777777778,
              "#fb9f3a"
             ],
             [
              0.8888888888888888,
              "#fdca26"
             ],
             [
              1,
              "#f0f921"
             ]
            ],
            "type": "surface"
           }
          ],
          "table": [
           {
            "cells": {
             "fill": {
              "color": "#EBF0F8"
             },
             "line": {
              "color": "white"
             }
            },
            "header": {
             "fill": {
              "color": "#C8D4E3"
             },
             "line": {
              "color": "white"
             }
            },
            "type": "table"
           }
          ]
         },
         "layout": {
          "annotationdefaults": {
           "arrowcolor": "#2a3f5f",
           "arrowhead": 0,
           "arrowwidth": 1
          },
          "coloraxis": {
           "colorbar": {
            "outlinewidth": 0,
            "ticks": ""
           }
          },
          "colorscale": {
           "diverging": [
            [
             0,
             "#8e0152"
            ],
            [
             0.1,
             "#c51b7d"
            ],
            [
             0.2,
             "#de77ae"
            ],
            [
             0.3,
             "#f1b6da"
            ],
            [
             0.4,
             "#fde0ef"
            ],
            [
             0.5,
             "#f7f7f7"
            ],
            [
             0.6,
             "#e6f5d0"
            ],
            [
             0.7,
             "#b8e186"
            ],
            [
             0.8,
             "#7fbc41"
            ],
            [
             0.9,
             "#4d9221"
            ],
            [
             1,
             "#276419"
            ]
           ],
           "sequential": [
            [
             0,
             "#0d0887"
            ],
            [
             0.1111111111111111,
             "#46039f"
            ],
            [
             0.2222222222222222,
             "#7201a8"
            ],
            [
             0.3333333333333333,
             "#9c179e"
            ],
            [
             0.4444444444444444,
             "#bd3786"
            ],
            [
             0.5555555555555556,
             "#d8576b"
            ],
            [
             0.6666666666666666,
             "#ed7953"
            ],
            [
             0.7777777777777778,
             "#fb9f3a"
            ],
            [
             0.8888888888888888,
             "#fdca26"
            ],
            [
             1,
             "#f0f921"
            ]
           ],
           "sequentialminus": [
            [
             0,
             "#0d0887"
            ],
            [
             0.1111111111111111,
             "#46039f"
            ],
            [
             0.2222222222222222,
             "#7201a8"
            ],
            [
             0.3333333333333333,
             "#9c179e"
            ],
            [
             0.4444444444444444,
             "#bd3786"
            ],
            [
             0.5555555555555556,
             "#d8576b"
            ],
            [
             0.6666666666666666,
             "#ed7953"
            ],
            [
             0.7777777777777778,
             "#fb9f3a"
            ],
            [
             0.8888888888888888,
             "#fdca26"
            ],
            [
             1,
             "#f0f921"
            ]
           ]
          },
          "colorway": [
           "#636efa",
           "#EF553B",
           "#00cc96",
           "#ab63fa",
           "#FFA15A",
           "#19d3f3",
           "#FF6692",
           "#B6E880",
           "#FF97FF",
           "#FECB52"
          ],
          "font": {
           "color": "#2a3f5f"
          },
          "geo": {
           "bgcolor": "white",
           "lakecolor": "white",
           "landcolor": "#E5ECF6",
           "showlakes": true,
           "showland": true,
           "subunitcolor": "white"
          },
          "hoverlabel": {
           "align": "left"
          },
          "hovermode": "closest",
          "mapbox": {
           "style": "light"
          },
          "paper_bgcolor": "white",
          "plot_bgcolor": "#E5ECF6",
          "polar": {
           "angularaxis": {
            "gridcolor": "white",
            "linecolor": "white",
            "ticks": ""
           },
           "bgcolor": "#E5ECF6",
           "radialaxis": {
            "gridcolor": "white",
            "linecolor": "white",
            "ticks": ""
           }
          },
          "scene": {
           "xaxis": {
            "backgroundcolor": "#E5ECF6",
            "gridcolor": "white",
            "gridwidth": 2,
            "linecolor": "white",
            "showbackground": true,
            "ticks": "",
            "zerolinecolor": "white"
           },
           "yaxis": {
            "backgroundcolor": "#E5ECF6",
            "gridcolor": "white",
            "gridwidth": 2,
            "linecolor": "white",
            "showbackground": true,
            "ticks": "",
            "zerolinecolor": "white"
           },
           "zaxis": {
            "backgroundcolor": "#E5ECF6",
            "gridcolor": "white",
            "gridwidth": 2,
            "linecolor": "white",
            "showbackground": true,
            "ticks": "",
            "zerolinecolor": "white"
           }
          },
          "shapedefaults": {
           "line": {
            "color": "#2a3f5f"
           }
          },
          "ternary": {
           "aaxis": {
            "gridcolor": "white",
            "linecolor": "white",
            "ticks": ""
           },
           "baxis": {
            "gridcolor": "white",
            "linecolor": "white",
            "ticks": ""
           },
           "bgcolor": "#E5ECF6",
           "caxis": {
            "gridcolor": "white",
            "linecolor": "white",
            "ticks": ""
           }
          },
          "title": {
           "x": 0.05
          },
          "xaxis": {
           "automargin": true,
           "gridcolor": "white",
           "linecolor": "white",
           "ticks": "",
           "title": {
            "standoff": 15
           },
           "zerolinecolor": "white",
           "zerolinewidth": 2
          },
          "yaxis": {
           "automargin": true,
           "gridcolor": "white",
           "linecolor": "white",
           "ticks": "",
           "title": {
            "standoff": 15
           },
           "zerolinecolor": "white",
           "zerolinewidth": 2
          }
         }
        },
        "title": {
         "font": {
          "color": "#4D5663"
         }
        },
        "xaxis": {
         "anchor": "y",
         "domain": [
          0,
          0.2125
         ],
         "gridcolor": "#E1E5ED",
         "showgrid": false,
         "tickfont": {
          "color": "#4D5663"
         },
         "title": {
          "font": {
           "color": "#4D5663"
          },
          "text": ""
         },
         "zerolinecolor": "#E1E5ED"
        },
        "xaxis10": {
         "anchor": "y10",
         "domain": [
          0.2625,
          0.475
         ],
         "gridcolor": "#E1E5ED",
         "showgrid": false,
         "tickfont": {
          "color": "#4D5663"
         },
         "title": {
          "font": {
           "color": "#4D5663"
          },
          "text": ""
         },
         "zerolinecolor": "#E1E5ED"
        },
        "xaxis11": {
         "anchor": "y11",
         "domain": [
          0.525,
          0.7375
         ],
         "gridcolor": "#E1E5ED",
         "showgrid": false,
         "tickfont": {
          "color": "#4D5663"
         },
         "title": {
          "font": {
           "color": "#4D5663"
          },
          "text": ""
         },
         "zerolinecolor": "#E1E5ED"
        },
        "xaxis12": {
         "anchor": "y12",
         "domain": [
          0.7875,
          1
         ],
         "gridcolor": "#E1E5ED",
         "showgrid": false,
         "tickfont": {
          "color": "#4D5663"
         },
         "title": {
          "font": {
           "color": "#4D5663"
          },
          "text": ""
         },
         "zerolinecolor": "#E1E5ED"
        },
        "xaxis13": {
         "anchor": "y13",
         "domain": [
          0,
          0.2125
         ],
         "gridcolor": "#E1E5ED",
         "showgrid": false,
         "tickfont": {
          "color": "#4D5663"
         },
         "title": {
          "font": {
           "color": "#4D5663"
          },
          "text": ""
         },
         "zerolinecolor": "#E1E5ED"
        },
        "xaxis14": {
         "anchor": "y14",
         "domain": [
          0.2625,
          0.475
         ],
         "gridcolor": "#E1E5ED",
         "showgrid": false,
         "tickfont": {
          "color": "#4D5663"
         },
         "title": {
          "font": {
           "color": "#4D5663"
          },
          "text": ""
         },
         "zerolinecolor": "#E1E5ED"
        },
        "xaxis15": {
         "anchor": "y15",
         "domain": [
          0.525,
          0.7375
         ],
         "gridcolor": "#E1E5ED",
         "showgrid": false,
         "tickfont": {
          "color": "#4D5663"
         },
         "title": {
          "font": {
           "color": "#4D5663"
          },
          "text": ""
         },
         "zerolinecolor": "#E1E5ED"
        },
        "xaxis16": {
         "anchor": "y16",
         "domain": [
          0.7875,
          1
         ],
         "gridcolor": "#E1E5ED",
         "showgrid": false,
         "tickfont": {
          "color": "#4D5663"
         },
         "title": {
          "font": {
           "color": "#4D5663"
          },
          "text": ""
         },
         "zerolinecolor": "#E1E5ED"
        },
        "xaxis2": {
         "anchor": "y2",
         "domain": [
          0.2625,
          0.475
         ],
         "gridcolor": "#E1E5ED",
         "showgrid": false,
         "tickfont": {
          "color": "#4D5663"
         },
         "title": {
          "font": {
           "color": "#4D5663"
          },
          "text": ""
         },
         "zerolinecolor": "#E1E5ED"
        },
        "xaxis3": {
         "anchor": "y3",
         "domain": [
          0.525,
          0.7375
         ],
         "gridcolor": "#E1E5ED",
         "showgrid": false,
         "tickfont": {
          "color": "#4D5663"
         },
         "title": {
          "font": {
           "color": "#4D5663"
          },
          "text": ""
         },
         "zerolinecolor": "#E1E5ED"
        },
        "xaxis4": {
         "anchor": "y4",
         "domain": [
          0.7875,
          1
         ],
         "gridcolor": "#E1E5ED",
         "showgrid": false,
         "tickfont": {
          "color": "#4D5663"
         },
         "title": {
          "font": {
           "color": "#4D5663"
          },
          "text": ""
         },
         "zerolinecolor": "#E1E5ED"
        },
        "xaxis5": {
         "anchor": "y5",
         "domain": [
          0,
          0.2125
         ],
         "gridcolor": "#E1E5ED",
         "showgrid": false,
         "tickfont": {
          "color": "#4D5663"
         },
         "title": {
          "font": {
           "color": "#4D5663"
          },
          "text": ""
         },
         "zerolinecolor": "#E1E5ED"
        },
        "xaxis6": {
         "anchor": "y6",
         "domain": [
          0.2625,
          0.475
         ],
         "gridcolor": "#E1E5ED",
         "showgrid": false,
         "tickfont": {
          "color": "#4D5663"
         },
         "title": {
          "font": {
           "color": "#4D5663"
          },
          "text": ""
         },
         "zerolinecolor": "#E1E5ED"
        },
        "xaxis7": {
         "anchor": "y7",
         "domain": [
          0.525,
          0.7375
         ],
         "gridcolor": "#E1E5ED",
         "showgrid": false,
         "tickfont": {
          "color": "#4D5663"
         },
         "title": {
          "font": {
           "color": "#4D5663"
          },
          "text": ""
         },
         "zerolinecolor": "#E1E5ED"
        },
        "xaxis8": {
         "anchor": "y8",
         "domain": [
          0.7875,
          1
         ],
         "gridcolor": "#E1E5ED",
         "showgrid": false,
         "tickfont": {
          "color": "#4D5663"
         },
         "title": {
          "font": {
           "color": "#4D5663"
          },
          "text": ""
         },
         "zerolinecolor": "#E1E5ED"
        },
        "xaxis9": {
         "anchor": "y9",
         "domain": [
          0,
          0.2125
         ],
         "gridcolor": "#E1E5ED",
         "showgrid": false,
         "tickfont": {
          "color": "#4D5663"
         },
         "title": {
          "font": {
           "color": "#4D5663"
          },
          "text": ""
         },
         "zerolinecolor": "#E1E5ED"
        },
        "yaxis": {
         "anchor": "x",
         "domain": [
          0.8025,
          1
         ],
         "gridcolor": "#E1E5ED",
         "showgrid": false,
         "tickfont": {
          "color": "#4D5663"
         },
         "title": {
          "font": {
           "color": "#4D5663"
          },
          "text": ""
         },
         "zerolinecolor": "#E1E5ED"
        },
        "yaxis10": {
         "anchor": "x10",
         "domain": [
          0.2675,
          0.465
         ],
         "gridcolor": "#E1E5ED",
         "showgrid": false,
         "tickfont": {
          "color": "#4D5663"
         },
         "title": {
          "font": {
           "color": "#4D5663"
          },
          "text": ""
         },
         "zerolinecolor": "#E1E5ED"
        },
        "yaxis11": {
         "anchor": "x11",
         "domain": [
          0.2675,
          0.465
         ],
         "gridcolor": "#E1E5ED",
         "showgrid": false,
         "tickfont": {
          "color": "#4D5663"
         },
         "title": {
          "font": {
           "color": "#4D5663"
          },
          "text": ""
         },
         "zerolinecolor": "#E1E5ED"
        },
        "yaxis12": {
         "anchor": "x12",
         "domain": [
          0.2675,
          0.465
         ],
         "gridcolor": "#E1E5ED",
         "showgrid": false,
         "tickfont": {
          "color": "#4D5663"
         },
         "title": {
          "font": {
           "color": "#4D5663"
          },
          "text": ""
         },
         "zerolinecolor": "#E1E5ED"
        },
        "yaxis13": {
         "anchor": "x13",
         "domain": [
          0,
          0.1975
         ],
         "gridcolor": "#E1E5ED",
         "showgrid": false,
         "tickfont": {
          "color": "#4D5663"
         },
         "title": {
          "font": {
           "color": "#4D5663"
          },
          "text": ""
         },
         "zerolinecolor": "#E1E5ED"
        },
        "yaxis14": {
         "anchor": "x14",
         "domain": [
          0,
          0.1975
         ],
         "gridcolor": "#E1E5ED",
         "showgrid": false,
         "tickfont": {
          "color": "#4D5663"
         },
         "title": {
          "font": {
           "color": "#4D5663"
          },
          "text": ""
         },
         "zerolinecolor": "#E1E5ED"
        },
        "yaxis15": {
         "anchor": "x15",
         "domain": [
          0,
          0.1975
         ],
         "gridcolor": "#E1E5ED",
         "showgrid": false,
         "tickfont": {
          "color": "#4D5663"
         },
         "title": {
          "font": {
           "color": "#4D5663"
          },
          "text": ""
         },
         "zerolinecolor": "#E1E5ED"
        },
        "yaxis16": {
         "anchor": "x16",
         "domain": [
          0,
          0.1975
         ],
         "gridcolor": "#E1E5ED",
         "showgrid": false,
         "tickfont": {
          "color": "#4D5663"
         },
         "title": {
          "font": {
           "color": "#4D5663"
          },
          "text": ""
         },
         "zerolinecolor": "#E1E5ED"
        },
        "yaxis2": {
         "anchor": "x2",
         "domain": [
          0.8025,
          1
         ],
         "gridcolor": "#E1E5ED",
         "showgrid": false,
         "tickfont": {
          "color": "#4D5663"
         },
         "title": {
          "font": {
           "color": "#4D5663"
          },
          "text": ""
         },
         "zerolinecolor": "#E1E5ED"
        },
        "yaxis3": {
         "anchor": "x3",
         "domain": [
          0.8025,
          1
         ],
         "gridcolor": "#E1E5ED",
         "showgrid": false,
         "tickfont": {
          "color": "#4D5663"
         },
         "title": {
          "font": {
           "color": "#4D5663"
          },
          "text": ""
         },
         "zerolinecolor": "#E1E5ED"
        },
        "yaxis4": {
         "anchor": "x4",
         "domain": [
          0.8025,
          1
         ],
         "gridcolor": "#E1E5ED",
         "showgrid": false,
         "tickfont": {
          "color": "#4D5663"
         },
         "title": {
          "font": {
           "color": "#4D5663"
          },
          "text": ""
         },
         "zerolinecolor": "#E1E5ED"
        },
        "yaxis5": {
         "anchor": "x5",
         "domain": [
          0.535,
          0.7325
         ],
         "gridcolor": "#E1E5ED",
         "showgrid": false,
         "tickfont": {
          "color": "#4D5663"
         },
         "title": {
          "font": {
           "color": "#4D5663"
          },
          "text": ""
         },
         "zerolinecolor": "#E1E5ED"
        },
        "yaxis6": {
         "anchor": "x6",
         "domain": [
          0.535,
          0.7325
         ],
         "gridcolor": "#E1E5ED",
         "showgrid": false,
         "tickfont": {
          "color": "#4D5663"
         },
         "title": {
          "font": {
           "color": "#4D5663"
          },
          "text": ""
         },
         "zerolinecolor": "#E1E5ED"
        },
        "yaxis7": {
         "anchor": "x7",
         "domain": [
          0.535,
          0.7325
         ],
         "gridcolor": "#E1E5ED",
         "showgrid": false,
         "tickfont": {
          "color": "#4D5663"
         },
         "title": {
          "font": {
           "color": "#4D5663"
          },
          "text": ""
         },
         "zerolinecolor": "#E1E5ED"
        },
        "yaxis8": {
         "anchor": "x8",
         "domain": [
          0.535,
          0.7325
         ],
         "gridcolor": "#E1E5ED",
         "showgrid": false,
         "tickfont": {
          "color": "#4D5663"
         },
         "title": {
          "font": {
           "color": "#4D5663"
          },
          "text": ""
         },
         "zerolinecolor": "#E1E5ED"
        },
        "yaxis9": {
         "anchor": "x9",
         "domain": [
          0.2675,
          0.465
         ],
         "gridcolor": "#E1E5ED",
         "showgrid": false,
         "tickfont": {
          "color": "#4D5663"
         },
         "title": {
          "font": {
           "color": "#4D5663"
          },
          "text": ""
         },
         "zerolinecolor": "#E1E5ED"
        }
       }
      },
      "text/html": [
       "<div>\n",
       "        \n",
       "        \n",
       "            <div id=\"2627a3be-b9cc-4431-9053-679053e3a356\" class=\"plotly-graph-div\" style=\"height:525px; width:100%;\"></div>\n",
       "            <script type=\"text/javascript\">\n",
       "                require([\"plotly\"], function(Plotly) {\n",
       "                    window.PLOTLYENV=window.PLOTLYENV || {};\n",
       "                    window.PLOTLYENV.BASE_URL='https://plot.ly';\n",
       "                    \n",
       "                if (document.getElementById(\"2627a3be-b9cc-4431-9053-679053e3a356\")) {\n",
       "                    Plotly.newPlot(\n",
       "                        '2627a3be-b9cc-4431-9053-679053e3a356',\n",
       "                        [{\"histfunc\": \"count\", \"histnorm\": \"\", \"marker\": {\"color\": \"rgba(255, 153, 51, 1.0)\", \"line\": {\"color\": \"#4D5663\", \"width\": 1.3}}, \"name\": \"A\", \"nbinsx\": 10, \"opacity\": 0.8, \"orientation\": \"v\", \"type\": \"histogram\", \"x\": [0.21333712036216956, 0.25665047651329204, 1.9275407354802638, -0.1630088122780753, -0.7096503484216469, 1.1427364761321277, 2.084635310234222, -0.026399085983079537, -1.988420853788765, 0.671292439856992, 0.13993436471277995, 0.7670216335899259, -0.7402054775005389, -1.4399459740799503, -1.2005486697745715, -1.165410327584835, 0.6644248169283439, -0.028756506557073572, 0.2516096398380415, -0.8146789513812929, -0.7224259322456218, -0.781910319181829, 1.7911704476562211, -0.39073082039979745, -1.4352271322521146, 0.3248760858998426, 1.3214965589574204, 0.1523080436319771, 0.2141843572991045, -1.2217631454104891, -0.42887146674778853, -1.0642408721713603, -1.4620971662626352, 1.123140947567761, 0.07443428772796729, 1.216309038820772, -0.020010207442218403, -1.0939099461120412, -0.5902945316229972, -1.6464425979687698, -1.1335630422281875, 0.3685681559789853, 0.9319954006380338, -0.38370523637238346, 0.9729279519725634, 0.6060350277351296, -1.5064314701773505, -0.11686442762806791, -0.04540867924604806, -1.4647848980138103, 1.1033504484307806, -0.7637901184582542, 0.7717287733084981, -0.2250405260743319, -0.3105523373298624, 1.6250414877666595, -0.7154154635129228, -1.0137527586625759, -0.18160091030832878, 0.7278260419848971, -1.4462848221517628, -0.2149209788992766, -0.02736333868677174, -0.4083772190277294, -1.3903448037480677, -0.1421538438592139, -0.7899119363245749, 0.03614779270578574, 1.114018405015867, 0.8338294539917678, -0.5623298737996674, 1.0775148567887205, -0.1301928773075661, -0.2511044988443641, 0.5230267449493876, 1.3212937313584114, 1.483707056566117, 1.9612035531763654, 0.883359642676606, 2.432854412098014, -0.4365300341492609, -1.6526007572122574, -0.1837514310451801, 0.36087956949198857, -0.7012283537323358, -0.5790769597484454, -0.24819410221512403, -1.4940388601122643, 0.16135932479736645, -1.069825539040541, 1.5464357268018578, -0.12075629883590314, -1.6583980247893007, 0.33209734423001075, -2.707552450449217, 0.2128183167584507, 0.6232552740258526, 2.333363703121639, 1.5198415518587358, -0.05955186507850644], \"xaxis\": \"x\", \"yaxis\": \"y\"}, {\"line\": {\"color\": \"rgba(128, 128, 128, 1.0)\", \"dash\": \"solid\", \"shape\": \"linear\", \"width\": 1.3}, \"marker\": {\"size\": 2, \"symbol\": \"circle\"}, \"mode\": \"markers\", \"name\": \"A\", \"text\": \"\", \"type\": \"scatter\", \"x\": [-0.5864659752162915, -0.18099576406782086, -0.4533136022046553, 0.49710557372620195, 1.2775797802850062, 0.4161083640971835, -0.15143106943229268, -0.365663929736837, -0.6184603732884246, 0.21796399418182116, 1.1186914535310386, 0.44537632979139624, 1.6364822973037336, -0.04862658005502512, 0.6612865209790793, 0.2817057722811247, 0.3749416067021927, 0.2583039295660702, -0.978626727229024, -0.6199393733967932, 0.9606188506658868, 1.356744718143514, -0.8602632844776701, -0.3555113270769093, 0.9375159333038156, 0.6048321925488336, 0.8842081564062255, 0.5511891110238712, -0.47857044081560157, -0.1337811402976441, -1.2853280872014985, -0.5766656318966009, -0.8207314218982654, 0.5116859817080143, -1.0790996442387681, -0.6997609008747314, -0.28766636064296963, -0.6727663805637905, -0.3233231353415504, 0.17623541797795725, 0.8240659051722579, -0.8540606300446177, 0.6122579383495008, -0.590967987543979, -0.41376092638310336, 0.32887420159115527, 0.8729354550960499, -0.33657901953658087, -1.194326742500851, -0.676615903454892, -0.5550205241717774, -2.026510738495248, -0.3457842826648694, -0.38678372767291264, -0.32893633561693986, 0.004363227537524876, -1.0872490370707908, 0.34096840542132634, -0.15103704217598235, 0.5381608357022754, 0.3927957547213143, -1.6835150692954717, -0.92583153055911, 0.6790997638530409, -0.05065503749551706, 0.7471561771513062, 0.7267996918348049, 0.7558737826149488, 0.8669354661789175, -0.5883125097555686, -0.4616782593650259, -0.06828761261811965, 0.1274240043599269, -0.8611087938563126, 0.7295403774089118, 0.6095456146491329, 0.2457565485052304, -0.4527141682680746, -0.9894044423657463, -0.8461865919076168, 1.6160276476471338, -0.44295786995666325, 0.4052525078450415, -0.7725925348432313, -0.9700414649280531, 0.2967877823951404, -0.26132861501848587, 2.7995461162133872, 0.2647627153131342, 1.249817597253992, -0.2987960397363294, -0.5895330281226503, 0.08840494189034458, -0.6442263753616765, 0.23477998923235666, 0.07912771285260012, -0.12988226344729503, -1.594079390394641, -0.14645967846660468, 0.9901201163869056], \"xaxis\": \"x2\", \"y\": [0.21333712036216956, 0.25665047651329204, 1.9275407354802638, -0.1630088122780753, -0.7096503484216469, 1.1427364761321277, 2.084635310234222, -0.026399085983079537, -1.988420853788765, 0.671292439856992, 0.13993436471277995, 0.7670216335899259, -0.7402054775005389, -1.4399459740799503, -1.2005486697745715, -1.165410327584835, 0.6644248169283439, -0.028756506557073572, 0.2516096398380415, -0.8146789513812929, -0.7224259322456218, -0.781910319181829, 1.7911704476562211, -0.39073082039979745, -1.4352271322521146, 0.3248760858998426, 1.3214965589574204, 0.1523080436319771, 0.2141843572991045, -1.2217631454104891, -0.42887146674778853, -1.0642408721713603, -1.4620971662626352, 1.123140947567761, 0.07443428772796729, 1.216309038820772, -0.020010207442218403, -1.0939099461120412, -0.5902945316229972, -1.6464425979687698, -1.1335630422281875, 0.3685681559789853, 0.9319954006380338, -0.38370523637238346, 0.9729279519725634, 0.6060350277351296, -1.5064314701773505, -0.11686442762806791, -0.04540867924604806, -1.4647848980138103, 1.1033504484307806, -0.7637901184582542, 0.7717287733084981, -0.2250405260743319, -0.3105523373298624, 1.6250414877666595, -0.7154154635129228, -1.0137527586625759, -0.18160091030832878, 0.7278260419848971, -1.4462848221517628, -0.2149209788992766, -0.02736333868677174, -0.4083772190277294, -1.3903448037480677, -0.1421538438592139, -0.7899119363245749, 0.03614779270578574, 1.114018405015867, 0.8338294539917678, -0.5623298737996674, 1.0775148567887205, -0.1301928773075661, -0.2511044988443641, 0.5230267449493876, 1.3212937313584114, 1.483707056566117, 1.9612035531763654, 0.883359642676606, 2.432854412098014, -0.4365300341492609, -1.6526007572122574, -0.1837514310451801, 0.36087956949198857, -0.7012283537323358, -0.5790769597484454, -0.24819410221512403, -1.4940388601122643, 0.16135932479736645, -1.069825539040541, 1.5464357268018578, -0.12075629883590314, -1.6583980247893007, 0.33209734423001075, -2.707552450449217, 0.2128183167584507, 0.6232552740258526, 2.333363703121639, 1.5198415518587358, -0.05955186507850644], \"yaxis\": \"y2\"}, {\"line\": {\"color\": \"rgba(128, 128, 128, 1.0)\", \"dash\": \"solid\", \"shape\": \"linear\", \"width\": 1.3}, \"marker\": {\"size\": 2, \"symbol\": \"circle\"}, \"mode\": \"markers\", \"name\": \"A\", \"text\": \"\", \"type\": \"scatter\", \"x\": [-0.15409386096708147, 0.8731863903000637, 0.7892234402927493, 0.8104639499990842, 0.3739200651156504, 0.888821220095366, 0.03362767723488303, 0.5989285244107289, 0.13755412525304989, -1.6390305495019717, 0.03156173862318914, -0.5093688846160807, -0.6008566424446116, -0.12317881544252014, 0.4511808012432094, 3.5081559410184866, 0.3932663312794171, -2.7005731061790867, -1.4516374491108, 1.2926803054696712, -1.3696166105998864, -0.41692394011220596, -1.8217715916088728, -1.8112911822965128, -0.6763464524393229, -0.5787351173109659, 0.5441589206047204, 2.2298668091051783, 0.4054955369060133, 0.7863272967033614, -0.9206210003566272, 0.02022293557034932, 1.8796833276526392, 0.5565127425788943, 0.5413264199017517, -3.0545468943333245, 0.15135856937298206, -0.28753428909423134, -0.8263658715758724, -0.8745574542510015, -0.732903119694837, 0.42651758063848905, -1.6476116191967374, 0.45084700361094154, -0.11213491533708712, 0.9207075468315324, 0.03813904144214054, -0.12209913448179975, 0.14480028295097216, 0.5121714909419897, 0.10617929864000014, -0.5359453955278299, -0.4783077764537238, 1.0067800020799347, -0.48829641957847364, 1.5129546278103194, -2.437687364959682, -1.146102903981523, -0.17863433651690444, 0.9642421901633967, -1.1630116138330333, 0.17038802493830377, 1.708276022133024, -0.16613334668504778, 0.7785958904004711, -0.6659555819092876, 0.15481733121375887, -0.9863479866899411, -0.05113748152130975, 0.8535927813848629, -0.5073805045570786, -0.4348665185655108, -0.18106117890974505, 0.42676582115642936, -0.7894432165471591, -1.8113467196249016, -2.3441051401090505, 2.1304239386427186, 1.320738126165373, 1.152079038293719, 1.1904985781107802, 0.4544157613361789, -1.8171352879405416, 0.35804111222897833, 0.11011801081236455, -0.462864031093342, 0.13117517241613133, -0.7499674574046394, -1.629894698288106, -0.8109472932064513, -1.3575443921851864, -0.40537507616484114, -0.14328193508824014, 1.3410996826548334, 0.8743039715719515, 0.6046464110944935, -0.29964928784708744, 0.34029517332746817, 0.46810547269470876, -0.589337367290618], \"xaxis\": \"x3\", \"y\": [0.21333712036216956, 0.25665047651329204, 1.9275407354802638, -0.1630088122780753, -0.7096503484216469, 1.1427364761321277, 2.084635310234222, -0.026399085983079537, -1.988420853788765, 0.671292439856992, 0.13993436471277995, 0.7670216335899259, -0.7402054775005389, -1.4399459740799503, -1.2005486697745715, -1.165410327584835, 0.6644248169283439, -0.028756506557073572, 0.2516096398380415, -0.8146789513812929, -0.7224259322456218, -0.781910319181829, 1.7911704476562211, -0.39073082039979745, -1.4352271322521146, 0.3248760858998426, 1.3214965589574204, 0.1523080436319771, 0.2141843572991045, -1.2217631454104891, -0.42887146674778853, -1.0642408721713603, -1.4620971662626352, 1.123140947567761, 0.07443428772796729, 1.216309038820772, -0.020010207442218403, -1.0939099461120412, -0.5902945316229972, -1.6464425979687698, -1.1335630422281875, 0.3685681559789853, 0.9319954006380338, -0.38370523637238346, 0.9729279519725634, 0.6060350277351296, -1.5064314701773505, -0.11686442762806791, -0.04540867924604806, -1.4647848980138103, 1.1033504484307806, -0.7637901184582542, 0.7717287733084981, -0.2250405260743319, -0.3105523373298624, 1.6250414877666595, -0.7154154635129228, -1.0137527586625759, -0.18160091030832878, 0.7278260419848971, -1.4462848221517628, -0.2149209788992766, -0.02736333868677174, -0.4083772190277294, -1.3903448037480677, -0.1421538438592139, -0.7899119363245749, 0.03614779270578574, 1.114018405015867, 0.8338294539917678, -0.5623298737996674, 1.0775148567887205, -0.1301928773075661, -0.2511044988443641, 0.5230267449493876, 1.3212937313584114, 1.483707056566117, 1.9612035531763654, 0.883359642676606, 2.432854412098014, -0.4365300341492609, -1.6526007572122574, -0.1837514310451801, 0.36087956949198857, -0.7012283537323358, -0.5790769597484454, -0.24819410221512403, -1.4940388601122643, 0.16135932479736645, -1.069825539040541, 1.5464357268018578, -0.12075629883590314, -1.6583980247893007, 0.33209734423001075, -2.707552450449217, 0.2128183167584507, 0.6232552740258526, 2.333363703121639, 1.5198415518587358, -0.05955186507850644], \"yaxis\": \"y3\"}, {\"line\": {\"color\": \"rgba(128, 128, 128, 1.0)\", \"dash\": \"solid\", \"shape\": \"linear\", \"width\": 1.3}, \"marker\": {\"size\": 2, \"symbol\": \"circle\"}, \"mode\": \"markers\", \"name\": \"A\", \"text\": \"\", \"type\": \"scatter\", \"x\": [0.5170055812564315, -0.5864002189861852, 0.08244983973714591, -0.4249887402995753, -0.7160306854644531, -0.0007567718085830301, -0.13476050619792204, -0.5563123457885937, -1.0188671919936263, -0.9617830084121471, -0.14223267942762866, -0.37493259004746815, -0.7785954442579843, 1.7158918762104922, -0.7628362412789231, 1.8540555371403478, -0.186029663166845, -1.511141844016936, -0.8844616732370526, -0.5818267202624393, -1.4688893891001469, -0.6490729798733988, 0.1014274906485541, -0.7060764819863503, 0.7975306199132951, 0.12312442889535842, -0.022118755581018237, -0.14578490786452675, -1.2761250707433514, -0.46018089358985015, -2.049349875582505, 0.13836137428577058, -0.5820157916473553, -1.7425485533246892, 2.0315720187202135, 0.3218726730472288, 0.5001993230041177, -0.8167678712878862, 2.261478282007555, 1.5211683775223057, -1.319704152302807, 0.7054362051143414, 0.029753396393046725, -0.1755613758623475, -0.34486429441646327, 0.21472343867920282, 0.8904992193382669, -0.0615159334096154, -0.5795058531142238, -0.6873115453371869, -0.24517141548305807, 0.5737898188025035, 0.9238048918062784, -1.7218942903205565, 0.9858244243446375, -0.30042840455475106, 1.6418000165020206, -0.02962221022177065, -0.33496033368353584, -1.8115038400226386, 1.6442476106328505, 0.38952126098520407, 0.09731039965134451, -0.7245784140461443, -0.8819142812213432, 0.31724433553107023, -0.6382333460760878, 0.24611183230938485, -1.326124511521306, -0.313135225879092, 1.056092553101489, -1.1140349135110206, -0.38483781251566385, 0.5404548383142044, -0.08459106775322058, -0.19676026252827838, 0.33514203810913606, 0.6394525735929671, -0.7915552193140721, -0.9335472407522618, -0.11880612640628109, 0.747276283078878, 0.7578150408803679, 0.6230302974499802, 2.6908592061496335, -1.2124880728623326, -1.260620082714092, 0.18948207728240185, 0.49459976167799796, 0.9273342996306305, -0.20337634559536946, 1.0268371061484365, 1.4071215557756458, -0.3882949774086078, 1.4612656017408572, -0.1023747320512153, -0.8760565157177523, 0.6870123875868547, -1.4490667003636082, -1.0444997775882212], \"xaxis\": \"x4\", \"y\": [0.21333712036216956, 0.25665047651329204, 1.9275407354802638, -0.1630088122780753, -0.7096503484216469, 1.1427364761321277, 2.084635310234222, -0.026399085983079537, -1.988420853788765, 0.671292439856992, 0.13993436471277995, 0.7670216335899259, -0.7402054775005389, -1.4399459740799503, -1.2005486697745715, -1.165410327584835, 0.6644248169283439, -0.028756506557073572, 0.2516096398380415, -0.8146789513812929, -0.7224259322456218, -0.781910319181829, 1.7911704476562211, -0.39073082039979745, -1.4352271322521146, 0.3248760858998426, 1.3214965589574204, 0.1523080436319771, 0.2141843572991045, -1.2217631454104891, -0.42887146674778853, -1.0642408721713603, -1.4620971662626352, 1.123140947567761, 0.07443428772796729, 1.216309038820772, -0.020010207442218403, -1.0939099461120412, -0.5902945316229972, -1.6464425979687698, -1.1335630422281875, 0.3685681559789853, 0.9319954006380338, -0.38370523637238346, 0.9729279519725634, 0.6060350277351296, -1.5064314701773505, -0.11686442762806791, -0.04540867924604806, -1.4647848980138103, 1.1033504484307806, -0.7637901184582542, 0.7717287733084981, -0.2250405260743319, -0.3105523373298624, 1.6250414877666595, -0.7154154635129228, -1.0137527586625759, -0.18160091030832878, 0.7278260419848971, -1.4462848221517628, -0.2149209788992766, -0.02736333868677174, -0.4083772190277294, -1.3903448037480677, -0.1421538438592139, -0.7899119363245749, 0.03614779270578574, 1.114018405015867, 0.8338294539917678, -0.5623298737996674, 1.0775148567887205, -0.1301928773075661, -0.2511044988443641, 0.5230267449493876, 1.3212937313584114, 1.483707056566117, 1.9612035531763654, 0.883359642676606, 2.432854412098014, -0.4365300341492609, -1.6526007572122574, -0.1837514310451801, 0.36087956949198857, -0.7012283537323358, -0.5790769597484454, -0.24819410221512403, -1.4940388601122643, 0.16135932479736645, -1.069825539040541, 1.5464357268018578, -0.12075629883590314, -1.6583980247893007, 0.33209734423001075, -2.707552450449217, 0.2128183167584507, 0.6232552740258526, 2.333363703121639, 1.5198415518587358, -0.05955186507850644], \"yaxis\": \"y4\"}, {\"line\": {\"color\": \"rgba(128, 128, 128, 1.0)\", \"dash\": \"solid\", \"shape\": \"linear\", \"width\": 1.3}, \"marker\": {\"size\": 2, \"symbol\": \"circle\"}, \"mode\": \"markers\", \"name\": \"B\", \"text\": \"\", \"type\": \"scatter\", \"x\": [0.21333712036216956, 0.25665047651329204, 1.9275407354802638, -0.1630088122780753, -0.7096503484216469, 1.1427364761321277, 2.084635310234222, -0.026399085983079537, -1.988420853788765, 0.671292439856992, 0.13993436471277995, 0.7670216335899259, -0.7402054775005389, -1.4399459740799503, -1.2005486697745715, -1.165410327584835, 0.6644248169283439, -0.028756506557073572, 0.2516096398380415, -0.8146789513812929, -0.7224259322456218, -0.781910319181829, 1.7911704476562211, -0.39073082039979745, -1.4352271322521146, 0.3248760858998426, 1.3214965589574204, 0.1523080436319771, 0.2141843572991045, -1.2217631454104891, -0.42887146674778853, -1.0642408721713603, -1.4620971662626352, 1.123140947567761, 0.07443428772796729, 1.216309038820772, -0.020010207442218403, -1.0939099461120412, -0.5902945316229972, -1.6464425979687698, -1.1335630422281875, 0.3685681559789853, 0.9319954006380338, -0.38370523637238346, 0.9729279519725634, 0.6060350277351296, -1.5064314701773505, -0.11686442762806791, -0.04540867924604806, -1.4647848980138103, 1.1033504484307806, -0.7637901184582542, 0.7717287733084981, -0.2250405260743319, -0.3105523373298624, 1.6250414877666595, -0.7154154635129228, -1.0137527586625759, -0.18160091030832878, 0.7278260419848971, -1.4462848221517628, -0.2149209788992766, -0.02736333868677174, -0.4083772190277294, -1.3903448037480677, -0.1421538438592139, -0.7899119363245749, 0.03614779270578574, 1.114018405015867, 0.8338294539917678, -0.5623298737996674, 1.0775148567887205, -0.1301928773075661, -0.2511044988443641, 0.5230267449493876, 1.3212937313584114, 1.483707056566117, 1.9612035531763654, 0.883359642676606, 2.432854412098014, -0.4365300341492609, -1.6526007572122574, -0.1837514310451801, 0.36087956949198857, -0.7012283537323358, -0.5790769597484454, -0.24819410221512403, -1.4940388601122643, 0.16135932479736645, -1.069825539040541, 1.5464357268018578, -0.12075629883590314, -1.6583980247893007, 0.33209734423001075, -2.707552450449217, 0.2128183167584507, 0.6232552740258526, 2.333363703121639, 1.5198415518587358, -0.05955186507850644], \"xaxis\": \"x5\", \"y\": [-0.5864659752162915, -0.18099576406782086, -0.4533136022046553, 0.49710557372620195, 1.2775797802850062, 0.4161083640971835, -0.15143106943229268, -0.365663929736837, -0.6184603732884246, 0.21796399418182116, 1.1186914535310386, 0.44537632979139624, 1.6364822973037336, -0.04862658005502512, 0.6612865209790793, 0.2817057722811247, 0.3749416067021927, 0.2583039295660702, -0.978626727229024, -0.6199393733967932, 0.9606188506658868, 1.356744718143514, -0.8602632844776701, -0.3555113270769093, 0.9375159333038156, 0.6048321925488336, 0.8842081564062255, 0.5511891110238712, -0.47857044081560157, -0.1337811402976441, -1.2853280872014985, -0.5766656318966009, -0.8207314218982654, 0.5116859817080143, -1.0790996442387681, -0.6997609008747314, -0.28766636064296963, -0.6727663805637905, -0.3233231353415504, 0.17623541797795725, 0.8240659051722579, -0.8540606300446177, 0.6122579383495008, -0.590967987543979, -0.41376092638310336, 0.32887420159115527, 0.8729354550960499, -0.33657901953658087, -1.194326742500851, -0.676615903454892, -0.5550205241717774, -2.026510738495248, -0.3457842826648694, -0.38678372767291264, -0.32893633561693986, 0.004363227537524876, -1.0872490370707908, 0.34096840542132634, -0.15103704217598235, 0.5381608357022754, 0.3927957547213143, -1.6835150692954717, -0.92583153055911, 0.6790997638530409, -0.05065503749551706, 0.7471561771513062, 0.7267996918348049, 0.7558737826149488, 0.8669354661789175, -0.5883125097555686, -0.4616782593650259, -0.06828761261811965, 0.1274240043599269, -0.8611087938563126, 0.7295403774089118, 0.6095456146491329, 0.2457565485052304, -0.4527141682680746, -0.9894044423657463, -0.8461865919076168, 1.6160276476471338, -0.44295786995666325, 0.4052525078450415, -0.7725925348432313, -0.9700414649280531, 0.2967877823951404, -0.26132861501848587, 2.7995461162133872, 0.2647627153131342, 1.249817597253992, -0.2987960397363294, -0.5895330281226503, 0.08840494189034458, -0.6442263753616765, 0.23477998923235666, 0.07912771285260012, -0.12988226344729503, -1.594079390394641, -0.14645967846660468, 0.9901201163869056], \"yaxis\": \"y5\"}, {\"histfunc\": \"count\", \"histnorm\": \"\", \"marker\": {\"color\": \"rgba(55, 128, 191, 1.0)\", \"line\": {\"color\": \"#4D5663\", \"width\": 1.3}}, \"name\": \"B\", \"nbinsx\": 10, \"opacity\": 0.8, \"orientation\": \"v\", \"type\": \"histogram\", \"x\": [-0.5864659752162915, -0.18099576406782086, -0.4533136022046553, 0.49710557372620195, 1.2775797802850062, 0.4161083640971835, -0.15143106943229268, -0.365663929736837, -0.6184603732884246, 0.21796399418182116, 1.1186914535310386, 0.44537632979139624, 1.6364822973037336, -0.04862658005502512, 0.6612865209790793, 0.2817057722811247, 0.3749416067021927, 0.2583039295660702, -0.978626727229024, -0.6199393733967932, 0.9606188506658868, 1.356744718143514, -0.8602632844776701, -0.3555113270769093, 0.9375159333038156, 0.6048321925488336, 0.8842081564062255, 0.5511891110238712, -0.47857044081560157, -0.1337811402976441, -1.2853280872014985, -0.5766656318966009, -0.8207314218982654, 0.5116859817080143, -1.0790996442387681, -0.6997609008747314, -0.28766636064296963, -0.6727663805637905, -0.3233231353415504, 0.17623541797795725, 0.8240659051722579, -0.8540606300446177, 0.6122579383495008, -0.590967987543979, -0.41376092638310336, 0.32887420159115527, 0.8729354550960499, -0.33657901953658087, -1.194326742500851, -0.676615903454892, -0.5550205241717774, -2.026510738495248, -0.3457842826648694, -0.38678372767291264, -0.32893633561693986, 0.004363227537524876, -1.0872490370707908, 0.34096840542132634, -0.15103704217598235, 0.5381608357022754, 0.3927957547213143, -1.6835150692954717, -0.92583153055911, 0.6790997638530409, -0.05065503749551706, 0.7471561771513062, 0.7267996918348049, 0.7558737826149488, 0.8669354661789175, -0.5883125097555686, -0.4616782593650259, -0.06828761261811965, 0.1274240043599269, -0.8611087938563126, 0.7295403774089118, 0.6095456146491329, 0.2457565485052304, -0.4527141682680746, -0.9894044423657463, -0.8461865919076168, 1.6160276476471338, -0.44295786995666325, 0.4052525078450415, -0.7725925348432313, -0.9700414649280531, 0.2967877823951404, -0.26132861501848587, 2.7995461162133872, 0.2647627153131342, 1.249817597253992, -0.2987960397363294, -0.5895330281226503, 0.08840494189034458, -0.6442263753616765, 0.23477998923235666, 0.07912771285260012, -0.12988226344729503, -1.594079390394641, -0.14645967846660468, 0.9901201163869056], \"xaxis\": \"x6\", \"yaxis\": \"y6\"}, {\"line\": {\"color\": \"rgba(128, 128, 128, 1.0)\", \"dash\": \"solid\", \"shape\": \"linear\", \"width\": 1.3}, \"marker\": {\"size\": 2, \"symbol\": \"circle\"}, \"mode\": \"markers\", \"name\": \"B\", \"text\": \"\", \"type\": \"scatter\", \"x\": [-0.15409386096708147, 0.8731863903000637, 0.7892234402927493, 0.8104639499990842, 0.3739200651156504, 0.888821220095366, 0.03362767723488303, 0.5989285244107289, 0.13755412525304989, -1.6390305495019717, 0.03156173862318914, -0.5093688846160807, -0.6008566424446116, -0.12317881544252014, 0.4511808012432094, 3.5081559410184866, 0.3932663312794171, -2.7005731061790867, -1.4516374491108, 1.2926803054696712, -1.3696166105998864, -0.41692394011220596, -1.8217715916088728, -1.8112911822965128, -0.6763464524393229, -0.5787351173109659, 0.5441589206047204, 2.2298668091051783, 0.4054955369060133, 0.7863272967033614, -0.9206210003566272, 0.02022293557034932, 1.8796833276526392, 0.5565127425788943, 0.5413264199017517, -3.0545468943333245, 0.15135856937298206, -0.28753428909423134, -0.8263658715758724, -0.8745574542510015, -0.732903119694837, 0.42651758063848905, -1.6476116191967374, 0.45084700361094154, -0.11213491533708712, 0.9207075468315324, 0.03813904144214054, -0.12209913448179975, 0.14480028295097216, 0.5121714909419897, 0.10617929864000014, -0.5359453955278299, -0.4783077764537238, 1.0067800020799347, -0.48829641957847364, 1.5129546278103194, -2.437687364959682, -1.146102903981523, -0.17863433651690444, 0.9642421901633967, -1.1630116138330333, 0.17038802493830377, 1.708276022133024, -0.16613334668504778, 0.7785958904004711, -0.6659555819092876, 0.15481733121375887, -0.9863479866899411, -0.05113748152130975, 0.8535927813848629, -0.5073805045570786, -0.4348665185655108, -0.18106117890974505, 0.42676582115642936, -0.7894432165471591, -1.8113467196249016, -2.3441051401090505, 2.1304239386427186, 1.320738126165373, 1.152079038293719, 1.1904985781107802, 0.4544157613361789, -1.8171352879405416, 0.35804111222897833, 0.11011801081236455, -0.462864031093342, 0.13117517241613133, -0.7499674574046394, -1.629894698288106, -0.8109472932064513, -1.3575443921851864, -0.40537507616484114, -0.14328193508824014, 1.3410996826548334, 0.8743039715719515, 0.6046464110944935, -0.29964928784708744, 0.34029517332746817, 0.46810547269470876, -0.589337367290618], \"xaxis\": \"x7\", \"y\": [-0.5864659752162915, -0.18099576406782086, -0.4533136022046553, 0.49710557372620195, 1.2775797802850062, 0.4161083640971835, -0.15143106943229268, -0.365663929736837, -0.6184603732884246, 0.21796399418182116, 1.1186914535310386, 0.44537632979139624, 1.6364822973037336, -0.04862658005502512, 0.6612865209790793, 0.2817057722811247, 0.3749416067021927, 0.2583039295660702, -0.978626727229024, -0.6199393733967932, 0.9606188506658868, 1.356744718143514, -0.8602632844776701, -0.3555113270769093, 0.9375159333038156, 0.6048321925488336, 0.8842081564062255, 0.5511891110238712, -0.47857044081560157, -0.1337811402976441, -1.2853280872014985, -0.5766656318966009, -0.8207314218982654, 0.5116859817080143, -1.0790996442387681, -0.6997609008747314, -0.28766636064296963, -0.6727663805637905, -0.3233231353415504, 0.17623541797795725, 0.8240659051722579, -0.8540606300446177, 0.6122579383495008, -0.590967987543979, -0.41376092638310336, 0.32887420159115527, 0.8729354550960499, -0.33657901953658087, -1.194326742500851, -0.676615903454892, -0.5550205241717774, -2.026510738495248, -0.3457842826648694, -0.38678372767291264, -0.32893633561693986, 0.004363227537524876, -1.0872490370707908, 0.34096840542132634, -0.15103704217598235, 0.5381608357022754, 0.3927957547213143, -1.6835150692954717, -0.92583153055911, 0.6790997638530409, -0.05065503749551706, 0.7471561771513062, 0.7267996918348049, 0.7558737826149488, 0.8669354661789175, -0.5883125097555686, -0.4616782593650259, -0.06828761261811965, 0.1274240043599269, -0.8611087938563126, 0.7295403774089118, 0.6095456146491329, 0.2457565485052304, -0.4527141682680746, -0.9894044423657463, -0.8461865919076168, 1.6160276476471338, -0.44295786995666325, 0.4052525078450415, -0.7725925348432313, -0.9700414649280531, 0.2967877823951404, -0.26132861501848587, 2.7995461162133872, 0.2647627153131342, 1.249817597253992, -0.2987960397363294, -0.5895330281226503, 0.08840494189034458, -0.6442263753616765, 0.23477998923235666, 0.07912771285260012, -0.12988226344729503, -1.594079390394641, -0.14645967846660468, 0.9901201163869056], \"yaxis\": \"y7\"}, {\"line\": {\"color\": \"rgba(128, 128, 128, 1.0)\", \"dash\": \"solid\", \"shape\": \"linear\", \"width\": 1.3}, \"marker\": {\"size\": 2, \"symbol\": \"circle\"}, \"mode\": \"markers\", \"name\": \"B\", \"text\": \"\", \"type\": \"scatter\", \"x\": [0.5170055812564315, -0.5864002189861852, 0.08244983973714591, -0.4249887402995753, -0.7160306854644531, -0.0007567718085830301, -0.13476050619792204, -0.5563123457885937, -1.0188671919936263, -0.9617830084121471, -0.14223267942762866, -0.37493259004746815, -0.7785954442579843, 1.7158918762104922, -0.7628362412789231, 1.8540555371403478, -0.186029663166845, -1.511141844016936, -0.8844616732370526, -0.5818267202624393, -1.4688893891001469, -0.6490729798733988, 0.1014274906485541, -0.7060764819863503, 0.7975306199132951, 0.12312442889535842, -0.022118755581018237, -0.14578490786452675, -1.2761250707433514, -0.46018089358985015, -2.049349875582505, 0.13836137428577058, -0.5820157916473553, -1.7425485533246892, 2.0315720187202135, 0.3218726730472288, 0.5001993230041177, -0.8167678712878862, 2.261478282007555, 1.5211683775223057, -1.319704152302807, 0.7054362051143414, 0.029753396393046725, -0.1755613758623475, -0.34486429441646327, 0.21472343867920282, 0.8904992193382669, -0.0615159334096154, -0.5795058531142238, -0.6873115453371869, -0.24517141548305807, 0.5737898188025035, 0.9238048918062784, -1.7218942903205565, 0.9858244243446375, -0.30042840455475106, 1.6418000165020206, -0.02962221022177065, -0.33496033368353584, -1.8115038400226386, 1.6442476106328505, 0.38952126098520407, 0.09731039965134451, -0.7245784140461443, -0.8819142812213432, 0.31724433553107023, -0.6382333460760878, 0.24611183230938485, -1.326124511521306, -0.313135225879092, 1.056092553101489, -1.1140349135110206, -0.38483781251566385, 0.5404548383142044, -0.08459106775322058, -0.19676026252827838, 0.33514203810913606, 0.6394525735929671, -0.7915552193140721, -0.9335472407522618, -0.11880612640628109, 0.747276283078878, 0.7578150408803679, 0.6230302974499802, 2.6908592061496335, -1.2124880728623326, -1.260620082714092, 0.18948207728240185, 0.49459976167799796, 0.9273342996306305, -0.20337634559536946, 1.0268371061484365, 1.4071215557756458, -0.3882949774086078, 1.4612656017408572, -0.1023747320512153, -0.8760565157177523, 0.6870123875868547, -1.4490667003636082, -1.0444997775882212], \"xaxis\": \"x8\", \"y\": [-0.5864659752162915, -0.18099576406782086, -0.4533136022046553, 0.49710557372620195, 1.2775797802850062, 0.4161083640971835, -0.15143106943229268, -0.365663929736837, -0.6184603732884246, 0.21796399418182116, 1.1186914535310386, 0.44537632979139624, 1.6364822973037336, -0.04862658005502512, 0.6612865209790793, 0.2817057722811247, 0.3749416067021927, 0.2583039295660702, -0.978626727229024, -0.6199393733967932, 0.9606188506658868, 1.356744718143514, -0.8602632844776701, -0.3555113270769093, 0.9375159333038156, 0.6048321925488336, 0.8842081564062255, 0.5511891110238712, -0.47857044081560157, -0.1337811402976441, -1.2853280872014985, -0.5766656318966009, -0.8207314218982654, 0.5116859817080143, -1.0790996442387681, -0.6997609008747314, -0.28766636064296963, -0.6727663805637905, -0.3233231353415504, 0.17623541797795725, 0.8240659051722579, -0.8540606300446177, 0.6122579383495008, -0.590967987543979, -0.41376092638310336, 0.32887420159115527, 0.8729354550960499, -0.33657901953658087, -1.194326742500851, -0.676615903454892, -0.5550205241717774, -2.026510738495248, -0.3457842826648694, -0.38678372767291264, -0.32893633561693986, 0.004363227537524876, -1.0872490370707908, 0.34096840542132634, -0.15103704217598235, 0.5381608357022754, 0.3927957547213143, -1.6835150692954717, -0.92583153055911, 0.6790997638530409, -0.05065503749551706, 0.7471561771513062, 0.7267996918348049, 0.7558737826149488, 0.8669354661789175, -0.5883125097555686, -0.4616782593650259, -0.06828761261811965, 0.1274240043599269, -0.8611087938563126, 0.7295403774089118, 0.6095456146491329, 0.2457565485052304, -0.4527141682680746, -0.9894044423657463, -0.8461865919076168, 1.6160276476471338, -0.44295786995666325, 0.4052525078450415, -0.7725925348432313, -0.9700414649280531, 0.2967877823951404, -0.26132861501848587, 2.7995461162133872, 0.2647627153131342, 1.249817597253992, -0.2987960397363294, -0.5895330281226503, 0.08840494189034458, -0.6442263753616765, 0.23477998923235666, 0.07912771285260012, -0.12988226344729503, -1.594079390394641, -0.14645967846660468, 0.9901201163869056], \"yaxis\": \"y8\"}, {\"line\": {\"color\": \"rgba(128, 128, 128, 1.0)\", \"dash\": \"solid\", \"shape\": \"linear\", \"width\": 1.3}, \"marker\": {\"size\": 2, \"symbol\": \"circle\"}, \"mode\": \"markers\", \"name\": \"C\", \"text\": \"\", \"type\": \"scatter\", \"x\": [0.21333712036216956, 0.25665047651329204, 1.9275407354802638, -0.1630088122780753, -0.7096503484216469, 1.1427364761321277, 2.084635310234222, -0.026399085983079537, -1.988420853788765, 0.671292439856992, 0.13993436471277995, 0.7670216335899259, -0.7402054775005389, -1.4399459740799503, -1.2005486697745715, -1.165410327584835, 0.6644248169283439, -0.028756506557073572, 0.2516096398380415, -0.8146789513812929, -0.7224259322456218, -0.781910319181829, 1.7911704476562211, -0.39073082039979745, -1.4352271322521146, 0.3248760858998426, 1.3214965589574204, 0.1523080436319771, 0.2141843572991045, -1.2217631454104891, -0.42887146674778853, -1.0642408721713603, -1.4620971662626352, 1.123140947567761, 0.07443428772796729, 1.216309038820772, -0.020010207442218403, -1.0939099461120412, -0.5902945316229972, -1.6464425979687698, -1.1335630422281875, 0.3685681559789853, 0.9319954006380338, -0.38370523637238346, 0.9729279519725634, 0.6060350277351296, -1.5064314701773505, -0.11686442762806791, -0.04540867924604806, -1.4647848980138103, 1.1033504484307806, -0.7637901184582542, 0.7717287733084981, -0.2250405260743319, -0.3105523373298624, 1.6250414877666595, -0.7154154635129228, -1.0137527586625759, -0.18160091030832878, 0.7278260419848971, -1.4462848221517628, -0.2149209788992766, -0.02736333868677174, -0.4083772190277294, -1.3903448037480677, -0.1421538438592139, -0.7899119363245749, 0.03614779270578574, 1.114018405015867, 0.8338294539917678, -0.5623298737996674, 1.0775148567887205, -0.1301928773075661, -0.2511044988443641, 0.5230267449493876, 1.3212937313584114, 1.483707056566117, 1.9612035531763654, 0.883359642676606, 2.432854412098014, -0.4365300341492609, -1.6526007572122574, -0.1837514310451801, 0.36087956949198857, -0.7012283537323358, -0.5790769597484454, -0.24819410221512403, -1.4940388601122643, 0.16135932479736645, -1.069825539040541, 1.5464357268018578, -0.12075629883590314, -1.6583980247893007, 0.33209734423001075, -2.707552450449217, 0.2128183167584507, 0.6232552740258526, 2.333363703121639, 1.5198415518587358, -0.05955186507850644], \"xaxis\": \"x9\", \"y\": [-0.15409386096708147, 0.8731863903000637, 0.7892234402927493, 0.8104639499990842, 0.3739200651156504, 0.888821220095366, 0.03362767723488303, 0.5989285244107289, 0.13755412525304989, -1.6390305495019717, 0.03156173862318914, -0.5093688846160807, -0.6008566424446116, -0.12317881544252014, 0.4511808012432094, 3.5081559410184866, 0.3932663312794171, -2.7005731061790867, -1.4516374491108, 1.2926803054696712, -1.3696166105998864, -0.41692394011220596, -1.8217715916088728, -1.8112911822965128, -0.6763464524393229, -0.5787351173109659, 0.5441589206047204, 2.2298668091051783, 0.4054955369060133, 0.7863272967033614, -0.9206210003566272, 0.02022293557034932, 1.8796833276526392, 0.5565127425788943, 0.5413264199017517, -3.0545468943333245, 0.15135856937298206, -0.28753428909423134, -0.8263658715758724, -0.8745574542510015, -0.732903119694837, 0.42651758063848905, -1.6476116191967374, 0.45084700361094154, -0.11213491533708712, 0.9207075468315324, 0.03813904144214054, -0.12209913448179975, 0.14480028295097216, 0.5121714909419897, 0.10617929864000014, -0.5359453955278299, -0.4783077764537238, 1.0067800020799347, -0.48829641957847364, 1.5129546278103194, -2.437687364959682, -1.146102903981523, -0.17863433651690444, 0.9642421901633967, -1.1630116138330333, 0.17038802493830377, 1.708276022133024, -0.16613334668504778, 0.7785958904004711, -0.6659555819092876, 0.15481733121375887, -0.9863479866899411, -0.05113748152130975, 0.8535927813848629, -0.5073805045570786, -0.4348665185655108, -0.18106117890974505, 0.42676582115642936, -0.7894432165471591, -1.8113467196249016, -2.3441051401090505, 2.1304239386427186, 1.320738126165373, 1.152079038293719, 1.1904985781107802, 0.4544157613361789, -1.8171352879405416, 0.35804111222897833, 0.11011801081236455, -0.462864031093342, 0.13117517241613133, -0.7499674574046394, -1.629894698288106, -0.8109472932064513, -1.3575443921851864, -0.40537507616484114, -0.14328193508824014, 1.3410996826548334, 0.8743039715719515, 0.6046464110944935, -0.29964928784708744, 0.34029517332746817, 0.46810547269470876, -0.589337367290618], \"yaxis\": \"y9\"}, {\"line\": {\"color\": \"rgba(128, 128, 128, 1.0)\", \"dash\": \"solid\", \"shape\": \"linear\", \"width\": 1.3}, \"marker\": {\"size\": 2, \"symbol\": \"circle\"}, \"mode\": \"markers\", \"name\": \"C\", \"text\": \"\", \"type\": \"scatter\", \"x\": [-0.5864659752162915, -0.18099576406782086, -0.4533136022046553, 0.49710557372620195, 1.2775797802850062, 0.4161083640971835, -0.15143106943229268, -0.365663929736837, -0.6184603732884246, 0.21796399418182116, 1.1186914535310386, 0.44537632979139624, 1.6364822973037336, -0.04862658005502512, 0.6612865209790793, 0.2817057722811247, 0.3749416067021927, 0.2583039295660702, -0.978626727229024, -0.6199393733967932, 0.9606188506658868, 1.356744718143514, -0.8602632844776701, -0.3555113270769093, 0.9375159333038156, 0.6048321925488336, 0.8842081564062255, 0.5511891110238712, -0.47857044081560157, -0.1337811402976441, -1.2853280872014985, -0.5766656318966009, -0.8207314218982654, 0.5116859817080143, -1.0790996442387681, -0.6997609008747314, -0.28766636064296963, -0.6727663805637905, -0.3233231353415504, 0.17623541797795725, 0.8240659051722579, -0.8540606300446177, 0.6122579383495008, -0.590967987543979, -0.41376092638310336, 0.32887420159115527, 0.8729354550960499, -0.33657901953658087, -1.194326742500851, -0.676615903454892, -0.5550205241717774, -2.026510738495248, -0.3457842826648694, -0.38678372767291264, -0.32893633561693986, 0.004363227537524876, -1.0872490370707908, 0.34096840542132634, -0.15103704217598235, 0.5381608357022754, 0.3927957547213143, -1.6835150692954717, -0.92583153055911, 0.6790997638530409, -0.05065503749551706, 0.7471561771513062, 0.7267996918348049, 0.7558737826149488, 0.8669354661789175, -0.5883125097555686, -0.4616782593650259, -0.06828761261811965, 0.1274240043599269, -0.8611087938563126, 0.7295403774089118, 0.6095456146491329, 0.2457565485052304, -0.4527141682680746, -0.9894044423657463, -0.8461865919076168, 1.6160276476471338, -0.44295786995666325, 0.4052525078450415, -0.7725925348432313, -0.9700414649280531, 0.2967877823951404, -0.26132861501848587, 2.7995461162133872, 0.2647627153131342, 1.249817597253992, -0.2987960397363294, -0.5895330281226503, 0.08840494189034458, -0.6442263753616765, 0.23477998923235666, 0.07912771285260012, -0.12988226344729503, -1.594079390394641, -0.14645967846660468, 0.9901201163869056], \"xaxis\": \"x10\", \"y\": [-0.15409386096708147, 0.8731863903000637, 0.7892234402927493, 0.8104639499990842, 0.3739200651156504, 0.888821220095366, 0.03362767723488303, 0.5989285244107289, 0.13755412525304989, -1.6390305495019717, 0.03156173862318914, -0.5093688846160807, -0.6008566424446116, -0.12317881544252014, 0.4511808012432094, 3.5081559410184866, 0.3932663312794171, -2.7005731061790867, -1.4516374491108, 1.2926803054696712, -1.3696166105998864, -0.41692394011220596, -1.8217715916088728, -1.8112911822965128, -0.6763464524393229, -0.5787351173109659, 0.5441589206047204, 2.2298668091051783, 0.4054955369060133, 0.7863272967033614, -0.9206210003566272, 0.02022293557034932, 1.8796833276526392, 0.5565127425788943, 0.5413264199017517, -3.0545468943333245, 0.15135856937298206, -0.28753428909423134, -0.8263658715758724, -0.8745574542510015, -0.732903119694837, 0.42651758063848905, -1.6476116191967374, 0.45084700361094154, -0.11213491533708712, 0.9207075468315324, 0.03813904144214054, -0.12209913448179975, 0.14480028295097216, 0.5121714909419897, 0.10617929864000014, -0.5359453955278299, -0.4783077764537238, 1.0067800020799347, -0.48829641957847364, 1.5129546278103194, -2.437687364959682, -1.146102903981523, -0.17863433651690444, 0.9642421901633967, -1.1630116138330333, 0.17038802493830377, 1.708276022133024, -0.16613334668504778, 0.7785958904004711, -0.6659555819092876, 0.15481733121375887, -0.9863479866899411, -0.05113748152130975, 0.8535927813848629, -0.5073805045570786, -0.4348665185655108, -0.18106117890974505, 0.42676582115642936, -0.7894432165471591, -1.8113467196249016, -2.3441051401090505, 2.1304239386427186, 1.320738126165373, 1.152079038293719, 1.1904985781107802, 0.4544157613361789, -1.8171352879405416, 0.35804111222897833, 0.11011801081236455, -0.462864031093342, 0.13117517241613133, -0.7499674574046394, -1.629894698288106, -0.8109472932064513, -1.3575443921851864, -0.40537507616484114, -0.14328193508824014, 1.3410996826548334, 0.8743039715719515, 0.6046464110944935, -0.29964928784708744, 0.34029517332746817, 0.46810547269470876, -0.589337367290618], \"yaxis\": \"y10\"}, {\"histfunc\": \"count\", \"histnorm\": \"\", \"marker\": {\"color\": \"rgba(50, 171, 96, 1.0)\", \"line\": {\"color\": \"#4D5663\", \"width\": 1.3}}, \"name\": \"C\", \"nbinsx\": 10, \"opacity\": 0.8, \"orientation\": \"v\", \"type\": \"histogram\", \"x\": [-0.15409386096708147, 0.8731863903000637, 0.7892234402927493, 0.8104639499990842, 0.3739200651156504, 0.888821220095366, 0.03362767723488303, 0.5989285244107289, 0.13755412525304989, -1.6390305495019717, 0.03156173862318914, -0.5093688846160807, -0.6008566424446116, -0.12317881544252014, 0.4511808012432094, 3.5081559410184866, 0.3932663312794171, -2.7005731061790867, -1.4516374491108, 1.2926803054696712, -1.3696166105998864, -0.41692394011220596, -1.8217715916088728, -1.8112911822965128, -0.6763464524393229, -0.5787351173109659, 0.5441589206047204, 2.2298668091051783, 0.4054955369060133, 0.7863272967033614, -0.9206210003566272, 0.02022293557034932, 1.8796833276526392, 0.5565127425788943, 0.5413264199017517, -3.0545468943333245, 0.15135856937298206, -0.28753428909423134, -0.8263658715758724, -0.8745574542510015, -0.732903119694837, 0.42651758063848905, -1.6476116191967374, 0.45084700361094154, -0.11213491533708712, 0.9207075468315324, 0.03813904144214054, -0.12209913448179975, 0.14480028295097216, 0.5121714909419897, 0.10617929864000014, -0.5359453955278299, -0.4783077764537238, 1.0067800020799347, -0.48829641957847364, 1.5129546278103194, -2.437687364959682, -1.146102903981523, -0.17863433651690444, 0.9642421901633967, -1.1630116138330333, 0.17038802493830377, 1.708276022133024, -0.16613334668504778, 0.7785958904004711, -0.6659555819092876, 0.15481733121375887, -0.9863479866899411, -0.05113748152130975, 0.8535927813848629, -0.5073805045570786, -0.4348665185655108, -0.18106117890974505, 0.42676582115642936, -0.7894432165471591, -1.8113467196249016, -2.3441051401090505, 2.1304239386427186, 1.320738126165373, 1.152079038293719, 1.1904985781107802, 0.4544157613361789, -1.8171352879405416, 0.35804111222897833, 0.11011801081236455, -0.462864031093342, 0.13117517241613133, -0.7499674574046394, -1.629894698288106, -0.8109472932064513, -1.3575443921851864, -0.40537507616484114, -0.14328193508824014, 1.3410996826548334, 0.8743039715719515, 0.6046464110944935, -0.29964928784708744, 0.34029517332746817, 0.46810547269470876, -0.589337367290618], \"xaxis\": \"x11\", \"yaxis\": \"y11\"}, {\"line\": {\"color\": \"rgba(128, 128, 128, 1.0)\", \"dash\": \"solid\", \"shape\": \"linear\", \"width\": 1.3}, \"marker\": {\"size\": 2, \"symbol\": \"circle\"}, \"mode\": \"markers\", \"name\": \"C\", \"text\": \"\", \"type\": \"scatter\", \"x\": [0.5170055812564315, -0.5864002189861852, 0.08244983973714591, -0.4249887402995753, -0.7160306854644531, -0.0007567718085830301, -0.13476050619792204, -0.5563123457885937, -1.0188671919936263, -0.9617830084121471, -0.14223267942762866, -0.37493259004746815, -0.7785954442579843, 1.7158918762104922, -0.7628362412789231, 1.8540555371403478, -0.186029663166845, -1.511141844016936, -0.8844616732370526, -0.5818267202624393, -1.4688893891001469, -0.6490729798733988, 0.1014274906485541, -0.7060764819863503, 0.7975306199132951, 0.12312442889535842, -0.022118755581018237, -0.14578490786452675, -1.2761250707433514, -0.46018089358985015, -2.049349875582505, 0.13836137428577058, -0.5820157916473553, -1.7425485533246892, 2.0315720187202135, 0.3218726730472288, 0.5001993230041177, -0.8167678712878862, 2.261478282007555, 1.5211683775223057, -1.319704152302807, 0.7054362051143414, 0.029753396393046725, -0.1755613758623475, -0.34486429441646327, 0.21472343867920282, 0.8904992193382669, -0.0615159334096154, -0.5795058531142238, -0.6873115453371869, -0.24517141548305807, 0.5737898188025035, 0.9238048918062784, -1.7218942903205565, 0.9858244243446375, -0.30042840455475106, 1.6418000165020206, -0.02962221022177065, -0.33496033368353584, -1.8115038400226386, 1.6442476106328505, 0.38952126098520407, 0.09731039965134451, -0.7245784140461443, -0.8819142812213432, 0.31724433553107023, -0.6382333460760878, 0.24611183230938485, -1.326124511521306, -0.313135225879092, 1.056092553101489, -1.1140349135110206, -0.38483781251566385, 0.5404548383142044, -0.08459106775322058, -0.19676026252827838, 0.33514203810913606, 0.6394525735929671, -0.7915552193140721, -0.9335472407522618, -0.11880612640628109, 0.747276283078878, 0.7578150408803679, 0.6230302974499802, 2.6908592061496335, -1.2124880728623326, -1.260620082714092, 0.18948207728240185, 0.49459976167799796, 0.9273342996306305, -0.20337634559536946, 1.0268371061484365, 1.4071215557756458, -0.3882949774086078, 1.4612656017408572, -0.1023747320512153, -0.8760565157177523, 0.6870123875868547, -1.4490667003636082, -1.0444997775882212], \"xaxis\": \"x12\", \"y\": [-0.15409386096708147, 0.8731863903000637, 0.7892234402927493, 0.8104639499990842, 0.3739200651156504, 0.888821220095366, 0.03362767723488303, 0.5989285244107289, 0.13755412525304989, -1.6390305495019717, 0.03156173862318914, -0.5093688846160807, -0.6008566424446116, -0.12317881544252014, 0.4511808012432094, 3.5081559410184866, 0.3932663312794171, -2.7005731061790867, -1.4516374491108, 1.2926803054696712, -1.3696166105998864, -0.41692394011220596, -1.8217715916088728, -1.8112911822965128, -0.6763464524393229, -0.5787351173109659, 0.5441589206047204, 2.2298668091051783, 0.4054955369060133, 0.7863272967033614, -0.9206210003566272, 0.02022293557034932, 1.8796833276526392, 0.5565127425788943, 0.5413264199017517, -3.0545468943333245, 0.15135856937298206, -0.28753428909423134, -0.8263658715758724, -0.8745574542510015, -0.732903119694837, 0.42651758063848905, -1.6476116191967374, 0.45084700361094154, -0.11213491533708712, 0.9207075468315324, 0.03813904144214054, -0.12209913448179975, 0.14480028295097216, 0.5121714909419897, 0.10617929864000014, -0.5359453955278299, -0.4783077764537238, 1.0067800020799347, -0.48829641957847364, 1.5129546278103194, -2.437687364959682, -1.146102903981523, -0.17863433651690444, 0.9642421901633967, -1.1630116138330333, 0.17038802493830377, 1.708276022133024, -0.16613334668504778, 0.7785958904004711, -0.6659555819092876, 0.15481733121375887, -0.9863479866899411, -0.05113748152130975, 0.8535927813848629, -0.5073805045570786, -0.4348665185655108, -0.18106117890974505, 0.42676582115642936, -0.7894432165471591, -1.8113467196249016, -2.3441051401090505, 2.1304239386427186, 1.320738126165373, 1.152079038293719, 1.1904985781107802, 0.4544157613361789, -1.8171352879405416, 0.35804111222897833, 0.11011801081236455, -0.462864031093342, 0.13117517241613133, -0.7499674574046394, -1.629894698288106, -0.8109472932064513, -1.3575443921851864, -0.40537507616484114, -0.14328193508824014, 1.3410996826548334, 0.8743039715719515, 0.6046464110944935, -0.29964928784708744, 0.34029517332746817, 0.46810547269470876, -0.589337367290618], \"yaxis\": \"y12\"}, {\"line\": {\"color\": \"rgba(128, 128, 128, 1.0)\", \"dash\": \"solid\", \"shape\": \"linear\", \"width\": 1.3}, \"marker\": {\"size\": 2, \"symbol\": \"circle\"}, \"mode\": \"markers\", \"name\": \"D\", \"text\": \"\", \"type\": \"scatter\", \"x\": [0.21333712036216956, 0.25665047651329204, 1.9275407354802638, -0.1630088122780753, -0.7096503484216469, 1.1427364761321277, 2.084635310234222, -0.026399085983079537, -1.988420853788765, 0.671292439856992, 0.13993436471277995, 0.7670216335899259, -0.7402054775005389, -1.4399459740799503, -1.2005486697745715, -1.165410327584835, 0.6644248169283439, -0.028756506557073572, 0.2516096398380415, -0.8146789513812929, -0.7224259322456218, -0.781910319181829, 1.7911704476562211, -0.39073082039979745, -1.4352271322521146, 0.3248760858998426, 1.3214965589574204, 0.1523080436319771, 0.2141843572991045, -1.2217631454104891, -0.42887146674778853, -1.0642408721713603, -1.4620971662626352, 1.123140947567761, 0.07443428772796729, 1.216309038820772, -0.020010207442218403, -1.0939099461120412, -0.5902945316229972, -1.6464425979687698, -1.1335630422281875, 0.3685681559789853, 0.9319954006380338, -0.38370523637238346, 0.9729279519725634, 0.6060350277351296, -1.5064314701773505, -0.11686442762806791, -0.04540867924604806, -1.4647848980138103, 1.1033504484307806, -0.7637901184582542, 0.7717287733084981, -0.2250405260743319, -0.3105523373298624, 1.6250414877666595, -0.7154154635129228, -1.0137527586625759, -0.18160091030832878, 0.7278260419848971, -1.4462848221517628, -0.2149209788992766, -0.02736333868677174, -0.4083772190277294, -1.3903448037480677, -0.1421538438592139, -0.7899119363245749, 0.03614779270578574, 1.114018405015867, 0.8338294539917678, -0.5623298737996674, 1.0775148567887205, -0.1301928773075661, -0.2511044988443641, 0.5230267449493876, 1.3212937313584114, 1.483707056566117, 1.9612035531763654, 0.883359642676606, 2.432854412098014, -0.4365300341492609, -1.6526007572122574, -0.1837514310451801, 0.36087956949198857, -0.7012283537323358, -0.5790769597484454, -0.24819410221512403, -1.4940388601122643, 0.16135932479736645, -1.069825539040541, 1.5464357268018578, -0.12075629883590314, -1.6583980247893007, 0.33209734423001075, -2.707552450449217, 0.2128183167584507, 0.6232552740258526, 2.333363703121639, 1.5198415518587358, -0.05955186507850644], \"xaxis\": \"x13\", \"y\": [0.5170055812564315, -0.5864002189861852, 0.08244983973714591, -0.4249887402995753, -0.7160306854644531, -0.0007567718085830301, -0.13476050619792204, -0.5563123457885937, -1.0188671919936263, -0.9617830084121471, -0.14223267942762866, -0.37493259004746815, -0.7785954442579843, 1.7158918762104922, -0.7628362412789231, 1.8540555371403478, -0.186029663166845, -1.511141844016936, -0.8844616732370526, -0.5818267202624393, -1.4688893891001469, -0.6490729798733988, 0.1014274906485541, -0.7060764819863503, 0.7975306199132951, 0.12312442889535842, -0.022118755581018237, -0.14578490786452675, -1.2761250707433514, -0.46018089358985015, -2.049349875582505, 0.13836137428577058, -0.5820157916473553, -1.7425485533246892, 2.0315720187202135, 0.3218726730472288, 0.5001993230041177, -0.8167678712878862, 2.261478282007555, 1.5211683775223057, -1.319704152302807, 0.7054362051143414, 0.029753396393046725, -0.1755613758623475, -0.34486429441646327, 0.21472343867920282, 0.8904992193382669, -0.0615159334096154, -0.5795058531142238, -0.6873115453371869, -0.24517141548305807, 0.5737898188025035, 0.9238048918062784, -1.7218942903205565, 0.9858244243446375, -0.30042840455475106, 1.6418000165020206, -0.02962221022177065, -0.33496033368353584, -1.8115038400226386, 1.6442476106328505, 0.38952126098520407, 0.09731039965134451, -0.7245784140461443, -0.8819142812213432, 0.31724433553107023, -0.6382333460760878, 0.24611183230938485, -1.326124511521306, -0.313135225879092, 1.056092553101489, -1.1140349135110206, -0.38483781251566385, 0.5404548383142044, -0.08459106775322058, -0.19676026252827838, 0.33514203810913606, 0.6394525735929671, -0.7915552193140721, -0.9335472407522618, -0.11880612640628109, 0.747276283078878, 0.7578150408803679, 0.6230302974499802, 2.6908592061496335, -1.2124880728623326, -1.260620082714092, 0.18948207728240185, 0.49459976167799796, 0.9273342996306305, -0.20337634559536946, 1.0268371061484365, 1.4071215557756458, -0.3882949774086078, 1.4612656017408572, -0.1023747320512153, -0.8760565157177523, 0.6870123875868547, -1.4490667003636082, -1.0444997775882212], \"yaxis\": \"y13\"}, {\"line\": {\"color\": \"rgba(128, 128, 128, 1.0)\", \"dash\": \"solid\", \"shape\": \"linear\", \"width\": 1.3}, \"marker\": {\"size\": 2, \"symbol\": \"circle\"}, \"mode\": \"markers\", \"name\": \"D\", \"text\": \"\", \"type\": \"scatter\", \"x\": [-0.5864659752162915, -0.18099576406782086, -0.4533136022046553, 0.49710557372620195, 1.2775797802850062, 0.4161083640971835, -0.15143106943229268, -0.365663929736837, -0.6184603732884246, 0.21796399418182116, 1.1186914535310386, 0.44537632979139624, 1.6364822973037336, -0.04862658005502512, 0.6612865209790793, 0.2817057722811247, 0.3749416067021927, 0.2583039295660702, -0.978626727229024, -0.6199393733967932, 0.9606188506658868, 1.356744718143514, -0.8602632844776701, -0.3555113270769093, 0.9375159333038156, 0.6048321925488336, 0.8842081564062255, 0.5511891110238712, -0.47857044081560157, -0.1337811402976441, -1.2853280872014985, -0.5766656318966009, -0.8207314218982654, 0.5116859817080143, -1.0790996442387681, -0.6997609008747314, -0.28766636064296963, -0.6727663805637905, -0.3233231353415504, 0.17623541797795725, 0.8240659051722579, -0.8540606300446177, 0.6122579383495008, -0.590967987543979, -0.41376092638310336, 0.32887420159115527, 0.8729354550960499, -0.33657901953658087, -1.194326742500851, -0.676615903454892, -0.5550205241717774, -2.026510738495248, -0.3457842826648694, -0.38678372767291264, -0.32893633561693986, 0.004363227537524876, -1.0872490370707908, 0.34096840542132634, -0.15103704217598235, 0.5381608357022754, 0.3927957547213143, -1.6835150692954717, -0.92583153055911, 0.6790997638530409, -0.05065503749551706, 0.7471561771513062, 0.7267996918348049, 0.7558737826149488, 0.8669354661789175, -0.5883125097555686, -0.4616782593650259, -0.06828761261811965, 0.1274240043599269, -0.8611087938563126, 0.7295403774089118, 0.6095456146491329, 0.2457565485052304, -0.4527141682680746, -0.9894044423657463, -0.8461865919076168, 1.6160276476471338, -0.44295786995666325, 0.4052525078450415, -0.7725925348432313, -0.9700414649280531, 0.2967877823951404, -0.26132861501848587, 2.7995461162133872, 0.2647627153131342, 1.249817597253992, -0.2987960397363294, -0.5895330281226503, 0.08840494189034458, -0.6442263753616765, 0.23477998923235666, 0.07912771285260012, -0.12988226344729503, -1.594079390394641, -0.14645967846660468, 0.9901201163869056], \"xaxis\": \"x14\", \"y\": [0.5170055812564315, -0.5864002189861852, 0.08244983973714591, -0.4249887402995753, -0.7160306854644531, -0.0007567718085830301, -0.13476050619792204, -0.5563123457885937, -1.0188671919936263, -0.9617830084121471, -0.14223267942762866, -0.37493259004746815, -0.7785954442579843, 1.7158918762104922, -0.7628362412789231, 1.8540555371403478, -0.186029663166845, -1.511141844016936, -0.8844616732370526, -0.5818267202624393, -1.4688893891001469, -0.6490729798733988, 0.1014274906485541, -0.7060764819863503, 0.7975306199132951, 0.12312442889535842, -0.022118755581018237, -0.14578490786452675, -1.2761250707433514, -0.46018089358985015, -2.049349875582505, 0.13836137428577058, -0.5820157916473553, -1.7425485533246892, 2.0315720187202135, 0.3218726730472288, 0.5001993230041177, -0.8167678712878862, 2.261478282007555, 1.5211683775223057, -1.319704152302807, 0.7054362051143414, 0.029753396393046725, -0.1755613758623475, -0.34486429441646327, 0.21472343867920282, 0.8904992193382669, -0.0615159334096154, -0.5795058531142238, -0.6873115453371869, -0.24517141548305807, 0.5737898188025035, 0.9238048918062784, -1.7218942903205565, 0.9858244243446375, -0.30042840455475106, 1.6418000165020206, -0.02962221022177065, -0.33496033368353584, -1.8115038400226386, 1.6442476106328505, 0.38952126098520407, 0.09731039965134451, -0.7245784140461443, -0.8819142812213432, 0.31724433553107023, -0.6382333460760878, 0.24611183230938485, -1.326124511521306, -0.313135225879092, 1.056092553101489, -1.1140349135110206, -0.38483781251566385, 0.5404548383142044, -0.08459106775322058, -0.19676026252827838, 0.33514203810913606, 0.6394525735929671, -0.7915552193140721, -0.9335472407522618, -0.11880612640628109, 0.747276283078878, 0.7578150408803679, 0.6230302974499802, 2.6908592061496335, -1.2124880728623326, -1.260620082714092, 0.18948207728240185, 0.49459976167799796, 0.9273342996306305, -0.20337634559536946, 1.0268371061484365, 1.4071215557756458, -0.3882949774086078, 1.4612656017408572, -0.1023747320512153, -0.8760565157177523, 0.6870123875868547, -1.4490667003636082, -1.0444997775882212], \"yaxis\": \"y14\"}, {\"line\": {\"color\": \"rgba(128, 128, 128, 1.0)\", \"dash\": \"solid\", \"shape\": \"linear\", \"width\": 1.3}, \"marker\": {\"size\": 2, \"symbol\": \"circle\"}, \"mode\": \"markers\", \"name\": \"D\", \"text\": \"\", \"type\": \"scatter\", \"x\": [-0.15409386096708147, 0.8731863903000637, 0.7892234402927493, 0.8104639499990842, 0.3739200651156504, 0.888821220095366, 0.03362767723488303, 0.5989285244107289, 0.13755412525304989, -1.6390305495019717, 0.03156173862318914, -0.5093688846160807, -0.6008566424446116, -0.12317881544252014, 0.4511808012432094, 3.5081559410184866, 0.3932663312794171, -2.7005731061790867, -1.4516374491108, 1.2926803054696712, -1.3696166105998864, -0.41692394011220596, -1.8217715916088728, -1.8112911822965128, -0.6763464524393229, -0.5787351173109659, 0.5441589206047204, 2.2298668091051783, 0.4054955369060133, 0.7863272967033614, -0.9206210003566272, 0.02022293557034932, 1.8796833276526392, 0.5565127425788943, 0.5413264199017517, -3.0545468943333245, 0.15135856937298206, -0.28753428909423134, -0.8263658715758724, -0.8745574542510015, -0.732903119694837, 0.42651758063848905, -1.6476116191967374, 0.45084700361094154, -0.11213491533708712, 0.9207075468315324, 0.03813904144214054, -0.12209913448179975, 0.14480028295097216, 0.5121714909419897, 0.10617929864000014, -0.5359453955278299, -0.4783077764537238, 1.0067800020799347, -0.48829641957847364, 1.5129546278103194, -2.437687364959682, -1.146102903981523, -0.17863433651690444, 0.9642421901633967, -1.1630116138330333, 0.17038802493830377, 1.708276022133024, -0.16613334668504778, 0.7785958904004711, -0.6659555819092876, 0.15481733121375887, -0.9863479866899411, -0.05113748152130975, 0.8535927813848629, -0.5073805045570786, -0.4348665185655108, -0.18106117890974505, 0.42676582115642936, -0.7894432165471591, -1.8113467196249016, -2.3441051401090505, 2.1304239386427186, 1.320738126165373, 1.152079038293719, 1.1904985781107802, 0.4544157613361789, -1.8171352879405416, 0.35804111222897833, 0.11011801081236455, -0.462864031093342, 0.13117517241613133, -0.7499674574046394, -1.629894698288106, -0.8109472932064513, -1.3575443921851864, -0.40537507616484114, -0.14328193508824014, 1.3410996826548334, 0.8743039715719515, 0.6046464110944935, -0.29964928784708744, 0.34029517332746817, 0.46810547269470876, -0.589337367290618], \"xaxis\": \"x15\", \"y\": [0.5170055812564315, -0.5864002189861852, 0.08244983973714591, -0.4249887402995753, -0.7160306854644531, -0.0007567718085830301, -0.13476050619792204, -0.5563123457885937, -1.0188671919936263, -0.9617830084121471, -0.14223267942762866, -0.37493259004746815, -0.7785954442579843, 1.7158918762104922, -0.7628362412789231, 1.8540555371403478, -0.186029663166845, -1.511141844016936, -0.8844616732370526, -0.5818267202624393, -1.4688893891001469, -0.6490729798733988, 0.1014274906485541, -0.7060764819863503, 0.7975306199132951, 0.12312442889535842, -0.022118755581018237, -0.14578490786452675, -1.2761250707433514, -0.46018089358985015, -2.049349875582505, 0.13836137428577058, -0.5820157916473553, -1.7425485533246892, 2.0315720187202135, 0.3218726730472288, 0.5001993230041177, -0.8167678712878862, 2.261478282007555, 1.5211683775223057, -1.319704152302807, 0.7054362051143414, 0.029753396393046725, -0.1755613758623475, -0.34486429441646327, 0.21472343867920282, 0.8904992193382669, -0.0615159334096154, -0.5795058531142238, -0.6873115453371869, -0.24517141548305807, 0.5737898188025035, 0.9238048918062784, -1.7218942903205565, 0.9858244243446375, -0.30042840455475106, 1.6418000165020206, -0.02962221022177065, -0.33496033368353584, -1.8115038400226386, 1.6442476106328505, 0.38952126098520407, 0.09731039965134451, -0.7245784140461443, -0.8819142812213432, 0.31724433553107023, -0.6382333460760878, 0.24611183230938485, -1.326124511521306, -0.313135225879092, 1.056092553101489, -1.1140349135110206, -0.38483781251566385, 0.5404548383142044, -0.08459106775322058, -0.19676026252827838, 0.33514203810913606, 0.6394525735929671, -0.7915552193140721, -0.9335472407522618, -0.11880612640628109, 0.747276283078878, 0.7578150408803679, 0.6230302974499802, 2.6908592061496335, -1.2124880728623326, -1.260620082714092, 0.18948207728240185, 0.49459976167799796, 0.9273342996306305, -0.20337634559536946, 1.0268371061484365, 1.4071215557756458, -0.3882949774086078, 1.4612656017408572, -0.1023747320512153, -0.8760565157177523, 0.6870123875868547, -1.4490667003636082, -1.0444997775882212], \"yaxis\": \"y15\"}, {\"histfunc\": \"count\", \"histnorm\": \"\", \"marker\": {\"color\": \"rgba(128, 0, 128, 1.0)\", \"line\": {\"color\": \"#4D5663\", \"width\": 1.3}}, \"name\": \"D\", \"nbinsx\": 10, \"opacity\": 0.8, \"orientation\": \"v\", \"type\": \"histogram\", \"x\": [0.5170055812564315, -0.5864002189861852, 0.08244983973714591, -0.4249887402995753, -0.7160306854644531, -0.0007567718085830301, -0.13476050619792204, -0.5563123457885937, -1.0188671919936263, -0.9617830084121471, -0.14223267942762866, -0.37493259004746815, -0.7785954442579843, 1.7158918762104922, -0.7628362412789231, 1.8540555371403478, -0.186029663166845, -1.511141844016936, -0.8844616732370526, -0.5818267202624393, -1.4688893891001469, -0.6490729798733988, 0.1014274906485541, -0.7060764819863503, 0.7975306199132951, 0.12312442889535842, -0.022118755581018237, -0.14578490786452675, -1.2761250707433514, -0.46018089358985015, -2.049349875582505, 0.13836137428577058, -0.5820157916473553, -1.7425485533246892, 2.0315720187202135, 0.3218726730472288, 0.5001993230041177, -0.8167678712878862, 2.261478282007555, 1.5211683775223057, -1.319704152302807, 0.7054362051143414, 0.029753396393046725, -0.1755613758623475, -0.34486429441646327, 0.21472343867920282, 0.8904992193382669, -0.0615159334096154, -0.5795058531142238, -0.6873115453371869, -0.24517141548305807, 0.5737898188025035, 0.9238048918062784, -1.7218942903205565, 0.9858244243446375, -0.30042840455475106, 1.6418000165020206, -0.02962221022177065, -0.33496033368353584, -1.8115038400226386, 1.6442476106328505, 0.38952126098520407, 0.09731039965134451, -0.7245784140461443, -0.8819142812213432, 0.31724433553107023, -0.6382333460760878, 0.24611183230938485, -1.326124511521306, -0.313135225879092, 1.056092553101489, -1.1140349135110206, -0.38483781251566385, 0.5404548383142044, -0.08459106775322058, -0.19676026252827838, 0.33514203810913606, 0.6394525735929671, -0.7915552193140721, -0.9335472407522618, -0.11880612640628109, 0.747276283078878, 0.7578150408803679, 0.6230302974499802, 2.6908592061496335, -1.2124880728623326, -1.260620082714092, 0.18948207728240185, 0.49459976167799796, 0.9273342996306305, -0.20337634559536946, 1.0268371061484365, 1.4071215557756458, -0.3882949774086078, 1.4612656017408572, -0.1023747320512153, -0.8760565157177523, 0.6870123875868547, -1.4490667003636082, -1.0444997775882212], \"xaxis\": \"x16\", \"yaxis\": \"y16\"}],\n",
       "                        {\"bargap\": 0.02, \"legend\": {\"bgcolor\": \"#F5F6F9\", \"font\": {\"color\": \"#4D5663\"}}, \"paper_bgcolor\": \"#F5F6F9\", \"plot_bgcolor\": \"#F5F6F9\", \"showlegend\": false, \"template\": {\"data\": {\"bar\": [{\"error_x\": {\"color\": \"#2a3f5f\"}, \"error_y\": {\"color\": \"#2a3f5f\"}, \"marker\": {\"line\": {\"color\": \"#E5ECF6\", \"width\": 0.5}}, \"type\": \"bar\"}], \"barpolar\": [{\"marker\": {\"line\": {\"color\": \"#E5ECF6\", \"width\": 0.5}}, \"type\": \"barpolar\"}], \"carpet\": [{\"aaxis\": {\"endlinecolor\": \"#2a3f5f\", \"gridcolor\": \"white\", \"linecolor\": \"white\", \"minorgridcolor\": \"white\", \"startlinecolor\": \"#2a3f5f\"}, \"baxis\": {\"endlinecolor\": \"#2a3f5f\", \"gridcolor\": \"white\", \"linecolor\": \"white\", \"minorgridcolor\": \"white\", \"startlinecolor\": \"#2a3f5f\"}, \"type\": \"carpet\"}], \"choropleth\": [{\"colorbar\": {\"outlinewidth\": 0, \"ticks\": \"\"}, \"type\": \"choropleth\"}], \"contour\": [{\"colorbar\": {\"outlinewidth\": 0, \"ticks\": \"\"}, \"colorscale\": [[0.0, \"#0d0887\"], [0.1111111111111111, \"#46039f\"], [0.2222222222222222, \"#7201a8\"], [0.3333333333333333, \"#9c179e\"], [0.4444444444444444, \"#bd3786\"], [0.5555555555555556, \"#d8576b\"], [0.6666666666666666, \"#ed7953\"], [0.7777777777777778, \"#fb9f3a\"], [0.8888888888888888, \"#fdca26\"], [1.0, \"#f0f921\"]], \"type\": \"contour\"}], \"contourcarpet\": [{\"colorbar\": {\"outlinewidth\": 0, \"ticks\": \"\"}, \"type\": \"contourcarpet\"}], \"heatmap\": [{\"colorbar\": {\"outlinewidth\": 0, \"ticks\": \"\"}, \"colorscale\": [[0.0, \"#0d0887\"], [0.1111111111111111, \"#46039f\"], [0.2222222222222222, \"#7201a8\"], [0.3333333333333333, \"#9c179e\"], [0.4444444444444444, \"#bd3786\"], [0.5555555555555556, \"#d8576b\"], [0.6666666666666666, \"#ed7953\"], [0.7777777777777778, \"#fb9f3a\"], [0.8888888888888888, \"#fdca26\"], [1.0, \"#f0f921\"]], \"type\": \"heatmap\"}], \"heatmapgl\": [{\"colorbar\": {\"outlinewidth\": 0, \"ticks\": \"\"}, \"colorscale\": [[0.0, \"#0d0887\"], [0.1111111111111111, \"#46039f\"], [0.2222222222222222, \"#7201a8\"], [0.3333333333333333, \"#9c179e\"], [0.4444444444444444, \"#bd3786\"], [0.5555555555555556, \"#d8576b\"], [0.6666666666666666, \"#ed7953\"], [0.7777777777777778, \"#fb9f3a\"], [0.8888888888888888, \"#fdca26\"], [1.0, \"#f0f921\"]], \"type\": \"heatmapgl\"}], \"histogram\": [{\"marker\": {\"colorbar\": {\"outlinewidth\": 0, \"ticks\": \"\"}}, \"type\": \"histogram\"}], \"histogram2d\": [{\"colorbar\": {\"outlinewidth\": 0, \"ticks\": \"\"}, \"colorscale\": [[0.0, \"#0d0887\"], [0.1111111111111111, \"#46039f\"], [0.2222222222222222, \"#7201a8\"], [0.3333333333333333, \"#9c179e\"], [0.4444444444444444, \"#bd3786\"], [0.5555555555555556, \"#d8576b\"], [0.6666666666666666, \"#ed7953\"], [0.7777777777777778, \"#fb9f3a\"], [0.8888888888888888, \"#fdca26\"], [1.0, \"#f0f921\"]], \"type\": \"histogram2d\"}], \"histogram2dcontour\": [{\"colorbar\": {\"outlinewidth\": 0, \"ticks\": \"\"}, \"colorscale\": [[0.0, \"#0d0887\"], [0.1111111111111111, \"#46039f\"], [0.2222222222222222, \"#7201a8\"], [0.3333333333333333, \"#9c179e\"], [0.4444444444444444, \"#bd3786\"], [0.5555555555555556, \"#d8576b\"], [0.6666666666666666, \"#ed7953\"], [0.7777777777777778, \"#fb9f3a\"], [0.8888888888888888, \"#fdca26\"], [1.0, \"#f0f921\"]], \"type\": \"histogram2dcontour\"}], \"mesh3d\": [{\"colorbar\": {\"outlinewidth\": 0, \"ticks\": \"\"}, \"type\": \"mesh3d\"}], \"parcoords\": [{\"line\": {\"colorbar\": {\"outlinewidth\": 0, \"ticks\": \"\"}}, \"type\": \"parcoords\"}], \"pie\": [{\"automargin\": true, \"type\": \"pie\"}], \"scatter\": [{\"marker\": {\"colorbar\": {\"outlinewidth\": 0, \"ticks\": \"\"}}, \"type\": \"scatter\"}], \"scatter3d\": [{\"line\": {\"colorbar\": {\"outlinewidth\": 0, \"ticks\": \"\"}}, \"marker\": {\"colorbar\": {\"outlinewidth\": 0, \"ticks\": \"\"}}, \"type\": \"scatter3d\"}], \"scattercarpet\": [{\"marker\": {\"colorbar\": {\"outlinewidth\": 0, \"ticks\": \"\"}}, \"type\": \"scattercarpet\"}], \"scattergeo\": [{\"marker\": {\"colorbar\": {\"outlinewidth\": 0, \"ticks\": \"\"}}, \"type\": \"scattergeo\"}], \"scattergl\": [{\"marker\": {\"colorbar\": {\"outlinewidth\": 0, \"ticks\": \"\"}}, \"type\": \"scattergl\"}], \"scattermapbox\": [{\"marker\": {\"colorbar\": {\"outlinewidth\": 0, \"ticks\": \"\"}}, \"type\": \"scattermapbox\"}], \"scatterpolar\": [{\"marker\": {\"colorbar\": {\"outlinewidth\": 0, \"ticks\": \"\"}}, \"type\": \"scatterpolar\"}], \"scatterpolargl\": [{\"marker\": {\"colorbar\": {\"outlinewidth\": 0, \"ticks\": \"\"}}, \"type\": \"scatterpolargl\"}], \"scatterternary\": [{\"marker\": {\"colorbar\": {\"outlinewidth\": 0, \"ticks\": \"\"}}, \"type\": \"scatterternary\"}], \"surface\": [{\"colorbar\": {\"outlinewidth\": 0, \"ticks\": \"\"}, \"colorscale\": [[0.0, \"#0d0887\"], [0.1111111111111111, \"#46039f\"], [0.2222222222222222, \"#7201a8\"], [0.3333333333333333, \"#9c179e\"], [0.4444444444444444, \"#bd3786\"], [0.5555555555555556, \"#d8576b\"], [0.6666666666666666, \"#ed7953\"], [0.7777777777777778, \"#fb9f3a\"], [0.8888888888888888, \"#fdca26\"], [1.0, \"#f0f921\"]], \"type\": \"surface\"}], \"table\": [{\"cells\": {\"fill\": {\"color\": \"#EBF0F8\"}, \"line\": {\"color\": \"white\"}}, \"header\": {\"fill\": {\"color\": \"#C8D4E3\"}, \"line\": {\"color\": \"white\"}}, \"type\": \"table\"}]}, \"layout\": {\"annotationdefaults\": {\"arrowcolor\": \"#2a3f5f\", \"arrowhead\": 0, \"arrowwidth\": 1}, \"coloraxis\": {\"colorbar\": {\"outlinewidth\": 0, \"ticks\": \"\"}}, \"colorscale\": {\"diverging\": [[0, \"#8e0152\"], [0.1, \"#c51b7d\"], [0.2, \"#de77ae\"], [0.3, \"#f1b6da\"], [0.4, \"#fde0ef\"], [0.5, \"#f7f7f7\"], [0.6, \"#e6f5d0\"], [0.7, \"#b8e186\"], [0.8, \"#7fbc41\"], [0.9, \"#4d9221\"], [1, \"#276419\"]], \"sequential\": [[0.0, \"#0d0887\"], [0.1111111111111111, \"#46039f\"], [0.2222222222222222, \"#7201a8\"], [0.3333333333333333, \"#9c179e\"], [0.4444444444444444, \"#bd3786\"], [0.5555555555555556, \"#d8576b\"], [0.6666666666666666, \"#ed7953\"], [0.7777777777777778, \"#fb9f3a\"], [0.8888888888888888, \"#fdca26\"], [1.0, \"#f0f921\"]], \"sequentialminus\": [[0.0, \"#0d0887\"], [0.1111111111111111, \"#46039f\"], [0.2222222222222222, \"#7201a8\"], [0.3333333333333333, \"#9c179e\"], [0.4444444444444444, \"#bd3786\"], [0.5555555555555556, \"#d8576b\"], [0.6666666666666666, \"#ed7953\"], [0.7777777777777778, \"#fb9f3a\"], [0.8888888888888888, \"#fdca26\"], [1.0, \"#f0f921\"]]}, \"colorway\": [\"#636efa\", \"#EF553B\", \"#00cc96\", \"#ab63fa\", \"#FFA15A\", \"#19d3f3\", \"#FF6692\", \"#B6E880\", \"#FF97FF\", \"#FECB52\"], \"font\": {\"color\": \"#2a3f5f\"}, \"geo\": {\"bgcolor\": \"white\", \"lakecolor\": \"white\", \"landcolor\": \"#E5ECF6\", \"showlakes\": true, \"showland\": true, \"subunitcolor\": \"white\"}, \"hoverlabel\": {\"align\": \"left\"}, \"hovermode\": \"closest\", \"mapbox\": {\"style\": \"light\"}, \"paper_bgcolor\": \"white\", \"plot_bgcolor\": \"#E5ECF6\", \"polar\": {\"angularaxis\": {\"gridcolor\": \"white\", \"linecolor\": \"white\", \"ticks\": \"\"}, \"bgcolor\": \"#E5ECF6\", \"radialaxis\": {\"gridcolor\": \"white\", \"linecolor\": \"white\", \"ticks\": \"\"}}, \"scene\": {\"xaxis\": {\"backgroundcolor\": \"#E5ECF6\", \"gridcolor\": \"white\", \"gridwidth\": 2, \"linecolor\": \"white\", \"showbackground\": true, \"ticks\": \"\", \"zerolinecolor\": \"white\"}, \"yaxis\": {\"backgroundcolor\": \"#E5ECF6\", \"gridcolor\": \"white\", \"gridwidth\": 2, \"linecolor\": \"white\", \"showbackground\": true, \"ticks\": \"\", \"zerolinecolor\": \"white\"}, \"zaxis\": {\"backgroundcolor\": \"#E5ECF6\", \"gridcolor\": \"white\", \"gridwidth\": 2, \"linecolor\": \"white\", \"showbackground\": true, \"ticks\": \"\", \"zerolinecolor\": \"white\"}}, \"shapedefaults\": {\"line\": {\"color\": \"#2a3f5f\"}}, \"ternary\": {\"aaxis\": {\"gridcolor\": \"white\", \"linecolor\": \"white\", \"ticks\": \"\"}, \"baxis\": {\"gridcolor\": \"white\", \"linecolor\": \"white\", \"ticks\": \"\"}, \"bgcolor\": \"#E5ECF6\", \"caxis\": {\"gridcolor\": \"white\", \"linecolor\": \"white\", \"ticks\": \"\"}}, \"title\": {\"x\": 0.05}, \"xaxis\": {\"automargin\": true, \"gridcolor\": \"white\", \"linecolor\": \"white\", \"ticks\": \"\", \"title\": {\"standoff\": 15}, \"zerolinecolor\": \"white\", \"zerolinewidth\": 2}, \"yaxis\": {\"automargin\": true, \"gridcolor\": \"white\", \"linecolor\": \"white\", \"ticks\": \"\", \"title\": {\"standoff\": 15}, \"zerolinecolor\": \"white\", \"zerolinewidth\": 2}}}, \"title\": {\"font\": {\"color\": \"#4D5663\"}}, \"xaxis\": {\"anchor\": \"y\", \"domain\": [0.0, 0.2125], \"gridcolor\": \"#E1E5ED\", \"showgrid\": false, \"tickfont\": {\"color\": \"#4D5663\"}, \"title\": {\"font\": {\"color\": \"#4D5663\"}, \"text\": \"\"}, \"zerolinecolor\": \"#E1E5ED\"}, \"xaxis10\": {\"anchor\": \"y10\", \"domain\": [0.2625, 0.475], \"gridcolor\": \"#E1E5ED\", \"showgrid\": false, \"tickfont\": {\"color\": \"#4D5663\"}, \"title\": {\"font\": {\"color\": \"#4D5663\"}, \"text\": \"\"}, \"zerolinecolor\": \"#E1E5ED\"}, \"xaxis11\": {\"anchor\": \"y11\", \"domain\": [0.525, 0.7375], \"gridcolor\": \"#E1E5ED\", \"showgrid\": false, \"tickfont\": {\"color\": \"#4D5663\"}, \"title\": {\"font\": {\"color\": \"#4D5663\"}, \"text\": \"\"}, \"zerolinecolor\": \"#E1E5ED\"}, \"xaxis12\": {\"anchor\": \"y12\", \"domain\": [0.7875, 1.0], \"gridcolor\": \"#E1E5ED\", \"showgrid\": false, \"tickfont\": {\"color\": \"#4D5663\"}, \"title\": {\"font\": {\"color\": \"#4D5663\"}, \"text\": \"\"}, \"zerolinecolor\": \"#E1E5ED\"}, \"xaxis13\": {\"anchor\": \"y13\", \"domain\": [0.0, 0.2125], \"gridcolor\": \"#E1E5ED\", \"showgrid\": false, \"tickfont\": {\"color\": \"#4D5663\"}, \"title\": {\"font\": {\"color\": \"#4D5663\"}, \"text\": \"\"}, \"zerolinecolor\": \"#E1E5ED\"}, \"xaxis14\": {\"anchor\": \"y14\", \"domain\": [0.2625, 0.475], \"gridcolor\": \"#E1E5ED\", \"showgrid\": false, \"tickfont\": {\"color\": \"#4D5663\"}, \"title\": {\"font\": {\"color\": \"#4D5663\"}, \"text\": \"\"}, \"zerolinecolor\": \"#E1E5ED\"}, \"xaxis15\": {\"anchor\": \"y15\", \"domain\": [0.525, 0.7375], \"gridcolor\": \"#E1E5ED\", \"showgrid\": false, \"tickfont\": {\"color\": \"#4D5663\"}, \"title\": {\"font\": {\"color\": \"#4D5663\"}, \"text\": \"\"}, \"zerolinecolor\": \"#E1E5ED\"}, \"xaxis16\": {\"anchor\": \"y16\", \"domain\": [0.7875, 1.0], \"gridcolor\": \"#E1E5ED\", \"showgrid\": false, \"tickfont\": {\"color\": \"#4D5663\"}, \"title\": {\"font\": {\"color\": \"#4D5663\"}, \"text\": \"\"}, \"zerolinecolor\": \"#E1E5ED\"}, \"xaxis2\": {\"anchor\": \"y2\", \"domain\": [0.2625, 0.475], \"gridcolor\": \"#E1E5ED\", \"showgrid\": false, \"tickfont\": {\"color\": \"#4D5663\"}, \"title\": {\"font\": {\"color\": \"#4D5663\"}, \"text\": \"\"}, \"zerolinecolor\": \"#E1E5ED\"}, \"xaxis3\": {\"anchor\": \"y3\", \"domain\": [0.525, 0.7375], \"gridcolor\": \"#E1E5ED\", \"showgrid\": false, \"tickfont\": {\"color\": \"#4D5663\"}, \"title\": {\"font\": {\"color\": \"#4D5663\"}, \"text\": \"\"}, \"zerolinecolor\": \"#E1E5ED\"}, \"xaxis4\": {\"anchor\": \"y4\", \"domain\": [0.7875, 1.0], \"gridcolor\": \"#E1E5ED\", \"showgrid\": false, \"tickfont\": {\"color\": \"#4D5663\"}, \"title\": {\"font\": {\"color\": \"#4D5663\"}, \"text\": \"\"}, \"zerolinecolor\": \"#E1E5ED\"}, \"xaxis5\": {\"anchor\": \"y5\", \"domain\": [0.0, 0.2125], \"gridcolor\": \"#E1E5ED\", \"showgrid\": false, \"tickfont\": {\"color\": \"#4D5663\"}, \"title\": {\"font\": {\"color\": \"#4D5663\"}, \"text\": \"\"}, \"zerolinecolor\": \"#E1E5ED\"}, \"xaxis6\": {\"anchor\": \"y6\", \"domain\": [0.2625, 0.475], \"gridcolor\": \"#E1E5ED\", \"showgrid\": false, \"tickfont\": {\"color\": \"#4D5663\"}, \"title\": {\"font\": {\"color\": \"#4D5663\"}, \"text\": \"\"}, \"zerolinecolor\": \"#E1E5ED\"}, \"xaxis7\": {\"anchor\": \"y7\", \"domain\": [0.525, 0.7375], \"gridcolor\": \"#E1E5ED\", \"showgrid\": false, \"tickfont\": {\"color\": \"#4D5663\"}, \"title\": {\"font\": {\"color\": \"#4D5663\"}, \"text\": \"\"}, \"zerolinecolor\": \"#E1E5ED\"}, \"xaxis8\": {\"anchor\": \"y8\", \"domain\": [0.7875, 1.0], \"gridcolor\": \"#E1E5ED\", \"showgrid\": false, \"tickfont\": {\"color\": \"#4D5663\"}, \"title\": {\"font\": {\"color\": \"#4D5663\"}, \"text\": \"\"}, \"zerolinecolor\": \"#E1E5ED\"}, \"xaxis9\": {\"anchor\": \"y9\", \"domain\": [0.0, 0.2125], \"gridcolor\": \"#E1E5ED\", \"showgrid\": false, \"tickfont\": {\"color\": \"#4D5663\"}, \"title\": {\"font\": {\"color\": \"#4D5663\"}, \"text\": \"\"}, \"zerolinecolor\": \"#E1E5ED\"}, \"yaxis\": {\"anchor\": \"x\", \"domain\": [0.8025, 1.0], \"gridcolor\": \"#E1E5ED\", \"showgrid\": false, \"tickfont\": {\"color\": \"#4D5663\"}, \"title\": {\"font\": {\"color\": \"#4D5663\"}, \"text\": \"\"}, \"zerolinecolor\": \"#E1E5ED\"}, \"yaxis10\": {\"anchor\": \"x10\", \"domain\": [0.2675, 0.465], \"gridcolor\": \"#E1E5ED\", \"showgrid\": false, \"tickfont\": {\"color\": \"#4D5663\"}, \"title\": {\"font\": {\"color\": \"#4D5663\"}, \"text\": \"\"}, \"zerolinecolor\": \"#E1E5ED\"}, \"yaxis11\": {\"anchor\": \"x11\", \"domain\": [0.2675, 0.465], \"gridcolor\": \"#E1E5ED\", \"showgrid\": false, \"tickfont\": {\"color\": \"#4D5663\"}, \"title\": {\"font\": {\"color\": \"#4D5663\"}, \"text\": \"\"}, \"zerolinecolor\": \"#E1E5ED\"}, \"yaxis12\": {\"anchor\": \"x12\", \"domain\": [0.2675, 0.465], \"gridcolor\": \"#E1E5ED\", \"showgrid\": false, \"tickfont\": {\"color\": \"#4D5663\"}, \"title\": {\"font\": {\"color\": \"#4D5663\"}, \"text\": \"\"}, \"zerolinecolor\": \"#E1E5ED\"}, \"yaxis13\": {\"anchor\": \"x13\", \"domain\": [0.0, 0.1975], \"gridcolor\": \"#E1E5ED\", \"showgrid\": false, \"tickfont\": {\"color\": \"#4D5663\"}, \"title\": {\"font\": {\"color\": \"#4D5663\"}, \"text\": \"\"}, \"zerolinecolor\": \"#E1E5ED\"}, \"yaxis14\": {\"anchor\": \"x14\", \"domain\": [0.0, 0.1975], \"gridcolor\": \"#E1E5ED\", \"showgrid\": false, \"tickfont\": {\"color\": \"#4D5663\"}, \"title\": {\"font\": {\"color\": \"#4D5663\"}, \"text\": \"\"}, \"zerolinecolor\": \"#E1E5ED\"}, \"yaxis15\": {\"anchor\": \"x15\", \"domain\": [0.0, 0.1975], \"gridcolor\": \"#E1E5ED\", \"showgrid\": false, \"tickfont\": {\"color\": \"#4D5663\"}, \"title\": {\"font\": {\"color\": \"#4D5663\"}, \"text\": \"\"}, \"zerolinecolor\": \"#E1E5ED\"}, \"yaxis16\": {\"anchor\": \"x16\", \"domain\": [0.0, 0.1975], \"gridcolor\": \"#E1E5ED\", \"showgrid\": false, \"tickfont\": {\"color\": \"#4D5663\"}, \"title\": {\"font\": {\"color\": \"#4D5663\"}, \"text\": \"\"}, \"zerolinecolor\": \"#E1E5ED\"}, \"yaxis2\": {\"anchor\": \"x2\", \"domain\": [0.8025, 1.0], \"gridcolor\": \"#E1E5ED\", \"showgrid\": false, \"tickfont\": {\"color\": \"#4D5663\"}, \"title\": {\"font\": {\"color\": \"#4D5663\"}, \"text\": \"\"}, \"zerolinecolor\": \"#E1E5ED\"}, \"yaxis3\": {\"anchor\": \"x3\", \"domain\": [0.8025, 1.0], \"gridcolor\": \"#E1E5ED\", \"showgrid\": false, \"tickfont\": {\"color\": \"#4D5663\"}, \"title\": {\"font\": {\"color\": \"#4D5663\"}, \"text\": \"\"}, \"zerolinecolor\": \"#E1E5ED\"}, \"yaxis4\": {\"anchor\": \"x4\", \"domain\": [0.8025, 1.0], \"gridcolor\": \"#E1E5ED\", \"showgrid\": false, \"tickfont\": {\"color\": \"#4D5663\"}, \"title\": {\"font\": {\"color\": \"#4D5663\"}, \"text\": \"\"}, \"zerolinecolor\": \"#E1E5ED\"}, \"yaxis5\": {\"anchor\": \"x5\", \"domain\": [0.535, 0.7325], \"gridcolor\": \"#E1E5ED\", \"showgrid\": false, \"tickfont\": {\"color\": \"#4D5663\"}, \"title\": {\"font\": {\"color\": \"#4D5663\"}, \"text\": \"\"}, \"zerolinecolor\": \"#E1E5ED\"}, \"yaxis6\": {\"anchor\": \"x6\", \"domain\": [0.535, 0.7325], \"gridcolor\": \"#E1E5ED\", \"showgrid\": false, \"tickfont\": {\"color\": \"#4D5663\"}, \"title\": {\"font\": {\"color\": \"#4D5663\"}, \"text\": \"\"}, \"zerolinecolor\": \"#E1E5ED\"}, \"yaxis7\": {\"anchor\": \"x7\", \"domain\": [0.535, 0.7325], \"gridcolor\": \"#E1E5ED\", \"showgrid\": false, \"tickfont\": {\"color\": \"#4D5663\"}, \"title\": {\"font\": {\"color\": \"#4D5663\"}, \"text\": \"\"}, \"zerolinecolor\": \"#E1E5ED\"}, \"yaxis8\": {\"anchor\": \"x8\", \"domain\": [0.535, 0.7325], \"gridcolor\": \"#E1E5ED\", \"showgrid\": false, \"tickfont\": {\"color\": \"#4D5663\"}, \"title\": {\"font\": {\"color\": \"#4D5663\"}, \"text\": \"\"}, \"zerolinecolor\": \"#E1E5ED\"}, \"yaxis9\": {\"anchor\": \"x9\", \"domain\": [0.2675, 0.465], \"gridcolor\": \"#E1E5ED\", \"showgrid\": false, \"tickfont\": {\"color\": \"#4D5663\"}, \"title\": {\"font\": {\"color\": \"#4D5663\"}, \"text\": \"\"}, \"zerolinecolor\": \"#E1E5ED\"}},\n",
       "                        {\"showLink\": true, \"linkText\": \"Export to plot.ly\", \"plotlyServerURL\": \"https://plot.ly\", \"responsive\": true}\n",
       "                    ).then(function(){\n",
       "                            \n",
       "var gd = document.getElementById('2627a3be-b9cc-4431-9053-679053e3a356');\n",
       "var x = new MutationObserver(function (mutations, observer) {{\n",
       "        var display = window.getComputedStyle(gd).display;\n",
       "        if (!display || display === 'none') {{\n",
       "            console.log([gd, 'removed!']);\n",
       "            Plotly.purge(gd);\n",
       "            observer.disconnect();\n",
       "        }}\n",
       "}});\n",
       "\n",
       "// Listen for the removal of the full notebook cells\n",
       "var notebookContainer = gd.closest('#notebook-container');\n",
       "if (notebookContainer) {{\n",
       "    x.observe(notebookContainer, {childList: true});\n",
       "}}\n",
       "\n",
       "// Listen for the clearing of the current output cell\n",
       "var outputEl = gd.closest('.output');\n",
       "if (outputEl) {{\n",
       "    x.observe(outputEl, {childList: true});\n",
       "}}\n",
       "\n",
       "                        })\n",
       "                };\n",
       "                });\n",
       "            </script>\n",
       "        </div>"
      ]
     },
     "metadata": {},
     "output_type": "display_data"
    }
   ],
   "source": [
    "df.scatter_matrix()"
   ]
  },
  {
   "cell_type": "markdown",
   "metadata": {
    "collapsed": true
   },
   "source": [
    "# Great Job!"
   ]
  }
 ],
 "metadata": {
  "kernelspec": {
   "display_name": "Python 3",
   "language": "python",
   "name": "python3"
  },
  "language_info": {
   "codemirror_mode": {
    "name": "ipython",
    "version": 3
   },
   "file_extension": ".py",
   "mimetype": "text/x-python",
   "name": "python",
   "nbconvert_exporter": "python",
   "pygments_lexer": "ipython3",
   "version": "3.8.3"
  }
 },
 "nbformat": 4,
 "nbformat_minor": 1
}
